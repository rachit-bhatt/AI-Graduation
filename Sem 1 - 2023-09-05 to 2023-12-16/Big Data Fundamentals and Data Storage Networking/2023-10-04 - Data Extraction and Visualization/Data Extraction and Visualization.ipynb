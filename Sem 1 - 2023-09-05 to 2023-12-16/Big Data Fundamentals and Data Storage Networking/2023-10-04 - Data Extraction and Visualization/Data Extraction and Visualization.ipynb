{
 "cells": [
  {
   "cell_type": "markdown",
   "id": "ac2aaf50-bda5-458b-b3a9-a2f22efb680e",
   "metadata": {
    "id": "ac2aaf50-bda5-458b-b3a9-a2f22efb680e"
   },
   "source": [
    "# Data Extraction"
   ]
  },
  {
   "cell_type": "code",
   "execution_count": 1,
   "id": "09d714c7-614e-4b20-8b81-c8f08cfcd436",
   "metadata": {
    "id": "09d714c7-614e-4b20-8b81-c8f08cfcd436"
   },
   "outputs": [],
   "source": [
    "import warnings\n",
    "warnings.filterwarnings('ignore')\n",
    "\n",
    "import pandas as pd\n",
    "import numpy as np\n",
    "\n"
   ]
  },
  {
   "cell_type": "code",
   "execution_count": 2,
   "id": "dc77dcce-e9a7-492e-b06c-6b413b4e353d",
   "metadata": {
    "id": "dc77dcce-e9a7-492e-b06c-6b413b4e353d"
   },
   "outputs": [],
   "source": [
    "df = pd.read_csv('dataset.csv')"
   ]
  },
  {
   "cell_type": "code",
   "execution_count": 3,
   "id": "38d91a80-9a93-4bdb-af14-e5c4d87126f7",
   "metadata": {
    "colab": {
     "base_uri": "https://localhost:8080/",
     "height": 638
    },
    "id": "38d91a80-9a93-4bdb-af14-e5c4d87126f7",
    "outputId": "261a1aea-94c0-4799-9ddc-19dd4aa03104"
   },
   "outputs": [
    {
     "data": {
      "text/html": [
       "<div>\n",
       "<style scoped>\n",
       "    .dataframe tbody tr th:only-of-type {\n",
       "        vertical-align: middle;\n",
       "    }\n",
       "\n",
       "    .dataframe tbody tr th {\n",
       "        vertical-align: top;\n",
       "    }\n",
       "\n",
       "    .dataframe thead th {\n",
       "        text-align: right;\n",
       "    }\n",
       "</style>\n",
       "<table border=\"1\" class=\"dataframe\">\n",
       "  <thead>\n",
       "    <tr style=\"text-align: right;\">\n",
       "      <th></th>\n",
       "      <th>symbol</th>\n",
       "      <th>exchange</th>\n",
       "      <th>date</th>\n",
       "      <th>adjusted close</th>\n",
       "      <th>option symbol</th>\n",
       "      <th>expiration</th>\n",
       "      <th>strike</th>\n",
       "      <th>call/put</th>\n",
       "      <th>style</th>\n",
       "      <th>ask</th>\n",
       "      <th>...</th>\n",
       "      <th>iv</th>\n",
       "      <th>volume</th>\n",
       "      <th>open interest</th>\n",
       "      <th>stock price for iv</th>\n",
       "      <th>*</th>\n",
       "      <th>delta</th>\n",
       "      <th>vega</th>\n",
       "      <th>gamma</th>\n",
       "      <th>theta</th>\n",
       "      <th>rho</th>\n",
       "    </tr>\n",
       "  </thead>\n",
       "  <tbody>\n",
       "    <tr>\n",
       "      <th>0</th>\n",
       "      <td>SPY</td>\n",
       "      <td>NYSEArca</td>\n",
       "      <td>07/30/2021</td>\n",
       "      <td>438.51</td>\n",
       "      <td>SPY   210730C00215000</td>\n",
       "      <td>07/30/2021</td>\n",
       "      <td>215.0</td>\n",
       "      <td>C</td>\n",
       "      <td>A</td>\n",
       "      <td>224.56</td>\n",
       "      <td>...</td>\n",
       "      <td>-1.0</td>\n",
       "      <td>0</td>\n",
       "      <td>0</td>\n",
       "      <td>438.97</td>\n",
       "      <td>NaN</td>\n",
       "      <td>0.0</td>\n",
       "      <td>0.0</td>\n",
       "      <td>0.0</td>\n",
       "      <td>0.0</td>\n",
       "      <td>0.0</td>\n",
       "    </tr>\n",
       "    <tr>\n",
       "      <th>1</th>\n",
       "      <td>SPY</td>\n",
       "      <td>NYSEArca</td>\n",
       "      <td>07/30/2021</td>\n",
       "      <td>438.51</td>\n",
       "      <td>SPY   210730P00215000</td>\n",
       "      <td>07/30/2021</td>\n",
       "      <td>215.0</td>\n",
       "      <td>P</td>\n",
       "      <td>A</td>\n",
       "      <td>0.01</td>\n",
       "      <td>...</td>\n",
       "      <td>-1.0</td>\n",
       "      <td>0</td>\n",
       "      <td>1401</td>\n",
       "      <td>438.97</td>\n",
       "      <td>NaN</td>\n",
       "      <td>0.0</td>\n",
       "      <td>0.0</td>\n",
       "      <td>0.0</td>\n",
       "      <td>0.0</td>\n",
       "      <td>0.0</td>\n",
       "    </tr>\n",
       "    <tr>\n",
       "      <th>2</th>\n",
       "      <td>SPY</td>\n",
       "      <td>NYSEArca</td>\n",
       "      <td>07/30/2021</td>\n",
       "      <td>438.51</td>\n",
       "      <td>SPY   210730C00220000</td>\n",
       "      <td>07/30/2021</td>\n",
       "      <td>220.0</td>\n",
       "      <td>C</td>\n",
       "      <td>A</td>\n",
       "      <td>219.56</td>\n",
       "      <td>...</td>\n",
       "      <td>-1.0</td>\n",
       "      <td>0</td>\n",
       "      <td>1</td>\n",
       "      <td>438.97</td>\n",
       "      <td>NaN</td>\n",
       "      <td>0.0</td>\n",
       "      <td>0.0</td>\n",
       "      <td>0.0</td>\n",
       "      <td>0.0</td>\n",
       "      <td>0.0</td>\n",
       "    </tr>\n",
       "    <tr>\n",
       "      <th>3</th>\n",
       "      <td>SPY</td>\n",
       "      <td>NYSEArca</td>\n",
       "      <td>07/30/2021</td>\n",
       "      <td>438.51</td>\n",
       "      <td>SPY   210730P00220000</td>\n",
       "      <td>07/30/2021</td>\n",
       "      <td>220.0</td>\n",
       "      <td>P</td>\n",
       "      <td>A</td>\n",
       "      <td>0.01</td>\n",
       "      <td>...</td>\n",
       "      <td>-1.0</td>\n",
       "      <td>50</td>\n",
       "      <td>328</td>\n",
       "      <td>438.97</td>\n",
       "      <td>NaN</td>\n",
       "      <td>0.0</td>\n",
       "      <td>0.0</td>\n",
       "      <td>0.0</td>\n",
       "      <td>0.0</td>\n",
       "      <td>0.0</td>\n",
       "    </tr>\n",
       "    <tr>\n",
       "      <th>4</th>\n",
       "      <td>SPY</td>\n",
       "      <td>NYSEArca</td>\n",
       "      <td>07/30/2021</td>\n",
       "      <td>438.51</td>\n",
       "      <td>SPY   210730C00225000</td>\n",
       "      <td>07/30/2021</td>\n",
       "      <td>225.0</td>\n",
       "      <td>C</td>\n",
       "      <td>A</td>\n",
       "      <td>214.56</td>\n",
       "      <td>...</td>\n",
       "      <td>-1.0</td>\n",
       "      <td>0</td>\n",
       "      <td>0</td>\n",
       "      <td>438.97</td>\n",
       "      <td>NaN</td>\n",
       "      <td>0.0</td>\n",
       "      <td>0.0</td>\n",
       "      <td>0.0</td>\n",
       "      <td>0.0</td>\n",
       "      <td>0.0</td>\n",
       "    </tr>\n",
       "    <tr>\n",
       "      <th>5</th>\n",
       "      <td>SPY</td>\n",
       "      <td>NYSEArca</td>\n",
       "      <td>07/30/2021</td>\n",
       "      <td>438.51</td>\n",
       "      <td>SPY   210730P00225000</td>\n",
       "      <td>07/30/2021</td>\n",
       "      <td>225.0</td>\n",
       "      <td>P</td>\n",
       "      <td>A</td>\n",
       "      <td>0.01</td>\n",
       "      <td>...</td>\n",
       "      <td>-1.0</td>\n",
       "      <td>0</td>\n",
       "      <td>1996</td>\n",
       "      <td>438.97</td>\n",
       "      <td>NaN</td>\n",
       "      <td>0.0</td>\n",
       "      <td>0.0</td>\n",
       "      <td>0.0</td>\n",
       "      <td>0.0</td>\n",
       "      <td>0.0</td>\n",
       "    </tr>\n",
       "    <tr>\n",
       "      <th>6</th>\n",
       "      <td>SPY</td>\n",
       "      <td>NYSEArca</td>\n",
       "      <td>07/30/2021</td>\n",
       "      <td>438.51</td>\n",
       "      <td>SPY   210730C00230000</td>\n",
       "      <td>07/30/2021</td>\n",
       "      <td>230.0</td>\n",
       "      <td>C</td>\n",
       "      <td>A</td>\n",
       "      <td>209.56</td>\n",
       "      <td>...</td>\n",
       "      <td>-1.0</td>\n",
       "      <td>0</td>\n",
       "      <td>0</td>\n",
       "      <td>438.97</td>\n",
       "      <td>NaN</td>\n",
       "      <td>0.0</td>\n",
       "      <td>0.0</td>\n",
       "      <td>0.0</td>\n",
       "      <td>0.0</td>\n",
       "      <td>0.0</td>\n",
       "    </tr>\n",
       "    <tr>\n",
       "      <th>7</th>\n",
       "      <td>SPY</td>\n",
       "      <td>NYSEArca</td>\n",
       "      <td>07/30/2021</td>\n",
       "      <td>438.51</td>\n",
       "      <td>SPY   210730P00230000</td>\n",
       "      <td>07/30/2021</td>\n",
       "      <td>230.0</td>\n",
       "      <td>P</td>\n",
       "      <td>A</td>\n",
       "      <td>0.01</td>\n",
       "      <td>...</td>\n",
       "      <td>-1.0</td>\n",
       "      <td>0</td>\n",
       "      <td>3764</td>\n",
       "      <td>438.97</td>\n",
       "      <td>NaN</td>\n",
       "      <td>0.0</td>\n",
       "      <td>0.0</td>\n",
       "      <td>0.0</td>\n",
       "      <td>0.0</td>\n",
       "      <td>0.0</td>\n",
       "    </tr>\n",
       "    <tr>\n",
       "      <th>8</th>\n",
       "      <td>SPY</td>\n",
       "      <td>NYSEArca</td>\n",
       "      <td>07/30/2021</td>\n",
       "      <td>438.51</td>\n",
       "      <td>SPY   210730C00235000</td>\n",
       "      <td>07/30/2021</td>\n",
       "      <td>235.0</td>\n",
       "      <td>C</td>\n",
       "      <td>A</td>\n",
       "      <td>204.56</td>\n",
       "      <td>...</td>\n",
       "      <td>-1.0</td>\n",
       "      <td>0</td>\n",
       "      <td>0</td>\n",
       "      <td>438.97</td>\n",
       "      <td>NaN</td>\n",
       "      <td>0.0</td>\n",
       "      <td>0.0</td>\n",
       "      <td>0.0</td>\n",
       "      <td>0.0</td>\n",
       "      <td>0.0</td>\n",
       "    </tr>\n",
       "    <tr>\n",
       "      <th>9</th>\n",
       "      <td>SPY</td>\n",
       "      <td>NYSEArca</td>\n",
       "      <td>07/30/2021</td>\n",
       "      <td>438.51</td>\n",
       "      <td>SPY   210730P00235000</td>\n",
       "      <td>07/30/2021</td>\n",
       "      <td>235.0</td>\n",
       "      <td>P</td>\n",
       "      <td>A</td>\n",
       "      <td>0.01</td>\n",
       "      <td>...</td>\n",
       "      <td>-1.0</td>\n",
       "      <td>0</td>\n",
       "      <td>1361</td>\n",
       "      <td>438.97</td>\n",
       "      <td>NaN</td>\n",
       "      <td>0.0</td>\n",
       "      <td>0.0</td>\n",
       "      <td>0.0</td>\n",
       "      <td>0.0</td>\n",
       "      <td>0.0</td>\n",
       "    </tr>\n",
       "  </tbody>\n",
       "</table>\n",
       "<p>10 rows × 22 columns</p>\n",
       "</div>"
      ],
      "text/plain": [
       "  symbol  exchange        date  adjusted close          option symbol  \\\n",
       "0    SPY  NYSEArca  07/30/2021          438.51  SPY   210730C00215000   \n",
       "1    SPY  NYSEArca  07/30/2021          438.51  SPY   210730P00215000   \n",
       "2    SPY  NYSEArca  07/30/2021          438.51  SPY   210730C00220000   \n",
       "3    SPY  NYSEArca  07/30/2021          438.51  SPY   210730P00220000   \n",
       "4    SPY  NYSEArca  07/30/2021          438.51  SPY   210730C00225000   \n",
       "5    SPY  NYSEArca  07/30/2021          438.51  SPY   210730P00225000   \n",
       "6    SPY  NYSEArca  07/30/2021          438.51  SPY   210730C00230000   \n",
       "7    SPY  NYSEArca  07/30/2021          438.51  SPY   210730P00230000   \n",
       "8    SPY  NYSEArca  07/30/2021          438.51  SPY   210730C00235000   \n",
       "9    SPY  NYSEArca  07/30/2021          438.51  SPY   210730P00235000   \n",
       "\n",
       "   expiration  strike call/put style     ask  ...   iv  volume  open interest  \\\n",
       "0  07/30/2021   215.0        C     A  224.56  ... -1.0       0              0   \n",
       "1  07/30/2021   215.0        P     A    0.01  ... -1.0       0           1401   \n",
       "2  07/30/2021   220.0        C     A  219.56  ... -1.0       0              1   \n",
       "3  07/30/2021   220.0        P     A    0.01  ... -1.0      50            328   \n",
       "4  07/30/2021   225.0        C     A  214.56  ... -1.0       0              0   \n",
       "5  07/30/2021   225.0        P     A    0.01  ... -1.0       0           1996   \n",
       "6  07/30/2021   230.0        C     A  209.56  ... -1.0       0              0   \n",
       "7  07/30/2021   230.0        P     A    0.01  ... -1.0       0           3764   \n",
       "8  07/30/2021   235.0        C     A  204.56  ... -1.0       0              0   \n",
       "9  07/30/2021   235.0        P     A    0.01  ... -1.0       0           1361   \n",
       "\n",
       "   stock price for iv    *  delta vega  gamma  theta  rho  \n",
       "0              438.97  NaN    0.0  0.0    0.0    0.0  0.0  \n",
       "1              438.97  NaN    0.0  0.0    0.0    0.0  0.0  \n",
       "2              438.97  NaN    0.0  0.0    0.0    0.0  0.0  \n",
       "3              438.97  NaN    0.0  0.0    0.0    0.0  0.0  \n",
       "4              438.97  NaN    0.0  0.0    0.0    0.0  0.0  \n",
       "5              438.97  NaN    0.0  0.0    0.0    0.0  0.0  \n",
       "6              438.97  NaN    0.0  0.0    0.0    0.0  0.0  \n",
       "7              438.97  NaN    0.0  0.0    0.0    0.0  0.0  \n",
       "8              438.97  NaN    0.0  0.0    0.0    0.0  0.0  \n",
       "9              438.97  NaN    0.0  0.0    0.0    0.0  0.0  \n",
       "\n",
       "[10 rows x 22 columns]"
      ]
     },
     "execution_count": 3,
     "metadata": {},
     "output_type": "execute_result"
    }
   ],
   "source": [
    "df.head(10)"
   ]
  },
  {
   "cell_type": "code",
   "execution_count": 4,
   "id": "593362e2-edeb-466d-98b9-cca225d9cf08",
   "metadata": {
    "colab": {
     "base_uri": "https://localhost:8080/"
    },
    "id": "593362e2-edeb-466d-98b9-cca225d9cf08",
    "outputId": "f952e6cc-e028-49c6-8404-b4171d332e3c"
   },
   "outputs": [
    {
     "data": {
      "text/plain": [
       "Index(['symbol', 'exchange', 'date', 'adjusted close', 'option symbol',\n",
       "       'expiration', 'strike', 'call/put', 'style', 'ask', 'bid', 'mean price',\n",
       "       'iv', 'volume', 'open interest', 'stock price for iv', '*', 'delta',\n",
       "       'vega', 'gamma', 'theta', 'rho'],\n",
       "      dtype='object')"
      ]
     },
     "execution_count": 4,
     "metadata": {},
     "output_type": "execute_result"
    }
   ],
   "source": [
    "df.columns"
   ]
  },
  {
   "cell_type": "code",
   "execution_count": 5,
   "id": "a250f9f6-f414-4976-889f-7c05020767e1",
   "metadata": {
    "colab": {
     "base_uri": "https://localhost:8080/",
     "height": 338
    },
    "id": "a250f9f6-f414-4976-889f-7c05020767e1",
    "outputId": "97e01844-3629-4f27-8265-ad04227502d3"
   },
   "outputs": [
    {
     "data": {
      "text/html": [
       "<div>\n",
       "<style scoped>\n",
       "    .dataframe tbody tr th:only-of-type {\n",
       "        vertical-align: middle;\n",
       "    }\n",
       "\n",
       "    .dataframe tbody tr th {\n",
       "        vertical-align: top;\n",
       "    }\n",
       "\n",
       "    .dataframe thead th {\n",
       "        text-align: right;\n",
       "    }\n",
       "</style>\n",
       "<table border=\"1\" class=\"dataframe\">\n",
       "  <thead>\n",
       "    <tr style=\"text-align: right;\">\n",
       "      <th></th>\n",
       "      <th>adjusted close</th>\n",
       "      <th>strike</th>\n",
       "      <th>ask</th>\n",
       "      <th>bid</th>\n",
       "      <th>mean price</th>\n",
       "      <th>iv</th>\n",
       "      <th>volume</th>\n",
       "      <th>open interest</th>\n",
       "      <th>stock price for iv</th>\n",
       "      <th>delta</th>\n",
       "      <th>vega</th>\n",
       "      <th>gamma</th>\n",
       "      <th>theta</th>\n",
       "      <th>rho</th>\n",
       "    </tr>\n",
       "  </thead>\n",
       "  <tbody>\n",
       "    <tr>\n",
       "      <th>count</th>\n",
       "      <td>221046.000000</td>\n",
       "      <td>221046.000000</td>\n",
       "      <td>221046.000000</td>\n",
       "      <td>221046.000000</td>\n",
       "      <td>221046.000000</td>\n",
       "      <td>221046.000000</td>\n",
       "      <td>221046.000000</td>\n",
       "      <td>221046.000000</td>\n",
       "      <td>221046.000000</td>\n",
       "      <td>221046.000000</td>\n",
       "      <td>221046.000000</td>\n",
       "      <td>221046.000000</td>\n",
       "      <td>221046.000000</td>\n",
       "      <td>221046.000000</td>\n",
       "    </tr>\n",
       "    <tr>\n",
       "      <th>mean</th>\n",
       "      <td>435.089149</td>\n",
       "      <td>398.702076</td>\n",
       "      <td>41.667365</td>\n",
       "      <td>40.967420</td>\n",
       "      <td>41.315752</td>\n",
       "      <td>0.234593</td>\n",
       "      <td>405.715661</td>\n",
       "      <td>1660.743542</td>\n",
       "      <td>434.966436</td>\n",
       "      <td>0.102498</td>\n",
       "      <td>0.503011</td>\n",
       "      <td>0.005594</td>\n",
       "      <td>-0.042474</td>\n",
       "      <td>-0.067521</td>\n",
       "    </tr>\n",
       "    <tr>\n",
       "      <th>std</th>\n",
       "      <td>3.863763</td>\n",
       "      <td>93.725546</td>\n",
       "      <td>60.504762</td>\n",
       "      <td>59.876656</td>\n",
       "      <td>60.189057</td>\n",
       "      <td>0.225324</td>\n",
       "      <td>5100.355521</td>\n",
       "      <td>6040.663628</td>\n",
       "      <td>3.837734</td>\n",
       "      <td>0.614277</td>\n",
       "      <td>0.544469</td>\n",
       "      <td>0.009183</td>\n",
       "      <td>0.040318</td>\n",
       "      <td>1.726706</td>\n",
       "    </tr>\n",
       "    <tr>\n",
       "      <th>min</th>\n",
       "      <td>424.970000</td>\n",
       "      <td>25.000000</td>\n",
       "      <td>0.010000</td>\n",
       "      <td>0.000000</td>\n",
       "      <td>0.000000</td>\n",
       "      <td>-1.000000</td>\n",
       "      <td>0.000000</td>\n",
       "      <td>0.000000</td>\n",
       "      <td>425.020000</td>\n",
       "      <td>-1.000000</td>\n",
       "      <td>0.000000</td>\n",
       "      <td>0.000000</td>\n",
       "      <td>-0.779877</td>\n",
       "      <td>-15.741297</td>\n",
       "    </tr>\n",
       "    <tr>\n",
       "      <th>25%</th>\n",
       "      <td>432.930000</td>\n",
       "      <td>349.000000</td>\n",
       "      <td>1.660000</td>\n",
       "      <td>1.500000</td>\n",
       "      <td>1.600000</td>\n",
       "      <td>0.139646</td>\n",
       "      <td>0.000000</td>\n",
       "      <td>1.000000</td>\n",
       "      <td>432.520000</td>\n",
       "      <td>-0.240680</td>\n",
       "      <td>0.061539</td>\n",
       "      <td>0.000718</td>\n",
       "      <td>-0.056856</td>\n",
       "      <td>-0.143418</td>\n",
       "    </tr>\n",
       "    <tr>\n",
       "      <th>50%</th>\n",
       "      <td>435.460000</td>\n",
       "      <td>411.000000</td>\n",
       "      <td>15.910000</td>\n",
       "      <td>15.440000</td>\n",
       "      <td>15.650000</td>\n",
       "      <td>0.206940</td>\n",
       "      <td>0.000000</td>\n",
       "      <td>100.000000</td>\n",
       "      <td>435.440000</td>\n",
       "      <td>0.000000</td>\n",
       "      <td>0.293737</td>\n",
       "      <td>0.002824</td>\n",
       "      <td>-0.035767</td>\n",
       "      <td>0.000000</td>\n",
       "    </tr>\n",
       "    <tr>\n",
       "      <th>75%</th>\n",
       "      <td>438.510000</td>\n",
       "      <td>454.000000</td>\n",
       "      <td>52.550000</td>\n",
       "      <td>51.550000</td>\n",
       "      <td>52.040000</td>\n",
       "      <td>0.306208</td>\n",
       "      <td>19.000000</td>\n",
       "      <td>918.000000</td>\n",
       "      <td>438.140000</td>\n",
       "      <td>0.731058</td>\n",
       "      <td>0.817714</td>\n",
       "      <td>0.006464</td>\n",
       "      <td>-0.014486</td>\n",
       "      <td>0.334990</td>\n",
       "    </tr>\n",
       "    <tr>\n",
       "      <th>max</th>\n",
       "      <td>441.020000</td>\n",
       "      <td>655.000000</td>\n",
       "      <td>416.890000</td>\n",
       "      <td>415.230000</td>\n",
       "      <td>416.060000</td>\n",
       "      <td>1.805012</td>\n",
       "      <td>446333.000000</td>\n",
       "      <td>169905.000000</td>\n",
       "      <td>441.050000</td>\n",
       "      <td>1.000000</td>\n",
       "      <td>2.674587</td>\n",
       "      <td>0.185555</td>\n",
       "      <td>0.000000</td>\n",
       "      <td>5.584008</td>\n",
       "    </tr>\n",
       "  </tbody>\n",
       "</table>\n",
       "</div>"
      ],
      "text/plain": [
       "       adjusted close         strike            ask            bid  \\\n",
       "count   221046.000000  221046.000000  221046.000000  221046.000000   \n",
       "mean       435.089149     398.702076      41.667365      40.967420   \n",
       "std          3.863763      93.725546      60.504762      59.876656   \n",
       "min        424.970000      25.000000       0.010000       0.000000   \n",
       "25%        432.930000     349.000000       1.660000       1.500000   \n",
       "50%        435.460000     411.000000      15.910000      15.440000   \n",
       "75%        438.510000     454.000000      52.550000      51.550000   \n",
       "max        441.020000     655.000000     416.890000     415.230000   \n",
       "\n",
       "          mean price             iv         volume  open interest  \\\n",
       "count  221046.000000  221046.000000  221046.000000  221046.000000   \n",
       "mean       41.315752       0.234593     405.715661    1660.743542   \n",
       "std        60.189057       0.225324    5100.355521    6040.663628   \n",
       "min         0.000000      -1.000000       0.000000       0.000000   \n",
       "25%         1.600000       0.139646       0.000000       1.000000   \n",
       "50%        15.650000       0.206940       0.000000     100.000000   \n",
       "75%        52.040000       0.306208      19.000000     918.000000   \n",
       "max       416.060000       1.805012  446333.000000  169905.000000   \n",
       "\n",
       "       stock price for iv          delta           vega          gamma  \\\n",
       "count       221046.000000  221046.000000  221046.000000  221046.000000   \n",
       "mean           434.966436       0.102498       0.503011       0.005594   \n",
       "std              3.837734       0.614277       0.544469       0.009183   \n",
       "min            425.020000      -1.000000       0.000000       0.000000   \n",
       "25%            432.520000      -0.240680       0.061539       0.000718   \n",
       "50%            435.440000       0.000000       0.293737       0.002824   \n",
       "75%            438.140000       0.731058       0.817714       0.006464   \n",
       "max            441.050000       1.000000       2.674587       0.185555   \n",
       "\n",
       "               theta            rho  \n",
       "count  221046.000000  221046.000000  \n",
       "mean       -0.042474      -0.067521  \n",
       "std         0.040318       1.726706  \n",
       "min        -0.779877     -15.741297  \n",
       "25%        -0.056856      -0.143418  \n",
       "50%        -0.035767       0.000000  \n",
       "75%        -0.014486       0.334990  \n",
       "max         0.000000       5.584008  "
      ]
     },
     "execution_count": 5,
     "metadata": {},
     "output_type": "execute_result"
    }
   ],
   "source": [
    "df.describe()"
   ]
  },
  {
   "cell_type": "code",
   "execution_count": 6,
   "id": "6afbbeaa-ea9a-4317-85e7-81064c336151",
   "metadata": {
    "colab": {
     "base_uri": "https://localhost:8080/"
    },
    "id": "6afbbeaa-ea9a-4317-85e7-81064c336151",
    "outputId": "d9107295-c604-4135-bedf-2412367ad59b"
   },
   "outputs": [
    {
     "name": "stdout",
     "output_type": "stream",
     "text": [
      "<class 'pandas.core.frame.DataFrame'>\n",
      "RangeIndex: 221046 entries, 0 to 221045\n",
      "Data columns (total 22 columns):\n",
      " #   Column              Non-Null Count   Dtype  \n",
      "---  ------              --------------   -----  \n",
      " 0   symbol              221046 non-null  object \n",
      " 1   exchange            221046 non-null  object \n",
      " 2   date                221046 non-null  object \n",
      " 3   adjusted close      221046 non-null  float64\n",
      " 4   option symbol       221046 non-null  object \n",
      " 5   expiration          221046 non-null  object \n",
      " 6   strike              221046 non-null  float64\n",
      " 7   call/put            221046 non-null  object \n",
      " 8   style               221046 non-null  object \n",
      " 9   ask                 221046 non-null  float64\n",
      " 10  bid                 221046 non-null  float64\n",
      " 11  mean price          221046 non-null  float64\n",
      " 12  iv                  221046 non-null  float64\n",
      " 13  volume              221046 non-null  int64  \n",
      " 14  open interest       221046 non-null  int64  \n",
      " 15  stock price for iv  221046 non-null  float64\n",
      " 16  *                   29039 non-null   object \n",
      " 17  delta               221046 non-null  float64\n",
      " 18  vega                221046 non-null  float64\n",
      " 19  gamma               221046 non-null  float64\n",
      " 20  theta               221046 non-null  float64\n",
      " 21  rho                 221046 non-null  float64\n",
      "dtypes: float64(12), int64(2), object(8)\n",
      "memory usage: 37.1+ MB\n"
     ]
    }
   ],
   "source": [
    "df.info()"
   ]
  },
  {
   "cell_type": "code",
   "execution_count": 7,
   "id": "c3bad624-de90-42ec-b27b-a049a9de6cc1",
   "metadata": {
    "colab": {
     "base_uri": "https://localhost:8080/"
    },
    "id": "c3bad624-de90-42ec-b27b-a049a9de6cc1",
    "outputId": "219e0d3b-85e7-4941-a0e4-339f31138ab7"
   },
   "outputs": [
    {
     "data": {
      "text/plain": [
       "symbol                     1\n",
       "exchange                   1\n",
       "date                      21\n",
       "adjusted close            21\n",
       "option symbol          13960\n",
       "expiration                48\n",
       "strike                   312\n",
       "call/put                   2\n",
       "style                      1\n",
       "ask                    22926\n",
       "bid                    22611\n",
       "mean price             36172\n",
       "iv                    146910\n",
       "volume                  6205\n",
       "open interest          14825\n",
       "stock price for iv        21\n",
       "*                          1\n",
       "delta                 182814\n",
       "vega                  179397\n",
       "gamma                  28374\n",
       "theta                  91796\n",
       "rho                   183742\n",
       "dtype: int64"
      ]
     },
     "execution_count": 7,
     "metadata": {},
     "output_type": "execute_result"
    }
   ],
   "source": [
    "df.nunique()"
   ]
  },
  {
   "cell_type": "markdown",
   "id": "582467fb-b8f5-4de5-8728-7d830e593d30",
   "metadata": {
    "id": "582467fb-b8f5-4de5-8728-7d830e593d30"
   },
   "source": [
    "# Data Validation and Cleansing:"
   ]
  },
  {
   "cell_type": "code",
   "execution_count": 8,
   "id": "6044a8cb-d28a-42c6-baf4-e113831c492b",
   "metadata": {
    "colab": {
     "base_uri": "https://localhost:8080/"
    },
    "id": "6044a8cb-d28a-42c6-baf4-e113831c492b",
    "outputId": "03eba486-ef0b-44e2-be4c-61cc07933dae"
   },
   "outputs": [
    {
     "data": {
      "text/plain": [
       "date                      21\n",
       "adjusted close            21\n",
       "expiration                48\n",
       "strike                   312\n",
       "call/put                   2\n",
       "ask                    22926\n",
       "bid                    22611\n",
       "mean price             36172\n",
       "iv                    146910\n",
       "volume                  6205\n",
       "open interest          14825\n",
       "stock price for iv        21\n",
       "delta                 182814\n",
       "vega                  179397\n",
       "gamma                  28374\n",
       "theta                  91796\n",
       "rho                   183742\n",
       "dtype: int64"
      ]
     },
     "execution_count": 8,
     "metadata": {},
     "output_type": "execute_result"
    }
   ],
   "source": [
    "# Removing the fields that are not required.\n",
    "df.drop(['symbol', 'exchange', 'style', '*', 'option symbol'], axis = 1, inplace = True)\n",
    "df.nunique()"
   ]
  },
  {
   "cell_type": "code",
   "execution_count": 9,
   "id": "8f31d543-8189-4c64-a111-3f69dee6cc19",
   "metadata": {
    "id": "8f31d543-8189-4c64-a111-3f69dee6cc19"
   },
   "outputs": [],
   "source": [
    "# Changing the datatype of the field 'date' from string/object to DateTime.\n",
    "df['date'] = df['date'].astype('datetime64[ns]')\n",
    "df['date'] = [float(d.strftime('%d')) for d in df['date']]"
   ]
  },
  {
   "cell_type": "code",
   "execution_count": 10,
   "id": "2e15b968-2c14-4c19-b92b-d7ecba1d36d0",
   "metadata": {
    "colab": {
     "base_uri": "https://localhost:8080/",
     "height": 435
    },
    "id": "2e15b968-2c14-4c19-b92b-d7ecba1d36d0",
    "outputId": "cb87e2e1-c8b0-4ebd-d37d-d51f964a6648"
   },
   "outputs": [
    {
     "data": {
      "text/html": [
       "<div>\n",
       "<style scoped>\n",
       "    .dataframe tbody tr th:only-of-type {\n",
       "        vertical-align: middle;\n",
       "    }\n",
       "\n",
       "    .dataframe tbody tr th {\n",
       "        vertical-align: top;\n",
       "    }\n",
       "\n",
       "    .dataframe thead th {\n",
       "        text-align: right;\n",
       "    }\n",
       "</style>\n",
       "<table border=\"1\" class=\"dataframe\">\n",
       "  <thead>\n",
       "    <tr style=\"text-align: right;\">\n",
       "      <th></th>\n",
       "      <th>date</th>\n",
       "      <th>adjusted close</th>\n",
       "      <th>expiration</th>\n",
       "      <th>strike</th>\n",
       "      <th>call/put</th>\n",
       "      <th>ask</th>\n",
       "      <th>bid</th>\n",
       "      <th>mean price</th>\n",
       "      <th>iv</th>\n",
       "      <th>volume</th>\n",
       "      <th>open interest</th>\n",
       "      <th>stock price for iv</th>\n",
       "      <th>delta</th>\n",
       "      <th>vega</th>\n",
       "      <th>gamma</th>\n",
       "      <th>theta</th>\n",
       "      <th>rho</th>\n",
       "    </tr>\n",
       "  </thead>\n",
       "  <tbody>\n",
       "    <tr>\n",
       "      <th>0</th>\n",
       "      <td>30.0</td>\n",
       "      <td>438.51</td>\n",
       "      <td>07/30/2021</td>\n",
       "      <td>215.0</td>\n",
       "      <td>C</td>\n",
       "      <td>224.56</td>\n",
       "      <td>223.35</td>\n",
       "      <td>223.955</td>\n",
       "      <td>-1.0</td>\n",
       "      <td>0</td>\n",
       "      <td>0</td>\n",
       "      <td>438.97</td>\n",
       "      <td>0.0</td>\n",
       "      <td>0.0</td>\n",
       "      <td>0.0</td>\n",
       "      <td>0.0</td>\n",
       "      <td>0.0</td>\n",
       "    </tr>\n",
       "    <tr>\n",
       "      <th>1</th>\n",
       "      <td>30.0</td>\n",
       "      <td>438.51</td>\n",
       "      <td>07/30/2021</td>\n",
       "      <td>215.0</td>\n",
       "      <td>P</td>\n",
       "      <td>0.01</td>\n",
       "      <td>0.00</td>\n",
       "      <td>0.000</td>\n",
       "      <td>-1.0</td>\n",
       "      <td>0</td>\n",
       "      <td>1401</td>\n",
       "      <td>438.97</td>\n",
       "      <td>0.0</td>\n",
       "      <td>0.0</td>\n",
       "      <td>0.0</td>\n",
       "      <td>0.0</td>\n",
       "      <td>0.0</td>\n",
       "    </tr>\n",
       "    <tr>\n",
       "      <th>2</th>\n",
       "      <td>30.0</td>\n",
       "      <td>438.51</td>\n",
       "      <td>07/30/2021</td>\n",
       "      <td>220.0</td>\n",
       "      <td>C</td>\n",
       "      <td>219.56</td>\n",
       "      <td>218.35</td>\n",
       "      <td>218.955</td>\n",
       "      <td>-1.0</td>\n",
       "      <td>0</td>\n",
       "      <td>1</td>\n",
       "      <td>438.97</td>\n",
       "      <td>0.0</td>\n",
       "      <td>0.0</td>\n",
       "      <td>0.0</td>\n",
       "      <td>0.0</td>\n",
       "      <td>0.0</td>\n",
       "    </tr>\n",
       "    <tr>\n",
       "      <th>3</th>\n",
       "      <td>30.0</td>\n",
       "      <td>438.51</td>\n",
       "      <td>07/30/2021</td>\n",
       "      <td>220.0</td>\n",
       "      <td>P</td>\n",
       "      <td>0.01</td>\n",
       "      <td>0.00</td>\n",
       "      <td>0.000</td>\n",
       "      <td>-1.0</td>\n",
       "      <td>50</td>\n",
       "      <td>328</td>\n",
       "      <td>438.97</td>\n",
       "      <td>0.0</td>\n",
       "      <td>0.0</td>\n",
       "      <td>0.0</td>\n",
       "      <td>0.0</td>\n",
       "      <td>0.0</td>\n",
       "    </tr>\n",
       "    <tr>\n",
       "      <th>4</th>\n",
       "      <td>30.0</td>\n",
       "      <td>438.51</td>\n",
       "      <td>07/30/2021</td>\n",
       "      <td>225.0</td>\n",
       "      <td>C</td>\n",
       "      <td>214.56</td>\n",
       "      <td>213.35</td>\n",
       "      <td>213.955</td>\n",
       "      <td>-1.0</td>\n",
       "      <td>0</td>\n",
       "      <td>0</td>\n",
       "      <td>438.97</td>\n",
       "      <td>0.0</td>\n",
       "      <td>0.0</td>\n",
       "      <td>0.0</td>\n",
       "      <td>0.0</td>\n",
       "      <td>0.0</td>\n",
       "    </tr>\n",
       "    <tr>\n",
       "      <th>5</th>\n",
       "      <td>30.0</td>\n",
       "      <td>438.51</td>\n",
       "      <td>07/30/2021</td>\n",
       "      <td>225.0</td>\n",
       "      <td>P</td>\n",
       "      <td>0.01</td>\n",
       "      <td>0.00</td>\n",
       "      <td>0.000</td>\n",
       "      <td>-1.0</td>\n",
       "      <td>0</td>\n",
       "      <td>1996</td>\n",
       "      <td>438.97</td>\n",
       "      <td>0.0</td>\n",
       "      <td>0.0</td>\n",
       "      <td>0.0</td>\n",
       "      <td>0.0</td>\n",
       "      <td>0.0</td>\n",
       "    </tr>\n",
       "    <tr>\n",
       "      <th>6</th>\n",
       "      <td>30.0</td>\n",
       "      <td>438.51</td>\n",
       "      <td>07/30/2021</td>\n",
       "      <td>230.0</td>\n",
       "      <td>C</td>\n",
       "      <td>209.56</td>\n",
       "      <td>208.35</td>\n",
       "      <td>208.955</td>\n",
       "      <td>-1.0</td>\n",
       "      <td>0</td>\n",
       "      <td>0</td>\n",
       "      <td>438.97</td>\n",
       "      <td>0.0</td>\n",
       "      <td>0.0</td>\n",
       "      <td>0.0</td>\n",
       "      <td>0.0</td>\n",
       "      <td>0.0</td>\n",
       "    </tr>\n",
       "    <tr>\n",
       "      <th>7</th>\n",
       "      <td>30.0</td>\n",
       "      <td>438.51</td>\n",
       "      <td>07/30/2021</td>\n",
       "      <td>230.0</td>\n",
       "      <td>P</td>\n",
       "      <td>0.01</td>\n",
       "      <td>0.00</td>\n",
       "      <td>0.000</td>\n",
       "      <td>-1.0</td>\n",
       "      <td>0</td>\n",
       "      <td>3764</td>\n",
       "      <td>438.97</td>\n",
       "      <td>0.0</td>\n",
       "      <td>0.0</td>\n",
       "      <td>0.0</td>\n",
       "      <td>0.0</td>\n",
       "      <td>0.0</td>\n",
       "    </tr>\n",
       "    <tr>\n",
       "      <th>8</th>\n",
       "      <td>30.0</td>\n",
       "      <td>438.51</td>\n",
       "      <td>07/30/2021</td>\n",
       "      <td>235.0</td>\n",
       "      <td>C</td>\n",
       "      <td>204.56</td>\n",
       "      <td>203.35</td>\n",
       "      <td>203.955</td>\n",
       "      <td>-1.0</td>\n",
       "      <td>0</td>\n",
       "      <td>0</td>\n",
       "      <td>438.97</td>\n",
       "      <td>0.0</td>\n",
       "      <td>0.0</td>\n",
       "      <td>0.0</td>\n",
       "      <td>0.0</td>\n",
       "      <td>0.0</td>\n",
       "    </tr>\n",
       "    <tr>\n",
       "      <th>9</th>\n",
       "      <td>30.0</td>\n",
       "      <td>438.51</td>\n",
       "      <td>07/30/2021</td>\n",
       "      <td>235.0</td>\n",
       "      <td>P</td>\n",
       "      <td>0.01</td>\n",
       "      <td>0.00</td>\n",
       "      <td>0.000</td>\n",
       "      <td>-1.0</td>\n",
       "      <td>0</td>\n",
       "      <td>1361</td>\n",
       "      <td>438.97</td>\n",
       "      <td>0.0</td>\n",
       "      <td>0.0</td>\n",
       "      <td>0.0</td>\n",
       "      <td>0.0</td>\n",
       "      <td>0.0</td>\n",
       "    </tr>\n",
       "  </tbody>\n",
       "</table>\n",
       "</div>"
      ],
      "text/plain": [
       "   date  adjusted close  expiration  strike call/put     ask     bid  \\\n",
       "0  30.0          438.51  07/30/2021   215.0        C  224.56  223.35   \n",
       "1  30.0          438.51  07/30/2021   215.0        P    0.01    0.00   \n",
       "2  30.0          438.51  07/30/2021   220.0        C  219.56  218.35   \n",
       "3  30.0          438.51  07/30/2021   220.0        P    0.01    0.00   \n",
       "4  30.0          438.51  07/30/2021   225.0        C  214.56  213.35   \n",
       "5  30.0          438.51  07/30/2021   225.0        P    0.01    0.00   \n",
       "6  30.0          438.51  07/30/2021   230.0        C  209.56  208.35   \n",
       "7  30.0          438.51  07/30/2021   230.0        P    0.01    0.00   \n",
       "8  30.0          438.51  07/30/2021   235.0        C  204.56  203.35   \n",
       "9  30.0          438.51  07/30/2021   235.0        P    0.01    0.00   \n",
       "\n",
       "   mean price   iv  volume  open interest  stock price for iv  delta  vega  \\\n",
       "0     223.955 -1.0       0              0              438.97    0.0   0.0   \n",
       "1       0.000 -1.0       0           1401              438.97    0.0   0.0   \n",
       "2     218.955 -1.0       0              1              438.97    0.0   0.0   \n",
       "3       0.000 -1.0      50            328              438.97    0.0   0.0   \n",
       "4     213.955 -1.0       0              0              438.97    0.0   0.0   \n",
       "5       0.000 -1.0       0           1996              438.97    0.0   0.0   \n",
       "6     208.955 -1.0       0              0              438.97    0.0   0.0   \n",
       "7       0.000 -1.0       0           3764              438.97    0.0   0.0   \n",
       "8     203.955 -1.0       0              0              438.97    0.0   0.0   \n",
       "9       0.000 -1.0       0           1361              438.97    0.0   0.0   \n",
       "\n",
       "   gamma  theta  rho  \n",
       "0    0.0    0.0  0.0  \n",
       "1    0.0    0.0  0.0  \n",
       "2    0.0    0.0  0.0  \n",
       "3    0.0    0.0  0.0  \n",
       "4    0.0    0.0  0.0  \n",
       "5    0.0    0.0  0.0  \n",
       "6    0.0    0.0  0.0  \n",
       "7    0.0    0.0  0.0  \n",
       "8    0.0    0.0  0.0  \n",
       "9    0.0    0.0  0.0  "
      ]
     },
     "execution_count": 10,
     "metadata": {},
     "output_type": "execute_result"
    }
   ],
   "source": [
    "df.head(10)"
   ]
  },
  {
   "cell_type": "code",
   "execution_count": 11,
   "id": "25f81727-33e8-4da4-be63-1d946f2124cf",
   "metadata": {
    "colab": {
     "base_uri": "https://localhost:8080/"
    },
    "id": "25f81727-33e8-4da4-be63-1d946f2124cf",
    "outputId": "ae009d2e-6902-4069-d074-972f2c604ba9"
   },
   "outputs": [
    {
     "data": {
      "text/plain": [
       "date                  False\n",
       "adjusted close        False\n",
       "expiration            False\n",
       "strike                False\n",
       "call/put              False\n",
       "ask                   False\n",
       "bid                   False\n",
       "mean price            False\n",
       "iv                    False\n",
       "volume                False\n",
       "open interest         False\n",
       "stock price for iv    False\n",
       "delta                 False\n",
       "vega                  False\n",
       "gamma                 False\n",
       "theta                 False\n",
       "rho                   False\n",
       "dtype: bool"
      ]
     },
     "execution_count": 11,
     "metadata": {},
     "output_type": "execute_result"
    }
   ],
   "source": [
    "df.isna().any()"
   ]
  },
  {
   "cell_type": "code",
   "execution_count": 12,
   "id": "89bd3db5-2171-4f8b-b69b-135ca570161e",
   "metadata": {
    "id": "89bd3db5-2171-4f8b-b69b-135ca570161e"
   },
   "outputs": [],
   "source": [
    "import seaborn as sns\n",
    "import matplotlib.pyplot as plt"
   ]
  },
  {
   "cell_type": "code",
   "execution_count": 13,
   "id": "15ca576a-80e7-454c-b9df-bc5026645556",
   "metadata": {
    "colab": {
     "base_uri": "https://localhost:8080/",
     "height": 447
    },
    "id": "15ca576a-80e7-454c-b9df-bc5026645556",
    "outputId": "7fae4627-9825-41b4-b78e-5c3ebe111b52"
   },
   "outputs": [
    {
     "data": {
      "text/plain": [
       "<Axes: >"
      ]
     },
     "execution_count": 13,
     "metadata": {},
     "output_type": "execute_result"
    },
    {
     "data": {
      "image/png": "[encoded data removed]",
      "text/plain": [
       "<Figure size 640x480 with 1 Axes>"
      ]
     },
     "metadata": {},
     "output_type": "display_data"
    }
   ],
   "source": [
    "sns.boxplot(df[['delta', 'vega', 'gamma', 'theta', 'rho']])"
   ]
  },
  {
   "cell_type": "code",
   "execution_count": 14,
   "id": "60cb92b2-2451-4c5c-b838-95ef769cf797",
   "metadata": {
    "colab": {
     "base_uri": "https://localhost:8080/",
     "height": 1000
    },
    "id": "60cb92b2-2451-4c5c-b838-95ef769cf797",
    "outputId": "232b54f3-f1c0-4a63-81ff-0f1e06cda281"
   },
   "outputs": [
    {
     "data": {
      "image/png": "[encoded data removed]",
      "text/plain": [
       "<Figure size 640x480 with 1 Axes>"
      ]
     },
     "metadata": {},
     "output_type": "display_data"
    },
    {
     "data": {
      "image/png": "[encoded data removed]",
      "text/plain": [
       "<Figure size 640x480 with 1 Axes>"
      ]
     },
     "metadata": {},
     "output_type": "display_data"
    },
    {
     "data": {
      "image/png": "[encoded data removed]",
      "text/plain": [
       "<Figure size 640x480 with 1 Axes>"
      ]
     },
     "metadata": {},
     "output_type": "display_data"
    },
    {
     "data": {
      "image/png": "[encoded data removed]",
      "text/plain": [
       "<Figure size 640x480 with 1 Axes>"
      ]
     },
     "metadata": {},
     "output_type": "display_data"
    },
    {
     "data": {
      "image/png": "[encoded data removed]",
      "text/plain": [
       "<Figure size 640x480 with 1 Axes>"
      ]
     },
     "metadata": {},
     "output_type": "display_data"
    }
   ],
   "source": [
    "sns.boxplot(df['delta'])\n",
    "plt.show()\n",
    "sns.boxplot(df['vega'])\n",
    "plt.show()\n",
    "sns.boxplot(df['gamma'])\n",
    "plt.show()\n",
    "sns.boxplot(df['theta'])\n",
    "plt.show()\n",
    "sns.boxplot(df['rho'])\n",
    "plt.show()"
   ]
  },
  {
   "cell_type": "code",
   "execution_count": 15,
   "id": "313153b0-1704-42da-8dd2-9bdf7c917daf",
   "metadata": {
    "colab": {
     "base_uri": "https://localhost:8080/",
     "height": 447
    },
    "id": "313153b0-1704-42da-8dd2-9bdf7c917daf",
    "outputId": "85646449-86f8-408f-83d9-6d79c4722cf3"
   },
   "outputs": [
    {
     "data": {
      "text/plain": [
       "<Axes: >"
      ]
     },
     "execution_count": 15,
     "metadata": {},
     "output_type": "execute_result"
    },
    {
     "data": {
      "image/png": "[encoded data removed]",
      "text/plain": [
       "<Figure size 640x480 with 1 Axes>"
      ]
     },
     "metadata": {},
     "output_type": "display_data"
    }
   ],
   "source": [
    "sns.barplot(df[['delta', 'vega', 'gamma', 'theta', 'rho']])"
   ]
  },
  {
   "cell_type": "code",
   "execution_count": 16,
   "id": "66ceb8d0-2a09-4b4f-9590-3e8f634dfd0d",
   "metadata": {
    "colab": {
     "base_uri": "https://localhost:8080/"
    },
    "id": "66ceb8d0-2a09-4b4f-9590-3e8f634dfd0d",
    "outputId": "5ecc09e6-e764-4b9c-80ee-88ee37621a3b"
   },
   "outputs": [
    {
     "name": "stdout",
     "output_type": "stream",
     "text": [
      "          delta      vega     gamma     theta       rho\n",
      "delta  1.000000 -0.023021 -0.081819 -0.091948  0.579338\n",
      "vega  -0.023021  1.000000  0.027076 -0.085799 -0.008650\n",
      "gamma -0.081819  0.027076  1.000000 -0.737023  0.006753\n",
      "theta -0.091948 -0.085799 -0.737023  1.000000 -0.037743\n",
      "rho    0.579338 -0.008650  0.006753 -0.037743  1.000000\n",
      "(5, 5)\n"
     ]
    }
   ],
   "source": [
    "data = df[['delta', 'vega', 'gamma', 'theta', 'rho']].corr()\n",
    "print(data)\n",
    "print(data.shape)"
   ]
  },
  {
   "cell_type": "code",
   "execution_count": 17,
   "id": "b6e63b2d-c8d7-4166-bfca-74fb5a7adb22",
   "metadata": {
    "colab": {
     "base_uri": "https://localhost:8080/",
     "height": 447
    },
    "id": "b6e63b2d-c8d7-4166-bfca-74fb5a7adb22",
    "outputId": "b7d2eead-89fb-493f-80c7-6c97ad160a34"
   },
   "outputs": [
    {
     "data": {
      "text/plain": [
       "<Axes: >"
      ]
     },
     "execution_count": 17,
     "metadata": {},
     "output_type": "execute_result"
    },
    {
     "data": {
      "image/png": "[encoded data removed]",
      "text/plain": [
       "<Figure size 640x480 with 1 Axes>"
      ]
     },
     "metadata": {},
     "output_type": "display_data"
    }
   ],
   "source": [
    "sns.boxplot(data)"
   ]
  },
  {
   "cell_type": "code",
   "execution_count": 18,
   "id": "da299726-05e6-4044-8e0d-9b09c33e52f6",
   "metadata": {
    "colab": {
     "base_uri": "https://localhost:8080/",
     "height": 300
    },
    "id": "da299726-05e6-4044-8e0d-9b09c33e52f6",
    "outputId": "0a474671-1ff3-4dee-c71a-eae9c7169e49"
   },
   "outputs": [
    {
     "data": {
      "text/html": [
       "<div>\n",
       "<style scoped>\n",
       "    .dataframe tbody tr th:only-of-type {\n",
       "        vertical-align: middle;\n",
       "    }\n",
       "\n",
       "    .dataframe tbody tr th {\n",
       "        vertical-align: top;\n",
       "    }\n",
       "\n",
       "    .dataframe thead th {\n",
       "        text-align: right;\n",
       "    }\n",
       "</style>\n",
       "<table border=\"1\" class=\"dataframe\">\n",
       "  <thead>\n",
       "    <tr style=\"text-align: right;\">\n",
       "      <th></th>\n",
       "      <th>delta</th>\n",
       "      <th>vega</th>\n",
       "      <th>gamma</th>\n",
       "      <th>theta</th>\n",
       "      <th>rho</th>\n",
       "    </tr>\n",
       "  </thead>\n",
       "  <tbody>\n",
       "    <tr>\n",
       "      <th>count</th>\n",
       "      <td>5.000000</td>\n",
       "      <td>5.000000</td>\n",
       "      <td>5.000000</td>\n",
       "      <td>5.000000</td>\n",
       "      <td>5.000000</td>\n",
       "    </tr>\n",
       "    <tr>\n",
       "      <th>mean</th>\n",
       "      <td>0.276510</td>\n",
       "      <td>0.181921</td>\n",
       "      <td>0.042997</td>\n",
       "      <td>0.009497</td>\n",
       "      <td>0.307939</td>\n",
       "    </tr>\n",
       "    <tr>\n",
       "      <th>std</th>\n",
       "      <td>0.492195</td>\n",
       "      <td>0.459136</td>\n",
       "      <td>0.620772</td>\n",
       "      <td>0.624498</td>\n",
       "      <td>0.464501</td>\n",
       "    </tr>\n",
       "    <tr>\n",
       "      <th>min</th>\n",
       "      <td>-0.091948</td>\n",
       "      <td>-0.085799</td>\n",
       "      <td>-0.737023</td>\n",
       "      <td>-0.737023</td>\n",
       "      <td>-0.037743</td>\n",
       "    </tr>\n",
       "    <tr>\n",
       "      <th>25%</th>\n",
       "      <td>-0.081819</td>\n",
       "      <td>-0.023021</td>\n",
       "      <td>-0.081819</td>\n",
       "      <td>-0.091948</td>\n",
       "      <td>-0.008650</td>\n",
       "    </tr>\n",
       "    <tr>\n",
       "      <th>50%</th>\n",
       "      <td>-0.023021</td>\n",
       "      <td>-0.008650</td>\n",
       "      <td>0.006753</td>\n",
       "      <td>-0.085799</td>\n",
       "      <td>0.006753</td>\n",
       "    </tr>\n",
       "    <tr>\n",
       "      <th>75%</th>\n",
       "      <td>0.579338</td>\n",
       "      <td>0.027076</td>\n",
       "      <td>0.027076</td>\n",
       "      <td>-0.037743</td>\n",
       "      <td>0.579338</td>\n",
       "    </tr>\n",
       "    <tr>\n",
       "      <th>max</th>\n",
       "      <td>1.000000</td>\n",
       "      <td>1.000000</td>\n",
       "      <td>1.000000</td>\n",
       "      <td>1.000000</td>\n",
       "      <td>1.000000</td>\n",
       "    </tr>\n",
       "  </tbody>\n",
       "</table>\n",
       "</div>"
      ],
      "text/plain": [
       "          delta      vega     gamma     theta       rho\n",
       "count  5.000000  5.000000  5.000000  5.000000  5.000000\n",
       "mean   0.276510  0.181921  0.042997  0.009497  0.307939\n",
       "std    0.492195  0.459136  0.620772  0.624498  0.464501\n",
       "min   -0.091948 -0.085799 -0.737023 -0.737023 -0.037743\n",
       "25%   -0.081819 -0.023021 -0.081819 -0.091948 -0.008650\n",
       "50%   -0.023021 -0.008650  0.006753 -0.085799  0.006753\n",
       "75%    0.579338  0.027076  0.027076 -0.037743  0.579338\n",
       "max    1.000000  1.000000  1.000000  1.000000  1.000000"
      ]
     },
     "execution_count": 18,
     "metadata": {},
     "output_type": "execute_result"
    }
   ],
   "source": [
    "data.describe()"
   ]
  },
  {
   "cell_type": "markdown",
   "id": "9acd5840-f48c-4642-bf6c-05e4aa898661",
   "metadata": {
    "id": "9acd5840-f48c-4642-bf6c-05e4aa898661"
   },
   "source": [
    "# Data Aggregation and Representation:"
   ]
  },
  {
   "cell_type": "code",
   "execution_count": 19,
   "id": "07ef402e-1335-4791-9cdc-94ba8e07e010",
   "metadata": {
    "colab": {
     "base_uri": "https://localhost:8080/",
     "height": 466
    },
    "id": "07ef402e-1335-4791-9cdc-94ba8e07e010",
    "outputId": "9aad4f1a-8a7e-4e8a-cdae-d576da80319a"
   },
   "outputs": [
    {
     "data": {
      "text/plain": [
       "<Axes: xlabel='delta', ylabel='Density'>"
      ]
     },
     "execution_count": 19,
     "metadata": {},
     "output_type": "execute_result"
    },
    {
     "data": {
      "image/png": "[encoded data removed]",
      "text/plain": [
       "<Figure size 640x480 with 1 Axes>"
      ]
     },
     "metadata": {},
     "output_type": "display_data"
    }
   ],
   "source": [
    "sns.distplot(df['delta'])"
   ]
  },
  {
   "cell_type": "code",
   "execution_count": 20,
   "id": "b7c77ccd-8569-4039-b131-af5a30236892",
   "metadata": {
    "colab": {
     "base_uri": "https://localhost:8080/",
     "height": 466
    },
    "id": "b7c77ccd-8569-4039-b131-af5a30236892",
    "outputId": "64cca8d6-10b8-4135-9c5f-719598ad3324"
   },
   "outputs": [
    {
     "data": {
      "text/plain": [
       "<Axes: xlabel='date', ylabel='Density'>"
      ]
     },
     "execution_count": 20,
     "metadata": {},
     "output_type": "execute_result"
    },
    {
     "data": {
      "image/png": "[encoded data removed]",
      "text/plain": [
       "<Figure size 640x480 with 1 Axes>"
      ]
     },
     "metadata": {},
     "output_type": "display_data"
    }
   ],
   "source": [
    "sns.distplot(df['date'])"
   ]
  },
  {
   "cell_type": "markdown",
   "id": "09eec756-7090-4104-a315-5d865ca2baed",
   "metadata": {
    "id": "09eec756-7090-4104-a315-5d865ca2baed"
   },
   "source": [
    "# Data Analysis:"
   ]
  },
  {
   "cell_type": "code",
   "execution_count": 21,
   "id": "08d024d6-1014-4b57-bc33-5cfe0c8ebe27",
   "metadata": {
    "id": "08d024d6-1014-4b57-bc33-5cfe0c8ebe27"
   },
   "outputs": [],
   "source": [
    "from sklearn.model_selection import train_test_split\n",
    "\n",
    "y = df[['delta']]\n",
    "x = df[['date']]\n",
    "\n",
    "xtrain, xtest, ytrain, ytest = train_test_split(x, y, test_size = 0.20, random_state = 0)"
   ]
  },
  {
   "cell_type": "code",
   "execution_count": 22,
   "id": "b0ca4d45-afc2-4b34-830d-1237859366cf",
   "metadata": {
    "colab": {
     "base_uri": "https://localhost:8080/"
    },
    "id": "b0ca4d45-afc2-4b34-830d-1237859366cf",
    "outputId": "eb8d777b-9cfd-4345-a059-99597058dc1b"
   },
   "outputs": [
    {
     "name": "stdout",
     "output_type": "stream",
     "text": [
      "        date\n",
      "53104   23.0\n",
      "193105   6.0\n",
      "69523   22.0\n",
      "120291  15.0\n",
      "18302   29.0\n",
      "...      ...\n",
      "176963   8.0\n",
      "117952  15.0\n",
      "173685   8.0\n",
      "43567   26.0\n",
      "199340   6.0\n",
      "\n",
      "[176836 rows x 1 columns]\n",
      "           delta\n",
      "53104   0.971003\n",
      "193105 -0.824327\n",
      "69523  -0.257895\n",
      "120291 -0.981371\n",
      "18302   0.938285\n",
      "...          ...\n",
      "176963 -0.370755\n",
      "117952  0.623994\n",
      "173685 -0.299404\n",
      "43567  -0.020342\n",
      "199340  0.926393\n",
      "\n",
      "[176836 rows x 1 columns]\n",
      "        date\n",
      "163307   9.0\n",
      "163436   9.0\n",
      "136640  13.0\n",
      "21844   28.0\n",
      "116872  15.0\n",
      "...      ...\n",
      "80232   21.0\n",
      "196997   6.0\n",
      "40028   27.0\n",
      "41714   27.0\n",
      "36842   27.0\n",
      "\n",
      "[44210 rows x 1 columns]\n",
      "           delta\n",
      "163307 -0.528427\n",
      "163436  0.978668\n",
      "136640  0.000000\n",
      "21844   0.000000\n",
      "116872  0.947865\n",
      "...          ...\n",
      "80232   0.750922\n",
      "196997 -0.059807\n",
      "40028   0.017778\n",
      "41714   0.160004\n",
      "36842   0.722277\n",
      "\n",
      "[44210 rows x 1 columns]\n"
     ]
    }
   ],
   "source": [
    "print(xtrain)\n",
    "print(ytrain)\n",
    "print(xtest)\n",
    "print(ytest)"
   ]
  },
  {
   "cell_type": "code",
   "execution_count": 23,
   "id": "akW3Jc_tc568",
   "metadata": {
    "id": "akW3Jc_tc568"
   },
   "outputs": [],
   "source": [
    "from sklearn.preprocessing import StandardScaler\n",
    "std=StandardScaler()"
   ]
  },
  {
   "cell_type": "code",
   "execution_count": 24,
   "id": "qZr8rhVEc9MP",
   "metadata": {
    "id": "qZr8rhVEc9MP"
   },
   "outputs": [],
   "source": [
    "x_train_std=std.fit_transform(xtrain)\n",
    "x_test_std=std.transform(xtest)"
   ]
  },
  {
   "cell_type": "code",
   "execution_count": 25,
   "id": "279c1734-2b5e-455b-87c2-686900a007f5",
   "metadata": {
    "colab": {
     "base_uri": "https://localhost:8080/",
     "height": 75
    },
    "id": "279c1734-2b5e-455b-87c2-686900a007f5",
    "outputId": "eec11fcf-1aec-486f-8d07-067563cb050b",
    "scrolled": true
   },
   "outputs": [
    {
     "data": {
      "text/html": [
       "<style>#sk-container-id-1 {color: black;}#sk-container-id-1 pre{padding: 0;}#sk-container-id-1 div.sk-toggleable {background-color: white;}#sk-container-id-1 label.sk-toggleable__label {cursor: pointer;display: block;width: 100%;margin-bottom: 0;padding: 0.3em;box-sizing: border-box;text-align: center;}#sk-container-id-1 label.sk-toggleable__label-arrow:before {content: \"▸\";float: left;margin-right: 0.25em;color: #696969;}#sk-container-id-1 label.sk-toggleable__label-arrow:hover:before {color: black;}#sk-container-id-1 div.sk-estimator:hover label.sk-toggleable__label-arrow:before {color: black;}#sk-container-id-1 div.sk-toggleable__content {max-height: 0;max-width: 0;overflow: hidden;text-align: left;background-color: #f0f8ff;}#sk-container-id-1 div.sk-toggleable__content pre {margin: 0.2em;color: black;border-radius: 0.25em;background-color: #f0f8ff;}#sk-container-id-1 input.sk-toggleable__control:checked~div.sk-toggleable__content {max-height: 200px;max-width: 100%;overflow: auto;}#sk-container-id-1 input.sk-toggleable__control:checked~label.sk-toggleable__label-arrow:before {content: \"▾\";}#sk-container-id-1 div.sk-estimator input.sk-toggleable__control:checked~label.sk-toggleable__label {background-color: #d4ebff;}#sk-container-id-1 div.sk-label input.sk-toggleable__control:checked~label.sk-toggleable__label {background-color: #d4ebff;}#sk-container-id-1 input.sk-hidden--visually {border: 0;clip: rect(1px 1px 1px 1px);clip: rect(1px, 1px, 1px, 1px);height: 1px;margin: -1px;overflow: hidden;padding: 0;position: absolute;width: 1px;}#sk-container-id-1 div.sk-estimator {font-family: monospace;background-color: #f0f8ff;border: 1px dotted black;border-radius: 0.25em;box-sizing: border-box;margin-bottom: 0.5em;}#sk-container-id-1 div.sk-estimator:hover {background-color: #d4ebff;}#sk-container-id-1 div.sk-parallel-item::after {content: \"\";width: 100%;border-bottom: 1px solid gray;flex-grow: 1;}#sk-container-id-1 div.sk-label:hover label.sk-toggleable__label {background-color: #d4ebff;}#sk-container-id-1 div.sk-serial::before {content: \"\";position: absolute;border-left: 1px solid gray;box-sizing: border-box;top: 0;bottom: 0;left: 50%;z-index: 0;}#sk-container-id-1 div.sk-serial {display: flex;flex-direction: column;align-items: center;background-color: white;padding-right: 0.2em;padding-left: 0.2em;position: relative;}#sk-container-id-1 div.sk-item {position: relative;z-index: 1;}#sk-container-id-1 div.sk-parallel {display: flex;align-items: stretch;justify-content: center;background-color: white;position: relative;}#sk-container-id-1 div.sk-item::before, #sk-container-id-1 div.sk-parallel-item::before {content: \"\";position: absolute;border-left: 1px solid gray;box-sizing: border-box;top: 0;bottom: 0;left: 50%;z-index: -1;}#sk-container-id-1 div.sk-parallel-item {display: flex;flex-direction: column;z-index: 1;position: relative;background-color: white;}#sk-container-id-1 div.sk-parallel-item:first-child::after {align-self: flex-end;width: 50%;}#sk-container-id-1 div.sk-parallel-item:last-child::after {align-self: flex-start;width: 50%;}#sk-container-id-1 div.sk-parallel-item:only-child::after {width: 0;}#sk-container-id-1 div.sk-dashed-wrapped {border: 1px dashed gray;margin: 0 0.4em 0.5em 0.4em;box-sizing: border-box;padding-bottom: 0.4em;background-color: white;}#sk-container-id-1 div.sk-label label {font-family: monospace;font-weight: bold;display: inline-block;line-height: 1.2em;}#sk-container-id-1 div.sk-label-container {text-align: center;}#sk-container-id-1 div.sk-container {/* jupyter's `normalize.less` sets `[hidden] { display: none; }` but bootstrap.min.css set `[hidden] { display: none !important; }` so we also need the `!important` here to be able to override the default hidden behavior on the sphinx rendered scikit-learn.org. See: https://github.com/scikit-learn/scikit-learn/issues/21755 */display: inline-block !important;position: relative;}#sk-container-id-1 div.sk-text-repr-fallback {display: none;}</style><div id=\"sk-container-id-1\" class=\"sk-top-container\"><div class=\"sk-text-repr-fallback\"><pre>LinearRegression()</pre><b>In a Jupyter environment, please rerun this cell to show the HTML representation or trust the notebook. <br />On GitHub, the HTML representation is unable to render, please try loading this page with nbviewer.org.</b></div><div class=\"sk-container\" hidden><div class=\"sk-item\"><div class=\"sk-estimator sk-toggleable\"><input class=\"sk-toggleable__control sk-hidden--visually\" id=\"sk-estimator-id-1\" type=\"checkbox\" checked><label for=\"sk-estimator-id-1\" class=\"sk-toggleable__label sk-toggleable__label-arrow\">LinearRegression</label><div class=\"sk-toggleable__content\"><pre>LinearRegression()</pre></div></div></div></div></div>"
      ],
      "text/plain": [
       "LinearRegression()"
      ]
     },
     "execution_count": 25,
     "metadata": {},
     "output_type": "execute_result"
    }
   ],
   "source": [
    "from sklearn.linear_model import LinearRegression\n",
    "\n",
    "reg = LinearRegression()\n",
    "reg.fit(x_train_std, ytrain)"
   ]
  },
  {
   "cell_type": "code",
   "execution_count": 26,
   "id": "c676748d-5475-4a25-960d-6508203e6cde",
   "metadata": {
    "colab": {
     "base_uri": "https://localhost:8080/"
    },
    "id": "c676748d-5475-4a25-960d-6508203e6cde",
    "outputId": "efe9dac2-efbb-42f5-eb6e-16e1609a3102",
    "scrolled": true
   },
   "outputs": [
    {
     "data": {
      "text/plain": [
       "array([[0.10757873],\n",
       "       [0.10757873],\n",
       "       [0.10492881],\n",
       "       ...,\n",
       "       [0.09565409],\n",
       "       [0.09565409],\n",
       "       [0.09565409]])"
      ]
     },
     "execution_count": 26,
     "metadata": {},
     "output_type": "execute_result"
    }
   ],
   "source": [
    "y_pred = reg.predict(x_test_std)\n",
    "y_pred"
   ]
  },
  {
   "cell_type": "code",
   "execution_count": 27,
   "id": "HqG3TVuaY1qP",
   "metadata": {
    "colab": {
     "base_uri": "https://localhost:8080/"
    },
    "id": "HqG3TVuaY1qP",
    "outputId": "db88001d-7c68-4b50-f9e5-ae29d9224143"
   },
   "outputs": [
    {
     "name": "stdout",
     "output_type": "stream",
     "text": [
      "(44210, 1) (44210, 1)\n"
     ]
    }
   ],
   "source": [
    "print(ytest.shape, y_pred.shape)"
   ]
  },
  {
   "cell_type": "code",
   "execution_count": 28,
   "id": "blzgwfwqZhnP",
   "metadata": {
    "colab": {
     "base_uri": "https://localhost:8080/"
    },
    "id": "blzgwfwqZhnP",
    "outputId": "0eb45021-8eff-4e0a-81ec-3a3c2e3a495e"
   },
   "outputs": [
    {
     "name": "stdout",
     "output_type": "stream",
     "text": [
      "<class 'pandas.core.frame.DataFrame'>\n",
      "Int64Index: 44210 entries, 163307 to 36842\n",
      "Data columns (total 1 columns):\n",
      " #   Column  Non-Null Count  Dtype  \n",
      "---  ------  --------------  -----  \n",
      " 0   delta   44210 non-null  float64\n",
      "dtypes: float64(1)\n",
      "memory usage: 690.8 KB\n"
     ]
    }
   ],
   "source": [
    "ytest.info()"
   ]
  },
  {
   "cell_type": "code",
   "execution_count": 29,
   "id": "_6a4sotWeKyR",
   "metadata": {
    "colab": {
     "base_uri": "https://localhost:8080/"
    },
    "id": "_6a4sotWeKyR",
    "outputId": "922a6dc7-e36b-406a-92cf-4a6cce26c7e8"
   },
   "outputs": [
    {
     "data": {
      "text/plain": [
       "0.00015445177035511293"
      ]
     },
     "execution_count": 29,
     "metadata": {},
     "output_type": "execute_result"
    }
   ],
   "source": [
    "from sklearn.metrics import r2_score\n",
    "r2_score(ytest, y_pred)"
   ]
  },
  {
   "cell_type": "code",
   "execution_count": 30,
   "id": "pqKilZRTe_17",
   "metadata": {
    "colab": {
     "base_uri": "https://localhost:8080/",
     "height": 524
    },
    "id": "pqKilZRTe_17",
    "outputId": "3867cdd6-b049-4cd3-b1ee-409b173899c6"
   },
   "outputs": [
    {
     "data": {
      "text/plain": [
       "Text(0, 0.5, 'y_pred')"
      ]
     },
     "execution_count": 30,
     "metadata": {},
     "output_type": "execute_result"
    },
    {
     "data": {
      "image/png": "[encoded data removed]",
      "text/plain": [
       "<Figure size 640x480 with 1 Axes>"
      ]
     },
     "metadata": {},
     "output_type": "display_data"
    }
   ],
   "source": [
    "fig = plt.figure()\n",
    "plt.scatter(ytest,y_pred)\n",
    "fig.suptitle('ytest vs y_pred', fontsize=20)              # Plot heading\n",
    "plt.xlabel('ytest', fontsize=18)                          # X-label\n",
    "plt.ylabel('y_pred', fontsize=16)"
   ]
  },
  {
   "cell_type": "code",
   "execution_count": 31,
   "id": "2uDjb5DhZKZd",
   "metadata": {
    "colab": {
     "base_uri": "https://localhost:8080/"
    },
    "id": "2uDjb5DhZKZd",
    "outputId": "c1092b12-3fb1-4e57-e1e1-b8a01dbc2c0d"
   },
   "outputs": [
    {
     "data": {
      "text/plain": [
       "0.00015445177035511293"
      ]
     },
     "execution_count": 31,
     "metadata": {},
     "output_type": "execute_result"
    }
   ],
   "source": [
    "reg.score(x_test_std,ytest)"
   ]
  },
  {
   "cell_type": "code",
   "execution_count": 32,
   "id": "cc577f13-1369-416d-9ab4-da3dc747aafa",
   "metadata": {
    "colab": {
     "base_uri": "https://localhost:8080/"
    },
    "id": "cc577f13-1369-416d-9ab4-da3dc747aafa",
    "outputId": "86fafc71-c2f9-47b2-ac27-27e35568cd63"
   },
   "outputs": [
    {
     "data": {
      "text/plain": [
       "-0.07120804450154361"
      ]
     },
     "execution_count": 32,
     "metadata": {},
     "output_type": "execute_result"
    }
   ],
   "source": [
    "# Predicting the 'delta' for 30th July 2021.\n",
    "reg.predict([[30]])[0][0]"
   ]
  },
  {
   "cell_type": "markdown",
   "id": "4412339b-9f45-4e3f-8695-e1385834fb49",
   "metadata": {
    "id": "4412339b-9f45-4e3f-8695-e1385834fb49"
   },
   "source": [
    "# Data Visualization:"
   ]
  },
  {
   "cell_type": "markdown",
   "id": "7ccd22e6-7c80-4914-b3b3-ff1188208068",
   "metadata": {
    "id": "7ccd22e6-7c80-4914-b3b3-ff1188208068"
   },
   "source": [
    "# Utilization of Analysis Results:"
   ]
  },
  {
   "cell_type": "code",
   "execution_count": 35,
   "id": "xC8A81B1gZ-a",
   "metadata": {
    "colab": {
     "base_uri": "https://localhost:8080/",
     "height": 391
    },
    "id": "xC8A81B1gZ-a",
    "outputId": "c5f01d85-4211-4216-a7bb-9e4f78895683"
   },
   "outputs": [
    {
     "data": {
      "text/plain": [
       "Text(0.5, 0, 'Errors')"
      ]
     },
     "execution_count": 35,
     "metadata": {},
     "output_type": "execute_result"
    },
    {
     "data": {
      "image/png": "[encoded data removed]",
      "text/plain": [
       "<Figure size 640x480 with 1 Axes>"
      ]
     },
     "metadata": {},
     "output_type": "display_data"
    }
   ],
   "source": [
    "fig = plt.figure()\n",
    "sns.distplot((ytrain['delta'] - y_train_price), bins = 20)\n",
    "fig.suptitle('Error Terms', fontsize = 20)                  # Plot heading\n",
    "plt.xlabel('Errors', fontsize = 18)"
   ]
  }
 ],
 "metadata": {
  "colab": {
   "provenance": []
  },
  "kernelspec": {
   "display_name": "Python 3 (ipykernel)",
   "language": "python",
   "name": "python3"
  },
  "language_info": {
   "codemirror_mode": {
    "name": "ipython",
    "version": 3
   },
   "file_extension": ".py",
   "mimetype": "text/x-python",
   "name": "python",
   "nbconvert_exporter": "python",
   "pygments_lexer": "ipython3",
   "version": "3.11.5"
  },
  "widgets": {
   "application/vnd.jupyter.widget-state+json": {
    "state": {},
    "version_major": 2,
    "version_minor": 0
   }
  }
 },
 "nbformat": 4,
 "nbformat_minor": 5
}
