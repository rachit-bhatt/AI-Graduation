{
 "cells": [
  {
   "cell_type": "markdown",
   "id": "fe8e5ee4",
   "metadata": {},
   "source": [
    "# Importing the Libraries"
   ]
  },
  {
   "cell_type": "code",
   "execution_count": 1,
   "id": "2d5c7b98",
   "metadata": {},
   "outputs": [],
   "source": [
    "import pandas as pd\n",
    "import numpy as np\n",
    "import seaborn as sns\n",
    "import matplotlib.pyplot as plt"
   ]
  },
  {
   "cell_type": "markdown",
   "id": "434c8571",
   "metadata": {},
   "source": [
    "# Data Extraction\n",
    "*Reading the data from a csv file*"
   ]
  },
  {
   "cell_type": "code",
   "execution_count": 3,
   "id": "8631202e",
   "metadata": {},
   "outputs": [],
   "source": [
    "data = pd.read_csv('dataset.csv')"
   ]
  },
  {
   "cell_type": "markdown",
   "id": "0fbac7e1",
   "metadata": {},
   "source": [
    "*Looking at the first five rows of the dataset*"
   ]
  },
  {
   "cell_type": "code",
   "execution_count": 6,
   "id": "a01e368c",
   "metadata": {},
   "outputs": [
    {
     "data": {
      "text/html": [
       "<div>\n",
       "<style scoped>\n",
       "    .dataframe tbody tr th:only-of-type {\n",
       "        vertical-align: middle;\n",
       "    }\n",
       "\n",
       "    .dataframe tbody tr th {\n",
       "        vertical-align: top;\n",
       "    }\n",
       "\n",
       "    .dataframe thead th {\n",
       "        text-align: right;\n",
       "    }\n",
       "</style>\n",
       "<table border=\"1\" class=\"dataframe\">\n",
       "  <thead>\n",
       "    <tr style=\"text-align: right;\">\n",
       "      <th></th>\n",
       "      <th>symbol</th>\n",
       "      <th>exchange</th>\n",
       "      <th>date</th>\n",
       "      <th>adjusted close</th>\n",
       "      <th>option symbol</th>\n",
       "      <th>expiration</th>\n",
       "      <th>strike</th>\n",
       "      <th>call/put</th>\n",
       "      <th>style</th>\n",
       "      <th>ask</th>\n",
       "      <th>...</th>\n",
       "      <th>iv</th>\n",
       "      <th>volume</th>\n",
       "      <th>open interest</th>\n",
       "      <th>stock price for iv</th>\n",
       "      <th>*</th>\n",
       "      <th>delta</th>\n",
       "      <th>vega</th>\n",
       "      <th>gamma</th>\n",
       "      <th>theta</th>\n",
       "      <th>rho</th>\n",
       "    </tr>\n",
       "  </thead>\n",
       "  <tbody>\n",
       "    <tr>\n",
       "      <th>0</th>\n",
       "      <td>SPY</td>\n",
       "      <td>NYSEArca</td>\n",
       "      <td>07/30/2021</td>\n",
       "      <td>438.51</td>\n",
       "      <td>SPY   210730C00215000</td>\n",
       "      <td>07/30/2021</td>\n",
       "      <td>215.0</td>\n",
       "      <td>C</td>\n",
       "      <td>A</td>\n",
       "      <td>224.56</td>\n",
       "      <td>...</td>\n",
       "      <td>-1.0</td>\n",
       "      <td>0</td>\n",
       "      <td>0</td>\n",
       "      <td>438.97</td>\n",
       "      <td>NaN</td>\n",
       "      <td>0.0</td>\n",
       "      <td>0.0</td>\n",
       "      <td>0.0</td>\n",
       "      <td>0.0</td>\n",
       "      <td>0.0</td>\n",
       "    </tr>\n",
       "    <tr>\n",
       "      <th>1</th>\n",
       "      <td>SPY</td>\n",
       "      <td>NYSEArca</td>\n",
       "      <td>07/30/2021</td>\n",
       "      <td>438.51</td>\n",
       "      <td>SPY   210730P00215000</td>\n",
       "      <td>07/30/2021</td>\n",
       "      <td>215.0</td>\n",
       "      <td>P</td>\n",
       "      <td>A</td>\n",
       "      <td>0.01</td>\n",
       "      <td>...</td>\n",
       "      <td>-1.0</td>\n",
       "      <td>0</td>\n",
       "      <td>1401</td>\n",
       "      <td>438.97</td>\n",
       "      <td>NaN</td>\n",
       "      <td>0.0</td>\n",
       "      <td>0.0</td>\n",
       "      <td>0.0</td>\n",
       "      <td>0.0</td>\n",
       "      <td>0.0</td>\n",
       "    </tr>\n",
       "    <tr>\n",
       "      <th>2</th>\n",
       "      <td>SPY</td>\n",
       "      <td>NYSEArca</td>\n",
       "      <td>07/30/2021</td>\n",
       "      <td>438.51</td>\n",
       "      <td>SPY   210730C00220000</td>\n",
       "      <td>07/30/2021</td>\n",
       "      <td>220.0</td>\n",
       "      <td>C</td>\n",
       "      <td>A</td>\n",
       "      <td>219.56</td>\n",
       "      <td>...</td>\n",
       "      <td>-1.0</td>\n",
       "      <td>0</td>\n",
       "      <td>1</td>\n",
       "      <td>438.97</td>\n",
       "      <td>NaN</td>\n",
       "      <td>0.0</td>\n",
       "      <td>0.0</td>\n",
       "      <td>0.0</td>\n",
       "      <td>0.0</td>\n",
       "      <td>0.0</td>\n",
       "    </tr>\n",
       "    <tr>\n",
       "      <th>3</th>\n",
       "      <td>SPY</td>\n",
       "      <td>NYSEArca</td>\n",
       "      <td>07/30/2021</td>\n",
       "      <td>438.51</td>\n",
       "      <td>SPY   210730P00220000</td>\n",
       "      <td>07/30/2021</td>\n",
       "      <td>220.0</td>\n",
       "      <td>P</td>\n",
       "      <td>A</td>\n",
       "      <td>0.01</td>\n",
       "      <td>...</td>\n",
       "      <td>-1.0</td>\n",
       "      <td>50</td>\n",
       "      <td>328</td>\n",
       "      <td>438.97</td>\n",
       "      <td>NaN</td>\n",
       "      <td>0.0</td>\n",
       "      <td>0.0</td>\n",
       "      <td>0.0</td>\n",
       "      <td>0.0</td>\n",
       "      <td>0.0</td>\n",
       "    </tr>\n",
       "    <tr>\n",
       "      <th>4</th>\n",
       "      <td>SPY</td>\n",
       "      <td>NYSEArca</td>\n",
       "      <td>07/30/2021</td>\n",
       "      <td>438.51</td>\n",
       "      <td>SPY   210730C00225000</td>\n",
       "      <td>07/30/2021</td>\n",
       "      <td>225.0</td>\n",
       "      <td>C</td>\n",
       "      <td>A</td>\n",
       "      <td>214.56</td>\n",
       "      <td>...</td>\n",
       "      <td>-1.0</td>\n",
       "      <td>0</td>\n",
       "      <td>0</td>\n",
       "      <td>438.97</td>\n",
       "      <td>NaN</td>\n",
       "      <td>0.0</td>\n",
       "      <td>0.0</td>\n",
       "      <td>0.0</td>\n",
       "      <td>0.0</td>\n",
       "      <td>0.0</td>\n",
       "    </tr>\n",
       "  </tbody>\n",
       "</table>\n",
       "<p>5 rows × 22 columns</p>\n",
       "</div>"
      ],
      "text/plain": [
       "  symbol  exchange        date  adjusted close          option symbol  \\\n",
       "0    SPY  NYSEArca  07/30/2021          438.51  SPY   210730C00215000   \n",
       "1    SPY  NYSEArca  07/30/2021          438.51  SPY   210730P00215000   \n",
       "2    SPY  NYSEArca  07/30/2021          438.51  SPY   210730C00220000   \n",
       "3    SPY  NYSEArca  07/30/2021          438.51  SPY   210730P00220000   \n",
       "4    SPY  NYSEArca  07/30/2021          438.51  SPY   210730C00225000   \n",
       "\n",
       "   expiration  strike call/put style     ask  ...   iv  volume  open interest  \\\n",
       "0  07/30/2021   215.0        C     A  224.56  ... -1.0       0              0   \n",
       "1  07/30/2021   215.0        P     A    0.01  ... -1.0       0           1401   \n",
       "2  07/30/2021   220.0        C     A  219.56  ... -1.0       0              1   \n",
       "3  07/30/2021   220.0        P     A    0.01  ... -1.0      50            328   \n",
       "4  07/30/2021   225.0        C     A  214.56  ... -1.0       0              0   \n",
       "\n",
       "   stock price for iv    *  delta vega  gamma  theta  rho  \n",
       "0              438.97  NaN    0.0  0.0    0.0    0.0  0.0  \n",
       "1              438.97  NaN    0.0  0.0    0.0    0.0  0.0  \n",
       "2              438.97  NaN    0.0  0.0    0.0    0.0  0.0  \n",
       "3              438.97  NaN    0.0  0.0    0.0    0.0  0.0  \n",
       "4              438.97  NaN    0.0  0.0    0.0    0.0  0.0  \n",
       "\n",
       "[5 rows x 22 columns]"
      ]
     },
     "execution_count": 6,
     "metadata": {},
     "output_type": "execute_result"
    }
   ],
   "source": [
    "data.head()"
   ]
  },
  {
   "cell_type": "markdown",
   "id": "54cd6123",
   "metadata": {},
   "source": [
    "*Looking at the last five rows of the dataset*"
   ]
  },
  {
   "cell_type": "code",
   "execution_count": 7,
   "id": "ab2ac96e",
   "metadata": {
    "scrolled": true
   },
   "outputs": [
    {
     "data": {
      "text/html": [
       "<div>\n",
       "<style scoped>\n",
       "    .dataframe tbody tr th:only-of-type {\n",
       "        vertical-align: middle;\n",
       "    }\n",
       "\n",
       "    .dataframe tbody tr th {\n",
       "        vertical-align: top;\n",
       "    }\n",
       "\n",
       "    .dataframe thead th {\n",
       "        text-align: right;\n",
       "    }\n",
       "</style>\n",
       "<table border=\"1\" class=\"dataframe\">\n",
       "  <thead>\n",
       "    <tr style=\"text-align: right;\">\n",
       "      <th></th>\n",
       "      <th>symbol</th>\n",
       "      <th>exchange</th>\n",
       "      <th>date</th>\n",
       "      <th>adjusted close</th>\n",
       "      <th>option symbol</th>\n",
       "      <th>expiration</th>\n",
       "      <th>strike</th>\n",
       "      <th>call/put</th>\n",
       "      <th>style</th>\n",
       "      <th>ask</th>\n",
       "      <th>...</th>\n",
       "      <th>iv</th>\n",
       "      <th>volume</th>\n",
       "      <th>open interest</th>\n",
       "      <th>stock price for iv</th>\n",
       "      <th>*</th>\n",
       "      <th>delta</th>\n",
       "      <th>vega</th>\n",
       "      <th>gamma</th>\n",
       "      <th>theta</th>\n",
       "      <th>rho</th>\n",
       "    </tr>\n",
       "  </thead>\n",
       "  <tbody>\n",
       "    <tr>\n",
       "      <th>221041</th>\n",
       "      <td>SPY</td>\n",
       "      <td>NYSEArca</td>\n",
       "      <td>07/01/2021</td>\n",
       "      <td>430.43</td>\n",
       "      <td>SPY   231215P00630000</td>\n",
       "      <td>12/15/2023</td>\n",
       "      <td>630.0</td>\n",
       "      <td>P</td>\n",
       "      <td>A</td>\n",
       "      <td>206.50</td>\n",
       "      <td>...</td>\n",
       "      <td>0.148305</td>\n",
       "      <td>0</td>\n",
       "      <td>1</td>\n",
       "      <td>430.26</td>\n",
       "      <td>*</td>\n",
       "      <td>-0.924500</td>\n",
       "      <td>0.750370</td>\n",
       "      <td>0.001112</td>\n",
       "      <td>-0.011128</td>\n",
       "      <td>-14.857175</td>\n",
       "    </tr>\n",
       "    <tr>\n",
       "      <th>221042</th>\n",
       "      <td>SPY</td>\n",
       "      <td>NYSEArca</td>\n",
       "      <td>07/01/2021</td>\n",
       "      <td>430.43</td>\n",
       "      <td>SPY   231215C00635000</td>\n",
       "      <td>12/15/2023</td>\n",
       "      <td>635.0</td>\n",
       "      <td>C</td>\n",
       "      <td>A</td>\n",
       "      <td>2.20</td>\n",
       "      <td>...</td>\n",
       "      <td>0.148310</td>\n",
       "      <td>0</td>\n",
       "      <td>146</td>\n",
       "      <td>430.26</td>\n",
       "      <td>NaN</td>\n",
       "      <td>0.051628</td>\n",
       "      <td>0.710649</td>\n",
       "      <td>0.001053</td>\n",
       "      <td>-0.005507</td>\n",
       "      <td>0.496773</td>\n",
       "    </tr>\n",
       "    <tr>\n",
       "      <th>221043</th>\n",
       "      <td>SPY</td>\n",
       "      <td>NYSEArca</td>\n",
       "      <td>07/01/2021</td>\n",
       "      <td>430.43</td>\n",
       "      <td>SPY   231215P00635000</td>\n",
       "      <td>12/15/2023</td>\n",
       "      <td>635.0</td>\n",
       "      <td>P</td>\n",
       "      <td>A</td>\n",
       "      <td>211.50</td>\n",
       "      <td>...</td>\n",
       "      <td>0.148310</td>\n",
       "      <td>0</td>\n",
       "      <td>0</td>\n",
       "      <td>430.26</td>\n",
       "      <td>*</td>\n",
       "      <td>-0.928176</td>\n",
       "      <td>0.710649</td>\n",
       "      <td>0.001053</td>\n",
       "      <td>-0.010792</td>\n",
       "      <td>-15.014119</td>\n",
       "    </tr>\n",
       "    <tr>\n",
       "      <th>221044</th>\n",
       "      <td>SPY</td>\n",
       "      <td>NYSEArca</td>\n",
       "      <td>07/01/2021</td>\n",
       "      <td>430.43</td>\n",
       "      <td>SPY   231215C00640000</td>\n",
       "      <td>12/15/2023</td>\n",
       "      <td>640.0</td>\n",
       "      <td>C</td>\n",
       "      <td>A</td>\n",
       "      <td>2.73</td>\n",
       "      <td>...</td>\n",
       "      <td>0.148310</td>\n",
       "      <td>5</td>\n",
       "      <td>1</td>\n",
       "      <td>430.26</td>\n",
       "      <td>*</td>\n",
       "      <td>0.048170</td>\n",
       "      <td>0.672488</td>\n",
       "      <td>0.000997</td>\n",
       "      <td>-0.005217</td>\n",
       "      <td>0.463973</td>\n",
       "    </tr>\n",
       "    <tr>\n",
       "      <th>221045</th>\n",
       "      <td>SPY</td>\n",
       "      <td>NYSEArca</td>\n",
       "      <td>07/01/2021</td>\n",
       "      <td>430.43</td>\n",
       "      <td>SPY   231215P00640000</td>\n",
       "      <td>12/15/2023</td>\n",
       "      <td>640.0</td>\n",
       "      <td>P</td>\n",
       "      <td>A</td>\n",
       "      <td>216.50</td>\n",
       "      <td>...</td>\n",
       "      <td>0.148310</td>\n",
       "      <td>0</td>\n",
       "      <td>0</td>\n",
       "      <td>430.26</td>\n",
       "      <td>*</td>\n",
       "      <td>-0.931634</td>\n",
       "      <td>0.672488</td>\n",
       "      <td>0.000997</td>\n",
       "      <td>-0.010467</td>\n",
       "      <td>-15.169052</td>\n",
       "    </tr>\n",
       "  </tbody>\n",
       "</table>\n",
       "<p>5 rows × 22 columns</p>\n",
       "</div>"
      ],
      "text/plain": [
       "       symbol  exchange        date  adjusted close          option symbol  \\\n",
       "221041    SPY  NYSEArca  07/01/2021          430.43  SPY   231215P00630000   \n",
       "221042    SPY  NYSEArca  07/01/2021          430.43  SPY   231215C00635000   \n",
       "221043    SPY  NYSEArca  07/01/2021          430.43  SPY   231215P00635000   \n",
       "221044    SPY  NYSEArca  07/01/2021          430.43  SPY   231215C00640000   \n",
       "221045    SPY  NYSEArca  07/01/2021          430.43  SPY   231215P00640000   \n",
       "\n",
       "        expiration  strike call/put style     ask  ...        iv  volume  \\\n",
       "221041  12/15/2023   630.0        P     A  206.50  ...  0.148305       0   \n",
       "221042  12/15/2023   635.0        C     A    2.20  ...  0.148310       0   \n",
       "221043  12/15/2023   635.0        P     A  211.50  ...  0.148310       0   \n",
       "221044  12/15/2023   640.0        C     A    2.73  ...  0.148310       5   \n",
       "221045  12/15/2023   640.0        P     A  216.50  ...  0.148310       0   \n",
       "\n",
       "        open interest  stock price for iv    *     delta      vega     gamma  \\\n",
       "221041              1              430.26    * -0.924500  0.750370  0.001112   \n",
       "221042            146              430.26  NaN  0.051628  0.710649  0.001053   \n",
       "221043              0              430.26    * -0.928176  0.710649  0.001053   \n",
       "221044              1              430.26    *  0.048170  0.672488  0.000997   \n",
       "221045              0              430.26    * -0.931634  0.672488  0.000997   \n",
       "\n",
       "           theta        rho  \n",
       "221041 -0.011128 -14.857175  \n",
       "221042 -0.005507   0.496773  \n",
       "221043 -0.010792 -15.014119  \n",
       "221044 -0.005217   0.463973  \n",
       "221045 -0.010467 -15.169052  \n",
       "\n",
       "[5 rows x 22 columns]"
      ]
     },
     "execution_count": 7,
     "metadata": {},
     "output_type": "execute_result"
    }
   ],
   "source": [
    "data.tail()"
   ]
  },
  {
   "cell_type": "markdown",
   "id": "6f62ef81",
   "metadata": {},
   "source": [
    "# Data Validation and Cleansing"
   ]
  },
  {
   "cell_type": "markdown",
   "id": "0108a05a",
   "metadata": {},
   "source": [
    "*All the columns of our dataset*"
   ]
  },
  {
   "cell_type": "code",
   "execution_count": 8,
   "id": "35546af5",
   "metadata": {
    "scrolled": true
   },
   "outputs": [
    {
     "data": {
      "text/plain": [
       "Index(['symbol', 'exchange', 'date', 'adjusted close', 'option symbol',\n",
       "       'expiration', 'strike', 'call/put', 'style', 'ask', 'bid', 'mean price',\n",
       "       'iv', 'volume', 'open interest', 'stock price for iv', '*', 'delta',\n",
       "       'vega', 'gamma', 'theta', 'rho'],\n",
       "      dtype='object')"
      ]
     },
     "execution_count": 8,
     "metadata": {},
     "output_type": "execute_result"
    }
   ],
   "source": [
    "data.columns"
   ]
  },
  {
   "cell_type": "markdown",
   "id": "9a2d04ab",
   "metadata": {},
   "source": [
    "*No.of rows and columns in our dataset*"
   ]
  },
  {
   "cell_type": "code",
   "execution_count": 9,
   "id": "ecbaaff0",
   "metadata": {
    "scrolled": true
   },
   "outputs": [
    {
     "data": {
      "text/plain": [
       "(221046, 22)"
      ]
     },
     "execution_count": 9,
     "metadata": {},
     "output_type": "execute_result"
    }
   ],
   "source": [
    "data.shape"
   ]
  },
  {
   "cell_type": "markdown",
   "id": "cebbe9f1",
   "metadata": {},
   "source": [
    "*Generating descriptive statistics to summarize central tendency,dispersion,shape of the dataset*"
   ]
  },
  {
   "cell_type": "code",
   "execution_count": 10,
   "id": "20f3d12e",
   "metadata": {},
   "outputs": [
    {
     "data": {
      "text/html": [
       "<div>\n",
       "<style scoped>\n",
       "    .dataframe tbody tr th:only-of-type {\n",
       "        vertical-align: middle;\n",
       "    }\n",
       "\n",
       "    .dataframe tbody tr th {\n",
       "        vertical-align: top;\n",
       "    }\n",
       "\n",
       "    .dataframe thead th {\n",
       "        text-align: right;\n",
       "    }\n",
       "</style>\n",
       "<table border=\"1\" class=\"dataframe\">\n",
       "  <thead>\n",
       "    <tr style=\"text-align: right;\">\n",
       "      <th></th>\n",
       "      <th>adjusted close</th>\n",
       "      <th>strike</th>\n",
       "      <th>ask</th>\n",
       "      <th>bid</th>\n",
       "      <th>mean price</th>\n",
       "      <th>iv</th>\n",
       "      <th>volume</th>\n",
       "      <th>open interest</th>\n",
       "      <th>stock price for iv</th>\n",
       "      <th>delta</th>\n",
       "      <th>vega</th>\n",
       "      <th>gamma</th>\n",
       "      <th>theta</th>\n",
       "      <th>rho</th>\n",
       "    </tr>\n",
       "  </thead>\n",
       "  <tbody>\n",
       "    <tr>\n",
       "      <th>count</th>\n",
       "      <td>221046.000000</td>\n",
       "      <td>221046.000000</td>\n",
       "      <td>221046.000000</td>\n",
       "      <td>221046.000000</td>\n",
       "      <td>221046.000000</td>\n",
       "      <td>221046.000000</td>\n",
       "      <td>221046.000000</td>\n",
       "      <td>221046.000000</td>\n",
       "      <td>221046.000000</td>\n",
       "      <td>221046.000000</td>\n",
       "      <td>221046.000000</td>\n",
       "      <td>221046.000000</td>\n",
       "      <td>221046.000000</td>\n",
       "      <td>221046.000000</td>\n",
       "    </tr>\n",
       "    <tr>\n",
       "      <th>mean</th>\n",
       "      <td>435.089149</td>\n",
       "      <td>398.702076</td>\n",
       "      <td>41.667365</td>\n",
       "      <td>40.967420</td>\n",
       "      <td>41.315752</td>\n",
       "      <td>0.234593</td>\n",
       "      <td>405.715661</td>\n",
       "      <td>1660.743542</td>\n",
       "      <td>434.966436</td>\n",
       "      <td>0.102498</td>\n",
       "      <td>0.503011</td>\n",
       "      <td>0.005594</td>\n",
       "      <td>-0.042474</td>\n",
       "      <td>-0.067521</td>\n",
       "    </tr>\n",
       "    <tr>\n",
       "      <th>std</th>\n",
       "      <td>3.863763</td>\n",
       "      <td>93.725546</td>\n",
       "      <td>60.504762</td>\n",
       "      <td>59.876656</td>\n",
       "      <td>60.189057</td>\n",
       "      <td>0.225324</td>\n",
       "      <td>5100.355521</td>\n",
       "      <td>6040.663628</td>\n",
       "      <td>3.837734</td>\n",
       "      <td>0.614277</td>\n",
       "      <td>0.544469</td>\n",
       "      <td>0.009183</td>\n",
       "      <td>0.040318</td>\n",
       "      <td>1.726706</td>\n",
       "    </tr>\n",
       "    <tr>\n",
       "      <th>min</th>\n",
       "      <td>424.970000</td>\n",
       "      <td>25.000000</td>\n",
       "      <td>0.010000</td>\n",
       "      <td>0.000000</td>\n",
       "      <td>0.000000</td>\n",
       "      <td>-1.000000</td>\n",
       "      <td>0.000000</td>\n",
       "      <td>0.000000</td>\n",
       "      <td>425.020000</td>\n",
       "      <td>-1.000000</td>\n",
       "      <td>0.000000</td>\n",
       "      <td>0.000000</td>\n",
       "      <td>-0.779877</td>\n",
       "      <td>-15.741297</td>\n",
       "    </tr>\n",
       "    <tr>\n",
       "      <th>25%</th>\n",
       "      <td>432.930000</td>\n",
       "      <td>349.000000</td>\n",
       "      <td>1.660000</td>\n",
       "      <td>1.500000</td>\n",
       "      <td>1.600000</td>\n",
       "      <td>0.139646</td>\n",
       "      <td>0.000000</td>\n",
       "      <td>1.000000</td>\n",
       "      <td>432.520000</td>\n",
       "      <td>-0.240680</td>\n",
       "      <td>0.061539</td>\n",
       "      <td>0.000718</td>\n",
       "      <td>-0.056856</td>\n",
       "      <td>-0.143418</td>\n",
       "    </tr>\n",
       "    <tr>\n",
       "      <th>50%</th>\n",
       "      <td>435.460000</td>\n",
       "      <td>411.000000</td>\n",
       "      <td>15.910000</td>\n",
       "      <td>15.440000</td>\n",
       "      <td>15.650000</td>\n",
       "      <td>0.206940</td>\n",
       "      <td>0.000000</td>\n",
       "      <td>100.000000</td>\n",
       "      <td>435.440000</td>\n",
       "      <td>0.000000</td>\n",
       "      <td>0.293737</td>\n",
       "      <td>0.002824</td>\n",
       "      <td>-0.035767</td>\n",
       "      <td>0.000000</td>\n",
       "    </tr>\n",
       "    <tr>\n",
       "      <th>75%</th>\n",
       "      <td>438.510000</td>\n",
       "      <td>454.000000</td>\n",
       "      <td>52.550000</td>\n",
       "      <td>51.550000</td>\n",
       "      <td>52.040000</td>\n",
       "      <td>0.306208</td>\n",
       "      <td>19.000000</td>\n",
       "      <td>918.000000</td>\n",
       "      <td>438.140000</td>\n",
       "      <td>0.731058</td>\n",
       "      <td>0.817714</td>\n",
       "      <td>0.006464</td>\n",
       "      <td>-0.014486</td>\n",
       "      <td>0.334990</td>\n",
       "    </tr>\n",
       "    <tr>\n",
       "      <th>max</th>\n",
       "      <td>441.020000</td>\n",
       "      <td>655.000000</td>\n",
       "      <td>416.890000</td>\n",
       "      <td>415.230000</td>\n",
       "      <td>416.060000</td>\n",
       "      <td>1.805012</td>\n",
       "      <td>446333.000000</td>\n",
       "      <td>169905.000000</td>\n",
       "      <td>441.050000</td>\n",
       "      <td>1.000000</td>\n",
       "      <td>2.674587</td>\n",
       "      <td>0.185555</td>\n",
       "      <td>0.000000</td>\n",
       "      <td>5.584008</td>\n",
       "    </tr>\n",
       "  </tbody>\n",
       "</table>\n",
       "</div>"
      ],
      "text/plain": [
       "       adjusted close         strike            ask            bid  \\\n",
       "count   221046.000000  221046.000000  221046.000000  221046.000000   \n",
       "mean       435.089149     398.702076      41.667365      40.967420   \n",
       "std          3.863763      93.725546      60.504762      59.876656   \n",
       "min        424.970000      25.000000       0.010000       0.000000   \n",
       "25%        432.930000     349.000000       1.660000       1.500000   \n",
       "50%        435.460000     411.000000      15.910000      15.440000   \n",
       "75%        438.510000     454.000000      52.550000      51.550000   \n",
       "max        441.020000     655.000000     416.890000     415.230000   \n",
       "\n",
       "          mean price             iv         volume  open interest  \\\n",
       "count  221046.000000  221046.000000  221046.000000  221046.000000   \n",
       "mean       41.315752       0.234593     405.715661    1660.743542   \n",
       "std        60.189057       0.225324    5100.355521    6040.663628   \n",
       "min         0.000000      -1.000000       0.000000       0.000000   \n",
       "25%         1.600000       0.139646       0.000000       1.000000   \n",
       "50%        15.650000       0.206940       0.000000     100.000000   \n",
       "75%        52.040000       0.306208      19.000000     918.000000   \n",
       "max       416.060000       1.805012  446333.000000  169905.000000   \n",
       "\n",
       "       stock price for iv          delta           vega          gamma  \\\n",
       "count       221046.000000  221046.000000  221046.000000  221046.000000   \n",
       "mean           434.966436       0.102498       0.503011       0.005594   \n",
       "std              3.837734       0.614277       0.544469       0.009183   \n",
       "min            425.020000      -1.000000       0.000000       0.000000   \n",
       "25%            432.520000      -0.240680       0.061539       0.000718   \n",
       "50%            435.440000       0.000000       0.293737       0.002824   \n",
       "75%            438.140000       0.731058       0.817714       0.006464   \n",
       "max            441.050000       1.000000       2.674587       0.185555   \n",
       "\n",
       "               theta            rho  \n",
       "count  221046.000000  221046.000000  \n",
       "mean       -0.042474      -0.067521  \n",
       "std         0.040318       1.726706  \n",
       "min        -0.779877     -15.741297  \n",
       "25%        -0.056856      -0.143418  \n",
       "50%        -0.035767       0.000000  \n",
       "75%        -0.014486       0.334990  \n",
       "max         0.000000       5.584008  "
      ]
     },
     "execution_count": 10,
     "metadata": {},
     "output_type": "execute_result"
    }
   ],
   "source": [
    "data.describe()"
   ]
  },
  {
   "cell_type": "markdown",
   "id": "aeb017aa",
   "metadata": {},
   "source": [
    "*Representing the missing values in the Dataset*"
   ]
  },
  {
   "cell_type": "code",
   "execution_count": 11,
   "id": "9b5ded97",
   "metadata": {},
   "outputs": [
    {
     "data": {
      "text/plain": [
       "symbol                     0\n",
       "exchange                   0\n",
       "date                       0\n",
       "adjusted close             0\n",
       "option symbol              0\n",
       "expiration                 0\n",
       "strike                     0\n",
       "call/put                   0\n",
       "style                      0\n",
       "ask                        0\n",
       "bid                        0\n",
       "mean price                 0\n",
       "iv                         0\n",
       "volume                     0\n",
       "open interest              0\n",
       "stock price for iv         0\n",
       "*                     192007\n",
       "delta                      0\n",
       "vega                       0\n",
       "gamma                      0\n",
       "theta                      0\n",
       "rho                        0\n",
       "dtype: int64"
      ]
     },
     "execution_count": 11,
     "metadata": {},
     "output_type": "execute_result"
    }
   ],
   "source": [
    "data.isnull().sum()"
   ]
  },
  {
   "cell_type": "markdown",
   "id": "965522aa",
   "metadata": {},
   "source": [
    "*Finding the unique values for each columns*"
   ]
  },
  {
   "cell_type": "code",
   "execution_count": 10,
   "id": "00185500",
   "metadata": {},
   "outputs": [
    {
     "data": {
      "text/plain": [
       "symbol                     1\n",
       "exchange                   1\n",
       "date                      21\n",
       "adjusted close            21\n",
       "option symbol          13960\n",
       "expiration                48\n",
       "strike                   312\n",
       "call/put                   2\n",
       "style                      1\n",
       "ask                    22926\n",
       "bid                    22611\n",
       "mean price             36172\n",
       "iv                    146910\n",
       "volume                  6205\n",
       "open interest          14825\n",
       "stock price for iv        21\n",
       "*                          1\n",
       "delta                 182814\n",
       "vega                  179397\n",
       "gamma                  28374\n",
       "theta                  91796\n",
       "rho                   183742\n",
       "dtype: int64"
      ]
     },
     "execution_count": 10,
     "metadata": {},
     "output_type": "execute_result"
    }
   ],
   "source": [
    "data.nunique()"
   ]
  },
  {
   "cell_type": "markdown",
   "id": "603e8af0",
   "metadata": {},
   "source": [
    "*Dropping some of the rows and columns*"
   ]
  },
  {
   "cell_type": "code",
   "execution_count": 4,
   "id": "4ea3af93",
   "metadata": {},
   "outputs": [],
   "source": [
    "data=data.drop(['symbol', 'exchange','option symbol','*','style'], axis=1)\n"
   ]
  },
  {
   "cell_type": "markdown",
   "id": "9810070d",
   "metadata": {},
   "source": [
    "*Fetching the Data until 29th date.*"
   ]
  },
  {
   "cell_type": "code",
   "execution_count": 5,
   "id": "112aae83",
   "metadata": {
    "scrolled": true
   },
   "outputs": [
    {
     "data": {
      "text/html": [
       "<div>\n",
       "<style scoped>\n",
       "    .dataframe tbody tr th:only-of-type {\n",
       "        vertical-align: middle;\n",
       "    }\n",
       "\n",
       "    .dataframe tbody tr th {\n",
       "        vertical-align: top;\n",
       "    }\n",
       "\n",
       "    .dataframe thead th {\n",
       "        text-align: right;\n",
       "    }\n",
       "</style>\n",
       "<table border=\"1\" class=\"dataframe\">\n",
       "  <thead>\n",
       "    <tr style=\"text-align: right;\">\n",
       "      <th></th>\n",
       "      <th>date</th>\n",
       "      <th>adjusted close</th>\n",
       "      <th>expiration</th>\n",
       "      <th>strike</th>\n",
       "      <th>call/put</th>\n",
       "      <th>ask</th>\n",
       "      <th>bid</th>\n",
       "      <th>mean price</th>\n",
       "      <th>iv</th>\n",
       "      <th>volume</th>\n",
       "      <th>open interest</th>\n",
       "      <th>stockPrice</th>\n",
       "      <th>delta</th>\n",
       "      <th>vega</th>\n",
       "      <th>gamma</th>\n",
       "      <th>theta</th>\n",
       "      <th>rho</th>\n",
       "    </tr>\n",
       "  </thead>\n",
       "  <tbody>\n",
       "    <tr>\n",
       "      <th>10726</th>\n",
       "      <td>2021-07-29</td>\n",
       "      <td>440.65</td>\n",
       "      <td>07/30/2021</td>\n",
       "      <td>215.0</td>\n",
       "      <td>C</td>\n",
       "      <td>225.46</td>\n",
       "      <td>224.71</td>\n",
       "      <td>225.085</td>\n",
       "      <td>0.290659</td>\n",
       "      <td>0</td>\n",
       "      <td>0</td>\n",
       "      <td>440.13</td>\n",
       "      <td>0.999908</td>\n",
       "      <td>0.0</td>\n",
       "      <td>0.0</td>\n",
       "      <td>0.0</td>\n",
       "      <td>0.005890</td>\n",
       "    </tr>\n",
       "    <tr>\n",
       "      <th>10727</th>\n",
       "      <td>2021-07-29</td>\n",
       "      <td>440.65</td>\n",
       "      <td>07/30/2021</td>\n",
       "      <td>215.0</td>\n",
       "      <td>P</td>\n",
       "      <td>0.01</td>\n",
       "      <td>0.00</td>\n",
       "      <td>0.000</td>\n",
       "      <td>0.325459</td>\n",
       "      <td>0</td>\n",
       "      <td>1401</td>\n",
       "      <td>440.13</td>\n",
       "      <td>0.000000</td>\n",
       "      <td>0.0</td>\n",
       "      <td>0.0</td>\n",
       "      <td>0.0</td>\n",
       "      <td>0.000000</td>\n",
       "    </tr>\n",
       "    <tr>\n",
       "      <th>10728</th>\n",
       "      <td>2021-07-29</td>\n",
       "      <td>440.65</td>\n",
       "      <td>07/30/2021</td>\n",
       "      <td>220.0</td>\n",
       "      <td>C</td>\n",
       "      <td>220.46</td>\n",
       "      <td>219.71</td>\n",
       "      <td>220.085</td>\n",
       "      <td>0.290659</td>\n",
       "      <td>0</td>\n",
       "      <td>1</td>\n",
       "      <td>440.13</td>\n",
       "      <td>0.999908</td>\n",
       "      <td>0.0</td>\n",
       "      <td>0.0</td>\n",
       "      <td>0.0</td>\n",
       "      <td>0.006027</td>\n",
       "    </tr>\n",
       "    <tr>\n",
       "      <th>10729</th>\n",
       "      <td>2021-07-29</td>\n",
       "      <td>440.65</td>\n",
       "      <td>07/30/2021</td>\n",
       "      <td>220.0</td>\n",
       "      <td>P</td>\n",
       "      <td>0.01</td>\n",
       "      <td>0.00</td>\n",
       "      <td>0.000</td>\n",
       "      <td>0.325459</td>\n",
       "      <td>0</td>\n",
       "      <td>328</td>\n",
       "      <td>440.13</td>\n",
       "      <td>0.000000</td>\n",
       "      <td>0.0</td>\n",
       "      <td>0.0</td>\n",
       "      <td>0.0</td>\n",
       "      <td>0.000000</td>\n",
       "    </tr>\n",
       "    <tr>\n",
       "      <th>10730</th>\n",
       "      <td>2021-07-29</td>\n",
       "      <td>440.65</td>\n",
       "      <td>07/30/2021</td>\n",
       "      <td>225.0</td>\n",
       "      <td>C</td>\n",
       "      <td>215.46</td>\n",
       "      <td>214.71</td>\n",
       "      <td>215.085</td>\n",
       "      <td>0.290659</td>\n",
       "      <td>0</td>\n",
       "      <td>0</td>\n",
       "      <td>440.13</td>\n",
       "      <td>0.999908</td>\n",
       "      <td>0.0</td>\n",
       "      <td>0.0</td>\n",
       "      <td>0.0</td>\n",
       "      <td>0.006164</td>\n",
       "    </tr>\n",
       "  </tbody>\n",
       "</table>\n",
       "</div>"
      ],
      "text/plain": [
       "            date  adjusted close  expiration  strike call/put     ask     bid  \\\n",
       "10726 2021-07-29          440.65  07/30/2021   215.0        C  225.46  224.71   \n",
       "10727 2021-07-29          440.65  07/30/2021   215.0        P    0.01    0.00   \n",
       "10728 2021-07-29          440.65  07/30/2021   220.0        C  220.46  219.71   \n",
       "10729 2021-07-29          440.65  07/30/2021   220.0        P    0.01    0.00   \n",
       "10730 2021-07-29          440.65  07/30/2021   225.0        C  215.46  214.71   \n",
       "\n",
       "       mean price        iv  volume  open interest  stockPrice     delta  \\\n",
       "10726     225.085  0.290659       0              0      440.13  0.999908   \n",
       "10727       0.000  0.325459       0           1401      440.13  0.000000   \n",
       "10728     220.085  0.290659       0              1      440.13  0.999908   \n",
       "10729       0.000  0.325459       0            328      440.13  0.000000   \n",
       "10730     215.085  0.290659       0              0      440.13  0.999908   \n",
       "\n",
       "       vega  gamma  theta       rho  \n",
       "10726   0.0    0.0    0.0  0.005890  \n",
       "10727   0.0    0.0    0.0  0.000000  \n",
       "10728   0.0    0.0    0.0  0.006027  \n",
       "10729   0.0    0.0    0.0  0.000000  \n",
       "10730   0.0    0.0    0.0  0.006164  "
      ]
     },
     "execution_count": 5,
     "metadata": {},
     "output_type": "execute_result"
    }
   ],
   "source": [
    "data['date'] = pd.to_datetime(data['date'])\n",
    "data=data.rename(columns = {'stock price for iv':'stockPrice'})\n",
    "data_till_29 = data[~(data['date'] > '2021-07-29')]S\n",
    "data_till_29.head()"
   ]
  },
  {
   "cell_type": "markdown",
   "id": "d409342b",
   "metadata": {},
   "source": [
    "*Last 5  rows from the data*"
   ]
  },
  {
   "cell_type": "code",
   "execution_count": 38,
   "id": "918ae34f",
   "metadata": {},
   "outputs": [
    {
     "data": {
      "text/html": [
       "<div>\n",
       "<style scoped>\n",
       "    .dataframe tbody tr th:only-of-type {\n",
       "        vertical-align: middle;\n",
       "    }\n",
       "\n",
       "    .dataframe tbody tr th {\n",
       "        vertical-align: top;\n",
       "    }\n",
       "\n",
       "    .dataframe thead th {\n",
       "        text-align: right;\n",
       "    }\n",
       "</style>\n",
       "<table border=\"1\" class=\"dataframe\">\n",
       "  <thead>\n",
       "    <tr style=\"text-align: right;\">\n",
       "      <th></th>\n",
       "      <th>date</th>\n",
       "      <th>adjusted close</th>\n",
       "      <th>expiration</th>\n",
       "      <th>strike</th>\n",
       "      <th>call/put</th>\n",
       "      <th>ask</th>\n",
       "      <th>bid</th>\n",
       "      <th>mean price</th>\n",
       "      <th>iv</th>\n",
       "      <th>volume</th>\n",
       "      <th>open interest</th>\n",
       "      <th>stockPrice</th>\n",
       "      <th>delta</th>\n",
       "      <th>vega</th>\n",
       "      <th>gamma</th>\n",
       "      <th>theta</th>\n",
       "      <th>rho</th>\n",
       "    </tr>\n",
       "  </thead>\n",
       "  <tbody>\n",
       "    <tr>\n",
       "      <th>221041</th>\n",
       "      <td>2021-07-01</td>\n",
       "      <td>430.43</td>\n",
       "      <td>12/15/2023</td>\n",
       "      <td>630.0</td>\n",
       "      <td>P</td>\n",
       "      <td>206.50</td>\n",
       "      <td>201.5</td>\n",
       "      <td>204.000</td>\n",
       "      <td>0.148305</td>\n",
       "      <td>0</td>\n",
       "      <td>1</td>\n",
       "      <td>430.26</td>\n",
       "      <td>-0.924500</td>\n",
       "      <td>0.750370</td>\n",
       "      <td>0.001112</td>\n",
       "      <td>-0.011128</td>\n",
       "      <td>-14.857175</td>\n",
       "    </tr>\n",
       "    <tr>\n",
       "      <th>221042</th>\n",
       "      <td>2021-07-01</td>\n",
       "      <td>430.43</td>\n",
       "      <td>12/15/2023</td>\n",
       "      <td>635.0</td>\n",
       "      <td>C</td>\n",
       "      <td>2.20</td>\n",
       "      <td>1.8</td>\n",
       "      <td>2.000</td>\n",
       "      <td>0.148310</td>\n",
       "      <td>0</td>\n",
       "      <td>146</td>\n",
       "      <td>430.26</td>\n",
       "      <td>0.051628</td>\n",
       "      <td>0.710649</td>\n",
       "      <td>0.001053</td>\n",
       "      <td>-0.005507</td>\n",
       "      <td>0.496773</td>\n",
       "    </tr>\n",
       "    <tr>\n",
       "      <th>221043</th>\n",
       "      <td>2021-07-01</td>\n",
       "      <td>430.43</td>\n",
       "      <td>12/15/2023</td>\n",
       "      <td>635.0</td>\n",
       "      <td>P</td>\n",
       "      <td>211.50</td>\n",
       "      <td>206.5</td>\n",
       "      <td>209.000</td>\n",
       "      <td>0.148310</td>\n",
       "      <td>0</td>\n",
       "      <td>0</td>\n",
       "      <td>430.26</td>\n",
       "      <td>-0.928176</td>\n",
       "      <td>0.710649</td>\n",
       "      <td>0.001053</td>\n",
       "      <td>-0.010792</td>\n",
       "      <td>-15.014119</td>\n",
       "    </tr>\n",
       "    <tr>\n",
       "      <th>221044</th>\n",
       "      <td>2021-07-01</td>\n",
       "      <td>430.43</td>\n",
       "      <td>12/15/2023</td>\n",
       "      <td>640.0</td>\n",
       "      <td>C</td>\n",
       "      <td>2.73</td>\n",
       "      <td>1.3</td>\n",
       "      <td>2.015</td>\n",
       "      <td>0.148310</td>\n",
       "      <td>5</td>\n",
       "      <td>1</td>\n",
       "      <td>430.26</td>\n",
       "      <td>0.048170</td>\n",
       "      <td>0.672488</td>\n",
       "      <td>0.000997</td>\n",
       "      <td>-0.005217</td>\n",
       "      <td>0.463973</td>\n",
       "    </tr>\n",
       "    <tr>\n",
       "      <th>221045</th>\n",
       "      <td>2021-07-01</td>\n",
       "      <td>430.43</td>\n",
       "      <td>12/15/2023</td>\n",
       "      <td>640.0</td>\n",
       "      <td>P</td>\n",
       "      <td>216.50</td>\n",
       "      <td>211.5</td>\n",
       "      <td>214.000</td>\n",
       "      <td>0.148310</td>\n",
       "      <td>0</td>\n",
       "      <td>0</td>\n",
       "      <td>430.26</td>\n",
       "      <td>-0.931634</td>\n",
       "      <td>0.672488</td>\n",
       "      <td>0.000997</td>\n",
       "      <td>-0.010467</td>\n",
       "      <td>-15.169052</td>\n",
       "    </tr>\n",
       "  </tbody>\n",
       "</table>\n",
       "</div>"
      ],
      "text/plain": [
       "             date  adjusted close  expiration  strike call/put     ask    bid  \\\n",
       "221041 2021-07-01          430.43  12/15/2023   630.0        P  206.50  201.5   \n",
       "221042 2021-07-01          430.43  12/15/2023   635.0        C    2.20    1.8   \n",
       "221043 2021-07-01          430.43  12/15/2023   635.0        P  211.50  206.5   \n",
       "221044 2021-07-01          430.43  12/15/2023   640.0        C    2.73    1.3   \n",
       "221045 2021-07-01          430.43  12/15/2023   640.0        P  216.50  211.5   \n",
       "\n",
       "        mean price        iv  volume  open interest  stockPrice     delta  \\\n",
       "221041     204.000  0.148305       0              1      430.26 -0.924500   \n",
       "221042       2.000  0.148310       0            146      430.26  0.051628   \n",
       "221043     209.000  0.148310       0              0      430.26 -0.928176   \n",
       "221044       2.015  0.148310       5              1      430.26  0.048170   \n",
       "221045     214.000  0.148310       0              0      430.26 -0.931634   \n",
       "\n",
       "            vega     gamma     theta        rho  \n",
       "221041  0.750370  0.001112 -0.011128 -14.857175  \n",
       "221042  0.710649  0.001053 -0.005507   0.496773  \n",
       "221043  0.710649  0.001053 -0.010792 -15.014119  \n",
       "221044  0.672488  0.000997 -0.005217   0.463973  \n",
       "221045  0.672488  0.000997 -0.010467 -15.169052  "
      ]
     },
     "execution_count": 38,
     "metadata": {},
     "output_type": "execute_result"
    }
   ],
   "source": [
    "data_till_29.tail()"
   ]
  },
  {
   "cell_type": "markdown",
   "id": "9f73438d",
   "metadata": {},
   "source": [
    "# Data Aggregation and Representation"
   ]
  },
  {
   "cell_type": "markdown",
   "id": "3a6969d5",
   "metadata": {},
   "source": [
    "*Plotting the Date vs Stock price graph*"
   ]
  },
  {
   "cell_type": "code",
   "execution_count": 39,
   "id": "082bfee4",
   "metadata": {},
   "outputs": [
    {
     "data": {
      "text/plain": [
       "<seaborn.axisgrid.FacetGrid at 0x199dffb5ff0>"
      ]
     },
     "execution_count": 39,
     "metadata": {},
     "output_type": "execute_result"
    },
    {
     "data": {
      "image/png": "[encoded data removed]",
      "text/plain": [
       "<Figure size 500x500 with 1 Axes>"
      ]
     },
     "metadata": {},
     "output_type": "display_data"
    }
   ],
   "source": [
    "sns.relplot( x=\"date\", y=\"stockPrice\",data=data_till_29,kind='line')"
   ]
  },
  {
   "cell_type": "markdown",
   "id": "a1b97411",
   "metadata": {},
   "source": [
    "*Plotting the Stock Price Graph*"
   ]
  },
  {
   "cell_type": "code",
   "execution_count": 40,
   "id": "f818c4ef",
   "metadata": {},
   "outputs": [
    {
     "data": {
      "text/plain": [
       "[<matplotlib.lines.Line2D at 0x199dfefd000>]"
      ]
     },
     "execution_count": 40,
     "metadata": {},
     "output_type": "execute_result"
    },
    {
     "data": {
      "image/png": "[encoded data removed]",
      "text/plain": [
       "<Figure size 640x480 with 1 Axes>"
      ]
     },
     "metadata": {},
     "output_type": "display_data"
    }
   ],
   "source": [
    "plt.plot(data_till_29.stockPrice)"
   ]
  },
  {
   "cell_type": "markdown",
   "id": "bc5eb62f",
   "metadata": {},
   "source": [
    "# Data Analysis"
   ]
  },
  {
   "cell_type": "markdown",
   "id": "c45f9696",
   "metadata": {},
   "source": [
    "*Information about the column data types,memory usage,column labels and null values*"
   ]
  },
  {
   "cell_type": "code",
   "execution_count": 8,
   "id": "93e7cb5d",
   "metadata": {
    "scrolled": true
   },
   "outputs": [
    {
     "name": "stdout",
     "output_type": "stream",
     "text": [
      "<class 'pandas.core.frame.DataFrame'>\n",
      "Int64Index: 210320 entries, 10726 to 221045\n",
      "Data columns (total 17 columns):\n",
      " #   Column          Non-Null Count   Dtype         \n",
      "---  ------          --------------   -----         \n",
      " 0   date            210320 non-null  datetime64[ns]\n",
      " 1   adjusted close  210320 non-null  float64       \n",
      " 2   expiration      210320 non-null  object        \n",
      " 3   strike          210320 non-null  float64       \n",
      " 4   call/put        210320 non-null  object        \n",
      " 5   ask             210320 non-null  float64       \n",
      " 6   bid             210320 non-null  float64       \n",
      " 7   mean price      210320 non-null  float64       \n",
      " 8   iv              210320 non-null  float64       \n",
      " 9   volume          210320 non-null  int64         \n",
      " 10  open interest   210320 non-null  int64         \n",
      " 11  stockPrice      210320 non-null  float64       \n",
      " 12  delta           210320 non-null  float64       \n",
      " 13  vega            210320 non-null  float64       \n",
      " 14  gamma           210320 non-null  float64       \n",
      " 15  theta           210320 non-null  float64       \n",
      " 16  rho             210320 non-null  float64       \n",
      "dtypes: datetime64[ns](1), float64(12), int64(2), object(2)\n",
      "memory usage: 28.9+ MB\n"
     ]
    }
   ],
   "source": [
    "data_till_29.info()"
   ]
  },
  {
   "cell_type": "markdown",
   "id": "faec68f2",
   "metadata": {},
   "source": [
    "*Moving Average of first 100 values in the data*"
   ]
  },
  {
   "cell_type": "code",
   "execution_count": 9,
   "id": "a9827cbd",
   "metadata": {},
   "outputs": [],
   "source": [
    "ma100=data_till_29.stockPrice.rolling(100).mean()"
   ]
  },
  {
   "cell_type": "code",
   "execution_count": 43,
   "id": "0b19c2af",
   "metadata": {},
   "outputs": [
    {
     "name": "stdout",
     "output_type": "stream",
     "text": [
      "10726        NaN\n",
      "10727        NaN\n",
      "10728        NaN\n",
      "10729        NaN\n",
      "10730        NaN\n",
      "           ...  \n",
      "221041    430.26\n",
      "221042    430.26\n",
      "221043    430.26\n",
      "221044    430.26\n",
      "221045    430.26\n",
      "Name: stockPrice, Length: 210320, dtype: float64\n"
     ]
    }
   ],
   "source": [
    "print(ma100)"
   ]
  },
  {
   "cell_type": "markdown",
   "id": "9c53bb4e",
   "metadata": {},
   "source": [
    "*Moving average of first 200  values in data*"
   ]
  },
  {
   "cell_type": "code",
   "execution_count": 11,
   "id": "ef9472da",
   "metadata": {
    "scrolled": true
   },
   "outputs": [
    {
     "name": "stdout",
     "output_type": "stream",
     "text": [
      "10726        NaN\n",
      "10727        NaN\n",
      "10728        NaN\n",
      "10729        NaN\n",
      "10730        NaN\n",
      "           ...  \n",
      "221041    430.26\n",
      "221042    430.26\n",
      "221043    430.26\n",
      "221044    430.26\n",
      "221045    430.26\n",
      "Name: stockPrice, Length: 210320, dtype: float64\n"
     ]
    }
   ],
   "source": [
    "ma200=data_till_29.stockPrice.rolling(200).mean()\n",
    "print(ma200)"
   ]
  },
  {
   "cell_type": "markdown",
   "id": "1c7c1cd3",
   "metadata": {},
   "source": [
    "*Graph representing the stockPrice till 29th and moving averages of first 100 and 200 values*"
   ]
  },
  {
   "cell_type": "code",
   "execution_count": 47,
   "id": "b68b2a4d",
   "metadata": {},
   "outputs": [
    {
     "data": {
      "text/plain": [
       "[<matplotlib.lines.Line2D at 0x199fe816350>]"
      ]
     },
     "execution_count": 47,
     "metadata": {},
     "output_type": "execute_result"
    },
    {
     "data": {
      "image/png": "[encoded data removed]",
      "text/plain": [
       "<Figure size 1200x600 with 1 Axes>"
      ]
     },
     "metadata": {},
     "output_type": "display_data"
    }
   ],
   "source": [
    "plt.figure(figsize=(12,6))\n",
    "plt.plot(data_till_29.date,data_till_29.stockPrice,'b')\n",
    "plt.plot(data_till_29.date,ma100,'r')\n",
    "plt.plot(data_till_29.date,ma200,'g')"
   ]
  },
  {
   "cell_type": "code",
   "execution_count": 48,
   "id": "2f2a5946",
   "metadata": {
    "scrolled": true
   },
   "outputs": [
    {
     "data": {
      "text/plain": [
       "(210320, 17)"
      ]
     },
     "execution_count": 48,
     "metadata": {},
     "output_type": "execute_result"
    }
   ],
   "source": [
    "data_till_29.shape"
   ]
  },
  {
   "cell_type": "markdown",
   "id": "108e447b",
   "metadata": {},
   "source": [
    "## Model Training and Testing"
   ]
  },
  {
   "cell_type": "markdown",
   "id": "890971f9",
   "metadata": {},
   "source": [
    "*Splitting the dataset into training and testing*"
   ]
  },
  {
   "cell_type": "code",
   "execution_count": 6,
   "id": "553475fd",
   "metadata": {},
   "outputs": [
    {
     "name": "stdout",
     "output_type": "stream",
     "text": [
      "(210320, 1)\n",
      "(10725, 1)\n"
     ]
    }
   ],
   "source": [
    "# Splitting the dataset into Training and Testing\n",
    "trainingData=pd.DataFrame(data_till_29['stockPrice'])\n",
    "testingData=pd.DataFrame(data['stockPrice'][0:10725])\n",
    "print(trainingData.shape)\n",
    "print(testingData.shape)"
   ]
  },
  {
   "cell_type": "markdown",
   "id": "863399f4",
   "metadata": {},
   "source": [
    "*Scaling down the values*"
   ]
  },
  {
   "cell_type": "code",
   "execution_count": 7,
   "id": "29ada59a",
   "metadata": {},
   "outputs": [],
   "source": [
    "from sklearn.preprocessing import MinMaxScaler\n",
    "scaler=MinMaxScaler(feature_range=(0,1))\n"
   ]
  },
  {
   "cell_type": "code",
   "execution_count": 8,
   "id": "68e1f1e9",
   "metadata": {},
   "outputs": [],
   "source": [
    "training_array=scaler.fit_transform(trainingData)\n",
    "testing_array=scaler.fit_transform(testingData)\n"
   ]
  },
  {
   "cell_type": "code",
   "execution_count": 15,
   "id": "c563be12",
   "metadata": {},
   "outputs": [
    {
     "name": "stdout",
     "output_type": "stream",
     "text": [
      "[[0.94260761]\n",
      " [0.94260761]\n",
      " [0.94260761]\n",
      " ...\n",
      " [0.32688709]\n",
      " [0.32688709]\n",
      " [0.32688709]]\n",
      "[[0.]\n",
      " [0.]\n",
      " [0.]\n",
      " ...\n",
      " [0.]\n",
      " [0.]\n",
      " [0.]]\n"
     ]
    }
   ],
   "source": [
    "print(training_array)\n",
    "print(testing_array)"
   ]
  },
  {
   "cell_type": "markdown",
   "id": "b669467e",
   "metadata": {},
   "source": [
    "*Splitting the training dataset into x_train and y_train*"
   ]
  },
  {
   "cell_type": "code",
   "execution_count": 120,
   "id": "256e6040",
   "metadata": {},
   "outputs": [
    {
     "name": "stdout",
     "output_type": "stream",
     "text": [
      "[[[0.94260761]\n",
      "  [0.94260761]\n",
      "  [0.94260761]\n",
      "  ...\n",
      "  [0.94260761]\n",
      "  [0.94260761]\n",
      "  [0.94260761]]\n",
      "\n",
      " [[0.94260761]\n",
      "  [0.94260761]\n",
      "  [0.94260761]\n",
      "  ...\n",
      "  [0.94260761]\n",
      "  [0.94260761]\n",
      "  [0.94260761]]\n",
      "\n",
      " [[0.94260761]\n",
      "  [0.94260761]\n",
      "  [0.94260761]\n",
      "  ...\n",
      "  [0.94260761]\n",
      "  [0.94260761]\n",
      "  [0.94260761]]\n",
      "\n",
      " ...\n",
      "\n",
      " [[0.32688709]\n",
      "  [0.32688709]\n",
      "  [0.32688709]\n",
      "  ...\n",
      "  [0.32688709]\n",
      "  [0.32688709]\n",
      "  [0.32688709]]\n",
      "\n",
      " [[0.32688709]\n",
      "  [0.32688709]\n",
      "  [0.32688709]\n",
      "  ...\n",
      "  [0.32688709]\n",
      "  [0.32688709]\n",
      "  [0.32688709]]\n",
      "\n",
      " [[0.32688709]\n",
      "  [0.32688709]\n",
      "  [0.32688709]\n",
      "  ...\n",
      "  [0.32688709]\n",
      "  [0.32688709]\n",
      "  [0.32688709]]]\n"
     ]
    }
   ],
   "source": [
    "x_train=[]\n",
    "y_train=[]\n",
    "\n",
    "for i in range(100,training_array.shape[0]):\n",
    "    x_train.append(training_array[i-100:i])\n",
    "    y_train.append(training_array[i,0])\n",
    "x_train,y_train=np.array(x_train),np.array(y_train)\n",
    "print(x_train)\n"
   ]
  },
  {
   "cell_type": "markdown",
   "id": "cc237e9c",
   "metadata": {},
   "source": [
    "*Installing libraries keras and tensorflow*"
   ]
  },
  {
   "cell_type": "code",
   "execution_count": 54,
   "id": "dfd0f3b5",
   "metadata": {
    "scrolled": true
   },
   "outputs": [
    {
     "name": "stdout",
     "output_type": "stream",
     "text": [
      "Requirement already satisfied: keras in c:\\users\\asus\\anaconda3\\lib\\site-packages (2.12.0)\n",
      "Requirement already satisfied: tensorflow in c:\\users\\asus\\anaconda3\\lib\\site-packages (2.12.0)\n",
      "Requirement already satisfied: tensorflow-intel==2.12.0 in c:\\users\\asus\\anaconda3\\lib\\site-packages (from tensorflow) (2.12.0)\n",
      "Requirement already satisfied: numpy<1.24,>=1.22 in c:\\users\\asus\\anaconda3\\lib\\site-packages (from tensorflow-intel==2.12.0->tensorflow) (1.23.5)\n",
      "Requirement already satisfied: jax>=0.3.15 in c:\\users\\asus\\anaconda3\\lib\\site-packages (from tensorflow-intel==2.12.0->tensorflow) (0.4.11)\n",
      "Requirement already satisfied: tensorflow-io-gcs-filesystem>=0.23.1 in c:\\users\\asus\\anaconda3\\lib\\site-packages (from tensorflow-intel==2.12.0->tensorflow) (0.31.0)\n",
      "Requirement already satisfied: keras<2.13,>=2.12.0 in c:\\users\\asus\\anaconda3\\lib\\site-packages (from tensorflow-intel==2.12.0->tensorflow) (2.12.0)\n",
      "Requirement already satisfied: setuptools in c:\\users\\asus\\anaconda3\\lib\\site-packages (from tensorflow-intel==2.12.0->tensorflow) (65.6.3)\n",
      "Requirement already satisfied: flatbuffers>=2.0 in c:\\users\\asus\\anaconda3\\lib\\site-packages (from tensorflow-intel==2.12.0->tensorflow) (23.5.26)\n",
      "Requirement already satisfied: absl-py>=1.0.0 in c:\\users\\asus\\anaconda3\\lib\\site-packages (from tensorflow-intel==2.12.0->tensorflow) (1.4.0)\n",
      "Requirement already satisfied: opt-einsum>=2.3.2 in c:\\users\\asus\\anaconda3\\lib\\site-packages (from tensorflow-intel==2.12.0->tensorflow) (3.3.0)\n",
      "Requirement already satisfied: grpcio<2.0,>=1.24.3 in c:\\users\\asus\\anaconda3\\lib\\site-packages (from tensorflow-intel==2.12.0->tensorflow) (1.54.2)\n",
      "Requirement already satisfied: packaging in c:\\users\\asus\\anaconda3\\lib\\site-packages (from tensorflow-intel==2.12.0->tensorflow) (22.0)\n",
      "Requirement already satisfied: h5py>=2.9.0 in c:\\users\\asus\\anaconda3\\lib\\site-packages (from tensorflow-intel==2.12.0->tensorflow) (3.7.0)\n",
      "Requirement already satisfied: termcolor>=1.1.0 in c:\\users\\asus\\anaconda3\\lib\\site-packages (from tensorflow-intel==2.12.0->tensorflow) (2.3.0)\n",
      "Requirement already satisfied: google-pasta>=0.1.1 in c:\\users\\asus\\anaconda3\\lib\\site-packages (from tensorflow-intel==2.12.0->tensorflow) (0.2.0)\n",
      "Requirement already satisfied: wrapt<1.15,>=1.11.0 in c:\\users\\asus\\anaconda3\\lib\\site-packages (from tensorflow-intel==2.12.0->tensorflow) (1.14.1)\n",
      "Requirement already satisfied: six>=1.12.0 in c:\\users\\asus\\anaconda3\\lib\\site-packages (from tensorflow-intel==2.12.0->tensorflow) (1.16.0)\n",
      "Requirement already satisfied: libclang>=13.0.0 in c:\\users\\asus\\anaconda3\\lib\\site-packages (from tensorflow-intel==2.12.0->tensorflow) (16.0.0)\n",
      "Requirement already satisfied: typing-extensions>=3.6.6 in c:\\users\\asus\\anaconda3\\lib\\site-packages (from tensorflow-intel==2.12.0->tensorflow) (4.4.0)\n",
      "Requirement already satisfied: tensorboard<2.13,>=2.12 in c:\\users\\asus\\anaconda3\\lib\\site-packages (from tensorflow-intel==2.12.0->tensorflow) (2.12.3)\n",
      "Requirement already satisfied: astunparse>=1.6.0 in c:\\users\\asus\\anaconda3\\lib\\site-packages (from tensorflow-intel==2.12.0->tensorflow) (1.6.3)\n",
      "Requirement already satisfied: tensorflow-estimator<2.13,>=2.12.0 in c:\\users\\asus\\anaconda3\\lib\\site-packages (from tensorflow-intel==2.12.0->tensorflow) (2.12.0)\n",
      "Requirement already satisfied: protobuf!=4.21.0,!=4.21.1,!=4.21.2,!=4.21.3,!=4.21.4,!=4.21.5,<5.0.0dev,>=3.20.3 in c:\\users\\asus\\anaconda3\\lib\\site-packages (from tensorflow-intel==2.12.0->tensorflow) (4.23.2)\n",
      "Requirement already satisfied: gast<=0.4.0,>=0.2.1 in c:\\users\\asus\\anaconda3\\lib\\site-packages (from tensorflow-intel==2.12.0->tensorflow) (0.4.0)\n",
      "Requirement already satisfied: wheel<1.0,>=0.23.0 in c:\\users\\asus\\anaconda3\\lib\\site-packages (from astunparse>=1.6.0->tensorflow-intel==2.12.0->tensorflow) (0.38.4)\n",
      "Requirement already satisfied: ml-dtypes>=0.1.0 in c:\\users\\asus\\anaconda3\\lib\\site-packages (from jax>=0.3.15->tensorflow-intel==2.12.0->tensorflow) (0.1.0)\n",
      "Requirement already satisfied: scipy>=1.7 in c:\\users\\asus\\anaconda3\\lib\\site-packages (from jax>=0.3.15->tensorflow-intel==2.12.0->tensorflow) (1.10.0)\n",
      "Requirement already satisfied: requests<3,>=2.21.0 in c:\\users\\asus\\anaconda3\\lib\\site-packages (from tensorboard<2.13,>=2.12->tensorflow-intel==2.12.0->tensorflow) (2.28.1)\n",
      "Requirement already satisfied: google-auth<3,>=1.6.3 in c:\\users\\asus\\anaconda3\\lib\\site-packages (from tensorboard<2.13,>=2.12->tensorflow-intel==2.12.0->tensorflow) (2.19.1)\n",
      "Requirement already satisfied: werkzeug>=1.0.1 in c:\\users\\asus\\anaconda3\\lib\\site-packages (from tensorboard<2.13,>=2.12->tensorflow-intel==2.12.0->tensorflow) (2.2.2)\n",
      "Requirement already satisfied: markdown>=2.6.8 in c:\\users\\asus\\anaconda3\\lib\\site-packages (from tensorboard<2.13,>=2.12->tensorflow-intel==2.12.0->tensorflow) (3.4.1)\n",
      "Requirement already satisfied: google-auth-oauthlib<1.1,>=0.5 in c:\\users\\asus\\anaconda3\\lib\\site-packages (from tensorboard<2.13,>=2.12->tensorflow-intel==2.12.0->tensorflow) (1.0.0)\n",
      "Requirement already satisfied: tensorboard-data-server<0.8.0,>=0.7.0 in c:\\users\\asus\\anaconda3\\lib\\site-packages (from tensorboard<2.13,>=2.12->tensorflow-intel==2.12.0->tensorflow) (0.7.0)\n",
      "Requirement already satisfied: urllib3<2.0 in c:\\users\\asus\\anaconda3\\lib\\site-packages (from google-auth<3,>=1.6.3->tensorboard<2.13,>=2.12->tensorflow-intel==2.12.0->tensorflow) (1.26.14)\n",
      "Requirement already satisfied: rsa<5,>=3.1.4 in c:\\users\\asus\\anaconda3\\lib\\site-packages (from google-auth<3,>=1.6.3->tensorboard<2.13,>=2.12->tensorflow-intel==2.12.0->tensorflow) (4.9)\n",
      "Requirement already satisfied: cachetools<6.0,>=2.0.0 in c:\\users\\asus\\anaconda3\\lib\\site-packages (from google-auth<3,>=1.6.3->tensorboard<2.13,>=2.12->tensorflow-intel==2.12.0->tensorflow) (5.3.1)\n",
      "Requirement already satisfied: pyasn1-modules>=0.2.1 in c:\\users\\asus\\anaconda3\\lib\\site-packages (from google-auth<3,>=1.6.3->tensorboard<2.13,>=2.12->tensorflow-intel==2.12.0->tensorflow) (0.2.8)\n",
      "Requirement already satisfied: requests-oauthlib>=0.7.0 in c:\\users\\asus\\anaconda3\\lib\\site-packages (from google-auth-oauthlib<1.1,>=0.5->tensorboard<2.13,>=2.12->tensorflow-intel==2.12.0->tensorflow) (1.3.1)\n",
      "Requirement already satisfied: idna<4,>=2.5 in c:\\users\\asus\\anaconda3\\lib\\site-packages (from requests<3,>=2.21.0->tensorboard<2.13,>=2.12->tensorflow-intel==2.12.0->tensorflow) (3.4)\n",
      "Requirement already satisfied: charset-normalizer<3,>=2 in c:\\users\\asus\\anaconda3\\lib\\site-packages (from requests<3,>=2.21.0->tensorboard<2.13,>=2.12->tensorflow-intel==2.12.0->tensorflow) (2.0.4)\n",
      "Requirement already satisfied: certifi>=2017.4.17 in c:\\users\\asus\\anaconda3\\lib\\site-packages (from requests<3,>=2.21.0->tensorboard<2.13,>=2.12->tensorflow-intel==2.12.0->tensorflow) (2022.12.7)\n",
      "Requirement already satisfied: MarkupSafe>=2.1.1 in c:\\users\\asus\\anaconda3\\lib\\site-packages (from werkzeug>=1.0.1->tensorboard<2.13,>=2.12->tensorflow-intel==2.12.0->tensorflow) (2.1.1)\n",
      "Requirement already satisfied: pyasn1<0.5.0,>=0.4.6 in c:\\users\\asus\\anaconda3\\lib\\site-packages (from pyasn1-modules>=0.2.1->google-auth<3,>=1.6.3->tensorboard<2.13,>=2.12->tensorflow-intel==2.12.0->tensorflow) (0.4.8)\n",
      "Requirement already satisfied: oauthlib>=3.0.0 in c:\\users\\asus\\anaconda3\\lib\\site-packages (from requests-oauthlib>=0.7.0->google-auth-oauthlib<1.1,>=0.5->tensorboard<2.13,>=2.12->tensorflow-intel==2.12.0->tensorflow) (3.2.2)\n"
     ]
    }
   ],
   "source": [
    "!pip install keras \n",
    "!pip install tensorflow "
   ]
  },
  {
   "cell_type": "markdown",
   "id": "9eaeb78e",
   "metadata": {},
   "source": [
    "*Importing LSTM model and sequential model*"
   ]
  },
  {
   "cell_type": "code",
   "execution_count": 17,
   "id": "d7f3b263",
   "metadata": {},
   "outputs": [],
   "source": [
    "from keras.layers import Dense,Dropout,LSTM\n",
    "from  keras.models import Sequential"
   ]
  },
  {
   "cell_type": "markdown",
   "id": "379605c8",
   "metadata": {},
   "source": [
    "*Creating layers for the LSTM model*"
   ]
  },
  {
   "cell_type": "code",
   "execution_count": 20,
   "id": "86e1e642",
   "metadata": {},
   "outputs": [],
   "source": [
    "model=Sequential()\n",
    "model.add(LSTM(units=50,activation='relu',return_sequences=True,input_shape=(x_train.shape[1],1)))\n",
    "model.add(Dropout(0.2))\n",
    "\n",
    "model.add(LSTM(units=60,activation='relu',return_sequences=True))\n",
    "model.add(Dropout(0.3))\n",
    "\n",
    "model.add(LSTM(units=80,activation='relu',return_sequences=True))\n",
    "model.add(Dropout(0.4))\n",
    "\n",
    "model.add(LSTM(units=120,activation='relu'))\n",
    "model.add(Dropout(0.5))\n",
    "          \n",
    "model.add(Dense(units=1))"
   ]
  },
  {
   "cell_type": "markdown",
   "id": "8a5db937",
   "metadata": {},
   "source": [
    "*Description of layers and the order in the model*"
   ]
  },
  {
   "cell_type": "code",
   "execution_count": 21,
   "id": "00a65479",
   "metadata": {},
   "outputs": [
    {
     "name": "stdout",
     "output_type": "stream",
     "text": [
      "Model: \"sequential_1\"\n",
      "_________________________________________________________________\n",
      " Layer (type)                Output Shape              Param #   \n",
      "=================================================================\n",
      " lstm (LSTM)                 (None, 100, 50)           10400     \n",
      "                                                                 \n",
      " dropout (Dropout)           (None, 100, 50)           0         \n",
      "                                                                 \n",
      " lstm_1 (LSTM)               (None, 100, 60)           26640     \n",
      "                                                                 \n",
      " dropout_1 (Dropout)         (None, 100, 60)           0         \n",
      "                                                                 \n",
      " lstm_2 (LSTM)               (None, 100, 80)           45120     \n",
      "                                                                 \n",
      " dropout_2 (Dropout)         (None, 100, 80)           0         \n",
      "                                                                 \n",
      " lstm_3 (LSTM)               (None, 120)               96480     \n",
      "                                                                 \n",
      " dropout_3 (Dropout)         (None, 120)               0         \n",
      "                                                                 \n",
      " dense (Dense)               (None, 1)                 121       \n",
      "                                                                 \n",
      "=================================================================\n",
      "Total params: 178,761\n",
      "Trainable params: 178,761\n",
      "Non-trainable params: 0\n",
      "_________________________________________________________________\n"
     ]
    }
   ],
   "source": [
    "model.summary()"
   ]
  },
  {
   "cell_type": "markdown",
   "id": "352ad2ab",
   "metadata": {},
   "source": [
    "*Tarining the model*"
   ]
  },
  {
   "cell_type": "code",
   "execution_count": 15,
   "id": "f3aaf24b",
   "metadata": {
    "scrolled": true
   },
   "outputs": [
    {
     "name": "stdout",
     "output_type": "stream",
     "text": [
      "Epoch 1/4\n",
      "6570/6570 [==============================] - 1371s 208ms/step - loss: 0.0034\n",
      "Epoch 2/4\n",
      "6570/6570 [==============================] - 1410s 215ms/step - loss: 0.0015\n",
      "Epoch 3/4\n",
      "6570/6570 [==============================] - 1449s 221ms/step - loss: 0.0014\n",
      "Epoch 4/4\n",
      "6570/6570 [==============================] - 1468s 223ms/step - loss: 0.0014\n"
     ]
    },
    {
     "data": {
      "text/plain": [
       "<keras.callbacks.History at 0x1d671ed69b0>"
      ]
     },
     "execution_count": 15,
     "metadata": {},
     "output_type": "execute_result"
    }
   ],
   "source": [
    "model.compile(optimizer='adam',loss='mean_squared_error')\n",
    "model.fit(x_train,y_train,epochs=4)"
   ]
  },
  {
   "cell_type": "markdown",
   "id": "78b605ea",
   "metadata": {},
   "source": [
    "*Merging the first 100 columns of training with testing data*"
   ]
  },
  {
   "cell_type": "code",
   "execution_count": 38,
   "id": "41e1901a",
   "metadata": {},
   "outputs": [
    {
     "name": "stdout",
     "output_type": "stream",
     "text": [
      "       stockPrice\n",
      "0          440.13\n",
      "1          440.13\n",
      "2          440.13\n",
      "3          440.13\n",
      "4          440.13\n",
      "...           ...\n",
      "10820      438.97\n",
      "10821      438.97\n",
      "10822      438.97\n",
      "10823      438.97\n",
      "10824      438.97\n",
      "\n",
      "[10825 rows x 1 columns]\n"
     ]
    },
    {
     "name": "stderr",
     "output_type": "stream",
     "text": [
      "C:\\Users\\ASUS\\AppData\\Local\\Temp\\ipykernel_2284\\1095244867.py:2: FutureWarning: The frame.append method is deprecated and will be removed from pandas in a future version. Use pandas.concat instead.\n",
      "  final_df=past_100_days.append(testingData,ignore_index=True)\n"
     ]
    }
   ],
   "source": [
    "past_100_days= trainingData.head(100)\n",
    "final_df=past_100_days.append(testingData,ignore_index=True)\n",
    "print(final_df)"
   ]
  },
  {
   "cell_type": "code",
   "execution_count": 43,
   "id": "31b24774",
   "metadata": {},
   "outputs": [
    {
     "data": {
      "text/html": [
       "<div>\n",
       "<style scoped>\n",
       "    .dataframe tbody tr th:only-of-type {\n",
       "        vertical-align: middle;\n",
       "    }\n",
       "\n",
       "    .dataframe tbody tr th {\n",
       "        vertical-align: top;\n",
       "    }\n",
       "\n",
       "    .dataframe thead th {\n",
       "        text-align: right;\n",
       "    }\n",
       "</style>\n",
       "<table border=\"1\" class=\"dataframe\">\n",
       "  <thead>\n",
       "    <tr style=\"text-align: right;\">\n",
       "      <th></th>\n",
       "      <th>stockPrice</th>\n",
       "    </tr>\n",
       "  </thead>\n",
       "  <tbody>\n",
       "    <tr>\n",
       "      <th>0</th>\n",
       "      <td>440.13</td>\n",
       "    </tr>\n",
       "    <tr>\n",
       "      <th>1</th>\n",
       "      <td>440.13</td>\n",
       "    </tr>\n",
       "    <tr>\n",
       "      <th>2</th>\n",
       "      <td>440.13</td>\n",
       "    </tr>\n",
       "    <tr>\n",
       "      <th>3</th>\n",
       "      <td>440.13</td>\n",
       "    </tr>\n",
       "    <tr>\n",
       "      <th>4</th>\n",
       "      <td>440.13</td>\n",
       "    </tr>\n",
       "  </tbody>\n",
       "</table>\n",
       "</div>"
      ],
      "text/plain": [
       "   stockPrice\n",
       "0      440.13\n",
       "1      440.13\n",
       "2      440.13\n",
       "3      440.13\n",
       "4      440.13"
      ]
     },
     "execution_count": 43,
     "metadata": {},
     "output_type": "execute_result"
    }
   ],
   "source": [
    "final_df.head()"
   ]
  },
  {
   "cell_type": "markdown",
   "id": "fb4b3c44",
   "metadata": {},
   "source": [
    "*Scaling down the testing data*"
   ]
  },
  {
   "cell_type": "code",
   "execution_count": 44,
   "id": "4cc53e12",
   "metadata": {},
   "outputs": [
    {
     "name": "stdout",
     "output_type": "stream",
     "text": [
      "[[1.]\n",
      " [1.]\n",
      " [1.]\n",
      " ...\n",
      " [0.]\n",
      " [0.]\n",
      " [0.]]\n"
     ]
    }
   ],
   "source": [
    "input_data=scaler.fit_transform(final_df)\n",
    "print(input_data)"
   ]
  },
  {
   "cell_type": "code",
   "execution_count": 45,
   "id": "6bca4253",
   "metadata": {},
   "outputs": [
    {
     "data": {
      "text/plain": [
       "(10825, 1)"
      ]
     },
     "execution_count": 45,
     "metadata": {},
     "output_type": "execute_result"
    }
   ],
   "source": [
    "input_data.shape"
   ]
  },
  {
   "cell_type": "markdown",
   "id": "fe67601a",
   "metadata": {},
   "source": [
    "*Splitting the Testing dataset into x_test and y_test*"
   ]
  },
  {
   "cell_type": "code",
   "execution_count": 107,
   "id": "40e60903",
   "metadata": {},
   "outputs": [
    {
     "name": "stdout",
     "output_type": "stream",
     "text": [
      "(10725, 100, 1)\n",
      "(10725,)\n"
     ]
    }
   ],
   "source": [
    "x_test=[] \n",
    "y_test=[]\n",
    "\n",
    "for i in range(100,input_data.shape[0]):\n",
    "    x_test.append(input_data[i-100:i])\n",
    "    y_test.append(input_data[i,0])\n",
    "\n",
    "x_test,y_test=np.array(x_test),np.array(y_test)\n",
    "print(x_test.shape)\n",
    "print(y_test.shape)"
   ]
  },
  {
   "cell_type": "markdown",
   "id": "73909423",
   "metadata": {},
   "source": [
    "*Predicting the values for 30th*"
   ]
  },
  {
   "cell_type": "code",
   "execution_count": 47,
   "id": "2b457dff",
   "metadata": {},
   "outputs": [
    {
     "name": "stdout",
     "output_type": "stream",
     "text": [
      "336/336 [==============================] - 45s 133ms/step\n"
     ]
    }
   ],
   "source": [
    "#Making Predictions\n",
    "y_predicted=model.predict(x_test)"
   ]
  },
  {
   "cell_type": "code",
   "execution_count": 48,
   "id": "ac804462",
   "metadata": {},
   "outputs": [
    {
     "name": "stdout",
     "output_type": "stream",
     "text": [
      "[0. 0. 0. ... 0. 0. 0.]\n",
      "[[-0.00522405]\n",
      " [-0.00517016]\n",
      " [-0.00501982]\n",
      " ...\n",
      " [ 0.        ]\n",
      " [ 0.        ]\n",
      " [ 0.        ]]\n"
     ]
    }
   ],
   "source": [
    "print(y_predicted)"
   ]
  },
  {
   "cell_type": "code",
   "execution_count": 49,
   "id": "6b235d03",
   "metadata": {},
   "outputs": [
    {
     "name": "stdout",
     "output_type": "stream",
     "text": [
      "[[438.96393]\n",
      " [438.964  ]\n",
      " [438.96417]\n",
      " ...\n",
      " [438.97   ]\n",
      " [438.97   ]\n",
      " [438.97   ]]\n"
     ]
    }
   ],
   "source": [
    "y_predicted= scaler.inverse_transform(y_predicted)\n",
    "print(y_predicted)"
   ]
  },
  {
   "cell_type": "markdown",
   "id": "51bb6728",
   "metadata": {},
   "source": [
    "# Data Visualization"
   ]
  },
  {
   "cell_type": "code",
   "execution_count": 105,
   "id": "d87e6089",
   "metadata": {},
   "outputs": [
    {
     "data": {
      "text/plain": [
       "Text(0, 0.5, 'Stock price')"
      ]
     },
     "execution_count": 105,
     "metadata": {},
     "output_type": "execute_result"
    },
    {
     "data": {
      "image/png": "[encoded data removed]",
      "text/plain": [
       "<Figure size 1200x600 with 1 Axes>"
      ]
     },
     "metadata": {},
     "output_type": "display_data"
    }
   ],
   "source": [
    "plt.figure(figsize=(12,6))\n",
    "plt.ylim(438.81, 439)\n",
    "plt.plot(y_predicted,'r+')\n",
    "plt.plot(testingData,'g')\n",
    "plt.xlabel('Time')\n",
    "plt.ylabel('Stock price')"
   ]
  },
  {
   "cell_type": "code",
   "execution_count": 88,
   "id": "57413052",
   "metadata": {},
   "outputs": [
    {
     "name": "stdout",
     "output_type": "stream",
     "text": [
      "[438.96393 438.964   438.96417 ... 438.97    438.97    438.97   ]\n"
     ]
    }
   ],
   "source": [
    "y_predicted=y_predicted.flatten()\n",
    "print(y_predicted)"
   ]
  },
  {
   "cell_type": "code",
   "execution_count": 95,
   "id": "292267f2",
   "metadata": {},
   "outputs": [
    {
     "name": "stdout",
     "output_type": "stream",
     "text": [
      "[438.97 438.97 438.97 ... 438.97 438.97 438.97]\n"
     ]
    }
   ],
   "source": [
    "original_value=testingData['stockPrice'].to_numpy()\n",
    "original_value=original_value.flatten()\n",
    "print(original_value)\n"
   ]
  },
  {
   "cell_type": "code",
   "execution_count": 103,
   "id": "537312c8",
   "metadata": {},
   "outputs": [],
   "source": [
    "from sklearn.metrics import mean_squared_error\n"
   ]
  },
  {
   "cell_type": "markdown",
   "id": "4c371155",
   "metadata": {},
   "source": [
    "*Using mean squared error to predict accuracy ( Less the mean square error more the accuracy)*"
   ]
  },
  {
   "cell_type": "code",
   "execution_count": 97,
   "id": "51d1a01b",
   "metadata": {
    "scrolled": true
   },
   "outputs": [
    {
     "name": "stdout",
     "output_type": "stream",
     "text": [
      "2.311852636893832e-08\n"
     ]
    }
   ],
   "source": [
    "print(mean_squared_error(original_value,y_predicted))"
   ]
  },
  {
   "cell_type": "markdown",
   "id": "d1708934",
   "metadata": {},
   "source": [
    "# Utilization of Analysis Results"
   ]
  },
  {
   "cell_type": "code",
   "execution_count": 108,
   "id": "854be8d5",
   "metadata": {},
   "outputs": [
    {
     "name": "stdout",
     "output_type": "stream",
     "text": [
      "[440.13 440.13 440.13 ... 430.26 430.26 430.26]\n"
     ]
    }
   ],
   "source": [
    "stock_price_till_29=data_till_29['stockPrice'].to_numpy()\n",
    "print(stock_price_till_29)"
   ]
  },
  {
   "cell_type": "code",
   "execution_count": 137,
   "id": "a96aab41",
   "metadata": {
    "scrolled": true
   },
   "outputs": [
    {
     "name": "stdout",
     "output_type": "stream",
     "text": [
      "221046\n"
     ]
    }
   ],
   "source": [
    "stock_price_till_30=np.concatenate((y_predicted, stock_price_till_29), axis=None)\n",
    "stock_price_till_30=np.append(430.26,stock_price_till_30)\n",
    "print(len(stock_price_till_30))"
   ]
  },
  {
   "cell_type": "code",
   "execution_count": 142,
   "id": "7052a32c",
   "metadata": {},
   "outputs": [
    {
     "data": {
      "text/html": [
       "<div>\n",
       "<style scoped>\n",
       "    .dataframe tbody tr th:only-of-type {\n",
       "        vertical-align: middle;\n",
       "    }\n",
       "\n",
       "    .dataframe tbody tr th {\n",
       "        vertical-align: top;\n",
       "    }\n",
       "\n",
       "    .dataframe thead th {\n",
       "        text-align: right;\n",
       "    }\n",
       "</style>\n",
       "<table border=\"1\" class=\"dataframe\">\n",
       "  <thead>\n",
       "    <tr style=\"text-align: right;\">\n",
       "      <th></th>\n",
       "      <th>date</th>\n",
       "      <th>adjusted close</th>\n",
       "      <th>expiration</th>\n",
       "      <th>strike</th>\n",
       "      <th>call/put</th>\n",
       "      <th>ask</th>\n",
       "      <th>bid</th>\n",
       "      <th>mean price</th>\n",
       "      <th>iv</th>\n",
       "      <th>volume</th>\n",
       "      <th>open interest</th>\n",
       "      <th>stockPrice</th>\n",
       "      <th>delta</th>\n",
       "      <th>vega</th>\n",
       "      <th>gamma</th>\n",
       "      <th>theta</th>\n",
       "      <th>rho</th>\n",
       "      <th>C</th>\n",
       "      <th>predictedStockPrice</th>\n",
       "    </tr>\n",
       "  </thead>\n",
       "  <tbody>\n",
       "    <tr>\n",
       "      <th>0</th>\n",
       "      <td>2021-07-30</td>\n",
       "      <td>438.51</td>\n",
       "      <td>07/30/2021</td>\n",
       "      <td>215.0</td>\n",
       "      <td>C</td>\n",
       "      <td>224.56</td>\n",
       "      <td>223.35</td>\n",
       "      <td>223.955</td>\n",
       "      <td>-1.0</td>\n",
       "      <td>0</td>\n",
       "      <td>0</td>\n",
       "      <td>438.97</td>\n",
       "      <td>0.0</td>\n",
       "      <td>0.0</td>\n",
       "      <td>0.0</td>\n",
       "      <td>0.0</td>\n",
       "      <td>0.0</td>\n",
       "      <td>430.260000</td>\n",
       "      <td>430.260000</td>\n",
       "    </tr>\n",
       "    <tr>\n",
       "      <th>1</th>\n",
       "      <td>2021-07-30</td>\n",
       "      <td>438.51</td>\n",
       "      <td>07/30/2021</td>\n",
       "      <td>215.0</td>\n",
       "      <td>P</td>\n",
       "      <td>0.01</td>\n",
       "      <td>0.00</td>\n",
       "      <td>0.000</td>\n",
       "      <td>-1.0</td>\n",
       "      <td>0</td>\n",
       "      <td>1401</td>\n",
       "      <td>438.97</td>\n",
       "      <td>0.0</td>\n",
       "      <td>0.0</td>\n",
       "      <td>0.0</td>\n",
       "      <td>0.0</td>\n",
       "      <td>0.0</td>\n",
       "      <td>438.963928</td>\n",
       "      <td>438.963928</td>\n",
       "    </tr>\n",
       "    <tr>\n",
       "      <th>2</th>\n",
       "      <td>2021-07-30</td>\n",
       "      <td>438.51</td>\n",
       "      <td>07/30/2021</td>\n",
       "      <td>220.0</td>\n",
       "      <td>C</td>\n",
       "      <td>219.56</td>\n",
       "      <td>218.35</td>\n",
       "      <td>218.955</td>\n",
       "      <td>-1.0</td>\n",
       "      <td>0</td>\n",
       "      <td>1</td>\n",
       "      <td>438.97</td>\n",
       "      <td>0.0</td>\n",
       "      <td>0.0</td>\n",
       "      <td>0.0</td>\n",
       "      <td>0.0</td>\n",
       "      <td>0.0</td>\n",
       "      <td>438.963989</td>\n",
       "      <td>438.963989</td>\n",
       "    </tr>\n",
       "    <tr>\n",
       "      <th>3</th>\n",
       "      <td>2021-07-30</td>\n",
       "      <td>438.51</td>\n",
       "      <td>07/30/2021</td>\n",
       "      <td>220.0</td>\n",
       "      <td>P</td>\n",
       "      <td>0.01</td>\n",
       "      <td>0.00</td>\n",
       "      <td>0.000</td>\n",
       "      <td>-1.0</td>\n",
       "      <td>50</td>\n",
       "      <td>328</td>\n",
       "      <td>438.97</td>\n",
       "      <td>0.0</td>\n",
       "      <td>0.0</td>\n",
       "      <td>0.0</td>\n",
       "      <td>0.0</td>\n",
       "      <td>0.0</td>\n",
       "      <td>438.964172</td>\n",
       "      <td>438.964172</td>\n",
       "    </tr>\n",
       "    <tr>\n",
       "      <th>4</th>\n",
       "      <td>2021-07-30</td>\n",
       "      <td>438.51</td>\n",
       "      <td>07/30/2021</td>\n",
       "      <td>225.0</td>\n",
       "      <td>C</td>\n",
       "      <td>214.56</td>\n",
       "      <td>213.35</td>\n",
       "      <td>213.955</td>\n",
       "      <td>-1.0</td>\n",
       "      <td>0</td>\n",
       "      <td>0</td>\n",
       "      <td>438.97</td>\n",
       "      <td>0.0</td>\n",
       "      <td>0.0</td>\n",
       "      <td>0.0</td>\n",
       "      <td>0.0</td>\n",
       "      <td>0.0</td>\n",
       "      <td>438.964478</td>\n",
       "      <td>438.964478</td>\n",
       "    </tr>\n",
       "  </tbody>\n",
       "</table>\n",
       "</div>"
      ],
      "text/plain": [
       "        date  adjusted close  expiration  strike call/put     ask     bid  \\\n",
       "0 2021-07-30          438.51  07/30/2021   215.0        C  224.56  223.35   \n",
       "1 2021-07-30          438.51  07/30/2021   215.0        P    0.01    0.00   \n",
       "2 2021-07-30          438.51  07/30/2021   220.0        C  219.56  218.35   \n",
       "3 2021-07-30          438.51  07/30/2021   220.0        P    0.01    0.00   \n",
       "4 2021-07-30          438.51  07/30/2021   225.0        C  214.56  213.35   \n",
       "\n",
       "   mean price   iv  volume  open interest  stockPrice  delta  vega  gamma  \\\n",
       "0     223.955 -1.0       0              0      438.97    0.0   0.0    0.0   \n",
       "1       0.000 -1.0       0           1401      438.97    0.0   0.0    0.0   \n",
       "2     218.955 -1.0       0              1      438.97    0.0   0.0    0.0   \n",
       "3       0.000 -1.0      50            328      438.97    0.0   0.0    0.0   \n",
       "4     213.955 -1.0       0              0      438.97    0.0   0.0    0.0   \n",
       "\n",
       "   theta  rho           C  predictedStockPrice  \n",
       "0    0.0  0.0  430.260000           430.260000  \n",
       "1    0.0  0.0  438.963928           438.963928  \n",
       "2    0.0  0.0  438.963989           438.963989  \n",
       "3    0.0  0.0  438.964172           438.964172  \n",
       "4    0.0  0.0  438.964478           438.964478  "
      ]
     },
     "execution_count": 142,
     "metadata": {},
     "output_type": "execute_result"
    }
   ],
   "source": [
    "data[\"predictedStockPrice\"] = pd.Series(stock_price_till_30)\n",
    "data.head()\n"
   ]
  },
  {
   "cell_type": "markdown",
   "id": "f27f414e",
   "metadata": {},
   "source": [
    "*Compared the stockPrice column with respect to predictedStcokPrice column*"
   ]
  },
  {
   "cell_type": "code",
   "execution_count": 144,
   "id": "eb509960",
   "metadata": {},
   "outputs": [
    {
     "data": {
      "text/plain": [
       "[<matplotlib.lines.Line2D at 0x2bde44249a0>]"
      ]
     },
     "execution_count": 144,
     "metadata": {},
     "output_type": "execute_result"
    },
    {
     "data": {
      "image/png": "[encoded data removed]",
      "text/plain": [
       "<Figure size 1200x600 with 1 Axes>"
      ]
     },
     "metadata": {},
     "output_type": "display_data"
    }
   ],
   "source": [
    "plt.figure(figsize=(12,6))\n",
    "plt.plot(data.date,data.stockPrice,'b+')\n",
    "plt.plot(data.date,data.predictedStockPrice,'r')\n",
    "\n"
   ]
  }
 ],
 "metadata": {
  "kernelspec": {
   "display_name": "Python 3 (ipykernel)",
   "language": "python",
   "name": "python3"
  },
  "language_info": {
   "codemirror_mode": {
    "name": "ipython",
    "version": 3
   },
   "file_extension": ".py",
   "mimetype": "text/x-python",
   "name": "python",
   "nbconvert_exporter": "python",
   "pygments_lexer": "ipython3",
   "version": "3.11.5"
  },
  "widgets": {
   "application/vnd.jupyter.widget-state+json": {
    "state": {},
    "version_major": 2,
    "version_minor": 0
   }
  }
 },
 "nbformat": 4,
 "nbformat_minor": 5
}
