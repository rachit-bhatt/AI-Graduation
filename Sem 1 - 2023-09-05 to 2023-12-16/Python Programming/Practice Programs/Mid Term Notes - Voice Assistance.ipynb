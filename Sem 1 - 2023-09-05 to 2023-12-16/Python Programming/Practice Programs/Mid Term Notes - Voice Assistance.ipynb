{
 "cells": [
  {
   "cell_type": "code",
   "execution_count": 1,
   "id": "5d282e90-208e-4e2d-8a00-b82637fcf7ed",
   "metadata": {},
   "outputs": [],
   "source": [
    "# Python program to translate \n",
    "# speech to text and text to speech \n",
    "\n",
    "import speech_recognition as sr\n",
    "import pyttsx3"
   ]
  },
  {
   "cell_type": "code",
   "execution_count": 2,
   "id": "58141fac-e9df-4148-8af1-cdbc0a184b85",
   "metadata": {},
   "outputs": [],
   "source": [
    "# Initialize the recognizer \n",
    "r = sr.Recognizer()"
   ]
  },
  {
   "cell_type": "code",
   "execution_count": 3,
   "id": "c4953b15-ba79-404e-80b0-5f37252d76f5",
   "metadata": {},
   "outputs": [],
   "source": [
    "# Function to convert text to speech \n",
    "def SpeakText(command):\n",
    "\t\n",
    "\t# Initialize the engine\n",
    "\tengine = pyttsx3.init()\n",
    "\tengine.say(command)\n",
    "\tengine.runAndWait()"
   ]
  },
  {
   "cell_type": "code",
   "execution_count": 4,
   "id": "890c557b-2590-4268-9cdb-2cce06c1d4ba",
   "metadata": {},
   "outputs": [],
   "source": [
    "def execute_main():\n",
    "    MyText = ''\n",
    "    \n",
    "    # Loop infinitely for user to speak\n",
    "    while(MyText.lower() != 'exit'):\n",
    "    \t\n",
    "    \t# Exception handling to handle\n",
    "    \t# exceptions at the runtime\n",
    "    \ttry:\n",
    "    \t\t\n",
    "    \t\t# use the microphone as source for input.\n",
    "    \t\twith sr.Microphone() as source2:\n",
    "    \t\t\t\n",
    "    \t\t\t# wait for a second to let the recognizer\n",
    "    \t\t\t# adjust the energy threshold based on\n",
    "    \t\t\t# the surrounding noise level\n",
    "    \t\t\tr.adjust_for_ambient_noise(source2, duration=0.2)\n",
    "    \t\t\t\n",
    "    \t\t\t#listens for the user's input\n",
    "    \t\t\taudio2 = r.listen(source2)\n",
    "    \t\t\t\n",
    "    \t\t\t# Using google to recognize audio\n",
    "    \t\t\tMyText = r.recognize_google(audio2)\n",
    "    \t\t\tMyText = MyText.lower()\n",
    "    \n",
    "    \t\t\tprint(\"Did you say \" + MyText)\n",
    "    \t\t\tSpeakText(MyText)\n",
    "    \t\t\t\n",
    "    \texcept sr.RequestError as e:\n",
    "    \t\tprint(\"Could not request results; {0}\".format(e))\n",
    "    \t\t\n",
    "    \texcept sr.UnknownValueError:\n",
    "    \t\tprint(\"unknown error occurred\")\n",
    "\n",
    "#execute_main()"
   ]
  },
  {
   "cell_type": "code",
   "execution_count": 5,
   "id": "14ceb3dc-d0b5-4aae-865d-6aa50984c684",
   "metadata": {},
   "outputs": [],
   "source": [
    "# Import the required module for text \n",
    "# to speech conversion \n",
    "from gtts import gTTS\n",
    "\n",
    "# This module is imported so that we can \n",
    "# play the converted audio \n",
    "import os\n",
    "\n",
    "import playsound as ps\n",
    "import time"
   ]
  },
  {
   "cell_type": "code",
   "execution_count": 6,
   "id": "5a3cf554-796d-4179-a296-32abdb63a76a",
   "metadata": {},
   "outputs": [],
   "source": [
    "def text_to_speech(mytext):\n",
    "    # Passing the text and language to the engine,\n",
    "    # here we have marked slow=False. Which tells\n",
    "    # the module that the converted audio should\n",
    "    # have a high speed\n",
    "    myobj = gTTS(text=mytext, lang='en', slow=False)\n",
    "    \n",
    "    # Saving the converted audio in a mp3 file named welcome\n",
    "    myobj.save('speech.mp3')\n",
    "    \n",
    "    # Playing the converted file\n",
    "    #os.system(\"mpg321 speech.mp3\")\n",
    "    #os.system(\"start speech.mp3\")\n",
    "    ps.playsound('speech.mp3')\n",
    "\n",
    "    # Deleting the file because of\n",
    "    # no problem occurs because of\n",
    "    # file operations.\n",
    "    os.remove('speech.mp3')"
   ]
  },
  {
   "cell_type": "code",
   "execution_count": 7,
   "id": "d9ed4a9e-7719-4d3b-92cc-d2bb2bb510bd",
   "metadata": {},
   "outputs": [],
   "source": [
    "# Method helping the main logic\n",
    "# for reducing the code-duplicacy.\n",
    "def exit_code(text):\n",
    "    return text.lower() == 'q'"
   ]
  },
  {
   "cell_type": "code",
   "execution_count": 8,
   "id": "758f8d59-c98c-47f0-b982-d4d0fc243be2",
   "metadata": {},
   "outputs": [
    {
     "name": "stdin",
     "output_type": "stream",
     "text": [
      "Enter Your Text:  Uber’s safety issues still loom large: Another five passengers sue company over alleged sexual assault incidents By Sara Ashley O'Brien, CNN Business Estimated read time is 4 minutes Published at 8 PM EDT on Thu July 14 2022  (CNN) - Five more passengers are suing Uber over alleged sexual assault incidents that occurred in recent months at the hands of drivers on its platform. The lawsuit is the latest reminder of the flood of lawsuits that Uber and competitor Lyft face as they work to combat well-known safety issues on their platforms, especially for female riders. The incidents detailed in a lawsuit filed this week in San Francisco County Superior Court took place between August 2021 to February 2022 in Massachusetts, Pennsylvania, Illinois and California. They include: a plaintiff who alleges she was “digitally penetrated” by a driver who then attempted rape; another plaintiff who alleges she had her breasts fondled by a driver who then raped her; and another who alleges her driver “began masturbating in the driver’s seat” and then forced her to perform oral sex while he held down her head. The lawsuit was filed on behalf of five Jane Does by law firm Slater Slater Schulman LLP as a multiparty complaint to be litigated individually. The firm said it has retained roughly 550 clients who have claims against Uber; it is actively investigating about 150 others, it said. However, the firm said it has only filed lawsuits against Uber for a small number of these claims to date, or 24 cases. Uber, in a statement, said the company does not comment on pending litigation, but that it takes “every single report seriously.” “There is nothing more important than safety, which is why Uber has built new safety features, established survivor-centric policies, and been more transparent about serious incidents,” a spokesperson said in the statement. The lawsuit specifies that while Uber markets itself as a company that provides safe rides, it doesn’t make clear the known risks and limitations of its service to customers. “Uber does not inform riders … that hailing a ride after drinking puts riders in peril from the drivers themselves. By marketing heavily to young women who have been drinking, and promising safe rides, Uber puts riders in peril,” the lawsuit reads. Slater Slater Schulman LLP is among several firms with practices targeting safety issues on Uber and Lyft’s services. A mass tort claim brought by firms like Estey & Bomberger and Levin Simes Abrams indicates there are more than 700 cases filed by other plaintiffs. Some cases Lyft is facing are slated to go to trial through a coordinated proceeding later this year. The lawsuit comes two weeks after Uber released its second-ever safety report, in which it disclosed that it recorded 141 reports of rape in the United States in 2020 even as its ridership was decimated by the pandemic. Across its two safety reports, which cover 2017 to 2020, the company disclosed that it received 9,805 reports of the most severe categories of sexual assault, which range from “non-consensual kissing of a non-sexual body part” to “non-consensual sexual penetration,” or rape. Uber notes on its website that as “the numbers in both reports show, critical safety incidents on our platform are, statistically, extremely rare.” Lyft, in a blog post accompanying its safety report released last year, said: “while safety incidents on our platform are incredibly rare, we realize that even one is too many. Behind every report is a real person and real experience, and our goal is to make each Lyft ride as safe as we possibly can.” Uber, followed by Lyft, initially pledged to put together a safety transparency report in response to a 2018 CNN investigation into drivers accused of sexual assault or abuse by passengers since 2014, based on publicly available data including police reports. After CNN began asking questions about sexual assaults, Uber announced new safety measures such as a partnership with RapidSOS, which sends a rider’s location and relevant information to a local police agency when the rider uses an emergency button in the Uber app. The company also revamped its approach to background checks. In March 2021, Uber and Lyft announced they would share the names of drivers who were deactivated over the most severe safety incidents. Still, the lawsuit alleges Uber’s approach is inadequate. Among other measures, the lawsuit states that installing and requiring video cameras in cars would having a chilling effect on “the wantonness of potential predators.” In response to CNN’s 2018 report, Uber, followed by Lyft, said it would no longer force into arbitration passengers who allege that they have been sexually assaulted or harassed by drivers, which has paved the way for such claims to be filed against the company.\n",
      "Enter Your Text:  Q\n"
     ]
    }
   ],
   "source": [
    "text = ''\n",
    "\n",
    "while (not exit_code(text)):\n",
    "    try:\n",
    "        text = input('Enter Your Text: ')\n",
    "        \n",
    "        if exit_code(text):\n",
    "            text = 'I\\'m going offline.\\nSee you soon!'\n",
    "            text_to_speech(text)\n",
    "            break\n",
    "\n",
    "        # Business Logic:\n",
    "        text_to_speech(text)\n",
    "        \n",
    "    except Exception as ex:\n",
    "        print(f'Something went wrong! { ex }')"
   ]
  },
  {
   "cell_type": "code",
   "execution_count": 16,
   "id": "981889cd-02df-49cb-85d3-b0222658334f",
   "metadata": {},
   "outputs": [
    {
     "name": "stdout",
     "output_type": "stream",
     "text": [
      "<class 'float'>\n",
      "<class 'str'>\n",
      "<class 'str'>\n"
     ]
    }
   ],
   "source": [
    "f = 5.5\n",
    "print(type(f))\n",
    "s = 'Hi'\n",
    "print(type(s))\n",
    "s = '123 333 3344'\n",
    "print(type(s))"
   ]
  },
  {
   "cell_type": "code",
   "execution_count": 26,
   "id": "c204b77c-4f0a-4ff0-a723-a79bfd4c7633",
   "metadata": {},
   "outputs": [],
   "source": [
    "a = (\n",
    "    1, 2,\n",
    "    3, 4\n",
    ")"
   ]
  },
  {
   "cell_type": "code",
   "execution_count": 27,
   "id": "f4153e6c-45b1-430f-98aa-448a64b9cf74",
   "metadata": {},
   "outputs": [],
   "source": [
    "b = list(a)"
   ]
  },
  {
   "cell_type": "code",
   "execution_count": 29,
   "id": "164f75ef-69a7-49da-b7ca-61d339b28b5b",
   "metadata": {},
   "outputs": [],
   "source": [
    "b[0] = 0"
   ]
  },
  {
   "cell_type": "code",
   "execution_count": 30,
   "id": "42922229-70eb-4eee-8582-119e8b9d4790",
   "metadata": {},
   "outputs": [],
   "source": [
    "a = tuple(b)"
   ]
  },
  {
   "cell_type": "code",
   "execution_count": 31,
   "id": "37416673-171c-4f05-a1c2-fc3505610719",
   "metadata": {},
   "outputs": [
    {
     "data": {
      "text/plain": [
       "(0, 2, 3, 4)"
      ]
     },
     "execution_count": 31,
     "metadata": {},
     "output_type": "execute_result"
    }
   ],
   "source": [
    "a"
   ]
  },
  {
   "cell_type": "code",
   "execution_count": 52,
   "id": "d7c93d54-6816-42c1-a432-a746e6eee636",
   "metadata": {},
   "outputs": [
    {
     "data": {
      "text/plain": [
       "(1, 2, 3, 4)"
      ]
     },
     "execution_count": 52,
     "metadata": {},
     "output_type": "execute_result"
    }
   ],
   "source": [
    "a = (1,) + a[1:]\n",
    "a"
   ]
  },
  {
   "cell_type": "code",
   "execution_count": 59,
   "id": "63ef3b24-f469-48cc-90e3-828910838081",
   "metadata": {},
   "outputs": [
    {
     "name": "stdout",
     "output_type": "stream",
     "text": [
      "Rachit\n",
      "Rachit\n"
     ]
    }
   ],
   "source": [
    "x = {\n",
    "    'name' : ['Tanmay', 'Rachit']\n",
    "}\n",
    "print(x['name'][1])\n",
    "y = x['name']\n",
    "print(y[1])"
   ]
  },
  {
   "cell_type": "code",
   "execution_count": 64,
   "id": "b4b8ca08-736c-4ef6-ae5f-6c159ce0d2d0",
   "metadata": {},
   "outputs": [
    {
     "data": {
      "text/plain": [
       "\"Tanmay's laptop is good.\""
      ]
     },
     "execution_count": 64,
     "metadata": {},
     "output_type": "execute_result"
    }
   ],
   "source": [
    "s = \"Tanmay's laptop is good.\"\n",
    "s"
   ]
  },
  {
   "cell_type": "code",
   "execution_count": 42,
   "id": "5fed1f2d-cbe7-4a08-a338-dc5d578d8f60",
   "metadata": {},
   "outputs": [],
   "source": [
    "s = {1, 1, 2, 4, 6, 7, 8, 3, 5}\n",
    "r = {11, 543, 132, 41, 1, 2}"
   ]
  },
  {
   "cell_type": "code",
   "execution_count": 49,
   "id": "8e0da4cf-4252-43bf-b255-2cab4c44dca0",
   "metadata": {},
   "outputs": [
    {
     "data": {
      "text/plain": [
       "{3, 4, 5, 6, 7, 8}"
      ]
     },
     "execution_count": 49,
     "metadata": {},
     "output_type": "execute_result"
    }
   ],
   "source": [
    "s.difference(r)"
   ]
  },
  {
   "cell_type": "code",
   "execution_count": 65,
   "id": "b387a99e-6e79-47f1-99af-57d62bafe193",
   "metadata": {},
   "outputs": [],
   "source": [
    "# int a = 90;\n",
    "a = 90"
   ]
  },
  {
   "cell_type": "code",
   "execution_count": 66,
   "id": "5faed3b2-0edd-4855-ab72-b018296adee2",
   "metadata": {},
   "outputs": [
    {
     "data": {
      "text/plain": [
       "int"
      ]
     },
     "execution_count": 66,
     "metadata": {},
     "output_type": "execute_result"
    }
   ],
   "source": [
    "type(a)"
   ]
  },
  {
   "cell_type": "code",
   "execution_count": 69,
   "id": "56a262b9-152a-41d8-aab6-4b0566d694c5",
   "metadata": {},
   "outputs": [
    {
     "name": "stdout",
     "output_type": "stream",
     "text": [
      "Hi\n"
     ]
    }
   ],
   "source": [
    "x = 'Hi'\n",
    "\n",
    "print(x) #here x is the argument/parameter"
   ]
  },
  {
   "cell_type": "code",
   "execution_count": 74,
   "id": "d2dab5f5-46dd-4b14-abca-4666f6de272e",
   "metadata": {},
   "outputs": [
    {
     "name": "stdout",
     "output_type": "stream",
     "text": [
      "Hi\n"
     ]
    }
   ],
   "source": [
    "def printf(text): # text - Parameter\n",
    "    print(text)\n",
    "\n",
    "x = 'Hi'\n",
    "printf(x) # x - Argument"
   ]
  },
  {
   "cell_type": "code",
   "execution_count": 75,
   "id": "de4f6378-bc24-4e2f-b537-7253492d3696",
   "metadata": {},
   "outputs": [
    {
     "data": {
      "text/plain": [
       "bool"
      ]
     },
     "execution_count": 75,
     "metadata": {},
     "output_type": "execute_result"
    }
   ],
   "source": [
    "b = True\n",
    "type(b)"
   ]
  },
  {
   "cell_type": "code",
   "execution_count": 79,
   "id": "0c2365c8-fc14-47c2-83ab-1263173ac60f",
   "metadata": {},
   "outputs": [
    {
     "data": {
      "text/plain": [
       "bool"
      ]
     },
     "execution_count": 79,
     "metadata": {},
     "output_type": "execute_result"
    }
   ],
   "source": [
    "b = 0\n",
    "type(b == 6)"
   ]
  },
  {
   "cell_type": "code",
   "execution_count": 89,
   "id": "f913f035-51f3-4400-823d-b2b490ee8831",
   "metadata": {},
   "outputs": [
    {
     "name": "stdout",
     "output_type": "stream",
     "text": [
      "True\n"
     ]
    }
   ],
   "source": [
    "a = 1\n",
    "b = 2\n",
    "\n",
    "print(b == 6 or a == 1)"
   ]
  },
  {
   "cell_type": "code",
   "execution_count": 92,
   "id": "7d2a4d28-bcf1-4d66-a103-ce5af65ea849",
   "metadata": {},
   "outputs": [
    {
     "data": {
      "text/plain": [
       "3.142857142857143"
      ]
     },
     "execution_count": 92,
     "metadata": {},
     "output_type": "execute_result"
    }
   ],
   "source": [
    "p = 22/7\n",
    "p"
   ]
  },
  {
   "cell_type": "code",
   "execution_count": 98,
   "id": "a669bbef-a206-465a-bd30-9e5635ac4183",
   "metadata": {},
   "outputs": [
    {
     "data": {
      "text/plain": [
       "Fraction(7077085128725065, 2251799813685248)"
      ]
     },
     "execution_count": 98,
     "metadata": {},
     "output_type": "execute_result"
    }
   ],
   "source": [
    "import fractions as f\n",
    "\n",
    "f.Fraction(22/7)"
   ]
  },
  {
   "cell_type": "code",
   "execution_count": 101,
   "id": "7a80cc1c-90bd-4e24-ac06-fce9d3fb06ff",
   "metadata": {},
   "outputs": [
    {
     "data": {
      "text/plain": [
       "'123!@#Hello'"
      ]
     },
     "execution_count": 101,
     "metadata": {},
     "output_type": "execute_result"
    }
   ],
   "source": [
    "s = '123!@#Hello'\n",
    "s"
   ]
  },
  {
   "cell_type": "code",
   "execution_count": 102,
   "id": "63deba77-20f6-4323-b6bf-517a97f7f1fb",
   "metadata": {},
   "outputs": [
    {
     "name": "stdin",
     "output_type": "stream",
     "text": [
      "Enter your name Tanmay\n"
     ]
    },
    {
     "name": "stdout",
     "output_type": "stream",
     "text": [
      "Your name is Tanmay\n"
     ]
    }
   ],
   "source": [
    "n = input('Enter your name: ')\n",
    "print('Your name is', n)"
   ]
  },
  {
   "cell_type": "code",
   "execution_count": 109,
   "id": "fe319149-234d-4241-8471-79fa1d144a8e",
   "metadata": {},
   "outputs": [
    {
     "name": "stdout",
     "output_type": "stream",
     "text": [
      "<class 'list'>\n"
     ]
    }
   ],
   "source": [
    "print(type(list(tuple(set(n))))) # Nested function call, starts from calling set(), all the way to print()."
   ]
  },
  {
   "cell_type": "code",
   "execution_count": 146,
   "id": "3f564983-a4d3-4c77-83b6-c00203d2880d",
   "metadata": {},
   "outputs": [
    {
     "data": {
      "text/plain": [
       "1.5555555555555556"
      ]
     },
     "execution_count": 146,
     "metadata": {},
     "output_type": "execute_result"
    }
   ],
   "source": [
    "14 / 9 # Division"
   ]
  },
  {
   "cell_type": "code",
   "execution_count": 147,
   "id": "02bacafa-e5b8-4a96-aba9-b0591ee555e5",
   "metadata": {},
   "outputs": [
    {
     "data": {
      "text/plain": [
       "1"
      ]
     },
     "execution_count": 147,
     "metadata": {},
     "output_type": "execute_result"
    }
   ],
   "source": [
    "14 // 9 # Floor Division"
   ]
  },
  {
   "cell_type": "code",
   "execution_count": 113,
   "id": "7d98c896-636a-41b8-ae70-8872f6bb9938",
   "metadata": {},
   "outputs": [
    {
     "data": {
      "text/plain": [
       "25"
      ]
     },
     "execution_count": 113,
     "metadata": {},
     "output_type": "execute_result"
    }
   ],
   "source": [
    "5 ** 2 # 5 * 5 (twice)"
   ]
  },
  {
   "cell_type": "code",
   "execution_count": 114,
   "id": "ccb1c923-9217-4c89-a0c6-6fa63f508440",
   "metadata": {},
   "outputs": [
    {
     "data": {
      "text/plain": [
       "125"
      ]
     },
     "execution_count": 114,
     "metadata": {},
     "output_type": "execute_result"
    }
   ],
   "source": [
    "5 ** 3 # 5 * 5 * 5 (thrice)"
   ]
  },
  {
   "cell_type": "code",
   "execution_count": 116,
   "id": "312f064d-3997-4d4b-b409-415a460104ab",
   "metadata": {},
   "outputs": [
    {
     "data": {
      "text/plain": [
       "15.571428571428571"
      ]
     },
     "execution_count": 116,
     "metadata": {},
     "output_type": "execute_result"
    }
   ],
   "source": [
    "5 * 3 +\\\n",
    "4 - 3 /\\\n",
    "7 * 8"
   ]
  },
  {
   "cell_type": "code",
   "execution_count": 119,
   "id": "90fb5180-420b-4f85-a52d-4885d33d08b5",
   "metadata": {},
   "outputs": [
    {
     "data": {
      "text/plain": [
       "71"
      ]
     },
     "execution_count": 119,
     "metadata": {},
     "output_type": "execute_result"
    }
   ],
   "source": [
    "x = (5 + 3 -\n",
    "     7 + 2 *\n",
    "     30 + 6 -\n",
    "     3 + 7)\n",
    "x"
   ]
  },
  {
   "cell_type": "code",
   "execution_count": 148,
   "id": "12882e4f-e1ed-4d85-9af1-bd3d04c65537",
   "metadata": {},
   "outputs": [
    {
     "name": "stdout",
     "output_type": "stream",
     "text": [
      "Hello, world!\n",
      "\n",
      "How are you?\tWhat are you doing?\n"
     ]
    }
   ],
   "source": [
    "print('Hello, world!')\n",
    "print('\\nHow are you?', end = '')\n",
    "print('\\tWhat are you doing?')"
   ]
  },
  {
   "cell_type": "code",
   "execution_count": 135,
   "id": "f8bb64cb-e237-4d4e-afe9-5407724753b5",
   "metadata": {},
   "outputs": [
    {
     "name": "stdout",
     "output_type": "stream",
     "text": [
      "Hello, world! Tanmay\n",
      "How are you? Tanmay\tWhat are you doing? Tanamy"
     ]
    }
   ],
   "source": [
    "print('Hello, world!', end = ' Tanmay')\n",
    "print('\\nHow are you?', end = ' Tanmay')\n",
    "print('\\tWhat are you doing?', end = ' Tanamy')"
   ]
  },
  {
   "cell_type": "code",
   "execution_count": 150,
   "id": "0d050c01-a01b-490b-a6d8-ded53ea111ec",
   "metadata": {},
   "outputs": [
    {
     "name": "stdout",
     "output_type": "stream",
     "text": [
      "New bank balance: 12500.0\n"
     ]
    }
   ],
   "source": [
    "# Input:\n",
    "INTEREST = 2.5\n",
    "salary = 5000\n",
    "####################################\n",
    "# Processing:\n",
    "#INTEREST = 3\n",
    "# PI = 22/7\n",
    "new_bank_balance = salary * INTEREST\n",
    "#####################################\n",
    "# Output:\n",
    "print('New bank balance:', end = ' ')\n",
    "print(new_bank_balance)"
   ]
  }
 ],
 "metadata": {
  "kernelspec": {
   "display_name": "Python 3 (ipykernel)",
   "language": "python",
   "name": "python3"
  },
  "language_info": {
   "codemirror_mode": {
    "name": "ipython",
    "version": 3
   },
   "file_extension": ".py",
   "mimetype": "text/x-python",
   "name": "python",
   "nbconvert_exporter": "python",
   "pygments_lexer": "ipython3",
   "version": "3.11.5"
  },
  "widgets": {
   "application/vnd.jupyter.widget-state+json": {
    "state": {},
    "version_major": 2,
    "version_minor": 0
   }
  }
 },
 "nbformat": 4,
 "nbformat_minor": 5
}
