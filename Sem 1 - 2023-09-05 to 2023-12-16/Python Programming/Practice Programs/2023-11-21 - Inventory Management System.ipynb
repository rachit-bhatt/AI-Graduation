{
 "cells": [
  {
   "cell_type": "markdown",
   "id": "da99f6e2-0ab2-4577-8dc4-9c3e1aadd193",
   "metadata": {},
   "source": [
    "<center><h1>Inventory Management System</h1></center>\n",
    "Run the code and familiarize themselves with the inventory management system."
   ]
  },
  {
   "cell_type": "markdown",
   "id": "8dbe7a6c-ecef-4018-ae1c-1c7061fb2006",
   "metadata": {},
   "source": [
    "### 1. Adding Item:\n",
    "##### Add a new option to the menu that allows users to remove items from the inventory. The user should be able to enter the item name and the quantity to remove.\n",
    "### 2. Remove Item:\n",
    "##### Implement error handling for the quantity input to ensure the user enters a valid positive integer for both adding and removing items.\n",
    "### 3. Search Item:\n",
    "##### Modify the code to display a warning message if the user tries to remove more items than are currently in stock.\n",
    "### 4. Display Total Number of Items:\n",
    "##### Add an option to the menu that allows the user to search for an item in the inventory. The user should enter the item name, and the program should display its quantity if it exists in the inventory; otherwise, it should display a message indicating that the item is not in stock.\n",
    "### 5. Display\n",
    "##### Create a new function that calculates the total number of items in the inventory and displays the result. Add this option to the menu as well."
   ]
  },
  {
   "cell_type": "code",
   "execution_count": 5,
   "id": "0359e88a-4b82-403a-9cdb-88436bfaa592",
   "metadata": {},
   "outputs": [],
   "source": [
    "#region Inventory-Management-System\n",
    "\n",
    "class Inventory():\n",
    "\n",
    "    def __init__(self, items_name = list(), items_count = list()):\n",
    "\n",
    "        self.items = {}\n",
    "\n",
    "        if len(items_name) == len(items_count):\n",
    "\n",
    "            iteration = 0\n",
    "            \n",
    "            while iteration < len(items_name) or iteration < len(items_count):\n",
    "                # item = Item(items_name[iteration], items_count[iteration])\n",
    "                # self.add(item)\n",
    "                self.items[items_name[iteration]] = items_count[iteration]\n",
    "                iteration += 1\n",
    "        else:\n",
    "            raise TypeError('The number of names are not equal to number of item count!')\n",
    "\n",
    "    def add(self, item_name, item_count):\n",
    "        if self.search(item_name) == -1:\n",
    "            if item_count >= 0:\n",
    "                self.items[item_name] = item_count\n",
    "            else:\n",
    "                raise ValueError(f'You cannot have { item_count } items in your inventory!')\n",
    "        else:\n",
    "            raise ValueError(f'{ item_name } is already in the inventory!')\n",
    "\n",
    "    def update(self, item_name, item_count):\n",
    "        if self.search(item_name) >= 0:\n",
    "            if item_count >= 0:\n",
    "                self.items[item_name] = item_count\n",
    "            else:\n",
    "                raise ValueError(f'You cannot have { item_count } items in your inventory!')\n",
    "        else:\n",
    "            raise ValueError(f'{ item_name } is not in the inventory!')\n",
    "\n",
    "    def remove(self, item_name):\n",
    "        if self.search(item_name) >= 0:\n",
    "            del self.items[item_name]\n",
    "        else:\n",
    "            raise ValueError(f'{ item_name } is not in the inventory!')\n",
    "\n",
    "    def remove_item(self, item_name, count):\n",
    "        if self.search(item_name):\n",
    "            new_count = self.items[item_name] - count\n",
    "            if new_count >= 0:\n",
    "                self.update(item_name, new_count)\n",
    "            else:\n",
    "                raise ValueError(f'You can not have { new_count } items in your inventory!')\n",
    "        else:\n",
    "            raise ValueError(f'{ item_name } is not in the inventory!')\n",
    "\n",
    "    def search(self, item_name):\n",
    "        return self.items[item_name] if item_name in self.items.keys() else -1\n",
    "\n",
    "#endregion\n",
    "\n",
    "#region Helping Functions:\n",
    "\n",
    "class UserInteraction():\n",
    "\n",
    "    def __init__(self) -> None:\n",
    "        self.choice = 0\n",
    "        self.inventory = Inventory()\n",
    "\n",
    "    def choice_error(self) -> None:\n",
    "        error_msg = 'Error: Please choose from the given menu.'\n",
    "        #raise TypeError(error_msg)\n",
    "        print(error_msg)\n",
    "        self.choice = 0\n",
    "\n",
    "    def display_items(self) -> None:\n",
    "        for name, count in self.inventory.items.items():\n",
    "            print(f'{ name }: { count }')\n",
    "\n",
    "    def describe_item_names(self) -> None:\n",
    "        names = self.inventory.items.keys()\n",
    "\n",
    "        if len(names) > 0:\n",
    "\n",
    "            print('Items:')\n",
    "            print('------')\n",
    "\n",
    "            iteration = 1\n",
    "\n",
    "            for name in names:\n",
    "                print(f'{ iteration }. { name }')\n",
    "                iteration += 1\n",
    "        \n",
    "    def menu(self) -> None:\n",
    "\n",
    "        while self.choice != 5:\n",
    "            print('=================================')\n",
    "            print('Inventory Management System:')\n",
    "            print('=================================')\n",
    "            print('1. Add Item')\n",
    "            print('2. Remove Item')\n",
    "            print('3. Update Item')\n",
    "            print('4. Search Item')\n",
    "            print('5. Display Total Number of Items')\n",
    "            print('6. Exit')\n",
    "            print('=================================')\n",
    "\n",
    "            self.choice = input('Choose From 1-6: ')\n",
    "\n",
    "            #region Switch\n",
    "\n",
    "            if self.choice == '1': # Add Item.\n",
    "\n",
    "                name = input('Please enter Item-Name: ')\n",
    "\n",
    "                try:\n",
    "                    count = int(input(f'Please enter Item-Count for { name }: '))\n",
    "                    \n",
    "                except TypeError:\n",
    "                    print('The Item-Count must be a number.')\n",
    "                    print('The item was not added in the inventory.')\n",
    "                    continue\n",
    "\n",
    "                self.inventory.add(name, count)\n",
    "                continue\n",
    "\n",
    "            elif self.choice == '2': # Remove Item.\n",
    "\n",
    "                self.describe_item_names()\n",
    "\n",
    "                name = input('Please enter Item-Name: ')\n",
    "\n",
    "                self.inventory.remove(name)\n",
    "                continue\n",
    "\n",
    "            elif self.choice == '3': # Update Item.\n",
    "                self.describe_item_names()\n",
    "                \n",
    "                name = input('Please enter Item-Name: ')\n",
    "\n",
    "                try:\n",
    "                    count = int(input(f'Please enter the new Item-Count for { name }: '))\n",
    "                    \n",
    "                except TypeError:\n",
    "                    print('The Item-Count must be a number.')\n",
    "                    print('The item was not added in the inventory.')\n",
    "                    continue\n",
    "\n",
    "                self.inventory.update(name, count)\n",
    "                continue\n",
    "\n",
    "            elif self.choice == '4': # Search Item.\n",
    "\n",
    "                name = input('Please enter Item-Name to Search: ')\n",
    "\n",
    "                quantity = self.inventory.search(name)\n",
    "\n",
    "                if quantity != -1:\n",
    "                    print(f'{ name } found in the inventory having { quantity } quantity.')\n",
    "                else:\n",
    "                    print(f'{ name } not found!')\n",
    "                continue\n",
    "\n",
    "            elif self.choice == '5': # Display total number of items.\n",
    "                if len(self.inventory.items) > 0:\n",
    "                    print('---------------------------------')\n",
    "                    print('Items in the Inventory:')\n",
    "                    print('---------------------------------')\n",
    "                    self.display_items()\n",
    "                    print('---------------------------------')\n",
    "                else:\n",
    "                    print('No item found!')\n",
    "                continue\n",
    "\n",
    "            elif self.choice == '6': # Exit.\n",
    "                print('Thank you for using our inventory management system!')\n",
    "                break\n",
    "\n",
    "            else: # Wrong Choice.\n",
    "                self.choice_error()\n",
    "                continue\n",
    "\n",
    "            #endregion\n",
    "\n",
    "            print()\n",
    "\n",
    "#endregion"
   ]
  },
  {
   "cell_type": "code",
   "execution_count": 6,
   "id": "9bf3c4f4-8039-400b-971d-14ee15bed70d",
   "metadata": {},
   "outputs": [
    {
     "name": "stdout",
     "output_type": "stream",
     "text": [
      "=================================\n",
      "Inventory Management System:\n",
      "=================================\n",
      "1. Add Item\n",
      "2. Remove Item\n",
      "3. Update Item\n",
      "4. Search Item\n",
      "5. Display Total Number of Items\n",
      "6. Exit\n",
      "=================================\n"
     ]
    },
    {
     "name": "stdin",
     "output_type": "stream",
     "text": [
      "Choose From 1-6:  1\n",
      "Please enter Item-Name:  Dryer\n",
      "Please enter Item-Count for Dryer:  12\n"
     ]
    },
    {
     "name": "stdout",
     "output_type": "stream",
     "text": [
      "=================================\n",
      "Inventory Management System:\n",
      "=================================\n",
      "1. Add Item\n",
      "2. Remove Item\n",
      "3. Update Item\n",
      "4. Search Item\n",
      "5. Display Total Number of Items\n",
      "6. Exit\n",
      "=================================\n"
     ]
    },
    {
     "name": "stdin",
     "output_type": "stream",
     "text": [
      "Choose From 1-6:  1\n",
      "Please enter Item-Name:  Cooker\n",
      "Please enter Item-Count for Cooker:  17\n"
     ]
    },
    {
     "name": "stdout",
     "output_type": "stream",
     "text": [
      "=================================\n",
      "Inventory Management System:\n",
      "=================================\n",
      "1. Add Item\n",
      "2. Remove Item\n",
      "3. Update Item\n",
      "4. Search Item\n",
      "5. Display Total Number of Items\n",
      "6. Exit\n",
      "=================================\n"
     ]
    },
    {
     "name": "stdin",
     "output_type": "stream",
     "text": [
      "Choose From 1-6:  1\n",
      "Please enter Item-Name:  Chocalate\n",
      "Please enter Item-Count for Chocalate:  72\n"
     ]
    },
    {
     "name": "stdout",
     "output_type": "stream",
     "text": [
      "=================================\n",
      "Inventory Management System:\n",
      "=================================\n",
      "1. Add Item\n",
      "2. Remove Item\n",
      "3. Update Item\n",
      "4. Search Item\n",
      "5. Display Total Number of Items\n",
      "6. Exit\n",
      "=================================\n"
     ]
    },
    {
     "name": "stdin",
     "output_type": "stream",
     "text": [
      "Choose From 1-6:  3\n"
     ]
    },
    {
     "name": "stdout",
     "output_type": "stream",
     "text": [
      "Items:\n",
      "------\n",
      "1. Dryer\n",
      "2. Cooker\n",
      "3. Chocalate\n"
     ]
    },
    {
     "name": "stdin",
     "output_type": "stream",
     "text": [
      "Please enter Item-Name:  Chocalate\n",
      "Please enter the new Item-Count for Chocalate:  19\n"
     ]
    },
    {
     "name": "stdout",
     "output_type": "stream",
     "text": [
      "=================================\n",
      "Inventory Management System:\n",
      "=================================\n",
      "1. Add Item\n",
      "2. Remove Item\n",
      "3. Update Item\n",
      "4. Search Item\n",
      "5. Display Total Number of Items\n",
      "6. Exit\n",
      "=================================\n"
     ]
    },
    {
     "name": "stdin",
     "output_type": "stream",
     "text": [
      "Choose From 1-6:  4\n",
      "Please enter Item-Name to Search:  Chocalate\n"
     ]
    },
    {
     "name": "stdout",
     "output_type": "stream",
     "text": [
      "Chocalate found in the inventory having 19 quantity.\n",
      "=================================\n",
      "Inventory Management System:\n",
      "=================================\n",
      "1. Add Item\n",
      "2. Remove Item\n",
      "3. Update Item\n",
      "4. Search Item\n",
      "5. Display Total Number of Items\n",
      "6. Exit\n",
      "=================================\n"
     ]
    },
    {
     "name": "stdin",
     "output_type": "stream",
     "text": [
      "Choose From 1-6:  5\n"
     ]
    },
    {
     "name": "stdout",
     "output_type": "stream",
     "text": [
      "---------------------------------\n",
      "Items in the Inventory:\n",
      "---------------------------------\n",
      "Dryer: 12\n",
      "Cooker: 17\n",
      "Chocalate: 19\n",
      "---------------------------------\n",
      "=================================\n",
      "Inventory Management System:\n",
      "=================================\n",
      "1. Add Item\n",
      "2. Remove Item\n",
      "3. Update Item\n",
      "4. Search Item\n",
      "5. Display Total Number of Items\n",
      "6. Exit\n",
      "=================================\n"
     ]
    },
    {
     "name": "stdin",
     "output_type": "stream",
     "text": [
      "Choose From 1-6:  2\n"
     ]
    },
    {
     "name": "stdout",
     "output_type": "stream",
     "text": [
      "Items:\n",
      "------\n",
      "1. Dryer\n",
      "2. Cooker\n",
      "3. Chocalate\n"
     ]
    },
    {
     "name": "stdin",
     "output_type": "stream",
     "text": [
      "Please enter Item-Name:  Dryer\n"
     ]
    },
    {
     "name": "stdout",
     "output_type": "stream",
     "text": [
      "=================================\n",
      "Inventory Management System:\n",
      "=================================\n",
      "1. Add Item\n",
      "2. Remove Item\n",
      "3. Update Item\n",
      "4. Search Item\n",
      "5. Display Total Number of Items\n",
      "6. Exit\n",
      "=================================\n"
     ]
    },
    {
     "name": "stdin",
     "output_type": "stream",
     "text": [
      "Choose From 1-6:  5\n"
     ]
    },
    {
     "name": "stdout",
     "output_type": "stream",
     "text": [
      "---------------------------------\n",
      "Items in the Inventory:\n",
      "---------------------------------\n",
      "Cooker: 17\n",
      "Chocalate: 19\n",
      "---------------------------------\n",
      "=================================\n",
      "Inventory Management System:\n",
      "=================================\n",
      "1. Add Item\n",
      "2. Remove Item\n",
      "3. Update Item\n",
      "4. Search Item\n",
      "5. Display Total Number of Items\n",
      "6. Exit\n",
      "=================================\n"
     ]
    },
    {
     "name": "stdin",
     "output_type": "stream",
     "text": [
      "Choose From 1-6:  6\n"
     ]
    },
    {
     "name": "stdout",
     "output_type": "stream",
     "text": [
      "Thank you for using our inventory management system!\n"
     ]
    }
   ],
   "source": [
    "#region Application Execution\n",
    "\n",
    "if __name__ == '__main__':\n",
    "    laptops = UserInteraction()\n",
    "    laptops.menu()\n",
    "\n",
    "#endregion"
   ]
  }
 ],
 "metadata": {
  "kernelspec": {
   "display_name": "Python 3 (ipykernel)",
   "language": "python",
   "name": "python3"
  },
  "language_info": {
   "codemirror_mode": {
    "name": "ipython",
    "version": 3
   },
   "file_extension": ".py",
   "mimetype": "text/x-python",
   "name": "python",
   "nbconvert_exporter": "python",
   "pygments_lexer": "ipython3",
   "version": "3.11.5"
  },
  "widgets": {
   "application/vnd.jupyter.widget-state+json": {
    "state": {},
    "version_major": 2,
    "version_minor": 0
   }
  }
 },
 "nbformat": 4,
 "nbformat_minor": 5
}
