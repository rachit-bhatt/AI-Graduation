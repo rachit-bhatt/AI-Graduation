{
 "cells": [
  {
   "cell_type": "code",
   "execution_count": 1,
   "id": "8ec5b78f-fe06-41ef-ab0f-1f9d9ea8ffd6",
   "metadata": {},
   "outputs": [
    {
     "name": "stdout",
     "output_type": "stream",
     "text": [
      "Hello May! I hope you are doing well. It has been a long time since we met each other and I am preparing for a dinner party with our buddies! Are you available tonight?\n",
      "Hello Tan! I hope you are doing well. It has been a long time since we met each other and I am preparing for a dinner party with our buddies! Are you available tonight?\n",
      "Hello Neet! I hope you are doing well. It has been a long time since we met each other and I am preparing for a dinner party with our buddies! Are you available tonight?\n"
     ]
    }
   ],
   "source": [
    "# 3.4 - Guest List:\n",
    "\n",
    "dinner_list = ['May', 'Tan', 'Neet']\n",
    "\n",
    "for dinner_member in dinner_list:\n",
    "    print(f'Hello { dinner_member }! I hope you are doing well. It has been a long time since we met each other and I am preparing for a dinner party with our buddies! Are you available tonight?')"
   ]
  },
  {
   "cell_type": "code",
   "execution_count": 2,
   "id": "7b6f83d5-d495-405d-afc6-12a33f997911",
   "metadata": {},
   "outputs": [
    {
     "name": "stdout",
     "output_type": "stream",
     "text": [
      "Hi, Neet here. Sorry, I am unable to come tonight.\n",
      "Sorry, May. Unfortunately, Neet is unable to come tonight. However, Roy is joining tonight! Let's meet and enjoy!\n",
      "Sorry, Tan. Unfortunately, Neet is unable to come tonight. However, Roy is joining tonight! Let's meet and enjoy!\n"
     ]
    }
   ],
   "source": [
    "# 3.5 - Changing Guest List:\n",
    "\n",
    "import random\n",
    "\n",
    "person_not_coming = random.choice(dinner_list)\n",
    "\n",
    "# Message from the person who is unable to come tonight.\n",
    "print(f'Hi, { person_not_coming } here. Sorry, I am unable to come tonight.')\n",
    "\n",
    "dinner_list.remove(person_not_coming)\n",
    "\n",
    "new_person_coming = 'Roy'\n",
    "\n",
    "#dinner_list[dinner_list.index(person_not_coming)] = new_person_coming - Replacing the old one with the new one.\n",
    "\n",
    "# Sending messages to everyone.\n",
    "for dinner_member in dinner_list:\n",
    "    print(f'Sorry, { dinner_member }. Unfortunately, { person_not_coming } is unable to come tonight. However, { new_person_coming } is joining tonight! Let\\'s meet and enjoy!')\n",
    "\n",
    "dinner_list.append(new_person_coming)"
   ]
  },
  {
   "cell_type": "code",
   "execution_count": 3,
   "id": "cec50b8d-d1cd-4c60-89a3-9f12f4c92e94",
   "metadata": {},
   "outputs": [
    {
     "name": "stdout",
     "output_type": "stream",
     "text": [
      "I am excited to announce that we have found a bigger dinner table so we can have more 3 joining our party tonight!\n",
      "Hello, Ban! You are invited to join our exclusive dinner party tonight!\n",
      "Hello, May! You are invited to join our exclusive dinner party tonight!\n",
      "Hello, Tan! You are invited to join our exclusive dinner party tonight!\n",
      "Hello, Nish! You are invited to join our exclusive dinner party tonight!\n",
      "Hello, Roy! You are invited to join our exclusive dinner party tonight!\n",
      "Hello, Harry! You are invited to join our exclusive dinner party tonight!\n"
     ]
    }
   ],
   "source": [
    "# 3.6 - More Guests:\n",
    "\n",
    "more_people_for_dinner = ['Ban', 'Nish', 'Harry']\n",
    "\n",
    "# Messaging people regarding new and bigger tables.\n",
    "print(f'I am excited to announce that we have found a bigger dinner table so we can have more 3 joining our party tonight!')\n",
    "\n",
    "# dinner_list.extend(more_people_for_dinner) - Add new members at the end of the list.\n",
    "\n",
    "# Adding three more members to the list.\n",
    "dinner_list.insert(0, more_people_for_dinner[0])\n",
    "dinner_list.insert(3, more_people_for_dinner[1])\n",
    "dinner_list.append(more_people_for_dinner[2])\n",
    "\n",
    "for dinner_member in dinner_list:\n",
    "    print(f'Hello, { dinner_member }! You are invited to join our exclusive dinner party tonight!')"
   ]
  },
  {
   "cell_type": "code",
   "execution_count": 4,
   "id": "44ed8e7c-8027-4f67-a76b-cb35dd53cbde",
   "metadata": {},
   "outputs": [
    {
     "name": "stdout",
     "output_type": "stream",
     "text": [
      "Hello, everyone. I am sorry to inform you guys that the dinner table is not available at a time favorable for us. The one which is available can only have three spaces to accommodate. So, some of us have to compromise in having this party.\n",
      "Extremely sorry, May but I can not invite you to the dinner party tonight. But we will surely have one soon! Sorry once again.\n",
      "Extremely sorry, Ban but I can not invite you to the dinner party tonight. But we will surely have one soon! Sorry once again.\n",
      "Extremely sorry, Tan but I can not invite you to the dinner party tonight. But we will surely have one soon! Sorry once again.\n",
      "Extremely sorry, Harry but I can not invite you to the dinner party tonight. But we will surely have one soon! Sorry once again.\n",
      "Dinner List: []\n"
     ]
    }
   ],
   "source": [
    "# 3.7 - Shrinking Guest List:\n",
    "\n",
    "print(f'Hello, everyone. I am sorry to inform you guys that the dinner table is not available at a time favorable for us. The one which is available can only have three spaces to accommodate. So, some of us have to compromise in having this party.')\n",
    "\n",
    "for people_to_remove in range(len(dinner_list) - 2):\n",
    "    print(f'Extremely sorry, { dinner_list.pop(dinner_list.index(random.choice(dinner_list))) } but I can not invite you to the dinner party tonight. But we will surely have one soon! Sorry once again.')\n",
    "\n",
    "dinner_list_backup = dinner_list.copy()\n",
    "\n",
    "del dinner_list[:] # Remove the remaining two members from the list.\n",
    "\n",
    "print(f'Dinner List: { dinner_list }') # Confirm whether we have an empty list at the end."
   ]
  },
  {
   "cell_type": "code",
   "execution_count": 5,
   "id": "e18cc1e2-ad8c-4c34-b111-87748dd7cb0c",
   "metadata": {},
   "outputs": [
    {
     "name": "stdout",
     "output_type": "stream",
     "text": [
      "New York\n",
      "Washington DC\n",
      "Sukovia\n",
      "Lagos\n",
      "Wakanda\n",
      "\n",
      "Sort List:\n",
      "- Lagos\n",
      "- New York\n",
      "- Sukovia\n",
      "- Wakanda\n",
      "- Washington DC\n",
      "\n",
      "Original List:\n",
      "- New York\n",
      "- Washington DC\n",
      "- Sukovia\n",
      "- Lagos\n",
      "- Wakanda\n",
      "\n",
      "Reversed List:\n",
      "- Wakanda\n",
      "- Lagos\n",
      "- Sukovia\n",
      "- Washington DC\n",
      "- New York\n",
      "\n",
      "Reversed To The Original List:\n",
      "- New York\n",
      "- Washington DC\n",
      "- Sukovia\n",
      "- Lagos\n",
      "- Wakanda\n",
      "\n",
      "Sorted List:\n",
      "- Lagos\n",
      "- New York\n",
      "- Sukovia\n",
      "- Wakanda\n",
      "- Washington DC\n",
      "\n",
      "Re-Sorted List:\n",
      "- Washington DC\n",
      "- Wakanda\n",
      "- Sukovia\n",
      "- New York\n",
      "- Lagos\n"
     ]
    }
   ],
   "source": [
    "# 3.8 - Seeing The World:\n",
    "\n",
    "def print_tour_list(tour_list):\n",
    "    for place in tour_list:\n",
    "        print(f'- { place }')\n",
    "\n",
    "def reverse_list(tour_list, message):\n",
    "    tour_list.reverse()\n",
    "    print(message)\n",
    "    print_tour_list(tour_list)\n",
    "\n",
    "world_tour = ['New York', 'Washington DC', 'Sukovia', 'Lagos', 'Wakanda'] # Places for the world tour.\n",
    "\n",
    "# Displaying each world-tour place.\n",
    "for place in world_tour:\n",
    "    print(place)\n",
    "\n",
    "# Sorting the list without changing the original list.\n",
    "sorted_tour = sorted(world_tour)\n",
    "\n",
    "# Displaying both lists.\n",
    "print('\\nSort List:')\n",
    "print_tour_list(sorted(sorted_tour))\n",
    "\n",
    "print('\\nOriginal List:')\n",
    "print_tour_list(world_tour)\n",
    "\n",
    "# Reversing the list.\n",
    "reverse_list(world_tour, '\\nReversed List:')\n",
    "\n",
    "# Reversing to the original order.\n",
    "reverse_list(world_tour, '\\nReversed To The Original List:')\n",
    "\n",
    "# Sorting the list using sort() method.\n",
    "world_tour.sort(reverse = False)\n",
    "print('\\nSorted List:')\n",
    "print_tour_list(world_tour)\n",
    "\n",
    "# Re-sorting the list back to reverse alphabetic order.\n",
    "world_tour.sort(reverse = True)\n",
    "print('\\nRe-Sorted List:')\n",
    "print_tour_list(world_tour)"
   ]
  },
  {
   "cell_type": "code",
   "execution_count": 6,
   "id": "b141841b-bee1-4edd-ab05-b2bce28eaa7d",
   "metadata": {},
   "outputs": [
    {
     "name": "stdout",
     "output_type": "stream",
     "text": [
      "I am inviting 2 people to the dinner party tonight!\n"
     ]
    }
   ],
   "source": [
    "# 3.9 - Dinner Guests:\n",
    "print(f'I am inviting { len(dinner_list_backup) } people to the dinner party tonight!')"
   ]
  },
  {
   "cell_type": "code",
   "execution_count": 7,
   "id": "a0230f42-d06f-4c8e-8ed9-f41916fc952f",
   "metadata": {},
   "outputs": [
    {
     "name": "stdout",
     "output_type": "stream",
     "text": [
      "Append: ['Acer', 'Lenovo', 'Alienware', 'MSI', 'Dell', 'HP', 'ASUS', 'Croma']\n",
      "Count: 1\n",
      "Index: 2\n",
      "Insert: ['Acer', 'Apple', 'Lenovo', 'Alienware', 'MSI', 'Dell', 'HP', 'ASUS', 'Croma']\n",
      "Croma\n",
      "Pop: ['Acer', 'Apple', 'Lenovo', 'Alienware', 'MSI', 'Dell', 'HP', 'ASUS']\n",
      "Remove: ['Acer', 'Lenovo', 'Alienware', 'MSI', 'Dell', 'HP', 'ASUS']\n",
      "Reverse: ['ASUS', 'HP', 'Dell', 'MSI', 'Alienware', 'Lenovo', 'Acer']\n",
      "Sort: ['ASUS', 'Acer', 'Alienware', 'Dell', 'HP', 'Lenovo', 'MSI']\n",
      "Clear: []\n"
     ]
    }
   ],
   "source": [
    "# 3.10 - Every Function.\n",
    "\n",
    "laptops = ['Acer', 'Lenovo', 'Alienware', 'MSI', 'Dell', 'HP', 'ASUS']\n",
    "\n",
    "# Append.\n",
    "laptops.append('Croma')\n",
    "print(f'Append: { laptops }')\n",
    "\n",
    "# Count.\n",
    "print(f'Count: { laptops.count(random.choice(laptops)) }')\n",
    "\n",
    "# Index.\n",
    "print(f'Index: { laptops.index(random.choice(laptops)) }')\n",
    "\n",
    "# Insert.\n",
    "laptops.insert(random.choice(range(len(laptops))), 'Apple')\n",
    "print(f'Insert: { laptops }')\n",
    "\n",
    "# Pop.\n",
    "print(laptops.pop())\n",
    "print(f'Pop: { laptops }')\n",
    "\n",
    "# Remove.\n",
    "laptops.remove('Apple')\n",
    "print(f'Remove: { laptops }')\n",
    "\n",
    "# Reverse.\n",
    "laptops.reverse()\n",
    "print(f'Reverse: { laptops }')\n",
    "\n",
    "# Sort.\n",
    "laptops.sort()\n",
    "print(f'Sort: { laptops }')\n",
    "\n",
    "# Clear.\n",
    "laptops.clear()\n",
    "print(f'Clear: { laptops }')"
   ]
  }
 ],
 "metadata": {
  "kernelspec": {
   "display_name": "Python 3 (ipykernel)",
   "language": "python",
   "name": "python3"
  },
  "language_info": {
   "codemirror_mode": {
    "name": "ipython",
    "version": 3
   },
   "file_extension": ".py",
   "mimetype": "text/x-python",
   "name": "python",
   "nbconvert_exporter": "python",
   "pygments_lexer": "ipython3",
   "version": "3.11.5"
  },
  "widgets": {
   "application/vnd.jupyter.widget-state+json": {
    "state": {},
    "version_major": 2,
    "version_minor": 0
   }
  }
 },
 "nbformat": 4,
 "nbformat_minor": 5
}
