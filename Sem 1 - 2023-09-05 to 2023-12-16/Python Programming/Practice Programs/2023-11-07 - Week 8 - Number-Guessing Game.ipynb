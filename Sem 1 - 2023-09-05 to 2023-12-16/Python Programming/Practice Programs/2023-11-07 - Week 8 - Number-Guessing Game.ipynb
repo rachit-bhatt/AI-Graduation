{
 "cells": [
  {
   "cell_type": "markdown",
   "id": "bed4033c-959e-43ca-9ebf-a2dc9dfe862d",
   "metadata": {},
   "source": [
    "<h2>Problem #1</h2>\n",
    "<hr>\n",
    "<h3>\n",
    "    <b>Objective:</b> Create a simple number-guessing game that does the following:\n",
    "    <ul>\n",
    "        <li>The program generates a random number between 1 and 20 (inclusive).</li>\n",
    "        <li>The player has to guess the number with hints provided after each guess.\n",
    "        <li>The game gives feedback on whether the guess is too high, too low, or correct.\n",
    "        <li>The game ends when the player guesses the correct number.\n",
    "    </ul>\n",
    "</h3>\n",
    "<hr>\n",
    "<b>Requirements:</b>\n",
    "<ul>\n",
    "    <li>Use the random module to generate a random number.</li>\n",
    "    <li>Use a while loop to allow the player to keep guessing.</li>\n",
    "    <li>Use if-elif-else statements to check the player's guess and give feedback.</li>\n",
    "    <li>Use the input function to get the player's guess.</li>\n",
    "    <li>The game should tell the player how many guesses they took when they guessed correctly.</li>\n",
    "\n",
    "</ul>"
   ]
  },
  {
   "cell_type": "code",
   "execution_count": 46,
   "id": "2c2315c2-4abe-483d-a368-ae379b86f651",
   "metadata": {},
   "outputs": [
    {
     "name": "stdout",
     "output_type": "stream",
     "text": [
      "Random: 6\n"
     ]
    },
    {
     "name": "stdin",
     "output_type": "stream",
     "text": [
      "What would be the number?:  2\n"
     ]
    },
    {
     "name": "stdout",
     "output_type": "stream",
     "text": [
      "Hint: Too Close\n",
      "Attempts Left: 4\n"
     ]
    },
    {
     "name": "stdin",
     "output_type": "stream",
     "text": [
      "What would be the number?:  4\n"
     ]
    },
    {
     "name": "stdout",
     "output_type": "stream",
     "text": [
      "Hint: Too Close\n",
      "Attempts Left: 3\n"
     ]
    },
    {
     "name": "stdin",
     "output_type": "stream",
     "text": [
      "What would be the number?:  8\n"
     ]
    },
    {
     "name": "stdout",
     "output_type": "stream",
     "text": [
      "Hint: Too Close\n",
      "Attempts Left: 2\n"
     ]
    },
    {
     "name": "stdin",
     "output_type": "stream",
     "text": [
      "What would be the number?:  6\n"
     ]
    },
    {
     "name": "stdout",
     "output_type": "stream",
     "text": [
      "Congratulations! You have guessed the correct number!\n",
      "Game has finished.\n"
     ]
    }
   ],
   "source": [
    "#region Import Statements\n",
    "\n",
    "import random\n",
    "\n",
    "#endregion\n",
    "\n",
    "#region Constants\n",
    "\n",
    "START_RANGE = 1\n",
    "\n",
    "END_RANGE = 20\n",
    "\n",
    "HINTS = {\n",
    "            'Too Close' : list(range(1, 3 + 1)),\n",
    "            'Close Enough' : list(range(4, 9 + 1)),\n",
    "            'Quite Far' : list(range(10, 15 + 1)),\n",
    "            'Too Far' : list(range(16, 19 + 1))\n",
    "        }\n",
    "\n",
    "#endregion\n",
    "\n",
    "#region User-Defined Functions\n",
    "\n",
    "def hint(number):\n",
    "    if number > 16:\n",
    "        return 'Too Far'\n",
    "    elif number > 10:\n",
    "        return 'Quite Far'\n",
    "    elif number > 4:\n",
    "        return 'Close Enough'\n",
    "    elif number > 1:\n",
    "        return 'Too Close'\n",
    "\n",
    "#endregion\n",
    "\n",
    "#region Main Logic\n",
    "\n",
    "generated_number = random.randint(START_RANGE, END_RANGE)\n",
    "print(f'Random: { generated_number }')\n",
    "\n",
    "attempts = 5\n",
    "\n",
    "attempt = attempts\n",
    "\n",
    "while attempt > 0:\n",
    "    try:\n",
    "        guessed_number = int(input('What would be the number?: '))\n",
    "\n",
    "        if guessed_number >= 1 & guessed_number <= 20:\n",
    "            if generated_number == guessed_number:\n",
    "                print('Congratulations! You have guessed the correct number!')\n",
    "                break\n",
    "            else:\n",
    "                attempt -= 1\n",
    "                print(f'Hint: { hint(abs(guessed_number - generated_number)) }')\n",
    "                print(f'Attempts Left: { attempt }')\n",
    "        else:\n",
    "            raise ValueError()\n",
    "\n",
    "    except ValueError as ve:\n",
    "        print('Error: The entered content is not a number! A number between 1 to 20 is only accepted.\\nPlease enter the number in the given range.')\n",
    "\n",
    "print('Game has finished.')\n",
    "\n",
    "#endregion"
   ]
  }
 ],
 "metadata": {
  "kernelspec": {
   "display_name": "Python 3 (ipykernel)",
   "language": "python",
   "name": "python3"
  },
  "language_info": {
   "codemirror_mode": {
    "name": "ipython",
    "version": 3
   },
   "file_extension": ".py",
   "mimetype": "text/x-python",
   "name": "python",
   "nbconvert_exporter": "python",
   "pygments_lexer": "ipython3",
   "version": "3.11.5"
  },
  "widgets": {
   "application/vnd.jupyter.widget-state+json": {
    "state": {},
    "version_major": 2,
    "version_minor": 0
   }
  }
 },
 "nbformat": 4,
 "nbformat_minor": 5
}
