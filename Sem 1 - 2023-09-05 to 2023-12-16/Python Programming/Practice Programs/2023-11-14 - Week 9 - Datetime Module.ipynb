{
 "cells": [
  {
   "cell_type": "markdown",
   "id": "ab27c0df-22c4-4ef7-a2e3-7c7c9760d995",
   "metadata": {
    "tags": []
   },
   "source": [
    "## 1. Use the datetime module to write a program that gets the current date and prints the day of the week."
   ]
  },
  {
   "cell_type": "code",
   "execution_count": 20,
   "id": "70238d98-2244-407d-8d7c-f83a8efa14f1",
   "metadata": {
    "tags": []
   },
   "outputs": [
    {
     "name": "stdout",
     "output_type": "stream",
     "text": [
      "Current date is: 2023-11-14\n",
      "Day of the week is: Tuesday\n"
     ]
    }
   ],
   "source": [
    "import datetime\n",
    "\n",
    "# To get current date.\n",
    "current_date = datetime.datetime.now()\n",
    "\n",
    "# Print the current date.\n",
    "print('Current date is:', current_date.strftime('%Y-%m-%d'))\n",
    "\n",
    "# Print the day of the week.\n",
    "print('Day of the week is:', current_date.strftime('%A'))"
   ]
  },
  {
   "cell_type": "markdown",
   "id": "e3bb1687-c0db-441c-841d-5f0c1ff41fdf",
   "metadata": {},
   "source": [
    "## 2. Write a program that takes a birthday of user as input and prints the user’s age and the number of days, hours, minutes and seconds until their next birthday"
   ]
  },
  {
   "cell_type": "code",
   "execution_count": 12,
   "id": "642eef78-0a3b-4521-a3a5-274c08dbdc9f",
   "metadata": {
    "tags": []
   },
   "outputs": [
    {
     "name": "stdin",
     "output_type": "stream",
     "text": [
      "Enter your birthday (YYYY-MM-DD):  2000-01-01\n"
     ]
    },
    {
     "name": "stdout",
     "output_type": "stream",
     "text": [
      "Your age is: 23 years\n",
      "Time until your next birthday: 47 days, 1 hours, 55 minutes, 45 seconds\n"
     ]
    }
   ],
   "source": [
    "from datetime import datetime, timedelta\n",
    "\n",
    "def get_user_birthday():\n",
    "    # Take user's birthday as input\n",
    "    birthday_str = input('Enter your birthday (YYYY-MM-DD): ')\n",
    "    birthday = datetime.strptime(birthday_str, '%Y-%m-%d')\n",
    "    return birthday\n",
    "\n",
    "def calculate_age(birthday):\n",
    "    # Calculate user's age\n",
    "    today = datetime.now()\n",
    "    age = today.year - birthday.year - ((today.month, today.day) < (birthday.month, birthday.day))\n",
    "    return age\n",
    "\n",
    "def calculate_time_until_next_birthday(birthday):\n",
    "    # Calculate time until next birthday\n",
    "    today = datetime.now()\n",
    "    next_birthday = datetime(today.year, birthday.month, birthday.day)\n",
    "   \n",
    "    if today > next_birthday:\n",
    "        next_birthday = datetime(today.year + 1, birthday.month, birthday.day)\n",
    "   \n",
    "    time_until_birthday = next_birthday - today\n",
    "    return time_until_birthday\n",
    "\n",
    "def main():\n",
    "    # Take user's birthday\n",
    "    birthday = get_user_birthday()\n",
    "\n",
    "    # Calculate and print age\n",
    "    age = calculate_age(birthday)\n",
    "    print(f\"Your age is: {age} years\")\n",
    "\n",
    "    # Calculate and print time until next birthday\n",
    "    time_until_birthday = calculate_time_until_next_birthday(birthday)\n",
    "    days, seconds = time_until_birthday.days, time_until_birthday.seconds\n",
    "    hours, remainder = divmod(seconds, 3600)\n",
    "    minutes, seconds = divmod(remainder, 60)\n",
    "\n",
    "    print(f\"Time until your next birthday: {days} days, {hours} hours, {minutes} minutes, {seconds} seconds\")\n",
    "\n",
    "main()"
   ]
  },
  {
   "cell_type": "markdown",
   "id": "046a3bdd-db07-49d8-9bfe-0601f119b418",
   "metadata": {},
   "source": [
    "## 3. Write a program that takes birthday of a person and calculates the total number of seconds they have been living in epoch time"
   ]
  },
  {
   "cell_type": "code",
   "execution_count": 16,
   "id": "7381c007-5bb0-4215-a75f-d65c13492491",
   "metadata": {},
   "outputs": [
    {
     "name": "stdin",
     "output_type": "stream",
     "text": [
      "Please enter your exact Date of Birth:  w\n"
     ]
    },
    {
     "name": "stdout",
     "output_type": "stream",
     "text": [
      "Please put in the Format 'Month Day Year' without any initial space\n"
     ]
    },
    {
     "name": "stdin",
     "output_type": "stream",
     "text": [
      "Please enter your exact Date of Birth:  01 01 2000\n"
     ]
    },
    {
     "name": "stdout",
     "output_type": "stream",
     "text": [
      "Please put in the Format 'Month Day Year' without any initial space\n"
     ]
    },
    {
     "name": "stdin",
     "output_type": "stream",
     "text": [
      "Please enter your exact Date of Birth:  September 1 2000\n"
     ]
    },
    {
     "name": "stdout",
     "output_type": "stream",
     "text": [
      "You have been alive for: 732233732.959346 seconds.\n"
     ]
    }
   ],
   "source": [
    "import datetime\n",
    "\n",
    "def task3():\n",
    "    while True:\n",
    "        try:\n",
    "            bday = input('Please enter your exact Date of Birth: ')\n",
    "            birthday = datetime.datetime.strptime(bday, '%B %d %Y')\n",
    "            \n",
    "            tday = datetime.datetime.today()\n",
    "            timedelta = (tday - birthday).total_seconds()\n",
    "            print(f'You have been alive for: { timedelta } seconds.')\n",
    "            break\n",
    "        except:\n",
    "            print('Please put in the Format \\'Month Day Year\\' without any initial space')\n",
    "\n",
    "#region Unit-Testing\n",
    "\n",
    "task3()\n",
    "\n",
    "#endregion"
   ]
  },
  {
   "cell_type": "markdown",
   "id": "514a1496-d1eb-4b89-b19c-291326121120",
   "metadata": {},
   "source": [
    "## 4. Write a Python program to print the date for yesterday, today, and tomorrow"
   ]
  },
  {
   "cell_type": "code",
   "execution_count": 19,
   "id": "3e1c54c5-e5f5-4d14-b548-ffbb64eb34cc",
   "metadata": {
    "tags": []
   },
   "outputs": [
    {
     "name": "stdout",
     "output_type": "stream",
     "text": [
      "Yesterday: 2023-11-13\n",
      "Today: 2023-11-14\n",
      "Tomorrow: 2023-11-15\n"
     ]
    }
   ],
   "source": [
    "#region Import Statements\n",
    "\n",
    "import datetime \n",
    "\n",
    "#endregion\n",
    "\n",
    "today = datetime.date.today()\n",
    "yesterday = today - datetime.timedelta(days = 1)\n",
    "tomorrow = today + datetime.timedelta(days = 1) \n",
    "\n",
    "print('Yesterday:', yesterday)\n",
    "print('Today:', today)\n",
    "print('Tomorrow:', tomorrow)"
   ]
  }
 ],
 "metadata": {
  "kernelspec": {
   "display_name": "Python 3 (ipykernel)",
   "language": "python",
   "name": "python3"
  },
  "language_info": {
   "codemirror_mode": {
    "name": "ipython",
    "version": 3
   },
   "file_extension": ".py",
   "mimetype": "text/x-python",
   "name": "python",
   "nbconvert_exporter": "python",
   "pygments_lexer": "ipython3",
   "version": "3.11.5"
  },
  "widgets": {
   "application/vnd.jupyter.widget-state+json": {
    "state": {},
    "version_major": 2,
    "version_minor": 0
   }
  }
 },
 "nbformat": 4,
 "nbformat_minor": 5
}
