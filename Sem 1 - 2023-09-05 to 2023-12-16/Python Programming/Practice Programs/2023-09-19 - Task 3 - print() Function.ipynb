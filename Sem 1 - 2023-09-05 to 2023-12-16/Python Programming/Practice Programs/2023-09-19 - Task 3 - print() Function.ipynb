{
 "cells": [
  {
   "cell_type": "markdown",
   "id": "0adfd1f2-3bba-4951-9b89-6bcedc6fdb34",
   "metadata": {},
   "source": [
    "# 2-1. Simple Message: Assign a message to a variable, and then print that message."
   ]
  },
  {
   "cell_type": "code",
   "execution_count": 1,
   "id": "12b863e2-601c-478c-908e-8b7cfb5a7175",
   "metadata": {},
   "outputs": [
    {
     "name": "stdout",
     "output_type": "stream",
     "text": [
      "Hello, this is Rachit.\n"
     ]
    }
   ],
   "source": [
    "message = \"Hello, this is Rachit.\" # Providing the string in a 'message' variable.\n",
    "print(message) # Printing the 'message' variable."
   ]
  },
  {
   "cell_type": "markdown",
   "id": "84a51461-6472-4b2c-81a6-10f068adb56c",
   "metadata": {},
   "source": [
    "<hr>"
   ]
  },
  {
   "cell_type": "markdown",
   "id": "2374e5d9-5a7e-436e-94b2-b114f75b2a5e",
   "metadata": {},
   "source": [
    "# 2-2. Simple Messages: Assign a message to a variable, and print that message. \n",
    "# Then change the value of the variable to a new message, and print the new message."
   ]
  },
  {
   "cell_type": "code",
   "execution_count": 2,
   "id": "a47aebdf-9200-4b72-9f94-b9842be75330",
   "metadata": {},
   "outputs": [
    {
     "name": "stdout",
     "output_type": "stream",
     "text": [
      "This is a new message.\n"
     ]
    }
   ],
   "source": [
    "message = \"This is a new message.\" # Modifying the message's variable.\n",
    "print(message) # Showing the modified 'message' variable."
   ]
  },
  {
   "cell_type": "markdown",
   "id": "a56e803d-9476-425d-92f2-f3598cd23b57",
   "metadata": {},
   "source": [
    "<hr>"
   ]
  },
  {
   "cell_type": "markdown",
   "id": "eafc2357-6a5b-429e-8cd7-f148dcf7cdeb",
   "metadata": {},
   "source": [
    "# 2-3. Personal Message: Use a variable to represent a person’s name, and print\n",
    "# a message to that person. Your message should be simple, such as, “Hello Eric, \n",
    "# would you like to learn some Python today?”"
   ]
  },
  {
   "cell_type": "code",
   "execution_count": 3,
   "id": "d42e7524-560a-43a7-a5c0-32ed06814485",
   "metadata": {},
   "outputs": [
    {
     "name": "stdout",
     "output_type": "stream",
     "text": [
      "Hello, Rachit. Would you like to play some piano today?\n"
     ]
    }
   ],
   "source": [
    "person_name = \"Rachit\" # Assigning person's name.\n",
    "print(\"Hello, \" + person_name + \". Would you like to play some piano today?\") # Showing the message attached with the person's name."
   ]
  },
  {
   "cell_type": "markdown",
   "id": "b08dd1c0-cc75-41ee-b589-77e9a662fd00",
   "metadata": {},
   "source": [
    "<hr>"
   ]
  },
  {
   "cell_type": "markdown",
   "id": "675ef0cb-93c7-4432-959a-b83f38711cbf",
   "metadata": {},
   "source": [
    "# 2-4. Name Cases: Use a variable to represent a person’s name, and then print \n",
    "# that person’s name in lowercase, uppercase, and titlecase."
   ]
  },
  {
   "cell_type": "code",
   "execution_count": 4,
   "id": "8109adca-8dcc-4932-b658-9762dd1a434a",
   "metadata": {},
   "outputs": [
    {
     "name": "stdout",
     "output_type": "stream",
     "text": [
      "rachit bhatt\n",
      "RACHIT BHATT\n",
      "Rachit Bhatt\n"
     ]
    }
   ],
   "source": [
    "person_name = \"Rachit Bhatt\" # Initializing person's name.\n",
    "print(person_name.lower()) # Lower Case.\n",
    "print(person_name.upper()) # Upper Case.\n",
    "print(person_name.title()) # Title Case."
   ]
  },
  {
   "cell_type": "markdown",
   "id": "93695e48-5ee3-4f44-9bac-3d567bb8d637",
   "metadata": {},
   "source": [
    "<hr>"
   ]
  },
  {
   "cell_type": "markdown",
   "id": "a82efd10-2f07-4489-84b8-4208068db962",
   "metadata": {},
   "source": [
    "# 2-5. Famous Quote: Find a quote from a famous person you admire. Print the \n",
    "# quote and the name of its author. Your output should look something like the \n",
    "# following, including the quotation marks:\n",
    "# Albert Einstein once said, “A person who never made a \n",
    "# mistake never tried anything new.”"
   ]
  },
  {
   "cell_type": "code",
   "execution_count": 5,
   "id": "cf5f5bb6-ad97-4184-8d0f-b9122f3ad2b8",
   "metadata": {},
   "outputs": [
    {
     "name": "stdout",
     "output_type": "stream",
     "text": [
      "Josh Brolin once said, \"The hardest choices require the strongest wills.\"\n"
     ]
    }
   ],
   "source": [
    "print(\"Josh Brolin once said, \\\"The hardest choices require the strongest wills.\\\"\")"
   ]
  },
  {
   "cell_type": "markdown",
   "id": "f24c5393-4a71-4de2-9b11-9755f7d14eef",
   "metadata": {},
   "source": [
    "<hr>"
   ]
  },
  {
   "cell_type": "markdown",
   "id": "a93a517e-7d9d-41f0-8f5c-36aac98b9b6e",
   "metadata": {},
   "source": [
    "# 2-6. Famous Quote 2: Repeat Exercise 2-5, but this time, represent the \n",
    "# famous person’s name using a variable called famous_person.\n",
    "# Then compose your message and represent it with a new variable called message.\n",
    "# Print your message."
   ]
  },
  {
   "cell_type": "code",
   "execution_count": 6,
   "id": "a6ff7fc0-450a-4703-8607-8a98f59d9b48",
   "metadata": {},
   "outputs": [
    {
     "name": "stdout",
     "output_type": "stream",
     "text": [
      "Josh Brolin once said, \"The hardest choices require the strongest wills.\"\n"
     ]
    }
   ],
   "source": [
    "famous_person = \"Josh Brolin\" # Initializing a famous person's name.\n",
    "print(f\"{ famous_person } once said, \\\"The hardest choices require the strongest wills.\\\"\") # Showing the quote provided by the famous person."
   ]
  },
  {
   "cell_type": "markdown",
   "id": "e20966eb-5521-4c3a-bb98-d56afc16baa6",
   "metadata": {},
   "source": [
    "<hr>"
   ]
  },
  {
   "cell_type": "markdown",
   "id": "aa9296c0-fc33-4616-865e-c5fdbfd17bc2",
   "metadata": {},
   "source": [
    "# 2-7. Stripping Names: Use a variable to represent a person’s name, and include \n",
    "# some whitespace characters at the beginning and end of the name. Make sure \n",
    "# you use each character combination, \"\\t\" and \"\\n\", at least once.\n",
    "# Print the name once, so the whitespace around the name is displayed. \n",
    "# Then print the name using each of the three stripping functions, lstrip(), \n",
    "# rstrip(), and strip()."
   ]
  },
  {
   "cell_type": "code",
   "execution_count": 7,
   "id": "a38cd8cd-6634-4a67-9b83-50f4740c22e1",
   "metadata": {},
   "outputs": [
    {
     "name": "stdout",
     "output_type": "stream",
     "text": [
      "\n",
      "\tRachit\t\n",
      "Bhatt\n",
      "Rachit\t\n",
      "Bhatt\n",
      "\n",
      "\tRachit\t\n",
      "Bhatt\n",
      "Rachit\t\n",
      "Bhatt\n"
     ]
    }
   ],
   "source": [
    "person_name = \"\\n\\tRachit\\t\\nBhatt\"\n",
    "print(person_name) # Printing the name only.\n",
    "print(person_name.lstrip()) # Printing using lstrip() function.\n",
    "print(person_name.rstrip()) # Printing using rstrip() function.\n",
    "print(person_name.strip()) # Printing using strip() function."
   ]
  },
  {
   "cell_type": "markdown",
   "id": "f6311c85-21e8-44fb-96fb-79f8e8b12695",
   "metadata": {},
   "source": [
    "<hr>"
   ]
  },
  {
   "cell_type": "markdown",
   "id": "c77a81da-6e13-497e-b382-c7d247dd3d54",
   "metadata": {},
   "source": [
    "# 2-8. Number Eight: Write addition, subtraction, multiplication, and division operations that each result in the number 8.\n",
    "# Be sure to enclose your operations in print() calls to see the results. You should create four lines that look like this:\n",
    "`print(5+3)`\n",
    "## Your output should simply be four lines with the number 8 appearing once on each line."
   ]
  },
  {
   "cell_type": "code",
   "execution_count": 8,
   "id": "5699c157-60aa-4d40-8f9f-f1853dce2031",
   "metadata": {},
   "outputs": [
    {
     "name": "stdout",
     "output_type": "stream",
     "text": [
      "8\n",
      "8\n",
      "8\n",
      "8\n"
     ]
    }
   ],
   "source": [
    "print(4 + 4) # Addition.\n",
    "print(16 - 8) # Subtraction.\n",
    "print(2 * 4) # Multiplication.\n",
    "#print(16 / 2) # Division as Float.\n",
    "print(160 // 20) # Division in Integer."
   ]
  },
  {
   "cell_type": "markdown",
   "id": "e8739d37-1b52-4b63-8109-f13c081d7381",
   "metadata": {},
   "source": [
    "<hr>"
   ]
  },
  {
   "cell_type": "markdown",
   "id": "7364e9af-0864-4c90-b12b-aab3289a282e",
   "metadata": {},
   "source": [
    "# 2-9. Favorite Number: Use a variable to represent your favorite number. Then, \n",
    "# using that variable, create a message that reveals your favorite number. Print \n",
    "# that message."
   ]
  },
  {
   "cell_type": "code",
   "execution_count": 9,
   "id": "04b1d24f-f05a-4d9c-89c7-6890e9d825c5",
   "metadata": {},
   "outputs": [
    {
     "name": "stdout",
     "output_type": "stream",
     "text": [
      "My favorite number is 2.\n"
     ]
    }
   ],
   "source": [
    "FAVORITE_NUMBER = 2 # Storing my favorite number.\n",
    "number_reveal_statement = f'My favorite number is { FAVORITE_NUMBER }.' # Storing the statement for revealing the favorite number.\n",
    "print(number_reveal_statement) # Showing the statement of revealing the favorite number."
   ]
  },
  {
   "cell_type": "markdown",
   "id": "f6e7313d-4e70-4696-be8a-c3d55ba0381c",
   "metadata": {},
   "source": [
    "<hr>"
   ]
  },
  {
   "cell_type": "markdown",
   "id": "439e7f32-5436-4a36-81e3-e73f990129bf",
   "metadata": {},
   "source": [
    "# 2-10. Adding Comments: Choose two of the programs you’ve written, and \n",
    "# add at least one comment to each. If you don’t have anything specific to write \n",
    "# because your programs are too simple at this point, just add your name and \n",
    "# the current date at the top of each program file. Then write one sentence \n",
    "# describing what the program does."
   ]
  },
  {
   "cell_type": "code",
   "execution_count": 10,
   "id": "233498f5-e49f-407c-b5b2-37c465b6e956",
   "metadata": {},
   "outputs": [],
   "source": [
    "# Name: Rachit Bhatt\n",
    "# Class: Python Programming"
   ]
  }
 ],
 "metadata": {
  "kernelspec": {
   "display_name": "Python 3 (ipykernel)",
   "language": "python",
   "name": "python3"
  },
  "language_info": {
   "codemirror_mode": {
    "name": "ipython",
    "version": 3
   },
   "file_extension": ".py",
   "mimetype": "text/x-python",
   "name": "python",
   "nbconvert_exporter": "python",
   "pygments_lexer": "ipython3",
   "version": "3.11.5"
  },
  "widgets": {
   "application/vnd.jupyter.widget-state+json": {
    "state": {},
    "version_major": 2,
    "version_minor": 0
   }
  }
 },
 "nbformat": 4,
 "nbformat_minor": 5
}
