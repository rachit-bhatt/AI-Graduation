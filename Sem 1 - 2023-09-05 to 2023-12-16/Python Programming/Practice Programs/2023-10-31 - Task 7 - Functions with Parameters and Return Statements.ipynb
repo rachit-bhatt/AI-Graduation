{
 "cells": [
  {
   "cell_type": "markdown",
   "id": "f6833a83-d494-4893-aeda-86af875979af",
   "metadata": {},
   "source": [
    "## Pre-Requisites:"
   ]
  },
  {
   "cell_type": "code",
   "execution_count": 1,
   "id": "ce1ada52-3cd5-40d5-a8ca-28d5bbeec4d2",
   "metadata": {},
   "outputs": [],
   "source": [
    "'''\n",
    "This is a constant for providing a sample string for unit testing purposes.\n",
    "'''\n",
    "UNIT_TESTING_SAMPLE_STRING = 'This is a sample string for unit testing purposes.'\n",
    "\n",
    "'''\n",
    "Exception message when type-error occurs while finding the length of the given string.\n",
    "'''\n",
    "TYPE_ERROR_EXCEPTION_MESSAGE = 'Cannot accept any other datatype except string.'"
   ]
  },
  {
   "cell_type": "markdown",
   "id": "756ccbd3-2168-4eaa-ae0b-a8eb73840a4e",
   "metadata": {},
   "source": [
    "# 1. Write a Python function that takes a string and calculates the length of a string and returns it. PPrint the returned valu.e"
   ]
  },
  {
   "cell_type": "code",
   "execution_count": 2,
   "id": "bca5dd52-3349-44ee-bf80-82da21d54ac4",
   "metadata": {},
   "outputs": [
    {
     "data": {
      "text/plain": [
       "50"
      ]
     },
     "execution_count": 2,
     "metadata": {},
     "output_type": "execute_result"
    }
   ],
   "source": [
    "def find_length(string):\n",
    "    '''\n",
    "    This function provides the length of the given `string` by counting the number of characters it holds.\n",
    "\n",
    "    :param string: Sequence of characters.\n",
    "    :type string: str\n",
    "    :return: Length of given `string`.\n",
    "    :rtype: int\n",
    "    '''\n",
    "\n",
    "    try:\n",
    "        char_count = 0 # Initializes a container for counting the number of characters in the provided `string`.\n",
    "        \n",
    "        for char in string: # Loops through each character in the sequence and counts the characters in it individually.\n",
    "            char_count += 1 # Counts the number of characters and stores it in a container.\n",
    "    \n",
    "        return char_count # Returns the counted characters.\n",
    "        \n",
    "    except TypeError: # Just in case the datatype provided is not of type string.\n",
    "        raise TypeError(TYPE_ERROR_EXCEPTION_MESSAGE) # Raise the exception because the code should not be executed.\n",
    "\n",
    "    return 0\n",
    "    # return len(string) # Simpler code.\n",
    "\n",
    "# Unit Testing:\n",
    "find_length(UNIT_TESTING_SAMPLE_STRING)"
   ]
  },
  {
   "cell_type": "markdown",
   "id": "ebc9394d-bf1d-4170-94e8-9045c63464c3",
   "metadata": {},
   "source": [
    "# 2. Write a Python function that takes a string and counts the number of characters (character \n",
    "frequency) in a string. For example, if we send''google.com' to the function, it should return a\r\n",
    "dictionary like this {'g': 2, 'o': 3, 'l': 1, 'e': 1, '.': 1, 'c': 1, 'm': 1}"
   ]
  },
  {
   "cell_type": "code",
   "execution_count": 3,
   "id": "0e64cec6-54eb-4420-aad6-f0870c8f346c",
   "metadata": {},
   "outputs": [
    {
     "data": {
      "text/plain": [
       "{'g': 2, 'o': 3, 'l': 1, 'e': 1, '.': 1, 'c': 1, 'm': 1}"
      ]
     },
     "execution_count": 3,
     "metadata": {},
     "output_type": "execute_result"
    }
   ],
   "source": [
    "def count_char(string):\n",
    "    '''\n",
    "    Counts and provides a dictionary of character frequency in the provided `string`.\n",
    "\n",
    "    :param string: Sequence of characters.\n",
    "    :type string: str\n",
    "    :return: Character frequency provided in `string`.\n",
    "    :rtype: dict\n",
    "    '''\n",
    "\n",
    "    char_frequency = {} # Initializes an empty dictionary for filling the character frequency.\n",
    "\n",
    "    for char in string: # Loops through the `string` to find the character frequency.\n",
    "        char_frequency[char] = string.count(char) # Fills the dictionary with the number of characters present in the given `string`.\n",
    "\n",
    "    return char_frequency # Returns the character frequency present in the provided `string`.\n",
    "\n",
    "# Unit Testing:\n",
    "#count_char(UNIT_TESTING_SAMPLE_STRING)\n",
    "\n",
    "# Assignment Testing:\n",
    "count_char('google.com')"
   ]
  },
  {
   "cell_type": "markdown",
   "id": "d91dda93-6a18-4a54-8b33-91d25301c7ee",
   "metadata": {},
   "source": [
    "# 3. Create a string of your choice and apply a minimum of 8 of following methods to it and print the \n",
    "result.<h2>Link:</h2>\n",
    "<iframe src=\"https://docs.python.org/3.8/library/string.html\" title=\"description\"></iframe>ml"
   ]
  },
  {
   "cell_type": "code",
   "execution_count": 4,
   "id": "fec18298-d544-415c-b5a4-1c7604719467",
   "metadata": {},
   "outputs": [
    {
     "name": "stdout",
     "output_type": "stream",
     "text": [
      "Format(): This is a sample string for unit testing purposes.\t\tThis is a sample string for unit testing purposes.\n",
      "Capitalize(): This is a sample string for unit testing purposes.\n",
      "Title(): This Is A Sample String For Unit Testing Purposes.\n",
      "Index(): 33 \n",
      "Find(): 33 \n",
      "Lower(): this is a sample string for unit testing purposes. \n",
      "Upper(): THIS IS A SAMPLE STRING FOR UNIT TESTING PURPOSES. \n",
      "IsAlpha(): False \n"
     ]
    }
   ],
   "source": [
    "# NOTE: Using `UNIT_TESTING_SAMPLE_STRING` as declared in the `Pre-Requisites`.\n",
    "\n",
    "# 1. string.format():\n",
    "print('Format(): {0}\\t\\t{1}'.format(UNIT_TESTING_SAMPLE_STRING, UNIT_TESTING_SAMPLE_STRING))\n",
    "\n",
    "# 2. string.capitalize():\n",
    "print(f'Capitalize(): { UNIT_TESTING_SAMPLE_STRING.capitalize() }')\n",
    "\n",
    "# 3. string.title():\n",
    "print(f'Title(): { UNIT_TESTING_SAMPLE_STRING.title() }')\n",
    "\n",
    "# 4. string.index():\n",
    "print(f\"Index(): { UNIT_TESTING_SAMPLE_STRING.index('testing') } \")\n",
    "\n",
    "# 5. string.find():\n",
    "print(f\"Find(): { UNIT_TESTING_SAMPLE_STRING.find('testing') } \")\n",
    "\n",
    "# 6. string.lower():\n",
    "print(f\"Lower(): { UNIT_TESTING_SAMPLE_STRING.lower() } \")\n",
    "\n",
    "# 7. string.upper():\n",
    "print(f\"Upper(): { UNIT_TESTING_SAMPLE_STRING.upper() } \")\n",
    "\n",
    "# 8. string.isalpha():\n",
    "print(f\"IsAlpha(): { UNIT_TESTING_SAMPLE_STRING.isalpha() } \")"
   ]
  },
  {
   "cell_type": "markdown",
   "id": "15efd1cd-0376-43e8-8e67-65bbe4d774c0",
   "metadata": {},
   "source": [
    "# 4. Write a Python function that converts temperatures from Fahrenheit to Celsius."
   ]
  },
  {
   "cell_type": "code",
   "execution_count": 5,
   "id": "83561701-3d1e-4c1e-9f97-bc6f79e589a4",
   "metadata": {},
   "outputs": [
    {
     "data": {
      "text/plain": [
       "0.9999999999999984"
      ]
     },
     "execution_count": 5,
     "metadata": {},
     "output_type": "execute_result"
    }
   ],
   "source": [
    "def convert_temperature(fahrenheit):\n",
    "    '''\n",
    "    Converts the given Fahrenheit temperature to Celsius.\n",
    "\n",
    "    :param fahrenheit: Temperature in Fahrenheit.\n",
    "    :type fahrenheit: float\n",
    "    :return: Temperature in Celsius.\n",
    "    :rtype: float\n",
    "    '''\n",
    "    return ((fahrenheit - 32) * (5 / 9)) # Converts the given temperature as per the formula.\n",
    "\n",
    "# Unit Testing:\n",
    "convert_temperature(33.80)"
   ]
  }
 ],
 "metadata": {
  "kernelspec": {
   "display_name": "Python 3 (ipykernel)",
   "language": "python",
   "name": "python3"
  },
  "language_info": {
   "codemirror_mode": {
    "name": "ipython",
    "version": 3
   },
   "file_extension": ".py",
   "mimetype": "text/x-python",
   "name": "python",
   "nbconvert_exporter": "python",
   "pygments_lexer": "ipython3",
   "version": "3.11.5"
  },
  "widgets": {
   "application/vnd.jupyter.widget-state+json": {
    "state": {},
    "version_major": 2,
    "version_minor": 0
   }
  }
 },
 "nbformat": 4,
 "nbformat_minor": 5
}
