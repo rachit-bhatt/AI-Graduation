{
 "cells": [
  {
   "cell_type": "code",
   "execution_count": 1,
   "id": "055e9e37-d4cb-46c3-821f-7753fedbf327",
   "metadata": {},
   "outputs": [
    {
     "name": "stdout",
     "output_type": "stream",
     "text": [
      "I have predicted True!\n",
      "I have predicted True!\n",
      "I have predicted False!\n",
      "I have predicted True!\n",
      "I have predicted True!\n",
      "I have predicted False!\n",
      "I have predicted False!\n",
      "I have predicted False!\n",
      "I have predicted True!\n",
      "I have predicted False!\n"
     ]
    }
   ],
   "source": [
    "# 5.1 - Conditional Tests:\n",
    "\n",
    "import random\n",
    "\n",
    "laptop_companies = ['Framework', 'Acer', 'ASUS', 'Lenovo', 'HP']\n",
    "test_data = ['HP', 'Framework', 'Dell', 'Acer', 'ASUS', 'Reliance', 'Xiaomi', 'MSI', 'Lenovo', 'Apple']\n",
    "\n",
    "def my_prediction(y):\n",
    "    global laptop_companies\n",
    "    return any(i == y for i in laptop_companies)\n",
    "\n",
    "def case_study():\n",
    "    global test_data\n",
    "    for data in test_data:\n",
    "        print(f'I have predicted { my_prediction(data) }!')\n",
    "\n",
    "case_study()"
   ]
  },
  {
   "cell_type": "code",
   "execution_count": 2,
   "id": "41055aeb-c985-4e3a-80aa-36d7c6ab2215",
   "metadata": {},
   "outputs": [
    {
     "name": "stdout",
     "output_type": "stream",
     "text": [
      "I have predicted True!\n",
      "I have predicted True!\n",
      "I have predicted False!\n",
      "I have predicted True!\n",
      "I have predicted True!\n",
      "I have predicted False!\n",
      "I have predicted False!\n",
      "I have predicted False!\n",
      "I have predicted True!\n",
      "I have predicted False!\n",
      "\n",
      "I have predicted False!\n",
      "I have predicted False!\n",
      "I have predicted False!\n",
      "I have predicted False!\n",
      "I have predicted False!\n",
      "I have predicted False!\n",
      "I have predicted False!\n",
      "I have predicted False!\n",
      "I have predicted False!\n",
      "I have predicted False!\n",
      "\n",
      "Correct Data: [85, 49, 14, 66, 75]\n",
      "Test Data: [60, 61, 88, 92, 17, 22, 86, 38, 77, 70]\n",
      "I have predicted [False, True, True, True, True]!\n",
      "I have predicted [False, True, True, True, True]!\n",
      "I have predicted [False, False, True, False, True]!\n",
      "I have predicted [False, False, True, False, True]!\n",
      "I have predicted [False, True, True, True, True]!\n",
      "I have predicted [False, True, True, True, True]!\n",
      "I have predicted [False, False, True, False, True]!\n",
      "I have predicted [False, True, True, True, True]!\n",
      "I have predicted [False, True, True, True, True]!\n",
      "I have predicted [False, True, True, True, True]!\n",
      "\n",
      "I have predicted True!\n",
      "I have predicted True!\n",
      "I have predicted True!\n",
      "I have predicted True!\n",
      "I have predicted True!\n",
      "I have predicted True!\n",
      "I have predicted True!\n",
      "I have predicted True!\n",
      "I have predicted True!\n",
      "I have predicted True!\n",
      "\n",
      "I have predicted False!\n",
      "I have predicted False!\n",
      "I have predicted False!\n",
      "I have predicted False!\n",
      "I have predicted False!\n",
      "I have predicted False!\n",
      "I have predicted False!\n",
      "I have predicted False!\n",
      "I have predicted False!\n",
      "I have predicted False!\n",
      "\n",
      "I have predicted True!\n",
      "I have predicted True!\n",
      "I have predicted True!\n",
      "I have predicted True!\n",
      "I have predicted True!\n",
      "I have predicted True!\n",
      "I have predicted True!\n",
      "I have predicted True!\n",
      "I have predicted True!\n",
      "I have predicted True!\n"
     ]
    }
   ],
   "source": [
    "# 5.2 - More Conditional Tests:\n",
    "\n",
    "# Tests for equality and inequality with strings:\n",
    "def condition(string):\n",
    "    global laptop_companies\n",
    "    return any(i == string for i in laptop_companies)\n",
    "\n",
    "def predict():\n",
    "    global test_data\n",
    "    for data in test_data:\n",
    "        print(f'I have predicted { condition(data) }!')\n",
    "\n",
    "predict()\n",
    "\n",
    "print()\n",
    "\n",
    "# Tests using the lower() method.\n",
    "def condition(string):\n",
    "    global laptop_companies\n",
    "    return any(i == string.lower() for i in laptop_companies)\n",
    "\n",
    "def predict():\n",
    "    global test_data\n",
    "    for data in test_data:\n",
    "        print(f'I have predicted { condition(data) }!')\n",
    "\n",
    "predict()\n",
    "\n",
    "print()\n",
    "\n",
    "# Numerical tests involving equality and inequality, greater than and less than, greater than or equal to, and less than or equal to.\n",
    "\n",
    "laptop_companies = []\n",
    "\n",
    "for iteration in range(1, 5 + 1):\n",
    "    laptop_companies.append(random.randint(1, 100))\n",
    "\n",
    "test_data = []\n",
    "\n",
    "for iteration in range(1, 10 + 1):\n",
    "    test_data.append(random.randint(1, 100))\n",
    "\n",
    "print(f'Correct Data: { laptop_companies }')\n",
    "print(f'Test Data: { test_data }')\n",
    "\n",
    "def condition(string):\n",
    "    global laptop_companies\n",
    "    return [\n",
    "        any(i == string for i in laptop_companies),\n",
    "        any(i > string for i in laptop_companies),\n",
    "        any(i < string for i in laptop_companies),\n",
    "        any(i >= string for i in laptop_companies),\n",
    "        any(i <= string for i in laptop_companies)\n",
    "    ]\n",
    "\n",
    "def predict():\n",
    "    global test_data\n",
    "    for data in test_data:\n",
    "        print(f'I have predicted { condition(data) }!')\n",
    "\n",
    "predict()\n",
    "\n",
    "print()\n",
    "\n",
    "# Tests using the and keyword and the or keyword.\n",
    "def condition(string):\n",
    "    global laptop_companies\n",
    "    return any(i == string for i in laptop_companies) or any(i > string for i in laptop_companies) or any(i < string for i in laptop_companies) and any(i >= string for i in laptop_companies) or any(i <= string for i in laptop_companies)\n",
    "\n",
    "def predict():\n",
    "    global test_data\n",
    "    for data in test_data:\n",
    "        print(f'I have predicted { condition(data) }!')\n",
    "\n",
    "predict()\n",
    "\n",
    "print()\n",
    "\n",
    "# Test whether an item is in a list:\n",
    "def condition(string):\n",
    "    global laptop_companies\n",
    "    return string in laptop_companies\n",
    "\n",
    "def predict():\n",
    "    global test_data\n",
    "    for data in test_data:\n",
    "        print(f'I have predicted { condition(data) }!')\n",
    "\n",
    "predict()\n",
    "\n",
    "print()\n",
    "\n",
    "# Test whether an item is not in a list:\n",
    "def condition(string):\n",
    "    global laptop_companies\n",
    "    return string not in laptop_companies\n",
    "\n",
    "def predict():\n",
    "    global test_data\n",
    "    for data in test_data:\n",
    "        print(f'I have predicted { condition(data) }!')\n",
    "\n",
    "predict()"
   ]
  },
  {
   "cell_type": "code",
   "execution_count": 3,
   "id": "b5a04d8d-9aae-47ed-a4ea-8896da4a5d85",
   "metadata": {},
   "outputs": [
    {
     "name": "stdout",
     "output_type": "stream",
     "text": [
      "The player has just been rewarded 5 points for shooting the alien.\n",
      "Points: 5\n",
      "Points: 5\n"
     ]
    }
   ],
   "source": [
    "# 5.3 - Alien Colors #1:\n",
    "\n",
    "colors = ['Green', 'Yellow', 'Red']\n",
    "\n",
    "alien_color = random.choice(colors)\n",
    "\n",
    "player_points = 0\n",
    "\n",
    "def alien_colors_1():\n",
    "    global alien_color, player_points\n",
    "    if alien_color == 'Green':\n",
    "        player_points += 5\n",
    "        print('The player has just been rewarded 5 points for shooting the alien.')\n",
    "    \n",
    "    print(f'Points: { player_points }')\n",
    "\n",
    "alien_colors_1()\n",
    "alien_color = random.choice(colors)\n",
    "alien_colors_1()"
   ]
  },
  {
   "cell_type": "code",
   "execution_count": 4,
   "id": "7cabdaa5-818c-482d-b136-5aa7efc1d3b0",
   "metadata": {},
   "outputs": [
    {
     "name": "stdout",
     "output_type": "stream",
     "text": [
      "The player has just been rewarded 10 points for shooting the alien.\n",
      "Points: 10\n"
     ]
    }
   ],
   "source": [
    "# 5.4 - Alien Colors #2:\n",
    "\n",
    "player_points = 0\n",
    "\n",
    "if alien_color in colors:\n",
    "    if alien_color != 'Green':\n",
    "        player_points += 10\n",
    "        print('The player has just been rewarded 10 points for shooting the alien.')\n",
    "    else:\n",
    "        player_points += 5\n",
    "        print('The player has just been rewarded 5 points for shooting the alien.')\n",
    "\n",
    "print(f'Points: { player_points }')"
   ]
  },
  {
   "cell_type": "code",
   "execution_count": 5,
   "id": "00a016ef-03d5-4e99-9366-21bb679917e7",
   "metadata": {},
   "outputs": [
    {
     "name": "stdout",
     "output_type": "stream",
     "text": [
      "The player has just been rewarded 15 points for shooting the alien.\n",
      "Points: 25\n",
      "The player has just been rewarded 5 points for shooting the alien.\n",
      "Points: 30\n",
      "The player has just been rewarded 15 points for shooting the alien.\n",
      "Points: 45\n"
     ]
    }
   ],
   "source": [
    "# 5.5 - Alien Colors #3:\n",
    "\n",
    "def alien_colors_3():\n",
    "    global alien_color, player_points\n",
    "    if alien_color == 'Green':\n",
    "        player_points += 5\n",
    "        print('The player has just been rewarded 5 points for shooting the alien.')\n",
    "    elif alien_color == 'Yellow':\n",
    "        player_points += 10\n",
    "        print('The player has just been rewarded 10 points for shooting the alien.')\n",
    "    else:\n",
    "        player_points += 15\n",
    "        print('The player has just been rewarded 15 points for shooting the alien.')\n",
    "    \n",
    "    print(f'Points: { player_points }')\n",
    "\n",
    "alien_color = random.choice(colors)\n",
    "alien_colors_3()\n",
    "alien_color = random.choice(colors)\n",
    "alien_colors_3()\n",
    "alien_color = random.choice(colors)\n",
    "alien_colors_3()"
   ]
  },
  {
   "cell_type": "code",
   "execution_count": 6,
   "id": "2aad2bb6-865b-4e23-b92d-5ebdf71e98a0",
   "metadata": {},
   "outputs": [
    {
     "name": "stdout",
     "output_type": "stream",
     "text": [
      "Person is a kid.\n"
     ]
    }
   ],
   "source": [
    "# 5.6 - Stages of Life:\n",
    "\n",
    "age = random.randint(1, 100)\n",
    "\n",
    "if age < 2:\n",
    "    print('Person is a baby.')\n",
    "elif age >= 2 and age < 4:\n",
    "    print('Person is a toddler.')\n",
    "elif age >= 4 and age < 13:\n",
    "    print('Person is a kid.')\n",
    "elif age >= 13 and age < 20:\n",
    "    print('Person is a teenager.')\n",
    "elif age >= 20 and age < 65:\n",
    "    print('Person is an adult.')\n",
    "else:\n",
    "    print('Person is an elder.')"
   ]
  },
  {
   "cell_type": "code",
   "execution_count": 7,
   "id": "273a3ba1-c649-4fe4-9725-96e64bbf21b4",
   "metadata": {},
   "outputs": [
    {
     "name": "stdout",
     "output_type": "stream",
     "text": [
      "I love eating Jabuticaba!\n",
      "I love eating Kiwano!\n",
      "I love eating Miracle Fruit!\n"
     ]
    }
   ],
   "source": [
    "#5.7 - Favorite Fruit:\n",
    "\n",
    "favorite_fruits = ['Jabuticaba', 'Kiwano', 'Miracle Fruit']\n",
    "\n",
    "if 'Buddha\\'s Hand' in favorite_fruits:\n",
    "    print('I love eating Buddha\\'s Hand!')\n",
    "if 'Jabuticaba' in favorite_fruits:\n",
    "    print('I love eating Jabuticaba!')\n",
    "if 'Kiwano' in favorite_fruits:\n",
    "    print('I love eating Kiwano!')\n",
    "if 'Miracle Fruit' in favorite_fruits:\n",
    "    print('I love eating Miracle Fruit!')\n",
    "if 'Durian' in favorite_fruits:\n",
    "    print('I love eating Durian!')"
   ]
  },
  {
   "cell_type": "code",
   "execution_count": 8,
   "id": "6cad8a8c-ed18-41d6-8693-f798d1832dec",
   "metadata": {},
   "outputs": [
    {
     "name": "stdout",
     "output_type": "stream",
     "text": [
      "Hello, Apostle. Thank you for logging in again!\n",
      "Hello, Zeus. Thank you for logging in again!\n",
      "Hello, Admin. Would you like to see a status report?\n",
      "Hello, Eclipse. Thank you for logging in again!\n",
      "Hello, Crusader. Thank you for logging in again!\n"
     ]
    }
   ],
   "source": [
    "# 5.8 - Hello Admin:\n",
    "\n",
    "usernames = ['Apostle', 'Zeus', 'admin', 'Eclipse', 'Crusader']\n",
    "\n",
    "for name in usernames:\n",
    "    if 'admin' == name:\n",
    "        print('Hello, Admin. Would you like to see a status report?')\n",
    "    else:\n",
    "        print(f'Hello, { name }. Thank you for logging in again!')"
   ]
  },
  {
   "cell_type": "code",
   "execution_count": 9,
   "id": "2586c00f-f712-441d-8fbf-6fe267b5e283",
   "metadata": {},
   "outputs": [
    {
     "name": "stdout",
     "output_type": "stream",
     "text": [
      "All of the users are been removed successfully!\n",
      "Users: []\n",
      "\n",
      "We need to find some users!\n"
     ]
    }
   ],
   "source": [
    "# 5.9 - No Users:\n",
    "\n",
    "def hello_admin(usernames):\n",
    "    if any(usernames): # Confirming the list still holds some values.\n",
    "        usernames.clear()\n",
    "        print('All of the users are been removed successfully!')\n",
    "        print(f'Users: { usernames }')\n",
    "    else:\n",
    "        print('We need to find some users!')\n",
    "\n",
    "hello_admin(usernames)\n",
    "print()\n",
    "hello_admin(usernames)"
   ]
  },
  {
   "cell_type": "code",
   "execution_count": 10,
   "id": "d459805d-33a7-4517-bc14-a63181311ae7",
   "metadata": {},
   "outputs": [
    {
     "name": "stdout",
     "output_type": "stream",
     "text": [
      "The username Thor is available.\n",
      "The username Ace is available.\n",
      "The username Maverick is available.\n",
      "The username ECLIPSE is already chosen by someone else. Please choose another username\n",
      "The username Legend is available.\n"
     ]
    }
   ],
   "source": [
    "# 5.10 - Checking Usernames:\n",
    "\n",
    "current_users = ['Apostle', 'Zeus', 'admin', 'Eclipse', 'Crusader']\n",
    "\n",
    "new_users = ['Thor', 'Ace', 'Maverick', 'ECLIPSE', 'Legend']\n",
    "\n",
    "current_user_insensitive_list = { user.lower() for user in current_users }\n",
    "\n",
    "for username in new_users:\n",
    "    if username.lower() in current_user_insensitive_list:\n",
    "        print(f'The username { username } is already chosen by someone else. Please choose another username')\n",
    "    else:\n",
    "        print(f'The username { username } is available.')"
   ]
  },
  {
   "cell_type": "code",
   "execution_count": 11,
   "id": "1e83204e-77f6-449a-8ced-743d458f8791",
   "metadata": {},
   "outputs": [
    {
     "name": "stdout",
     "output_type": "stream",
     "text": [
      "1st 2nd 3rd 4th 5th 6th 7th 8th 9th "
     ]
    }
   ],
   "source": [
    "# 5.11 - Ordinal Numbers:\n",
    "\n",
    "numbers = list(range(1, 9 + 1))\n",
    "\n",
    "for number in numbers:\n",
    "    if number == 1:\n",
    "        print('1st', end = ' ')\n",
    "    elif number == 2:\n",
    "        print('2nd', end = ' ')\n",
    "    elif number == 3:\n",
    "        print('3rd', end = ' ')\n",
    "    else:\n",
    "        print(f'{ number }th', end = ' ')"
   ]
  }
 ],
 "metadata": {
  "kernelspec": {
   "display_name": "Python 3 (ipykernel)",
   "language": "python",
   "name": "python3"
  },
  "language_info": {
   "codemirror_mode": {
    "name": "ipython",
    "version": 3
   },
   "file_extension": ".py",
   "mimetype": "text/x-python",
   "name": "python",
   "nbconvert_exporter": "python",
   "pygments_lexer": "ipython3",
   "version": "3.11.5"
  },
  "widgets": {
   "application/vnd.jupyter.widget-state+json": {
    "state": {},
    "version_major": 2,
    "version_minor": 0
   }
  }
 },
 "nbformat": 4,
 "nbformat_minor": 5
}
