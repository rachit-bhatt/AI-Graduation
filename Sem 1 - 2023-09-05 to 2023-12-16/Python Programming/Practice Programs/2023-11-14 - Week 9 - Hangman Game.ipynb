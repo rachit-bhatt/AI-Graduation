{
 "cells": [
  {
   "cell_type": "code",
   "execution_count": 3,
   "id": "f995aac5-e038-49a0-a89b-cbe0832b958b",
   "metadata": {},
   "outputs": [
    {
     "name": "stdout",
     "output_type": "stream",
     "text": [
      "Hangman Game!\n",
      "\n",
      " _ _ _ _ _ _\n"
     ]
    },
    {
     "name": "stdin",
     "output_type": "stream",
     "text": [
      "Guess The Letter:  c\n"
     ]
    },
    {
     "name": "stdout",
     "output_type": "stream",
     "text": [
      "Correct Guess!\n",
      "\n",
      "c _ _ _ _ _\n"
     ]
    },
    {
     "name": "stdin",
     "output_type": "stream",
     "text": [
      "Guess The Letter:  w\n"
     ]
    },
    {
     "name": "stdout",
     "output_type": "stream",
     "text": [
      "Wrong guess! 5 tries left.\n",
      "\n",
      "c _ _ _ _ _\n"
     ]
    },
    {
     "name": "stdin",
     "output_type": "stream",
     "text": [
      "Guess The Letter:  o\n"
     ]
    },
    {
     "name": "stdout",
     "output_type": "stream",
     "text": [
      "Correct Guess!\n",
      "\n",
      "co _ _ _ _\n"
     ]
    },
    {
     "name": "stdin",
     "output_type": "stream",
     "text": [
      "Guess The Letter:  d\n"
     ]
    },
    {
     "name": "stdout",
     "output_type": "stream",
     "text": [
      "Correct Guess!\n",
      "\n",
      "cod _ _ _\n"
     ]
    },
    {
     "name": "stdin",
     "output_type": "stream",
     "text": [
      "Guess The Letter:  i\n"
     ]
    },
    {
     "name": "stdout",
     "output_type": "stream",
     "text": [
      "Correct Guess!\n",
      "\n",
      "codi _ _\n"
     ]
    },
    {
     "name": "stdin",
     "output_type": "stream",
     "text": [
      "Guess The Letter:  n\n"
     ]
    },
    {
     "name": "stdout",
     "output_type": "stream",
     "text": [
      "Correct Guess!\n",
      "\n",
      "codin _\n"
     ]
    },
    {
     "name": "stdin",
     "output_type": "stream",
     "text": [
      "Guess The Letter:  g\n"
     ]
    },
    {
     "name": "stdout",
     "output_type": "stream",
     "text": [
      "Correct Guess!\n",
      "Congratulations! You guessed the word: coding\n"
     ]
    }
   ],
   "source": [
    "#region Import Statements\n",
    "\n",
    "import random\n",
    "\n",
    "#endregion\n",
    "\n",
    "def choose_word() -> str:\n",
    "    '''\n",
    "    Choose a random word from the given list of words.\n",
    "    '''\n",
    "    words = ['coding', 'watch', 'keyboard', 'csgo', 'server']\n",
    "    return random.choice(words)\n",
    "\n",
    "def display_word(word, guessed_letters) -> str:\n",
    "    '''\n",
    "    Displaying the word based on guessed letter.\n",
    "    ---\n",
    "    :param word: Word for displaying.\n",
    "    :param guessed_letters: Word that is being guessed by the user.\n",
    "    :type word: str\n",
    "    :type guessed_letters: str\n",
    "    :return: String to display.\n",
    "    :rtype: str\n",
    "    ---\n",
    "    '''\n",
    "    display = ''\n",
    "    for letter in word:\n",
    "        if letter in guessed_letters:\n",
    "            display += letter\n",
    "        else:\n",
    "            display += ' _'\n",
    "    return display\n",
    "\n",
    "def hangman() -> None:\n",
    "    '''\n",
    "    Main logic for the hangman game.\n",
    "    '''\n",
    "    MAX_TRIES = 6\n",
    "    word_to_guess = choose_word()\n",
    "    guessed_letters = []\n",
    "    tries = 0\n",
    "\n",
    "    print('Hangman Game!')\n",
    "\n",
    "    while True:\n",
    "        print(f'\\n{ display_word(word_to_guess, guessed_letters) }')\n",
    "\n",
    "        guess = input('Guess The Letter: ').lower()\n",
    "\n",
    "        if len(guess) != 1 or not guess.isalpha():\n",
    "            print('Please enter a valid single letter.')\n",
    "            continue\n",
    "\n",
    "        if guess in guessed_letters:\n",
    "            print('You already guessed that letter.\\nTry again!')\n",
    "            continue\n",
    "\n",
    "        guessed_letters.append(guess)\n",
    "\n",
    "        if guess not in word_to_guess:\n",
    "            tries += 1\n",
    "            print(f\"Wrong guess! {MAX_TRIES - tries} tries left.\")\n",
    "            if tries == MAX_TRIES:\n",
    "                print(f'Sorry, you\\'re out of tries. The word was: { word_to_guess }')\n",
    "                break\n",
    "        else:\n",
    "            print('Correct Guess!')\n",
    "\n",
    "        if set(guessed_letters) >= set(word_to_guess):\n",
    "            print(f'Congratulations! You guessed the word: { word_to_guess }')\n",
    "            break\n",
    "\n",
    "#region Unit-Testing\n",
    "\n",
    "hangman()\n",
    "\n",
    "#endregion"
   ]
  }
 ],
 "metadata": {
  "kernelspec": {
   "display_name": "Python 3 (ipykernel)",
   "language": "python",
   "name": "python3"
  },
  "language_info": {
   "codemirror_mode": {
    "name": "ipython",
    "version": 3
   },
   "file_extension": ".py",
   "mimetype": "text/x-python",
   "name": "python",
   "nbconvert_exporter": "python",
   "pygments_lexer": "ipython3",
   "version": "3.11.5"
  },
  "widgets": {
   "application/vnd.jupyter.widget-state+json": {
    "state": {},
    "version_major": 2,
    "version_minor": 0
   }
  }
 },
 "nbformat": 4,
 "nbformat_minor": 5
}
