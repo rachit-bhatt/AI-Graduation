{
 "cells": [
  {
   "cell_type": "markdown",
   "id": "c4630bc3-5262-4250-8995-f655f439343e",
   "metadata": {},
   "source": [
    "<center><h1>File Operations</h1></center>"
   ]
  },
  {
   "cell_type": "code",
   "execution_count": 1,
   "id": "jw4krEk9H8pS",
   "metadata": {
    "id": "jw4krEk9H8pS"
   },
   "outputs": [],
   "source": [
    "file_name = 'file_operations.txt'"
   ]
  },
  {
   "cell_type": "code",
   "execution_count": 2,
   "id": "70ab4612",
   "metadata": {
    "id": "70ab4612"
   },
   "outputs": [
    {
     "name": "stdout",
     "output_type": "stream",
     "text": [
      "In Python, you can do various things.\n",
      "In Python, you can create classes and objects.\n",
      "In Python, you can handle exceptions and errors.\n",
      "In Python, you can do various things.\n",
      "In Python, you can create classes and objects.\n",
      "In Python, you can handle exceptions and errors.\n",
      "In Python, you can do various things.\n",
      "In Python, you can create classes and objects.\n",
      "In Python, you can handle exceptions and errors.\n"
     ]
    }
   ],
   "source": [
    "# 10.1 - Learning Python:\n",
    "\n",
    "# Writing to learning_python.txt.\n",
    "with open(file_name, 'w') as file:\n",
    "    file.write(\"In Python, you can do various things.\\n\")\n",
    "    file.write(\"In Python, you can create classes and objects.\\n\")\n",
    "    file.write(\"In Python, you can handle exceptions and errors.\")\n",
    "\n",
    "# Reading and printing the file three times.\n",
    "\n",
    "# Method 1: Read the entire file.\n",
    "with open(file_name, 'r') as file:\n",
    "    contents = file.read()\n",
    "    print(contents)\n",
    "\n",
    "# Method 2: Loop over the file object.\n",
    "with open(file_name, 'r') as file:\n",
    "    for line in file:\n",
    "        print(line.strip())\n",
    "\n",
    "# Method 3: Store lines in a list and work with them outside the with block.\n",
    "with open(file_name, 'r') as file:\n",
    "    lines = file.readlines()\n",
    "\n",
    "for line in lines:\n",
    "    print(line.strip())"
   ]
  },
  {
   "cell_type": "code",
   "execution_count": 3,
   "id": "66167dd7",
   "metadata": {
    "colab": {
     "base_uri": "https://localhost:8080/"
    },
    "id": "66167dd7",
    "outputId": "a5032bbc-6cb0-47f3-b4ae-19d0ec88c1bf"
   },
   "outputs": [
    {
     "name": "stdout",
     "output_type": "stream",
     "text": [
      "In R, you can do various things.\n",
      "In R, you can create classes and objects.\n",
      "In R, you can handle exceptions and errors.\n"
     ]
    }
   ],
   "source": [
    "# 10.2 - Learning C:\n",
    "\n",
    "# Reading and replacing Python with C\n",
    "with open(file_name, 'r') as file:\n",
    "    modified_lines = [line.replace('Python', 'R') for line in file]\n",
    "\n",
    "# Printing modified lines\n",
    "for modified_line in modified_lines:\n",
    "    print(modified_line.strip())"
   ]
  },
  {
   "cell_type": "code",
   "execution_count": 4,
   "id": "38c869c5",
   "metadata": {
    "colab": {
     "base_uri": "https://localhost:8080/",
     "height": 738
    },
    "id": "38c869c5",
    "outputId": "b282058f-9b71-4ae4-cc08-21863bbc5158"
   },
   "outputs": [
    {
     "name": "stdin",
     "output_type": "stream",
     "text": [
      "Enter your name:  Rachit Bhatt\n"
     ]
    }
   ],
   "source": [
    "# 10.4 - Guest:\n",
    "\n",
    "# Prompting the user for their name.\n",
    "user_name = input(\"Enter your name: \")\n",
    "\n",
    "# Writing the user's name to `guest.txt`.\n",
    "with open('guest.txt', 'w') as file:\n",
    "    file.write(user_name)"
   ]
  },
  {
   "cell_type": "code",
   "execution_count": null,
   "id": "ccd94abe",
   "metadata": {
    "id": "ccd94abe"
   },
   "outputs": [],
   "source": [
    "# 10.4 - Guest Book:\n",
    "\n",
    "# Creating a while loop to continuously prompt users for their names.\n",
    "while True:\n",
    "    user_name = input('Please enter your name (enter \\'q\\' to quit): ')\n",
    "\n",
    "    if user_name.lower() == 'q':\n",
    "        break\n",
    "\n",
    "    # Greeting the user and recording their visit in `guest_book.txt`.\n",
    "    greeting = f'Hello, { user_name }. Thanks for visiting!'\n",
    "    print(greeting)\n",
    "\n",
    "    with open('guest_book.txt', 'a') as guest_book:\n",
    "        guest_book.write(greeting + '\\n')"
   ]
  },
  {
   "cell_type": "code",
   "execution_count": 6,
   "id": "b5c85822",
   "metadata": {
    "id": "b5c85822"
   },
   "outputs": [
    {
     "name": "stdin",
     "output_type": "stream",
     "text": [
      "Why do you like programming? (enter 'q' to quit):  It is easy to learn.\n",
      "Why do you like programming? (enter 'q' to quit):  It uses scripting approach.\n",
      "Why do you like programming? (enter 'q' to quit):  It supports cross-platform programming and open source modules.\n",
      "Why do you like programming? (enter 'q' to quit):  It provides flexible to bridge between many other programming languages, such as IronPython for .NET and C# compatibility.\n",
      "Why do you like programming? (enter 'q' to quit):  q\n"
     ]
    }
   ],
   "source": [
    "# 10.5 - Programming Poll:\n",
    "\n",
    "# Creating a while loop to ask people why they like programming.\n",
    "while True:\n",
    "    reason = input('Why do you like programming? (enter \\'q\\' to quit): ')\n",
    "\n",
    "    if reason.lower() == 'q':\n",
    "        break\n",
    "\n",
    "    # Adding their reason to a file that stores all responses.\n",
    "    with open('programming_poll.txt', 'a') as poll_file:\n",
    "        poll_file.write(reason + '\\n')"
   ]
  }
 ],
 "metadata": {
  "colab": {
   "provenance": []
  },
  "kernelspec": {
   "display_name": "Python 3 (ipykernel)",
   "language": "python",
   "name": "python3"
  },
  "language_info": {
   "codemirror_mode": {
    "name": "ipython",
    "version": 3
   },
   "file_extension": ".py",
   "mimetype": "text/x-python",
   "name": "python",
   "nbconvert_exporter": "python",
   "pygments_lexer": "ipython3",
   "version": "3.11.5"
  },
  "widgets": {
   "application/vnd.jupyter.widget-state+json": {
    "state": {},
    "version_major": 2,
    "version_minor": 0
   }
  }
 },
 "nbformat": 4,
 "nbformat_minor": 5
}
