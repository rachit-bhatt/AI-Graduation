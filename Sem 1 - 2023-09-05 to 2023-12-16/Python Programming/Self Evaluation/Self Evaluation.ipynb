{
 "cells": [
  {
   "cell_type": "markdown",
   "metadata": {
    "id": "mf_izJCPf5D6"
   },
   "source": [
    "<center><font size = '8%'>Question 1</font></center>"
   ]
  },
  {
   "cell_type": "code",
   "execution_count": null,
   "metadata": {
    "id": "yRgvlleW1Wxs"
   },
   "outputs": [],
   "source": [
    "# Question #1\n",
    "# Objective: Create a simple number-guessing game that does the following:\n",
    "\n",
    "#        Display Your full name and student number\n",
    "#        The program generates a random number between 1 and 20 (inclusive).\n",
    "#        The Player has 6 chances to guesses the answer  incorrectly\n",
    "#        The player has to guess the number with hints provided after each guess.\n",
    "#        The game gives feedback on whether the guess is too high, too low, or correct.\n",
    "#        The game ends when the player guesses the correct number.\n",
    "# Requirements:\n",
    "\n",
    "#        You must Use Class object method\n",
    "#        Use the random module to generate a random number.\n",
    "#        Use a while loop to allow the player to keep guessing.\n",
    "#        Use if-elif-else statements to check the player's guess and give feedback.\n",
    "#        Use the input function to get the player's guess.\n",
    "#        The game should tell the player how many guesses they took when they guess correctly."
   ]
  },
  {
   "cell_type": "markdown",
   "metadata": {
    "id": "GxMcvrq5iT9e"
   },
   "source": [
    "<center><font color = '#0FF' size = '6%'>Import Statements</font></center>"
   ]
  },
  {
   "cell_type": "code",
   "execution_count": 10,
   "metadata": {
    "id": "e9GtH6f1iTKc"
   },
   "outputs": [],
   "source": [
    "#region Importing Packages\n",
    "\n",
    "import random\n",
    "\n",
    "#endregion"
   ]
  },
  {
   "cell_type": "code",
   "execution_count": 65,
   "metadata": {
    "id": "U6OO-inmftrf"
   },
   "outputs": [],
   "source": [
    "#region Question 1\n",
    "\n",
    "class Game:\n",
    "  '''\n",
    "  A simple number-guessing game having following features.\n",
    "  1. Displaying full name of student and their ID.\n",
    "  2. Generating a random number between 1 and 20 (inclusive).\n",
    "  3. Player having 6 changes at max to guess the number correctly.\n",
    "  4. Hint system will be provided for the player to predict how far the given number is.\n",
    "  5. Game ends when the player guesses the correct number.\n",
    "  '''\n",
    "\n",
    "  MINNUM = 1\n",
    "  MAXNUM = 20\n",
    "\n",
    "  MAXATTEMPTS = 6\n",
    "\n",
    "  # Different hints for the player on how far the number is.\n",
    "  HINTS = {\n",
    "      range(2) : 'Too Close',\n",
    "      range(5) : 'Close',\n",
    "      range(8) : 'Far',\n",
    "      range(10) : 'Too Far'\n",
    "  }\n",
    "\n",
    "  def __init__(self) -> None:\n",
    "    '''\n",
    "    Initializes the data members required for the game.\n",
    "    '''\n",
    "\n",
    "    self.remaining_attempts = self.MAXATTEMPTS\n",
    "    self.correct_number = self.generate_number()\n",
    "    self.guessed_number = -1\n",
    "\n",
    "  def generate_number(self) -> int:\n",
    "    '''\n",
    "    Generates a random number for guessing by the player.\n",
    "    '''\n",
    "    return random.randint(self.MINNUM, self.MAXNUM)\n",
    "\n",
    "  def hint(self, difference) -> str:\n",
    "    '''\n",
    "    Provides hint to the player how far the number is for predicting the number correctly.\n",
    "\n",
    "    # Parameters\n",
    "\n",
    "    difference : int\n",
    "      Calculated difference between the predicted number and the actual number.\n",
    "      Example: 2\n",
    "    '''\n",
    "\n",
    "    # for hint_key in self.HINTS.keys():\n",
    "    #   if difference in hint_key:\n",
    "    #     return self.HINTS[hint_key]\n",
    "\n",
    "    # return self.HINTS[0]\n",
    "\n",
    "    if difference > 0 and difference <= 2:\n",
    "      return 'Too Close'\n",
    "    elif difference > 2 and difference <= 5:\n",
    "      return 'Close'\n",
    "    elif difference > 5 and difference <= 8:\n",
    "      return 'Quite Far'\n",
    "    else:\n",
    "      return 'Too Far'\n",
    "\n",
    "class Player(Game):\n",
    "  '''\n",
    "  Player playing the game.\n",
    "  '''\n",
    "\n",
    "  def __init__(self, name, id):\n",
    "    '''\n",
    "    Player having its name and ID.\n",
    "\n",
    "    # Parameters\n",
    "\n",
    "    name : str\n",
    "      Name of the player.\n",
    "\n",
    "    id : str\n",
    "      ID of the player. (For the simplicity, it is a string.)\n",
    "    '''\n",
    "    self.name = name\n",
    "    self.id = id\n",
    "    self.game = Game()\n",
    "\n",
    "  def guess_number(self, guessed_number) -> bool:\n",
    "    '''\n",
    "    Player attempts to guess the number.\n",
    "\n",
    "    # Parameter\n",
    "\n",
    "    guessed_number : int\n",
    "      Number to validate whether it is guessed correctly.\n",
    "\n",
    "    # Returns\n",
    "\n",
    "      True - Guess is correct.\n",
    "      False - Guess is incorrect.\n",
    "    '''\n",
    "\n",
    "    return self.game.correct_number == guessed_number\n",
    "\n",
    "  def play(self) -> None:\n",
    "    '''\n",
    "    Starts the game for the player to play.\n",
    "    '''\n",
    "\n",
    "    print('Welcome to the Guess-Number Game!')\n",
    "    print('Player Details:')\n",
    "    print(f'Name: { self.name }')\n",
    "    print(f'ID: { self.id }')\n",
    "    print('The Game Begins!')\n",
    "\n",
    "    while True:\n",
    "      try:\n",
    "        self.guessed_number = int(input('Guess the number: '))\n",
    "      except ValueError:\n",
    "        print(f'Guessed number is not in correct format! Please enter a number between { Player.MINNUM } and { Player.MAXNUM }.')\n",
    "        continue\n",
    "\n",
    "      # Validating the input.\n",
    "      if self.guessed_number >= Player.MINNUM and \\\n",
    "         self.guessed_number <= Player.MAXNUM:\n",
    "\n",
    "        if self.guess_number(self.guessed_number):\n",
    "          print(f'Congratulations! The { self.guessed_number } is correct!\\nYou have won the game!')\n",
    "          break\n",
    "        else:\n",
    "          self.game.remaining_attempts -= 1\n",
    "\n",
    "          if self.game.remaining_attempts == 0:\n",
    "            print('Game over!')\n",
    "            break\n",
    "          else:\n",
    "            print(f'Number incorrect!\\nAttempts Remaining: { self.game.remaining_attempts }')\n",
    "            print(f'Hint: { self.hint(abs(self.game.correct_number - self.guessed_number)) }')\n",
    "            continue\n",
    "      else:\n",
    "        print(f'Guessed number is not in correct format! Please enter a number between { Player.MINNUM } and { Player.MAXNUM }.')\n",
    "\n",
    "    #region Play-Again\n",
    "\n",
    "    # play_again = input('Do you want to play this again (Y/N)? ')\n",
    "\n",
    "    # if type(play_again) == str and play_again.upper() == 'Y':\n",
    "    #   Player.play(self)\n",
    "    # else:\n",
    "    #   print('Thank you for playing the game!')\n",
    "\n",
    "    #endregion\n",
    "\n",
    "    print('Thank you for playing the game!')\n",
    "\n",
    "#endregion"
   ]
  },
  {
   "cell_type": "code",
   "execution_count": 66,
   "metadata": {
    "colab": {
     "base_uri": "https://localhost:8080/"
    },
    "id": "aPfNuiWniH1O",
    "outputId": "82de4afa-b315-488e-bf02-cf3a8ad8b29e"
   },
   "outputs": [
    {
     "name": "stdout",
     "output_type": "stream",
     "text": [
      "Welcome to the Guess-Number Game!\n",
      "Player Details:\n",
      "Name: Rachit\n",
      "ID: C0902810\n",
      "The Game Begins!\n",
      "Guess the number: 2\n",
      "Number incorrect!\n",
      "Attempts Remaining: 5\n",
      "Hint: Too Far\n",
      "Guess the number: 6\n",
      "Number incorrect!\n",
      "Attempts Remaining: 4\n",
      "Hint: Too Far\n",
      "Guess the number: 10\n",
      "Number incorrect!\n",
      "Attempts Remaining: 3\n",
      "Hint: Too Far\n",
      "Guess the number: 18\n",
      "Number incorrect!\n",
      "Attempts Remaining: 2\n",
      "Hint: Too Close\n",
      "Guess the number: 19\n",
      "Number incorrect!\n",
      "Attempts Remaining: 1\n",
      "Hint: Too Close\n",
      "Guess the number: 20\n",
      "Congratulations! The 20 is correct!\n",
      "You have won the game!\n",
      "Thank you for playing the game!\n"
     ]
    }
   ],
   "source": [
    "#region Unit-Testing\n",
    "\n",
    "if __name__ == '__main__':\n",
    "  rachit = Player('Rachit', 'C0902810')\n",
    "  rachit.play()\n",
    "\n",
    "#endregion"
   ]
  },
  {
   "cell_type": "markdown",
   "metadata": {
    "id": "x8jtjFr5fyUE"
   },
   "source": [
    "<center><font size = '8%'>Question 2</font></center>"
   ]
  },
  {
   "cell_type": "code",
   "execution_count": null,
   "metadata": {
    "id": "d_fQqJY22UPV"
   },
   "outputs": [],
   "source": [
    "# Question #2\n",
    "# Display Fibonacci series up to 10 terms.\n",
    "# Fibonacci sequence: Each number is the sum of the two preceding ones, starting from 0 and 1.\n",
    "# Expected output:\n",
    "# Fibonacci sequence:\n",
    "# 0 1 1 2 3 5 8 13 21 34"
   ]
  },
  {
   "cell_type": "code",
   "execution_count": 6,
   "metadata": {
    "id": "T6VW42kbfw6P"
   },
   "outputs": [],
   "source": [
    "#region Question 2\n",
    "\n",
    "class DisplayFibonacciSeries:\n",
    "  '''\n",
    "  Displays numerious fibonaicc series.\n",
    "  '''\n",
    "\n",
    "  def display_fibo(self, limit = 10) -> None:\n",
    "    '''\n",
    "    Displays the Fibonacci Series for the given `limit`.\n",
    "    NOTE: This function only displays the Fibonacci Series and does not returns anything.\n",
    "\n",
    "    # Parameters\n",
    "\n",
    "    limit : int\n",
    "      Limit for displaying the Fibonacci Series.\n",
    "      Default: 10\n",
    "\n",
    "    # Example\n",
    "\n",
    "    Having `limit` = 10\n",
    "    Output: 0 1 1 2 3 5 8 13 21 34\n",
    "    '''\n",
    "\n",
    "    # Declaring the variables for displaying the Fibonacci Series.\n",
    "    # First, Next, First + Next, and so on.\n",
    "    first = 0\n",
    "    next = 1\n",
    "\n",
    "    # Iterating till the given `limit`.\n",
    "    for iterations in range(limit):\n",
    "\n",
    "      # Displaying the first instance.\n",
    "      print(first, end = ' ')\n",
    "\n",
    "      # Performing swapping operation and calculating the next number for the Fibonacci Series.\n",
    "      first, next = next, first + next\n",
    "\n",
    "#endregion"
   ]
  },
  {
   "cell_type": "code",
   "execution_count": 11,
   "metadata": {
    "colab": {
     "base_uri": "https://localhost:8080/"
    },
    "id": "GJDESDc6gpRn",
    "outputId": "4923f127-cb6f-4c14-d144-0f6063a5db7d"
   },
   "outputs": [
    {
     "name": "stdout",
     "output_type": "stream",
     "text": [
      "Fibonacci Series:\n",
      "0 1 1 2 3 5 8 13 21 34 "
     ]
    }
   ],
   "source": [
    "#region Unit-Testing\n",
    "\n",
    "if __name__ == '__main__':\n",
    "  print(f'Fibonacci Series:')\n",
    "  DisplayFibonacciSeries().display_fibo()\n",
    "\n",
    "#endregion"
   ]
  }
 ],
 "metadata": {
  "colab": {
   "provenance": []
  },
  "kernelspec": {
   "display_name": "Python 3 (ipykernel)",
   "language": "python",
   "name": "python3"
  },
  "language_info": {
   "codemirror_mode": {
    "name": "ipython",
    "version": 3
   },
   "file_extension": ".py",
   "mimetype": "text/x-python",
   "name": "python",
   "nbconvert_exporter": "python",
   "pygments_lexer": "ipython3",
   "version": "3.11.5"
  },
  "widgets": {
   "application/vnd.jupyter.widget-state+json": {
    "state": {},
    "version_major": 2,
    "version_minor": 0
   }
  }
 },
 "nbformat": 4,
 "nbformat_minor": 4
}
