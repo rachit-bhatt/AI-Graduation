{
 "cells": [
  {
   "cell_type": "markdown",
   "id": "43427808-d594-4bfe-abf1-3a82ee492910",
   "metadata": {},
   "source": [
    "# Import Statements"
   ]
  },
  {
   "cell_type": "code",
   "execution_count": 2,
   "id": "f818da7a-a600-4a65-b023-2ed578069925",
   "metadata": {},
   "outputs": [],
   "source": [
    "#region External Libraries\n",
    "\n",
    "import re\n",
    "\n",
    "#endregion"
   ]
  },
  {
   "cell_type": "markdown",
   "id": "5e8b24b9-e6a6-4e78-89eb-2ef3eac057ce",
   "metadata": {},
   "source": [
    "# Problem 1\n",
    "\n",
    "## You are given a 0-indexed binary string s having an even length.\r\n",
    "## \r\n",
    "A string is beautiful if it's possible to partition it into one or more substrings such that:### \r\n",
    "\r\n",
    "Each substring has an even leng### th.\r\n",
    "Each substring contains only 1's or only ### 0's.\r\n",
    "You can change any character in s to 0 o## r 1.\r\n",
    "\r\n",
    "Return the minimum number of changes required to make the strintifuls u### ul.\r\n",
    "\r\n",
    " \r\n",
    "\r\n",
    "<b>Exampl</b>e 1:\r\n",
    "\r\n",
    "Inp<br>u<b>t: s = </b>\"1<br>0<b>01\"\r\n",
    "Output:</b> 2\r\n",
    "Explanation: We change s[1] to 1 and s[3] to 0 to ge<br>t string \"1100\".\r\n",
    "It can be seen that the string \"1100\" is beautiful because we can partition<br> it into \"11|00\".\r\n",
    "It can be proven that 2 is the minimum number of changes needed to make the<br>\n",
    " ### string beaut<b>iful.\r",
    "</b>\n",
    "Example <br>2<b>:\r\n",
    "\r\n",
    "In</b>pu<br>t<b>: s = \"10\"\r\n",
    "</b>Output: 1\r\n",
    "Explanation: We change s[1] t<br>o 1 to get string \"11\".\r\n",
    "It can be seen that the string \"11\" is beautiful because we can<br> partition it into \"11\".\r\n",
    "It can be proven that 1 is the minimum number of changes needed to m<br>\n",
    "a### ke the strin<b>g beau</b>tiful.\r\n",
    "Exa<br>m<b>ple 3:\r",
    "</b>\n",
    "\r",
    "<br>\n",
    "<b>Input: s = \"</b>0000\"\r\n",
    "Output: 0\r\n",
    "Explanation: We don't need tog.<br> make any changes as the strin\r\n",
    "It can be shown that there are only 2 powerful integers in this range."
   ]
  },
  {
   "cell_type": "code",
   "execution_count": 2,
   "id": "88966921-973f-4376-8db6-173e65ce9df7",
   "metadata": {},
   "outputs": [
    {
     "name": "stdin",
     "output_type": "stream",
     "text": [
      "Enter your text:  0000\n"
     ]
    },
    {
     "name": "stdout",
     "output_type": "stream",
     "text": [
      "We need minimum 0 changes to make the string `0000` beautiful.\n"
     ]
    }
   ],
   "source": [
    "# region Input\n",
    "\n",
    "text = input('Enter your text: ')\n",
    "\n",
    "#endregion\n",
    "\n",
    "#region Business Logic\n",
    "\n",
    "result = text.count('1')\n",
    "\n",
    "#endregion\n",
    "\n",
    "#region Output\n",
    "\n",
    "print('We need minimum {} changes to make the string `{}` beautiful.'.format(result, text))\n",
    "\n",
    "#endregion"
   ]
  },
  {
   "cell_type": "markdown",
   "id": "34e3811d-bb54-499e-a0d3-925fef44a16d",
   "metadata": {},
   "source": [
    "# Problem 2\n",
    "\n",
    "## Write a Python program to find all the numbers from 0-9 from a string:\n",
    "\n",
    "<b>Input:</b> '89ADFRE41'\n",
    "\n",
    "<b>Output:</b> [8941]"
   ]
  },
  {
   "cell_type": "code",
   "execution_count": 3,
   "id": "419df834-35ef-4751-8558-4b22e252b8e1",
   "metadata": {},
   "outputs": [
    {
     "name": "stdin",
     "output_type": "stream",
     "text": [
      "Enter your text to find all the numbers:  89ADFRE41\n"
     ]
    },
    {
     "name": "stdout",
     "output_type": "stream",
     "text": [
      "8941\n"
     ]
    }
   ],
   "source": [
    "#region Input\n",
    "\n",
    "text = input('Enter your text to find all the numbers: ')\n",
    "\n",
    "#endregion\n",
    "\n",
    "#region Business Logic\n",
    "\n",
    "result = ''.join(re.findall(r'\\d*', text))\n",
    "\n",
    "#endregion\n",
    "\n",
    "#region Output\n",
    "\n",
    "print(result)\n",
    "\n",
    "#endregion"
   ]
  },
  {
   "cell_type": "markdown",
   "id": "55522c34-7004-4706-9cfc-3630b958a5d5",
   "metadata": {},
   "source": [
    "# Problem 3\n",
    "## Write a Python program to find two elements once in a list where every element appears exactly n times in the list. \n",
    "\n",
    "<b>Input:</b> [1, 2, 1, 3, 2, 5], 2    (n=2)\n",
    "\n",
    "<b>Output:</b> [5, 3]"
   ]
  },
  {
   "cell_type": "code",
   "execution_count": 4,
   "id": "2b884d8a-2a7c-48d8-ac13-1c6457c1af64",
   "metadata": {},
   "outputs": [
    {
     "name": "stdin",
     "output_type": "stream",
     "text": [
      "Enter number of elements:  6\n",
      "Enter a number to be inserted at 0:  1\n",
      "Enter a number to be inserted at 1:  2\n",
      "Enter a number to be inserted at 2:  1\n",
      "Enter a number to be inserted at 3:  3\n",
      "Enter a number to be inserted at 4:  2\n",
      "Enter a number to be inserted at 5:  5\n",
      "Enter the `n` that appears exactly that `n` times in the list:  2\n"
     ]
    },
    {
     "name": "stdout",
     "output_type": "stream",
     "text": [
      "The elements once in the list where every element appears exactly 2 times in the list are: [3, 5]\n"
     ]
    }
   ],
   "source": [
    "#region Input\n",
    "\n",
    "elements = int(input('Enter number of elements: '))\n",
    "numbers = []\n",
    "\n",
    "for iteration in range(elements):\n",
    "    numbers.append(int(input(f'Enter a number to be inserted at { iteration }: ')))\n",
    "\n",
    "n = int(input('Enter the `n` that appears exactly that `n` times in the list: '))\n",
    "\n",
    "#endregion\n",
    "\n",
    "#region Business Logic\n",
    "\n",
    "# Initializing the distinct numbers to count its occurance.\n",
    "number_count = { number : 0 for number in numbers }\n",
    "\n",
    "# Finding the numbers' occurance.\n",
    "for number in numbers:\n",
    "    number_count[number] += 1\n",
    "\n",
    "# Filtering only those numbers which were repeated only the `n` times and picking and two of them.\n",
    "result = [number for number, count in number_count.items() if count == 1][ : n]\n",
    "\n",
    "#endregion\n",
    "\n",
    "#region Output\n",
    "\n",
    "if len(result) == 2:\n",
    "    print('The elements once in the list where every element appears exactly {} times in the list are: {}'.format(n, result))\n",
    "else:\n",
    "    print('Unable to find two elements once in the list where every element appears exactly {} times in the list: {}'.format(result, numbers))\n",
    "\n",
    "#endregion"
   ]
  },
  {
   "cell_type": "markdown",
   "id": "ed45b9fb-1f9d-4c4e-8ba0-eac96736a09e",
   "metadata": {},
   "source": [
    "# Problem 4\n",
    "## Write a Python program to reverse the digits of an integer.\n",
    "<b>Input:</b> 234<br>\n",
    "<b>Input:</b> -234<br>\n",
    "<b>Output:</b> 432<br>\n",
    "<b>Output:</b> -432<br>"
   ]
  },
  {
   "cell_type": "code",
   "execution_count": 5,
   "id": "7935325d-5230-4920-b94f-674789d08ed7",
   "metadata": {},
   "outputs": [
    {
     "name": "stdin",
     "output_type": "stream",
     "text": [
      "Enter a number to reverse its digits:  -234\n"
     ]
    },
    {
     "name": "stdout",
     "output_type": "stream",
     "text": [
      "The reverse digits of the given number -234 is -432.\n"
     ]
    }
   ],
   "source": [
    "#region Input\n",
    "\n",
    "number = int(input('Enter a number to reverse its digits: '))\n",
    "\n",
    "#endregion\n",
    "\n",
    "#region Business Logic\n",
    "\n",
    "# Different approach when the number is negative.\n",
    "if number < 0:\n",
    "    # Splitting the number to differentiate between `-` symbol and the actual digits.\n",
    "    numbers = re.findall(r'\\d+|-', str(number))\n",
    "    reversed_number = int(numbers[0] + numbers[1][ : : -1]) # Reversing the number as string.\n",
    "else:\n",
    "    reversed_number = int(str(number)[ : : -1]) # Reversing the number as string.\n",
    "\n",
    "#endregion\n",
    "\n",
    "#region Output\n",
    "\n",
    "print(f'The reverse digits of the given number { number } is { reversed_number }.')\n",
    "\n",
    "#endregion"
   ]
  },
  {
   "cell_type": "markdown",
   "id": "aa2e4999-31e9-4e1f-816f-fae9f17645c2",
   "metadata": {},
   "source": [
    "# Problem 5\n",
    "\n",
    "## You are given three integers start, finish, and limit. You are also given a 0-indexed string s representing a positive integer.\n",
    "\n",
    "## A positive integer x is called powerful if it ends with s (in other words, s is a suffix of x) and each digit in x is at most limit.\n",
    "\n",
    "## Return the total number of powerful integers in the range [start..finish].\n",
    "\n",
    "### A string x is a suffix of a string y if and only if x is a substring of y that starts from some index (including 0) in y and extends to the index y.length - 1. For example, 25 is a suffix of 5125 whereas 512 is not.\n",
    "\n",
    "### Example 1:\n",
    "\n",
    "<b>Input:</b> start = 1, finish = 6000, limit = 4, s = \"124\"<br>\n",
    "<b>Output:</b> 5<br>\n",
    "<b>Explanation:</b> The powerful integers in the range [1..6000] are 124, 1124, 2124, 3124, and, 4124. All these integers have each digit <= 4, and \"124\" as a suffix.<br>\n",
    "<i>Note that 5124 is not a powerful integer because the first digit is 5 which is greater than 4.</i><br>\n",
    "It can be shown that there are only 5 powerful integers in this range.\n",
    "\n",
    "### Example 2:\n",
    "\n",
    "<b>Input:</b> start = 15, finish = 215, limit = 6, s = \"10\"<br>\n",
    "<b>Output:</b> 2<br>\n",
    "<b>Explanation:</b> The powerful integers in the range [15..215] are 110 and 210. All these integers have each digit <= 6, and \"10\" as a suffix.<br>\n",
    "It can be shown that there are only 2 powerful integers in this range."
   ]
  },
  {
   "cell_type": "code",
   "execution_count": 6,
   "id": "50578afc-f550-4d7f-8a81-31c407961897",
   "metadata": {},
   "outputs": [
    {
     "name": "stdin",
     "output_type": "stream",
     "text": [
      "Enter the starting range of your search:  15\n",
      "Enter the finishing range of your search:  215\n",
      "Enter the limit of your search:  6\n",
      "Enter the suffix text:  10\n"
     ]
    },
    {
     "name": "stdout",
     "output_type": "stream",
     "text": [
      "[110, 210]\n"
     ]
    }
   ],
   "source": [
    "#region Input\n",
    "\n",
    "start = int(input('Enter the starting range of your search: '))\n",
    "finish = int(input('Enter the finishing range of your search: '))\n",
    "limit = int(input('Enter the limit of your search: '))\n",
    "suffix = input('Enter the suffix text: ')\n",
    "\n",
    "#endregion\n",
    "\n",
    "#region Business Logic\n",
    "\n",
    "number_suffix = []\n",
    "\n",
    "for number in range(start, finish):\n",
    "    digits_length = len(re.findall(f'^\\d*{ suffix }$', str(number)))\n",
    "\n",
    "    if digits_length != 0 and digits_length <= limit:\n",
    "        number_suffix.append(number)\n",
    "\n",
    "#endregion\n",
    "\n",
    "#region Output\n",
    "\n",
    "print(number_suffix)\n",
    "\n",
    "#endregion"
   ]
  }
 ],
 "metadata": {
  "kernelspec": {
   "display_name": "Python 3 (ipykernel)",
   "language": "python",
   "name": "python3"
  },
  "language_info": {
   "codemirror_mode": {
    "name": "ipython",
    "version": 3
   },
   "file_extension": ".py",
   "mimetype": "text/x-python",
   "name": "python",
   "nbconvert_exporter": "python",
   "pygments_lexer": "ipython3",
   "version": "3.11.5"
  },
  "widgets": {
   "application/vnd.jupyter.widget-state+json": {
    "state": {},
    "version_major": 2,
    "version_minor": 0
   }
  }
 },
 "nbformat": 4,
 "nbformat_minor": 5
}
