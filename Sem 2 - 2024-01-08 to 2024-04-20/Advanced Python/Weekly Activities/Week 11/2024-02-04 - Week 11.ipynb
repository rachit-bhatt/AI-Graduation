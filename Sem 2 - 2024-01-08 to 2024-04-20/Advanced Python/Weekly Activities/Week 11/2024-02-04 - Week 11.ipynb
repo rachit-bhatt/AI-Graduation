{
 "cells": [
  {
   "cell_type": "markdown",
   "id": "7c77ef95-6f15-4bf6-b630-7d0c6c4471bb",
   "metadata": {},
   "source": [
    "# Q1 - You are given two integer arrays nums1 and nums2, sorted in non-decreasing order, and two integers m and n, representing the number of elements in nums1 and nums2 respectively.\r\n",
    "### \r\n",
    "Merge nums1 and nums2 into a single array sorted in non-decreasing order.### \r\n",
    "\r\n",
    "The final sorted array should not be returned by the function, but instead be stored inside the array nu\n",
    "### s1. To accommodate this, nums1 has a length of m \n",
    "###  n, where the first m elements denote the elements that should be merged, and the last n elements are set to 0 and should be igno\n",
    "### ed. nums2 has a length of ## n.\r\n",
    "\r\n",
    "Exampl<b>e 1:\r\n",
    "</b>\r\n",
    "Input: nums1 = [1,2,3,0,0,0], m = 3, nums2 = [2,5,6],<b> n = 3\r",
    "</b>\n",
    "\r\n",
    "Output: [1,2,<b>2,3,5,6]\r\n",
    "\r\n",
    "</b>Explanation: The arrays we are merging are [1,2,3] an### d [2,5,6].\r\n",
    "\r\n",
    "The result of the merge is [1,2,2,3,5,6] with the underlined elements comimple 1:\r\n",
    "\r\n",
    "Input: nums = [1,2,3]\r\n",
    "Output: [1,3,2]"
   ]
  },
  {
   "cell_type": "code",
   "execution_count": 1,
   "id": "3e1e6d12-d289-4423-a804-796aa750d8d8",
   "metadata": {},
   "outputs": [
    {
     "name": "stdin",
     "output_type": "stream",
     "text": [
      "Enter number of elements for the first array:  6\n",
      "Enter a number at the place 0:  1\n",
      "Enter a number at the place 1:  2\n",
      "Enter a number at the place 2:  3\n",
      "Enter a number at the place 3:  0\n",
      "Enter a number at the place 4:  0\n",
      "Enter a number at the place 5:  0\n",
      "Enter number of elements for the second array:  3\n",
      "Enter a number at the place 0:  2\n",
      "Enter a number at the place 1:  5\n",
      "Enter a number at the place 2:  6\n",
      "Enter limit of numbers for the first array:  3\n",
      "Enter limit of numbers for the second array:  3\n"
     ]
    },
    {
     "data": {
      "text/plain": [
       "'Merged and Sorted Array Elements: [1, 2, 2, 3, 5, 6]'"
      ]
     },
     "execution_count": 1,
     "metadata": {},
     "output_type": "execute_result"
    }
   ],
   "source": [
    "#region Business Logic\n",
    "\n",
    "def merge_and_sort_arrays(array1: list, array2: list, limit1: int, limit2: int) -> list:\n",
    "    '''\n",
    "    Merges and sorts two arrays based on the given length.\n",
    "    ---\n",
    "    # Parameters:\n",
    "    array1: list\n",
    "        The main list of numbers to merge and sort.\n",
    "    array2: list\n",
    "        The secondary list of numbers to merge and sort.\n",
    "    limit1: int\n",
    "        Represents the number of elements to choose from array1.\n",
    "    limit2: int\n",
    "        Represents the number of elements to choose from array2.\n",
    "    ---\n",
    "    # Returns:\n",
    "    array1: list\n",
    "        Merged and sorted array based on the given length.\n",
    "    ---\n",
    "    # Example:\n",
    "    \n",
    "    Input:\n",
    "    array1 = [1, 2, 3, 0, 0, 0]\n",
    "    array2 = [2, 5, 6]\n",
    "    limit1 = 3\n",
    "    limit2 = 3\n",
    "    \n",
    "    Output: [1, 2, 2, 3, 5, 6]\n",
    "    '''\n",
    "\n",
    "    # Splitting and merging the arrays based on the length provided.\n",
    "    array1 = array1[ : limit1] + array2[ : limit2]\n",
    "\n",
    "    # Sorting the merged array.\n",
    "    array1.sort()\n",
    "\n",
    "    return array1\n",
    "\n",
    "#endregion\n",
    "\n",
    "#region Input\n",
    "\n",
    "#region Array 1\n",
    "\n",
    "elements1 = int(input('Enter number of elements for the first array: '))\n",
    "numbers1 = []\n",
    "\n",
    "for iteration in range(elements1):\n",
    "    numbers1.append(int(input('Enter a number at the place {}: '.format(iteration))))\n",
    "\n",
    "#endregion\n",
    "\n",
    "#region Array 2\n",
    "\n",
    "elements2 = int(input('Enter number of elements for the second array: '))\n",
    "numbers2 = []\n",
    "\n",
    "for iteration in range(elements2):\n",
    "    numbers2.append(int(input('Enter a number at the place {}: '.format(iteration))))\n",
    "\n",
    "#endregion\n",
    "\n",
    "#region Limit for Arrays\n",
    "\n",
    "limit1 = int(input('Enter limit of numbers for the first array: '))\n",
    "limit2 = int(input('Enter limit of numbers for the second array: '))\n",
    "\n",
    "#endregion\n",
    "\n",
    "#region Output\n",
    "\n",
    "'Merged and Sorted Array Elements: {}'.format(merge_and_sort_arrays(array1 = numbers1,\n",
    "                                                                  array2 = numbers2,\n",
    "                                                                  limit1 = limit1,\n",
    "                                                                  limit2 = limit2))\n",
    "\n",
    "#endregion"
   ]
  },
  {
   "cell_type": "markdown",
   "id": "fce3c334-4e75-45ff-869d-5f5cd61ad64a",
   "metadata": {},
   "source": [
    "# Q2- Given an input string s and a pattern p, implement regular expression matching with support for '.' and '*' where:\n",
    "\n",
    "### '.' Matches any single character.​​​​\n",
    "### '*' Matches zero or more of the preceding element.\n",
    "### The matching should cover the entire input string (not partial).\n",
    "\n",
    "## Example 1:\n",
    "\n",
    "<b>Input:</b> s = \"aa\", p = \"a\"\n",
    "\n",
    "<b>Output:</b> false\n",
    "\n",
    "<b>Explanation:</b> \"a\" does not match the entire string \"aa\".\n",
    "\n",
    "## Example 2:\n",
    "\n",
    "<b>Input:</b> s = \"aa\", p = \"a*\"\n",
    "\n",
    "<b>Output:</b> True\n",
    "\n",
    "<b>Explanation:</b> '*' means zero or more of the preceding element, 'a'. Therefore, by repeating 'a' once, it becomes \"aa\"."
   ]
  },
  {
   "cell_type": "code",
   "execution_count": 2,
   "id": "ec1eb768-2466-4948-bcc4-12b1e0872046",
   "metadata": {},
   "outputs": [
    {
     "name": "stdin",
     "output_type": "stream",
     "text": [
      "Enter some text to find based on a pattern:  aa\n",
      "Enter a pattern to search in the entered text:  a*\n"
     ]
    },
    {
     "data": {
      "text/plain": [
       "'Match: True'"
      ]
     },
     "execution_count": 2,
     "metadata": {},
     "output_type": "execute_result"
    }
   ],
   "source": [
    "#region Business Logic\n",
    "\n",
    "#region Dependencies\n",
    "\n",
    "import re\n",
    "\n",
    "#endregion\n",
    "\n",
    "def is_pattern_match(text: str, pattern: str) -> bool:\n",
    "    '''\n",
    "    Finds the `pattern` in the given `text`.\n",
    "    ---\n",
    "    # Parameters:\n",
    "    text: str\n",
    "        Text in which the `pattern` has to be found.\n",
    "    pattern: str\n",
    "        Pattern to search in the given `text`.\n",
    "    ---\n",
    "    # Returns:\n",
    "    bool\n",
    "        Whether the given `text` matches with the given `pattern`.\n",
    "    ---\n",
    "    # Examples:\n",
    "    \n",
    "    Input: text = 'aa', pattern = 'a'\n",
    "    Output: False\n",
    "\n",
    "    Input: text = 'aa', pattern = 'a*'\n",
    "    Output: True\n",
    "    '''\n",
    "    return bool(re.findall(pattern = pattern, string = text)[0] == text)\n",
    "\n",
    "#endergion\n",
    "\n",
    "#region Input\n",
    "\n",
    "text = input('Enter some text to find based on a pattern: ')\n",
    "pattern = input('Enter a pattern to search in the entered text: ')\n",
    "\n",
    "#endregion\n",
    "\n",
    "#region Output\n",
    "\n",
    "'Match: {}'.format(is_pattern_match(text = text, pattern = pattern))\n",
    "\n",
    "#endregion"
   ]
  },
  {
   "cell_type": "markdown",
   "id": "c592d99d-6f06-4192-8d5f-3f00cdae3221",
   "metadata": {},
   "source": [
    "# Q3- A permutation of an array of integers is an arrangement of its members into a sequence or linear order.\n",
    "\n",
    "### For example, for arr = [1,2,3], the following are considered permutations of arr: [1,2,3], [1,3,2], [3,1,2], [2,3,1].\n",
    "### The next permutation of an array of integers is the next lexicographically greater permutation of its integer. More formally,\n",
    "### if all the permutations of the array are sorted in one container according to their lexicographical order,\n",
    "### then the next permutation of that array is the permutation that follows it in the sorted container.\n",
    "### If such arrangement is not possible, the array must be rearranged as the lowest possible order (i.e., sorted in ascending order).\n",
    "\n",
    "### For example, the next permutation of arr = [1,2,3] is [1,3,2].\n",
    "### Similarly, the next permutation of arr = [2,3,1] is [3,1,2].\n",
    "### While the next permutation of arr = [3,2,1] is [1,2,3] because [3,2,1] does not have a lexicographical larger rearrangement.\n",
    "### Given an array of integers nums, find the next permutation of nums.\n",
    "\n",
    "### The replacement must be in place and use only constant extra memory.\n",
    "\n",
    "## Example 1:\n",
    "\n",
    "<b>Input:</b> nums = [1,2,3]\n",
    "\n",
    "<b>Output:</b> [1,3,2]"
   ]
  },
  {
   "cell_type": "markdown",
   "id": "8a82647a-5a1f-4633-a553-0f7a4e057d24",
   "metadata": {},
   "source": [
    "<img src = 'https://media.geeksforgeeks.org/wp-content/uploads/20220908060940/Nextpermutation.png' />"
   ]
  },
  {
   "cell_type": "code",
   "execution_count": 3,
   "id": "49cdb25c-2bee-4cea-818a-b06509833a89",
   "metadata": {},
   "outputs": [
    {
     "name": "stdin",
     "output_type": "stream",
     "text": [
      "Enter number of elements:  3\n",
      "Enter the number at the position 1:  1\n",
      "Enter the number at the position 2:  2\n",
      "Enter the number at the position 3:  3\n"
     ]
    },
    {
     "data": {
      "text/plain": [
       "'Next Permutation: [1, 3, 2]'"
      ]
     },
     "execution_count": 3,
     "metadata": {},
     "output_type": "execute_result"
    }
   ],
   "source": [
    "# region Business Logic\n",
    "\n",
    "def find_next_permutation(numbers: list) -> list:\n",
    "    '''\n",
    "    Find the next permutation for the `numbers` provided.\n",
    "    ---\n",
    "    # Parameters:\n",
    "    numbers: list\n",
    "        List of numbers on which the next permutation has to be evaluated.\n",
    "    ---\n",
    "    # Returns:\n",
    "    numbers: list\n",
    "        A list of numbers that are the result of the next permutation.\n",
    "    ---\n",
    "    # Examples:\n",
    "    Input: [2, 4, 1, 7, 5, 0]\n",
    "    Output: [2, 4, 5, 0, 1, 7]\n",
    "    '''\n",
    "\n",
    "    # Defining Pivot which will be calculated later.\n",
    "    pivot = 0\n",
    "    \n",
    "    # Finding the value of the pivot from the last to the first index of the array.\n",
    "    for iteration in range(len(numbers) - 1, 0, -1):\n",
    "        if numbers[iteration - 1] < numbers[iteration]:\n",
    "            pivot = iteration\n",
    "            break\n",
    "\n",
    "    if pivot == 0:\n",
    "        # Sort the numbers in case.\n",
    "        numbers.sort()\n",
    "        return numbers\n",
    "\n",
    "    # Finding the swapping position.\n",
    "    swapping_position = len(numbers) - 1\n",
    "    while numbers[pivot - 1] >= numbers[swapping_position]:\n",
    "        swapping_position -= 1\n",
    "\n",
    "    # Swapping the pivot value with the swapping position.\n",
    "    numbers[swapping_position], numbers[pivot - 1] = numbers[pivot - 1], numbers[swapping_position]\n",
    "\n",
    "    # Reversing.\n",
    "    numbers[pivot : ] = reversed(numbers[pivot : ])\n",
    "    \n",
    "    return numbers\n",
    "\n",
    "#endregion\n",
    "\n",
    "#region Input\n",
    "\n",
    "elements = int(input('Enter number of elements: '))\n",
    "numbers = []\n",
    "\n",
    "for iteration in range(elements):\n",
    "    numbers.append(int(input(f'Enter the number at the position { iteration + 1 }: ')))\n",
    "\n",
    "#endregion\n",
    "\n",
    "#region Output\n",
    "\n",
    "f'Next Permutation: { find_next_permutation(numbers = numbers) }'\n",
    "\n",
    "#endregion"
   ]
  },
  {
   "cell_type": "markdown",
   "id": "577e990b-785f-4485-b882-8d7e91ffc23b",
   "metadata": {},
   "source": [
    "# References\n",
    "- https://www.geeksforgeeks.org/next-permutation/\n",
    "- https://www.youtube.com/watch?v=uCst0TJHJvg"
   ]
  }
 ],
 "metadata": {
  "kernelspec": {
   "display_name": "Python 3 (ipykernel)",
   "language": "python",
   "name": "python3"
  },
  "language_info": {
   "codemirror_mode": {
    "name": "ipython",
    "version": 3
   },
   "file_extension": ".py",
   "mimetype": "text/x-python",
   "name": "python",
   "nbconvert_exporter": "python",
   "pygments_lexer": "ipython3",
   "version": "3.11.5"
  },
  "widgets": {
   "application/vnd.jupyter.widget-state+json": {
    "state": {},
    "version_major": 2,
    "version_minor": 0
   }
  }
 },
 "nbformat": 4,
 "nbformat_minor": 5
}
