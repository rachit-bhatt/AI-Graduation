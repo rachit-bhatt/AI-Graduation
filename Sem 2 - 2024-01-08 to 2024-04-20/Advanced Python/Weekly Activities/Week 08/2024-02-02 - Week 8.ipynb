{
 "cells": [
  {
   "cell_type": "markdown",
   "id": "ab410b27-ffa5-4215-ac87-bef982d4c403",
   "metadata": {},
   "source": [
    "# Q1. Write a function to find the longest common prefix string amongst an array of strings.\n",
    "\n",
    "## If there is no common prefix, return an empty string \"\".\n",
    "\n",
    "## Example 1:\n",
    "\n",
    "<b>Input:</b> strs = [\"flower\",\"flow\",\"flight\"]\n",
    "\n",
    "<b>Output:</b> \"fl\""
   ]
  },
  {
   "cell_type": "code",
   "execution_count": 1,
   "id": "ea33dd3c-291d-4116-a643-f6a47e33bf24",
   "metadata": {},
   "outputs": [
    {
     "name": "stdin",
     "output_type": "stream",
     "text": [
      "Enter number of texts to find the prefix of:  4\n",
      "Enter a word for the place 1:  flower\n",
      "Enter a word for the place 2:  flute\n",
      "Enter a word for the place 3:  flow\n",
      "Enter a word for the place 4:  flight\n"
     ]
    },
    {
     "data": {
      "text/plain": [
       "'fl'"
      ]
     },
     "execution_count": 1,
     "metadata": {},
     "output_type": "execute_result"
    }
   ],
   "source": [
    "#region Business Logic\n",
    "\n",
    "def longest_common_prefix(text_array: list) -> str:\n",
    "\n",
    "    # Filling the prefix according to the `text_array`.\n",
    "    prefix = ''\n",
    "\n",
    "    # Finding the prefix.\n",
    "    for iteration in range(len(max(text_array))):\n",
    "        try:\n",
    "            # Getting the nth (iteration) character from the array.\n",
    "            characters = [text[iteration] for text in text_array]\n",
    "\n",
    "            # Comparing the characters.\n",
    "            if all(character == characters[0] for character in characters):\n",
    "                # Adding the prefix on found.\n",
    "                prefix += characters[0]\n",
    "            else:\n",
    "                # Break the loop if all of the characters do not match.\n",
    "                break\n",
    "        except IndexError:\n",
    "            # Break the loop when the index is out of bounds as computing further would not be fruitful.\n",
    "            break\n",
    "\n",
    "    return prefix\n",
    "\n",
    "#endregion\n",
    "\n",
    "#region Input\n",
    "\n",
    "elements = int(input('Enter number of texts to find the prefix of: '))\n",
    "text_list = []\n",
    "\n",
    "for iteration in range(1, elements + 1):\n",
    "    text_list.append(input('Enter a word for the place {}: '.format(iteration)))\n",
    "\n",
    "#endregion\n",
    "\n",
    "#region Output\n",
    "\n",
    "longest_common_prefix(text_array = text_list)\n",
    "\n",
    "#endregion"
   ]
  },
  {
   "cell_type": "markdown",
   "id": "10666223-aecf-498a-9291-67d7e56c2963",
   "metadata": {},
   "source": [
    "# Q2. Given an array number of size n, return the majority element.\n",
    "\n",
    "## The majority element is the element that appears more than ⌊n / 2⌋ times.\n",
    "## You may assume that the majority element always exists in the array.\n",
    "\n",
    "## Example 1:\n",
    "\n",
    "<b>Input:</b> nums = [3,2,3]\n",
    "\n",
    "<b>Output:</b> 3"
   ]
  },
  {
   "cell_type": "code",
   "execution_count": 2,
   "id": "47fd5044-9ecc-410b-af51-c202d6ed5177",
   "metadata": {},
   "outputs": [
    {
     "name": "stdin",
     "output_type": "stream",
     "text": [
      "Enter number of elements to find its majority element:  4\n",
      "Enter a number for the place 1:  3\n",
      "Enter a number for the place 2:  2\n",
      "Enter a number for the place 3:  3\n",
      "Enter a number for the place 4:  2\n"
     ]
    },
    {
     "name": "stdout",
     "output_type": "stream",
     "text": [
      "Majority Number: [3, 2]\n"
     ]
    }
   ],
   "source": [
    "#region Business Logic\n",
    "\n",
    "def majority_element(numbers: list) -> int:\n",
    "\n",
    "    # Rounding the numbers' length to find the majority.\n",
    "    n = round(len(numbers))\n",
    "\n",
    "    # Number of times a number has been repeated in the list.\n",
    "    number_count = { number : 0 for number in numbers }\n",
    "\n",
    "    for number in numbers:\n",
    "        number_count[number] += 1\n",
    "\n",
    "    # There maybe two or more elements occurring at the same time for the size n / 2.\n",
    "    # Hence, returning a list of elements.\n",
    "    return [number for number, count in number_count.items() if count >= (n / 2)]\n",
    "\n",
    "#endregion\n",
    "\n",
    "#region Input\n",
    "\n",
    "elements = int(input('Enter number of elements to find its majority element: '))\n",
    "numbers = []\n",
    "\n",
    "for iteration in range(1, elements + 1):\n",
    "    numbers.append(int(input('Enter a number for the place {}: '.format(iteration))))\n",
    "\n",
    "#endregion\n",
    "\n",
    "#region Output\n",
    "\n",
    "print(f'Majority Number: { majority_element(numbers = numbers) }')\n",
    "\n",
    "#endregion"
   ]
  }
 ],
 "metadata": {
  "kernelspec": {
   "display_name": "Python 3 (ipykernel)",
   "language": "python",
   "name": "python3"
  },
  "language_info": {
   "codemirror_mode": {
    "name": "ipython",
    "version": 3
   },
   "file_extension": ".py",
   "mimetype": "text/x-python",
   "name": "python",
   "nbconvert_exporter": "python",
   "pygments_lexer": "ipython3",
   "version": "3.11.5"
  },
  "widgets": {
   "application/vnd.jupyter.widget-state+json": {
    "state": {},
    "version_major": 2,
    "version_minor": 0
   }
  }
 },
 "nbformat": 4,
 "nbformat_minor": 5
}
