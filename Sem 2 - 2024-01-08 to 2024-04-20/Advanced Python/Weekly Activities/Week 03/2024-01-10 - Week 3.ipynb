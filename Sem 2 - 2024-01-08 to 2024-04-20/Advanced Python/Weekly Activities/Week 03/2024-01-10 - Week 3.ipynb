{
 "cells": [
  {
   "cell_type": "markdown",
   "id": "6e9b4bfd-0c23-4156-aff2-5840aea7b51b",
   "metadata": {},
   "source": [
    "## 1 - Write a Python program to find 4 numbers from an array such that the sum of 4 numbers is equal to a given number.\r",
    "```\n",
    "Input: [1, 0, -1, 0, -2, 2, 10, 11], 0)\r\n",
    "Outpu : [[-2, -1, 1, 2], [-2, 0, 0, 2], [-1, 0, 0, 1]]1\n",
    "` 5"
   ]
  },
  {
   "cell_type": "code",
   "execution_count": 1,
   "id": "d628c72e-452d-4831-ba56-be72622640f0",
   "metadata": {},
   "outputs": [
    {
     "name": "stdin",
     "output_type": "stream",
     "text": [
      "Enter number of elements you want to enter:  8\n",
      "Enter a number for the element 1:  1\n",
      "Enter a number for the element 2:  0\n",
      "Enter a number for the element 3:  -1\n",
      "Enter a number for the element 4:  0\n",
      "Enter a number for the element 5:  -2\n",
      "Enter a number for the element 6:  2\n",
      "Enter a number for the element 7:  10\n",
      "Enter a number for the element 8:  11\n",
      "Enter number that you want to find the sum of 4 numbers:  0\n"
     ]
    },
    {
     "name": "stdout",
     "output_type": "stream",
     "text": [
      "[[1, 0, -1, 0], [1, -1, -2, 2], [0, 0, -2, 2]]\n"
     ]
    }
   ],
   "source": [
    "# Split Array having each slice a minimum of 4 elements.\n",
    "\n",
    "#region User-Input\n",
    "numbers = []\n",
    "\n",
    "elements = int(input('Enter number of elements you want to enter: '))\n",
    "\n",
    "iteration = 1\n",
    "while iteration <= elements:\n",
    "    numbers.append(int(input(f'Enter a number for the element { iteration }: ')))\n",
    "    iteration += 1 # Increment.\n",
    "\n",
    "search_sum = int(input('Enter number that you want to find the sum of 4 numbers: '))\n",
    "\n",
    "#endregion\n",
    "\n",
    "#region Business Logic\n",
    "\n",
    "# Assigning elements found having sum as `search_sum`.\n",
    "result = []\n",
    "\n",
    "#region Index 1\n",
    "index1 = 0\n",
    "while index1 < len(numbers):\n",
    "\n",
    "    #region Index 2\n",
    "    index2 = index1 + 1\n",
    "    while index2 < len(numbers):\n",
    "\n",
    "        #region Index 3\n",
    "        index3 = index2 + 1\n",
    "        while index3 < len(numbers):\n",
    "\n",
    "            #region Index 4\n",
    "            index4 = index3 + 1\n",
    "            while index4 < len(numbers):\n",
    "\n",
    "                #region Validating 4 elements\n",
    "                \n",
    "                if (numbers[index1]\n",
    "                + numbers[index2]\n",
    "                + numbers[index3]\n",
    "                + numbers[index4]) == search_sum:\n",
    "                    # Storing these numbers in a list.\n",
    "                    result.append([numbers[index1],\n",
    "                                  numbers[index2],\n",
    "                                  numbers[index3],\n",
    "                                  numbers[index4]])\n",
    "\n",
    "                #endregion\n",
    "\n",
    "                index4 += 1\n",
    "                \n",
    "            #endregion\n",
    "            \n",
    "            index3 += 1\n",
    "\n",
    "        #endregion\n",
    "        \n",
    "        index2 += 1\n",
    "\n",
    "    #endregion\n",
    "    \n",
    "    index1 += 1\n",
    "\n",
    "#endregion\n",
    "\n",
    "#region Output\n",
    "\n",
    "print(result)\n",
    "\n",
    "#endregion"
   ]
  },
  {
   "cell_type": "markdown",
   "id": "29efa78a-ebd8-4f6b-b53d-062996dc3830",
   "metadata": {},
   "source": [
    "## 2 - Write a Python program to find the single element that appears once in a list where every element appears multiple times except for one. \n",
    "```\n",
    "Input: [1, 1, 1, 2, 2, 2, 3]\n",
    "Output: 3\n",
    "```"
   ]
  },
  {
   "cell_type": "code",
   "execution_count": 2,
   "id": "6d764db6-2841-4cc8-9876-afa6c4684d33",
   "metadata": {},
   "outputs": [
    {
     "name": "stdin",
     "output_type": "stream",
     "text": [
      "Enter number of elements to enter:  7\n",
      "Enter a number for the element 1:  1\n",
      "Enter a number for the element 2:  1\n",
      "Enter a number for the element 3:  1\n",
      "Enter a number for the element 4:  2\n",
      "Enter a number for the element 5:  2\n",
      "Enter a number for the element 6:  2\n",
      "Enter a number for the element 7:  3\n"
     ]
    },
    {
     "name": "stdout",
     "output_type": "stream",
     "text": [
      "-1 has been repeated only once.\n",
      "-2 has been repeated only once.\n",
      "10 has been repeated only once.\n",
      "11 has been repeated only once.\n",
      "3 has been repeated only once.\n"
     ]
    }
   ],
   "source": [
    "#region Input\n",
    "\n",
    "elements = int(input('Enter number of elements to enter: '))\n",
    "\n",
    "iteration = 1\n",
    "while iteration <= elements:\n",
    "    numbers.append(int(input(f'Enter a number for the element { iteration }: ')))\n",
    "    iteration += 1 # Increment.\n",
    "\n",
    "#endregion\n",
    "\n",
    "#region Business Logic\n",
    "\n",
    "# For calculating the occurrence of each element in the given list.\n",
    "repeated_elements = { number : 0 for number in numbers }\n",
    "\n",
    "# Iterating over each number to count its occurrence.\n",
    "for number in numbers:\n",
    "    # Sum of each number occurred in the list.\n",
    "    repeated_elements[number] += 1\n",
    "\n",
    "#endregion\n",
    "\n",
    "#region Output\n",
    "\n",
    "for number, occurrence in repeated_elements.items():\n",
    "    # Display those numbers which were occurred once in the number list.\n",
    "    if occurrence == 1:\n",
    "        print(f'{ number } has been repeated only once.')\n",
    "\n",
    "#endregion"
   ]
  },
  {
   "cell_type": "markdown",
   "id": "5b700692-2a48-400b-b4c3-4fdc37f800c1",
   "metadata": {},
   "source": [
    "## 3 - Write a Python program to add the digits of a positive integer repeatedly until the result has a single digit. \n",
    "```\n",
    "Input: 48\n",
    "Output: 3\n",
    "```\n",
    "#### For example given number is 59, the result will be 5.\n",
    "```\n",
    "Step 1: 5 + 9 = 14\n",
    "Step 2: 1 + 4 = 5\n",
    "```"
   ]
  },
  {
   "cell_type": "code",
   "execution_count": 3,
   "id": "571d2f69-a999-498d-9dd8-609cd0b8a7c3",
   "metadata": {},
   "outputs": [
    {
     "name": "stdin",
     "output_type": "stream",
     "text": [
      "Enter a number to sum up:  48\n"
     ]
    },
    {
     "name": "stdout",
     "output_type": "stream",
     "text": [
      "The sum of 48 is 3.\n"
     ]
    }
   ],
   "source": [
    "#region Input\n",
    "\n",
    "number = int(input('Enter a number to sum up: '))\n",
    "\n",
    "#region Validating Input\n",
    "\n",
    "if number < 0:\n",
    "    raise ValueError(f'The number `{ number }` can not be negative.')\n",
    "\n",
    "#endregion\n",
    "\n",
    "#endregion\n",
    "\n",
    "#region Business Logic\n",
    "\n",
    "# Calculating the sum of digits entered.\n",
    "result = sum([int(digit) for digit in str(number)])\n",
    "\n",
    "# Iterating over the `result` until only a single digit exists.\n",
    "while len(str(result)) != 1:\n",
    "    # Evaluating the sum of digits.\n",
    "    result = sum([int(digit) for digit in str(result)])\n",
    "\n",
    "#endregion\n",
    "\n",
    "#region Output\n",
    "\n",
    "print(f'The sum of { number } is { result }.')\n",
    "\n",
    "#endregion"
   ]
  }
 ],
 "metadata": {
  "kernelspec": {
   "display_name": "Python 3 (ipykernel)",
   "language": "python",
   "name": "python3"
  },
  "language_info": {
   "codemirror_mode": {
    "name": "ipython",
    "version": 3
   },
   "file_extension": ".py",
   "mimetype": "text/x-python",
   "name": "python",
   "nbconvert_exporter": "python",
   "pygments_lexer": "ipython3",
   "version": "3.11.5"
  },
  "widgets": {
   "application/vnd.jupyter.widget-state+json": {
    "state": {},
    "version_major": 2,
    "version_minor": 0
   }
  }
 },
 "nbformat": 4,
 "nbformat_minor": 5
}
