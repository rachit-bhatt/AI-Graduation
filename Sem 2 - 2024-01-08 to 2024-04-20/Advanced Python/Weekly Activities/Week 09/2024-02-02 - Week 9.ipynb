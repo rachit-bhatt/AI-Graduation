{
 "cells": [
  {
   "cell_type": "markdown",
   "id": "ca197c7e-9a4f-4a19-8ecf-4567b2526a43",
   "metadata": {},
   "source": [
    "# Importing Modules"
   ]
  },
  {
   "cell_type": "code",
   "execution_count": 1,
   "id": "e0138c6b-4a13-417b-bdbf-652aeed5b5f8",
   "metadata": {},
   "outputs": [],
   "source": [
    "#region Import Statements\n",
    "\n",
    "import string\n",
    "import re\n",
    "import sys\n",
    "\n",
    "#endregion"
   ]
  },
  {
   "cell_type": "markdown",
   "id": "960b59ba-a098-4cad-90dc-1665a781192f",
   "metadata": {},
   "source": [
    "# Q1: A phrase is a palindrome if, after converting all uppercase letters into lowercase letters and removing all non-alphanumeric characters, it reads the same forward and backward. Alphanumeric characters include letters and numbers. Given a string s, return true if it is a palindrome, or false otherwise.\r\n",
    "## \r\n",
    "Example 1:<b>\r\n",
    "\r\n",
    "In</b>put: s = \"A man, a plan, a canal: Panam<b>a\"\r\n",
    "\r\n",
    "O</b>utput: <b>true\r\n",
    "\r\n",
    "Expl</b>anation: \"amanaplanacanalpanama\" is a palin## drome.\r\n",
    "\r\n",
    "Ex<b>ample </b>2:\r\n",
    "\r\n",
    "Input: s = \"r<b>ace a c</b>ar\"\r\n",
    "\r\n",
    "O<b>utput: false</b>\r\n",
    "\r\n",
    "Explanation: \"raceacar\" is n + 02 + 02 = 1\r\n",
    "\r\n",
    "Example 2:\r\n",
    "\r\n",
    "Input: n = 2\r\n",
    "\r\n",
    "Output: false"
   ]
  },
  {
   "cell_type": "code",
   "execution_count": 1,
   "id": "361468b2-e51a-43c0-b422-7eb46a38f4d1",
   "metadata": {},
   "outputs": [
    {
     "name": "stdin",
     "output_type": "stream",
     "text": [
      "Enter a text to find it is alpha-numeric palindrome:  A man, a plan, a canal; Panama\n"
     ]
    },
    {
     "data": {
      "text/plain": [
       "'Is the given text a palindrome: True'"
      ]
     },
     "execution_count": 1,
     "metadata": {},
     "output_type": "execute_result"
    }
   ],
   "source": [
    "#region Business Logic\n",
    "\n",
    "def advanced_palindrome_text(text: str) -> bool:\n",
    "\n",
    "    # Converting the text into lowercase.\n",
    "    text = text.lower()\n",
    "\n",
    "    # Removing all non-alphanumeric characters.\n",
    "    text = ''.join([t for t in text if t.isalnum()])\n",
    "\n",
    "    # Reversing the text to find whether the text is a palindrome text.\n",
    "    text_palindrome = text[ : : -1]\n",
    "\n",
    "    return text == text_palindrome\n",
    "\n",
    "#endregion\n",
    "\n",
    "#region Input\n",
    "\n",
    "text = input('Enter a text to find it is alpha-numeric palindrome: ')\n",
    "\n",
    "#endregion\n",
    "\n",
    "#region Output\n",
    "\n",
    "is_palindrome = advanced_palindrome_text(text)\n",
    "f'The given text is { (\"\" if is_palindrome else \"not \") }a palindrome text.'\n",
    "f'Is the given text a palindrome: { is_palindrome }'\n",
    "\n",
    "#endregion"
   ]
  },
  {
   "cell_type": "markdown",
   "id": "bb5633b4-789b-498a-9a0c-11b836f27640",
   "metadata": {},
   "source": [
    "# Q2 Given an array number of size n, return the majority element. The majority element is the element that appears more than ⌊n / 2⌋ times. You may assume that the majority element always exists in the array.\n",
    "\n",
    "## Example 1:\n",
    "\n",
    "<b>Input:</b> nums = [3,2,3]\n",
    "\n",
    "<b>Output:</b> 3\n",
    "\n",
    "## Example 2:\n",
    "\n",
    "<b>Input:</b> nums = [2,2,1,1,1,2,2]\n",
    "\n",
    "<b>Output:</b> 2"
   ]
  },
  {
   "cell_type": "code",
   "execution_count": 3,
   "id": "5aadf4bd-1cbe-4fd6-af4f-31d98597d0e8",
   "metadata": {},
   "outputs": [
    {
     "name": "stdin",
     "output_type": "stream",
     "text": [
      "Enter number of elements in a list:  7\n",
      "Enter number at place 0:  2\n",
      "Enter number at place 1:  2\n",
      "Enter number at place 2:  1\n",
      "Enter number at place 3:  1\n",
      "Enter number at place 4:  1\n",
      "Enter number at place 5:  2\n",
      "Enter number at place 6:  2\n"
     ]
    },
    {
     "data": {
      "text/plain": [
       "'Majority Elements: [2]'"
      ]
     },
     "execution_count": 3,
     "metadata": {},
     "output_type": "execute_result"
    }
   ],
   "source": [
    "#region Business Logic\n",
    "\n",
    "def majority_element(numbers: list) -> bool:\n",
    "    limit = round(len(numbers) / 2)\n",
    "    \n",
    "    distinct_numbers = { number : 0 for number in numbers }\n",
    "\n",
    "    for number in numbers:\n",
    "        distinct_numbers[number] += 1\n",
    "\n",
    "    return [number for number, count in distinct_numbers.items() if count >= limit]\n",
    "\n",
    "#endregion\n",
    "\n",
    "#region Input\n",
    "\n",
    "elements = int(input('Enter number of elements in a list: '))\n",
    "numbers = []\n",
    "\n",
    "for iteration in range(elements):\n",
    "    numbers.append(int(input('Enter number at place {}: '.format(iteration))))\n",
    "\n",
    "#endregion\n",
    "\n",
    "#region Output\n",
    "\n",
    "f'Majority Elements: { majority_element(numbers = numbers) }'\n",
    "\n",
    "#endregion"
   ]
  },
  {
   "cell_type": "markdown",
   "id": "0268300a-cfe5-4047-819b-372f89e48592",
   "metadata": {},
   "source": [
    "# Q3 Write an algorithm to determine if a number n is happy. A happy number is a number defined by the following process:\n",
    "\n",
    "## Starting with any positive integer, replace the number by the sum of the squares of its digits.\n",
    "### Repeat the process until the number equals 1 (where it will stay), or it loops endlessly in a cycle that does not include 1.\n",
    "### Those numbers for which this process ends in 1 are happy.\n",
    "### Return true if n is a happy number, and false if not.\n",
    "\n",
    "## Example 1:\n",
    "\n",
    "<b>Input:</b> n = 19\n",
    "\n",
    "<b>Output:</b> true\n",
    "\n",
    "### Explanation:\n",
    "\n",
    "1<sup>2</sup> + 9<sup>2</sup> = 82\n",
    "\n",
    "8<sup>2</sup> + 2<sup>2</sup> = 68\n",
    "\n",
    "6<sup>2</sup> + 8<sup>2</sup> = 100\n",
    "\n",
    "1<sup>2</sup> + 0<sup>2</sup> + 0<sup>2</sup> = 1\n",
    "\n",
    "## Example 2:\n",
    "\n",
    "<b>Input:</b> n = 2\n",
    "\n",
    "<b>Output:</b> false"
   ]
  },
  {
   "cell_type": "code",
   "execution_count": 14,
   "id": "d5ad0041-362e-42ec-bffe-9ce3fd6f5b17",
   "metadata": {},
   "outputs": [
    {
     "name": "stdin",
     "output_type": "stream",
     "text": [
      "Enter a number to find whether it is happy:  19\n"
     ]
    },
    {
     "data": {
      "text/plain": [
       "'Is the given number `19` happy?: True'"
      ]
     },
     "execution_count": 14,
     "metadata": {},
     "output_type": "execute_result"
    }
   ],
   "source": [
    "#region Business Logic\n",
    "\n",
    "def split_number_to_digits(number: int) -> set:\n",
    "    '''\n",
    "    Splits the given number into digits recursively.\n",
    "    ---\n",
    "    Example:\n",
    "    Input: number = 123\n",
    "    Output: (1, 2, 3)\n",
    "    ---\n",
    "    Parameters:\n",
    "    number: int\n",
    "        Number to split.\n",
    "    ---\n",
    "    Returns:\n",
    "    set\n",
    "        A set of digits.\n",
    "    '''\n",
    "\n",
    "    # Split more.\n",
    "    if number != 0:\n",
    "        n, digits = divmod(number, 10)\n",
    "        return (digits ** 2,) + split_number_to_digits(n)\n",
    "\n",
    "    # Done splitting.\n",
    "    return ()\n",
    "\n",
    "def is_happy(number: int, number_of_trails: int = 1000) -> bool:\n",
    "    '''\n",
    "    Provides whether the given `number` is happy.\n",
    "    ---\n",
    "    Parameters:\n",
    "    number: int\n",
    "        The number on which the user wants to determine happiness.\n",
    "    number_of_trails: int\n",
    "        Limit the process to skip after some trials.\n",
    "    ---\n",
    "    Returns:\n",
    "    total_addition: bool\n",
    "        Whether the given `number` is happy.\n",
    "    '''\n",
    "\n",
    "    # Setting the recursion limit for the following code.\n",
    "    sys.setrecursionlimit(number_of_trails)\n",
    "\n",
    "    #region Limited code for the recursion\n",
    "\n",
    "    while number_of_trails >= 0 or number == 1:\n",
    "        number = sum(split_number_to_digits(number))\n",
    "\n",
    "        # Update the number of trails.\n",
    "        number_of_trails -= 1\n",
    "\n",
    "        # Releave the resources.\n",
    "        if number == 1:\n",
    "            break\n",
    "\n",
    "    return number == 1\n",
    "\n",
    "    #endregion\n",
    "\n",
    "#endregion\n",
    "\n",
    "#region Input\n",
    "\n",
    "number = int(input('Enter a number to find whether it is happy: '))\n",
    "\n",
    "#endregion\n",
    "\n",
    "#region Output\n",
    "\n",
    "'Is the given number `{}` happy?: {}'.format(number, is_happy(number))\n",
    "\n",
    "#endregion"
   ]
  }
 ],
 "metadata": {
  "kernelspec": {
   "display_name": "Python 3 (ipykernel)",
   "language": "python",
   "name": "python3"
  },
  "language_info": {
   "codemirror_mode": {
    "name": "ipython",
    "version": 3
   },
   "file_extension": ".py",
   "mimetype": "text/x-python",
   "name": "python",
   "nbconvert_exporter": "python",
   "pygments_lexer": "ipython3",
   "version": "3.11.5"
  },
  "widgets": {
   "application/vnd.jupyter.widget-state+json": {
    "state": {},
    "version_major": 2,
    "version_minor": 0
   }
  }
 },
 "nbformat": 4,
 "nbformat_minor": 5
}
