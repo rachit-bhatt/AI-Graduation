{
 "cells": [
  {
   "cell_type": "markdown",
   "id": "bbbc79b8-d6f8-4333-b63a-c96801923317",
   "metadata": {},
   "source": [
    "# Write a Python program to find the single element in a list where every element appears multiple times except for one.\n",
    "\n",
    "<b>Input:</b> [5, 3, 4, 3, 5, 5, 3]\n",
    "\n",
    "<b>Output:</b> 4"
   ]
  },
  {
   "cell_type": "code",
   "execution_count": 1,
   "id": "a346c0bf-dfe0-4b5e-b782-94acee14f17e",
   "metadata": {},
   "outputs": [
    {
     "name": "stdin",
     "output_type": "stream",
     "text": [
      "Enter number of elements you want in your list:  7\n",
      "Enter number 1 for the list:  5\n",
      "Enter number 2 for the list:  3\n",
      "Enter number 3 for the list:  4\n",
      "Enter number 4 for the list:  3\n",
      "Enter number 5 for the list:  5\n",
      "Enter number 6 for the list:  5\n",
      "Enter number 7 for the list:  3\n"
     ]
    },
    {
     "name": "stdout",
     "output_type": "stream",
     "text": [
      "4 has been repeated only once.\n"
     ]
    }
   ],
   "source": [
    "#region Input\n",
    "\n",
    "elements = int(input('Enter number of elements you want in your list: '))\n",
    "\n",
    "numbers = []\n",
    "for iteration in range(1, elements + 1):\n",
    "    numbers.append(int(input(f'Enter number { iteration } for the list: ')))\n",
    "\n",
    "#endregion\n",
    "\n",
    "#region Business Logic\n",
    "\n",
    "# For counting the number of elements.\n",
    "numbers_count = { number : 0 for number in numbers }\n",
    "\n",
    "# Count the number of times the element occurred.\n",
    "for element in numbers:\n",
    "    numbers_count[element] += 1\n",
    "\n",
    "#endregion\n",
    "\n",
    "#region Output\n",
    "\n",
    "for number in numbers_count.keys():\n",
    "    if numbers_count[number] == 1:\n",
    "        print('{} has been repeated only once.'.format(number))\n",
    "\n",
    "#endregion"
   ]
  },
  {
   "cell_type": "markdown",
   "id": "8a8e08e9-ec04-452c-9e7e-628c890839c5",
   "metadata": {},
   "source": [
    "# Write a Python program to compute and return the square root of a given 'integer'.\n",
    "\n",
    "<b>Input:</b> 16\n",
    "\n",
    "<b>Output:</b> 4\n",
    "\n",
    "<b>Note:</b> The returned value will be an 'integer', do not use square root functions from Python."
   ]
  },
  {
   "cell_type": "code",
   "execution_count": 2,
   "id": "ad68336a-415b-427c-9052-cbbf9ca95226",
   "metadata": {},
   "outputs": [
    {
     "name": "stdin",
     "output_type": "stream",
     "text": [
      "Enter number to find its square root:  16\n"
     ]
    },
    {
     "name": "stdout",
     "output_type": "stream",
     "text": [
      "The square root of the 16 is 4.\n"
     ]
    }
   ],
   "source": [
    "#region Input\n",
    "\n",
    "square = int(input('Enter number to find its square root: '))\n",
    "\n",
    "#endregion\n",
    "\n",
    "#region Business Logic\n",
    "\n",
    "# Finding the square root.\n",
    "square_root = square ** 0.5\n",
    "\n",
    "# Making it integer.\n",
    "if str(square_root).endswith('.0'):\n",
    "    square_root = int(square_root)\n",
    "\n",
    "#endregion\n",
    "\n",
    "#region Output\n",
    "\n",
    "print('The square root of the {} is {}.'.format(square, square_root))\n",
    "\n",
    "#endregion"
   ]
  },
  {
   "cell_type": "markdown",
   "id": "3976e13b-061c-4718-871d-64b1eddf49f8",
   "metadata": {},
   "source": [
    "# Write a Python program to check whether a sequence of numbers are a geometric progression. \n",
    "\n",
    "<b>Input:</b> [2, 6, 18, 54]\n",
    "\n",
    "<b>Output:</b> True"
   ]
  },
  {
   "cell_type": "code",
   "execution_count": 3,
   "id": "a95487d0-ce47-401c-927f-ab7673c856ba",
   "metadata": {},
   "outputs": [
    {
     "name": "stdin",
     "output_type": "stream",
     "text": [
      "Enter number of elements you want in your list:  4\n",
      "Enter number 1 for the list:  2\n",
      "Enter number 2 for the list:  6\n",
      "Enter number 3 for the list:  18\n",
      "Enter number 4 for the list:  54\n"
     ]
    },
    {
     "name": "stdout",
     "output_type": "stream",
     "text": [
      "The given numbers are in a geometric progression.\n"
     ]
    }
   ],
   "source": [
    "#region Input\n",
    "\n",
    "elements = int(input('Enter number of elements you want in your list: '))\n",
    "\n",
    "numbers = []\n",
    "for iteration in range(1, elements + 1):\n",
    "    numbers.append(int(input(f'Enter number { iteration } for the list: ')))\n",
    "\n",
    "#endregion\n",
    "\n",
    "#region Business Logic\n",
    "\n",
    "is_geometric_progression = True\n",
    "\n",
    "# Validator.\n",
    "if len(numbers) > 2:\n",
    "    # Calculating the ratio.\n",
    "    r = numbers[1] / numbers[0]\n",
    "\n",
    "    for iteration in range(1, len(numbers) - 1):\n",
    "        if numbers[iteration + 1] / numbers[iteration] != r:\n",
    "            print(numbers[iteration + 1], numbers[iteration])\n",
    "            is_geometric_progression = False\n",
    "\n",
    "#endregion\n",
    "\n",
    "#region Output\n",
    "\n",
    "print(f'The given numbers are{ (\" not\" if not is_geometric_progression else \"\") } in a geometric progression.')\n",
    "\n",
    "#endregion"
   ]
  },
  {
   "cell_type": "markdown",
   "id": "99fa0831-e774-46a1-8bbd-53e0f547014d",
   "metadata": {},
   "source": [
    "## Addon Questions"
   ]
  },
  {
   "cell_type": "markdown",
   "id": "c0616f73-67ad-4200-81ef-29a6002569c8",
   "metadata": {},
   "source": [
    "### Import Statements"
   ]
  },
  {
   "cell_type": "code",
   "execution_count": 4,
   "id": "0a4f513d-3072-4dba-a66c-9a432633704c",
   "metadata": {},
   "outputs": [],
   "source": [
    "import re"
   ]
  },
  {
   "cell_type": "markdown",
   "id": "a8767666-3f8d-4d90-8897-45dc2948a855",
   "metadata": {},
   "source": [
    "### User-Defined Methods for the following code."
   ]
  },
  {
   "cell_type": "code",
   "execution_count": 5,
   "id": "25074c6b-1e0a-4700-8572-4230c3671ce1",
   "metadata": {},
   "outputs": [],
   "source": [
    "#region User-defined methods\n",
    "\n",
    "def absolute_indices(numbers: list, index_difference: int, value_difference: int) -> list:\n",
    "    '''\n",
    "    Finds the absolute indices from `numbers` having following conditions:\n",
    "    Condition 1: abs(i - j) >= index_difference\n",
    "    Condition 2: abs(numbers[i] - numbers[j]) >= value_difference\n",
    "    \n",
    "    Parameters:\n",
    "    numbers: list\n",
    "        List of numbers to find the index from.\n",
    "        Exception: ValueError() - When the elements are not at least 2.\n",
    "    index_difference: int\n",
    "        A number for filtering using the absolute different in index between the numbers.\n",
    "    value_difference: int\n",
    "        A number for filtering the absolute difference in value between the numbers.\n",
    "\n",
    "    Returns:\n",
    "    list\n",
    "        Two indices [i, j] when found as per the conditions.\n",
    "        If not, [-1, -1] will be returned as default.\n",
    "    '''\n",
    "    for i in range(len(numbers)):\n",
    "        for j in range(i, len(numbers)):\n",
    "            if (abs(i - j) >= index_difference and\n",
    "                abs(numbers[i] - numbers[j] >= value_difference)):\n",
    "                return [i, j]\n",
    "\n",
    "    # When the result is not found.\n",
    "    return [-1, -1]\n",
    "\n",
    "#endregion"
   ]
  },
  {
   "cell_type": "markdown",
   "id": "fcb209dc-5fb8-4e83-a619-b4f9cfe25161",
   "metadata": {},
   "source": [
    "### Given an input string s and a pattern p, implement regular expression matching with support for '.' and '*' where:\r\n",
    "<br>\r\n",
    "'.' Matches any single character.​​​<br>​\r\n",
    "'*' Matches zero or more of the preceding elemen<br>t.\r\n",
    "The matching should cover the entire input string (not partia\r",
    "##### \n",
    "\r\n",
    " \r\n",
    "\r\n",
    "Exam<b>ple 1:</b>\r\n",
    "\r\n",
    "Input: s = \"aa<br>\"<b>, p = \"</b>a\"\r\n",
    "Ou<br>t<b>put: false\r\n",
    "</b>Explanation: \"a\" does not match the entire \n",
    "s##### Ering \"aa\".\r",
    "<b>\n",
    "Examp</b>le 2:\r\n",
    "\r\n",
    "Input: s =<br> <b>\"aa\", p</b> = \"a<br>*<b>\"\r\n",
    "Output: t</b>rue\r\n",
    "Explanation: '*' means zero or more of the preced<br>\n",
    "ng element, 'a'. Therefore, by repeating 'a' once,\n",
    " ##### it becomes \"<b>aa\".\r\n",
    "</b>Example 3:\r\n",
    "\r\n",
    "Input<br>:<b> s = \"a</b>b\", p<br> <b>= \".*\"\r\n",
    "Outp</b>ut: true\r\n",
    "Explanation: \".*\" means \"zero or more (*) hat satisfy both conditions.\r\n",
    "Hence, [-1,-1] is returned."
   ]
  },
  {
   "cell_type": "code",
   "execution_count": 6,
   "id": "40c398f7-6937-4e19-b690-1ca1c4d73cb7",
   "metadata": {},
   "outputs": [
    {
     "name": "stdout",
     "output_type": "stream",
     "text": [
      "False\n",
      "True\n",
      "True\n"
     ]
    }
   ],
   "source": [
    "#region Input\n",
    "\n",
    "example1 = 'aa'\n",
    "pattern1 = 'a'\n",
    "# -------------\n",
    "example2 = 'aa'\n",
    "pattern2 = 'a*'\n",
    "# -------------\n",
    "example3 = 'ab'\n",
    "pattern3 = '.*'\n",
    "# -------------\n",
    "\n",
    "#endregion\n",
    "\n",
    "#region Business Logic & Output\n",
    "\n",
    "print(re.findall(pattern1, example1)[0] == example1)\n",
    "print(re.findall(pattern2, example2)[0] == example2)\n",
    "print(re.findall(pattern3, example3)[0] == example3)\n",
    "\n",
    "#endregion"
   ]
  },
  {
   "cell_type": "markdown",
   "id": "8a741aeb-0c20-4c85-b7d1-029f70141806",
   "metadata": {},
   "source": [
    "### You are given a 0-indexed integer array nums having length n, an integer indexDifference, and an integer valueDifference.\n",
    "#### Your task is to find two indices i and j, both in the range [0, n - 1], that satisfy the following conditions:\n",
    "\n",
    "abs(i - j) >= indexDifference, and<br>\n",
    "abs(nums[i] - nums[j]) >= valueDifference<br>\n",
    "Return an integer array answer, where answer = [i, j] if there are two such indices, and answer = [-1, -1] otherwise. If there are multiple choices for the two indices, return any of them.\n",
    "\n",
    "<b>Note:</b> i and j may be equal.\n",
    "\n",
    "##### Example 1:\n",
    "\n",
    "<b>Input:</b> nums = [5,1,4,1], indexDifference = 2, valueDifference = 4<br>\n",
    "<b>Output:</b> [0,3]<br>\n",
    "<b>Explanation:</b> In this example, i = 0 and j = 3 can be selected.<br>\n",
    "abs(0 - 3) >= 2 and abs(nums[0] - nums[3]) >= 4.<br>\n",
    "Hence, a valid answer is [0,3].<br>\n",
    "[3,0] is also a valid answer.\n",
    "\n",
    "##### Example 2:\n",
    "\n",
    "<b>Input:</b> nums = [2,1], indexDifference = 0, valueDifference = 0<br>\n",
    "<b>Output:</b> [0,0]<br>\n",
    "<b>Explanation:</b> In this example, i = 0 and j = 0 can be selected.<br>\n",
    "abs(0 - 0) >= 0 and abs(nums[0] - nums[0]) >= 0.<br>\n",
    "Hence, a valid answer is [0,0].<br>\n",
    "Other valid answers are [0,1], [1,0], and [1,1].\n",
    "\n",
    "##### Example 3:\n",
    "\n",
    "<b>Input:</b> nums = [1,2,3], indexDifference = 2, valueDifference = 4\n",
    "<b>Output:</b> [-1,-1]\n",
    "<b>Explanation:</b> In this example, it can be shown that it is impossible to find two indices that satisfy both conditions.<br>\n",
    "Hence, [-1,-1] is returned."
   ]
  },
  {
   "cell_type": "code",
   "execution_count": 7,
   "id": "292f8d7e-0382-4cae-9ed5-ab7407a8a764",
   "metadata": {},
   "outputs": [
    {
     "name": "stdout",
     "output_type": "stream",
     "text": [
      "[0, 3]\n",
      "[0, 0]\n",
      "[-1, -1]\n"
     ]
    }
   ],
   "source": [
    "print(absolute_indices(numbers = [5, 1, 4, 1], index_difference = 2, value_difference = 4))\n",
    "print(absolute_indices(numbers = [2, 1], index_difference = 0, value_difference = 0))\n",
    "print(absolute_indices(numbers = [1, 2, 3], index_difference = 2, value_difference = 4))"
   ]
  }
 ],
 "metadata": {
  "kernelspec": {
   "display_name": "Python 3 (ipykernel)",
   "language": "python",
   "name": "python3"
  },
  "language_info": {
   "codemirror_mode": {
    "name": "ipython",
    "version": 3
   },
   "file_extension": ".py",
   "mimetype": "text/x-python",
   "name": "python",
   "nbconvert_exporter": "python",
   "pygments_lexer": "ipython3",
   "version": "3.11.5"
  },
  "widgets": {
   "application/vnd.jupyter.widget-state+json": {
    "state": {},
    "version_major": 2,
    "version_minor": 0
   }
  }
 },
 "nbformat": 4,
 "nbformat_minor": 5
}
