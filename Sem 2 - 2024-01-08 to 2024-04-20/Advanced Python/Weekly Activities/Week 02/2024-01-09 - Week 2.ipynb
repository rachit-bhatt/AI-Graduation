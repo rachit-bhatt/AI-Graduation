{
 "cells": [
  {
   "cell_type": "markdown",
   "id": "e634a597-2199-4e05-91cb-f5c02de29e16",
   "metadata": {},
   "source": [
    "## A-Write a Python program to check if a number is a perfect square."
   ]
  },
  {
   "cell_type": "code",
   "execution_count": 1,
   "id": "33e56616-17bd-43b7-813c-42e0d3584d32",
   "metadata": {},
   "outputs": [
    {
     "name": "stdin",
     "output_type": "stream",
     "text": [
      "Please enter a number to find the perfect square of:  25\n"
     ]
    },
    {
     "name": "stdout",
     "output_type": "stream",
     "text": [
      "5 is the perfect square for 25.\n"
     ]
    }
   ],
   "source": [
    "#region Input\n",
    "\n",
    "number = int(input('Please enter a number to find the perfect square of: '))\n",
    "\n",
    "#endregion\n",
    "\n",
    "#region Business Logic\n",
    "\n",
    "# Finding the square root of the given `number`.\n",
    "root = number ** 0.5\n",
    "\n",
    "if root % 1 == 0:\n",
    "    print(f'{ int(root) } is the perfect square for { number }.') # Output - Expected.\n",
    "else:\n",
    "    print(f'{ number } is not a perfect square number.') # Output - Not Expected.\n",
    "\n",
    "#endregion"
   ]
  },
  {
   "cell_type": "markdown",
   "id": "1601c32c-3388-432f-bc65-634d36d33765",
   "metadata": {},
   "source": [
    "## B- Write a Python program to find a missing number from a list. \n",
    "### Input: [1, 2, 3, 4, 6, 7, 8]\n",
    "### Output: 5"
   ]
  },
  {
   "cell_type": "code",
   "execution_count": 2,
   "id": "b23943e8-8460-43d0-baa3-a4ba3089e154",
   "metadata": {},
   "outputs": [
    {
     "name": "stdin",
     "output_type": "stream",
     "text": [
      "Please enter number of elements you want in the list (must be above 0):  7\n",
      "Please enter number at 1 position (uneditable):  1\n",
      "Please enter number at 2 position (uneditable):  2\n",
      "Please enter number at 3 position (uneditable):  3\n",
      "Please enter number at 4 position (uneditable):  4\n",
      "Please enter number at 5 position (uneditable):  6\n",
      "Please enter number at 6 position (uneditable):  7\n",
      "Please enter number at 7 position (uneditable):  8\n"
     ]
    },
    {
     "name": "stdout",
     "output_type": "stream",
     "text": [
      "5 is not present in the provided list of numbers.\n"
     ]
    }
   ],
   "source": [
    "#region Input\n",
    "\n",
    "numbers = [] # Empty list for storing numbers from the user.\n",
    "\n",
    "# Number of elements in the list.\n",
    "elements = int(input('Please enter number of elements you want in the list (must be above 0): '))\n",
    "\n",
    "# Taking a list of numbers from the user.\n",
    "for iteration in range(1, elements + 1):\n",
    "    numbers.append(int(input(f'Please enter number at { iteration } position (uneditable): ')))\n",
    "\n",
    "#endregion\n",
    "\n",
    "#region Business Logic\n",
    "\n",
    "#region Finding Min and Max values in the list\n",
    "\n",
    "min = max = numbers[0]\n",
    "\n",
    "for iteration in range(elements):\n",
    "    if max < numbers[iteration]:\n",
    "        max = numbers[iteration]\n",
    "    if min > numbers[iteration]:\n",
    "        min = numbers[iteration]\n",
    "\n",
    "#endregion\n",
    "\n",
    "for iteration in range(min, max):\n",
    "    if iteration not in numbers:\n",
    "        print(f'{ iteration } is not present in the provided list of numbers.')\n",
    "\n",
    "#endregion"
   ]
  },
  {
   "cell_type": "markdown",
   "id": "1349df18-ad6c-480c-985d-2e0dca8f8b6e",
   "metadata": {},
   "source": [
    "## C- Write a Python program to find the single number in a list that doesn't occur twice.\n",
    "### Input: [5, 3, 4, 3, 4]\n",
    "### Output: 5"
   ]
  },
  {
   "cell_type": "code",
   "execution_count": 3,
   "id": "03643f48-86a4-469d-8faa-dcbbb2a1fa52",
   "metadata": {},
   "outputs": [
    {
     "name": "stdin",
     "output_type": "stream",
     "text": [
      "Please enter number of elements you want in the list (must be above 0):  5\n",
      "Please enter number at 1 position (uneditable):  5\n",
      "Please enter number at 2 position (uneditable):  3\n",
      "Please enter number at 3 position (uneditable):  4\n",
      "Please enter number at 4 position (uneditable):  3\n",
      "Please enter number at 5 position (uneditable):  4\n"
     ]
    },
    {
     "name": "stdout",
     "output_type": "stream",
     "text": [
      "5 has not been used twice!\n"
     ]
    }
   ],
   "source": [
    "# region Input\n",
    "\n",
    "###### NOTE: We can use the code written in this `input` region from the previous question. ######\n",
    "numbers = [] # Empty list for storing numbers from the user.\n",
    "\n",
    "# Number of elements in the list.\n",
    "elements = int(input('Please enter number of elements you want in the list (must be above 0): '))\n",
    "\n",
    "# Taking a list of numbers from the user.\n",
    "for iteration in range(1, elements + 1):\n",
    "    numbers.append(int(input(f'Please enter number at { iteration } position (uneditable): ')))\n",
    "\n",
    "#endregion\n",
    "\n",
    "#region Business Logic\n",
    "\n",
    "#region Helping Variables\n",
    "\n",
    "# Creating a dictionary for counting the number of elements present in the list.\n",
    "# As the key can not be created duplicate, the dictionary is the best option we can use.\n",
    "duplicated = { number : 0 for number in numbers }\n",
    "\n",
    "#endregion\n",
    "\n",
    "for iteration in range(elements):\n",
    "    # Poping each element from the list to find the duplicated number.\n",
    "    number = numbers.pop()\n",
    "\n",
    "    # Fill that number in the dictionary.\n",
    "    duplicated[number] += 1\n",
    "\n",
    "#endregion\n",
    "\n",
    "#region Output\n",
    "\n",
    "for number, count in duplicated.items():\n",
    "    if count != 2:\n",
    "        print(f'{ number } has not been used twice!')\n",
    "\n",
    "#endregion"
   ]
  },
  {
   "cell_type": "code",
   "execution_count": 27,
   "id": "e766c371-4602-464e-9ec0-af8da1d0be2c",
   "metadata": {},
   "outputs": [
    {
     "name": "stdout",
     "output_type": "stream",
     "text": [
      "5 has been repeated only once in the given list.\n"
     ]
    }
   ],
   "source": [
    "# Simpliar version of the above code.\n",
    "\n",
    "lst = [5, 3, 4, 3, 4]\n",
    "count = 0\n",
    "\n",
    "for i in lst:\n",
    "    count ^= i\n",
    "\n",
    "print(f'{ count } has been repeated only once in the given list.')"
   ]
  }
 ],
 "metadata": {
  "kernelspec": {
   "display_name": "Python 3 (ipykernel)",
   "language": "python",
   "name": "python3"
  },
  "language_info": {
   "codemirror_mode": {
    "name": "ipython",
    "version": 3
   },
   "file_extension": ".py",
   "mimetype": "text/x-python",
   "name": "python",
   "nbconvert_exporter": "python",
   "pygments_lexer": "ipython3",
   "version": "3.11.5"
  },
  "widgets": {
   "application/vnd.jupyter.widget-state+json": {
    "state": {},
    "version_major": 2,
    "version_minor": 0
   }
  }
 },
 "nbformat": 4,
 "nbformat_minor": 5
}
