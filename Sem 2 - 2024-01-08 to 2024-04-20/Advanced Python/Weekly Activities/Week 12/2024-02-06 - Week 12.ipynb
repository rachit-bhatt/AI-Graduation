{
 "cells": [
  {
   "cell_type": "markdown",
   "id": "a5d358b3-0ce1-4ee5-8049-dab04a512d02",
   "metadata": {},
   "source": [
    "# Q1 You are given a large integer represented as an integer array `digits`, where each `digits[i]` is the ith digit of the integer. The digits are ordered from most significant to least significant in left-to-right order. The large integer does not contain any leading 0's.\r\n",
    "## \r\n",
    "Increment the large integer by one and return the resulting array of digits.## \n",
    "\r\n",
    " Example <b>1:\r\n",
    "\r\n",
    "</b>Input: digits = [1,<b>2,3]\r\n",
    "\r",
    "</b>\n",
    "Output: [<b>1,2,4]\r\n",
    "\r\n",
    "Ex</b>planation: The array represents the inte### ger 123.\r\n",
    "\r\n",
    "Incrementing by one gives 123 ### + 1 = 124.\r\n",
    "\r\n",
    "Thus, the result should be [1,2,4].Output: [1,3,2]"
   ]
  },
  {
   "cell_type": "code",
   "execution_count": 1,
   "id": "5fcd3462-cb12-47f5-a03e-8ebe9ac5d9ab",
   "metadata": {},
   "outputs": [
    {
     "name": "stdin",
     "output_type": "stream",
     "text": [
      "Enter number of elements in the list:  3\n",
      "Enter a number for the position 1 in the number list:  1\n",
      "Enter a number for the position 2 in the number list:  2\n",
      "Enter a number for the position 3 in the number list:  3\n"
     ]
    },
    {
     "data": {
      "text/plain": [
       "\"Larger Number: ['1', '2', '4']\""
      ]
     },
     "execution_count": 1,
     "metadata": {},
     "output_type": "execute_result"
    }
   ],
   "source": [
    "#region Business Logic\n",
    "\n",
    "def larger_integer(numbers: list) -> list:\n",
    "    '''\n",
    "    Provides a larger integer represented as an integer array of `numbers`,\n",
    "    where each `numbers[i]` is the ith digit of the integer.\n",
    "    The digits are ordered from most significant to least significant in left-to-right order.\n",
    "    The large integer does not contain any leading 0's.\n",
    "    ---\n",
    "    # Parameters:\n",
    "    ---\n",
    "    # Returns:\n",
    "    list\n",
    "        A larger integer for the provided `numbers`.\n",
    "    ---\n",
    "    # Examples:\n",
    "    Input: [1, 2, 3]\n",
    "    Output: [1, 2, 4]\n",
    "    Explanation:\n",
    "    - The array represents the integer 123.\n",
    "    - Incrementing by one gives 123 + 1 = 124.\n",
    "    - Thus, the result should be [1,2,4].\n",
    "    '''\n",
    "\n",
    "    #region Extracting the digits from the given list.\n",
    "\n",
    "    number = ''\n",
    "\n",
    "    for n in numbers:\n",
    "        number += str(n % 10)\n",
    "\n",
    "    #endregion\n",
    "\n",
    "    # Providing a list with a larger integer by adding 1 to the digits combined.\n",
    "    return list(str(int(number) + 1))\n",
    "\n",
    "#endregion\n",
    "\n",
    "#region Input\n",
    "\n",
    "elements = int(input('Enter number of elements in the list: '))\n",
    "numbers = []\n",
    "\n",
    "for iteration in range(1, elements + 1):\n",
    "    numbers.append(int(input('Enter a number for the position {} in the number list: '.format(iteration))))\n",
    "\n",
    "#endregion\n",
    "\n",
    "#region Output\n",
    "\n",
    "'Larger Number: {}'.format(larger_integer(numbers = numbers))\n",
    "\n",
    "#endregion"
   ]
  },
  {
   "cell_type": "markdown",
   "id": "b43cf516-8195-4139-9f8c-d660058e0a45",
   "metadata": {},
   "source": [
    "# Q2 Given two strings ransomNote and magazine, return true if ransomNote can be constructed by using the letters from magazine and false otherwise.\n",
    "\n",
    "## Each letter in magazine can only be used once in ransomNote.\n",
    "\n",
    "## Example 1:\n",
    "\n",
    "<b>Input:</b> ransomNote = \"a\", magazine = \"b\"\n",
    "\n",
    "<b>Output:</b> false\n",
    "\n",
    "## Example 2:\n",
    "\n",
    "<b>Input:</b> ransomNote = \"aa\", magazine = \"ab\"\n",
    "\n",
    "<b>Output:</b> false"
   ]
  },
  {
   "cell_type": "code",
   "execution_count": 2,
   "id": "1c69efdb-f0d1-44d0-88ef-b4f9452350b3",
   "metadata": {},
   "outputs": [
    {
     "name": "stdin",
     "output_type": "stream",
     "text": [
      "Enter the ransom note:  aa\n",
      "Enter the magazine:  a*\n"
     ]
    },
    {
     "data": {
      "text/plain": [
       "True"
      ]
     },
     "execution_count": 2,
     "metadata": {},
     "output_type": "execute_result"
    }
   ],
   "source": [
    "#region Dependency\n",
    "\n",
    "import re\n",
    "\n",
    "#endregion\n",
    "\n",
    "#region Business Logic\n",
    "\n",
    "def is_match(ransom_note: str, magazine: str) -> bool:\n",
    "    '''\n",
    "    Whether the `ransom_note` can be constructed by using the letters from `magazine`.\n",
    "    ---\n",
    "    # Parameters:\n",
    "    ransom_note: str\n",
    "        Text for regular expression.\n",
    "    magazine: str\n",
    "        Pattern for regular expression.\n",
    "    ---\n",
    "    # Returns:\n",
    "    bool\n",
    "        Could `ransom_note` be constructed by using the letters from `magazine`?\n",
    "    ---\n",
    "    # Examples:\n",
    "    \n",
    "    Example 1:\n",
    "    Input: ransom_note = 'a', magazine = 'b'\n",
    "    Output: False\n",
    "\n",
    "    Example 2:\n",
    "    Input: ransom_note = 'aa', magazine = 'ab'\n",
    "    Output: False\n",
    "    '''\n",
    "\n",
    "    return bool(re.match(pattern = magazine, string = ransom_note))\n",
    "\n",
    "#endregion\n",
    "\n",
    "#region Input\n",
    "\n",
    "text = input('Enter the ransom note: ')\n",
    "pattern = input('Enter the magazine: ')\n",
    "\n",
    "#endregion\n",
    "\n",
    "#region Output\n",
    "\n",
    "is_match(ransom_note = text, magazine = pattern)\n",
    "\n",
    "#endregion"
   ]
  },
  {
   "cell_type": "markdown",
   "id": "649c733c-b43a-44ad-a3c5-00bd0e136bde",
   "metadata": {},
   "source": [
    "# Q3 A permutation of an array of integers is an arrangement of its members into a sequence or linear order.\n",
    "\n",
    "## For example, for arr = [1,2,3], the following are considered permutations of arr: [1,2,3], [1,3,2], [3,1,2], [2,3,1].\n",
    "## The next permutation of an array of integers is the next lexicographically greater permutation of its integer.\n",
    "## More formally, if all the permutations of the array are sorted in one container according to their lexicographical order,\n",
    "## then the next permutation of that array is the permutation that follows it in the sorted container.\n",
    "## If such an arrangement is impossible, the array must be rearranged in the lowest possible order (i.e., sorted in ascending order).\n",
    "\n",
    "## For example, the next permutation of arr = [1,2,3] is [1,3,2].\n",
    "## Similarly, the next permutation of arr = [2,3,1] is [3,1,2].\n",
    "## While the next permutation of arr = [3,2,1] is [1,2,3] because [3,2,1] does not have a lexicographical larger rearrangement.\n",
    "## Given an array of integers nums, find the next permutation of nums.\n",
    "\n",
    "## The replacement must be in place and use only constant extra memory.\n",
    "\n",
    "## Example 1:\n",
    "\n",
    "<b>Input:</b> nums = [1,2,3]\n",
    "\n",
    "<b>Output:</b> [1,3,2]"
   ]
  },
  {
   "cell_type": "markdown",
   "id": "3c56cd6a-0bcd-4f83-879f-6d874d11540b",
   "metadata": {},
   "source": [
    "<img src = 'https://media.geeksforgeeks.org/wp-content/uploads/20220908060940/Nextpermutation.png' />"
   ]
  },
  {
   "cell_type": "code",
   "execution_count": 3,
   "id": "28fe1572-c73f-4ecf-87f7-90973d4aaff6",
   "metadata": {},
   "outputs": [
    {
     "name": "stdin",
     "output_type": "stream",
     "text": [
      "Enter number of elements:  3\n",
      "Enter the number at the position 1:  2\n",
      "Enter the number at the position 2:  3\n",
      "Enter the number at the position 3:  1\n"
     ]
    },
    {
     "data": {
      "text/plain": [
       "'Next Permutation: [3, 1, 2]'"
      ]
     },
     "execution_count": 3,
     "metadata": {},
     "output_type": "execute_result"
    }
   ],
   "source": [
    "# region Business Logic\n",
    "\n",
    "def find_next_permutation(numbers: list) -> list:\n",
    "    '''\n",
    "    Find the next permutation for the `numbers` provided.\n",
    "    ---\n",
    "    # Parameters:\n",
    "    numbers: list\n",
    "        List of numbers on which the next permutation has to be evaluated.\n",
    "    ---\n",
    "    # Returns:\n",
    "    numbers: list\n",
    "        A list of numbers that are the result of the next permutation.\n",
    "    ---\n",
    "    # Examples:\n",
    "    Input: [2, 4, 1, 7, 5, 0]\n",
    "    Output: [2, 4, 5, 0, 1, 7]\n",
    "    '''\n",
    "\n",
    "    # Defining Pivot which will be calculated later.\n",
    "    pivot = 0\n",
    "    \n",
    "    # Finding the value of the pivot from the last to the first index of the array.\n",
    "    for iteration in range(len(numbers) - 1, 0, -1):\n",
    "        if numbers[iteration - 1] < numbers[iteration]:\n",
    "            pivot = iteration\n",
    "            break\n",
    "\n",
    "    if pivot == 0:\n",
    "        # Sort the numbers in case.\n",
    "        numbers.sort()\n",
    "        return numbers\n",
    "\n",
    "    # Finding the swapping position.\n",
    "    swapping_position = len(numbers) - 1\n",
    "    while numbers[pivot - 1] >= numbers[swapping_position]:\n",
    "        swapping_position -= 1\n",
    "\n",
    "    # Swapping the pivot value with the swapping position.\n",
    "    numbers[swapping_position], numbers[pivot - 1] = numbers[pivot - 1], numbers[swapping_position]\n",
    "\n",
    "    # Reversing.\n",
    "    numbers[pivot : ] = reversed(numbers[pivot : ])\n",
    "    \n",
    "    return numbers\n",
    "\n",
    "#endregion\n",
    "\n",
    "#region Input\n",
    "\n",
    "elements = int(input('Enter number of elements: '))\n",
    "numbers = []\n",
    "\n",
    "for iteration in range(elements):\n",
    "    numbers.append(int(input(f'Enter the number at the position { iteration + 1 }: ')))\n",
    "\n",
    "#endregion\n",
    "\n",
    "#region Output\n",
    "\n",
    "f'Next Permutation: { find_next_permutation(numbers = numbers) }'\n",
    "\n",
    "#endregion"
   ]
  },
  {
   "cell_type": "markdown",
   "id": "283e296b-761c-4e92-8978-e9aad3a0a8d1",
   "metadata": {},
   "source": [
    "# References\n",
    "- https://www.geeksforgeeks.org/next-permutation/\n",
    "- https://www.youtube.com/watch?v=uCst0TJHJvg"
   ]
  }
 ],
 "metadata": {
  "kernelspec": {
   "display_name": "Python 3 (ipykernel)",
   "language": "python",
   "name": "python3"
  },
  "language_info": {
   "codemirror_mode": {
    "name": "ipython",
    "version": 3
   },
   "file_extension": ".py",
   "mimetype": "text/x-python",
   "name": "python",
   "nbconvert_exporter": "python",
   "pygments_lexer": "ipython3",
   "version": "3.11.5"
  },
  "widgets": {
   "application/vnd.jupyter.widget-state+json": {
    "state": {},
    "version_major": 2,
    "version_minor": 0
   }
  }
 },
 "nbformat": 4,
 "nbformat_minor": 5
}
