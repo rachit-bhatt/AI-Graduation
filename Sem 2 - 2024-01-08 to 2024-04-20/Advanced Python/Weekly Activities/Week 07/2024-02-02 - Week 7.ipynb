{
 "cells": [
  {
   "cell_type": "markdown",
   "id": "af23fbfe-257a-4b5c-8590-79617db1ded7",
   "metadata": {},
   "source": [
    "# Q1)\r\n",
    "## \r\n",
    "Given an integer x, return true if x is palindrome integer.## \r\n",
    "\r\n",
    "An integer is a palindrome when it reads the same backward as forwar## d.\r\n",
    "\r\n",
    "For example, 121 is a palindrome while 123 i\"\r\n",
    "\r\n",
    "Output: 58\r\n",
    "\r\n",
    "Explanation: L = 50, V= 5, III = 3."
   ]
  },
  {
   "cell_type": "code",
   "execution_count": 1,
   "id": "74447146-435a-4886-9227-f818111d677a",
   "metadata": {},
   "outputs": [
    {
     "name": "stdin",
     "output_type": "stream",
     "text": [
      "Enter number to find whether the given number is a palindrome:  121\n"
     ]
    },
    {
     "name": "stdout",
     "output_type": "stream",
     "text": [
      "121 is a palindrome number.\n"
     ]
    }
   ],
   "source": [
    "#region Business Logic\n",
    "\n",
    "def is_number_palindrome(number: int) -> bool:\n",
    "    return str(number)[ : : -1] == str(number)\n",
    "\n",
    "#endregion\n",
    "\n",
    "#region Input\n",
    "\n",
    "number = int(input('Enter number to find whether the given number is a palindrome: '))\n",
    "\n",
    "#endregion\n",
    "\n",
    "#region Output\n",
    "\n",
    "is_palindome = is_number_palindrome(number)\n",
    "print(f'{ number } is{ (\"\" if is_palindome else \" not\") } a palindrome number.')\n",
    "\n",
    "#endregion"
   ]
  },
  {
   "cell_type": "markdown",
   "id": "bddf1edb-73d9-4c4e-9483-78fb684780ba",
   "metadata": {},
   "source": [
    "# Q2)\n",
    "\n",
    "## Roman numerals are represented by seven different symbols: I, V, X, L, C, D and M.\n",
    "\n",
    "<table>\n",
    "    <thead>\n",
    "        <tr>\n",
    "            <th>Symbol</th>\n",
    "            <th>Value</th>\n",
    "        </tr>\n",
    "    </thead>\n",
    "    <tbody>\n",
    "        <tr>\n",
    "            <td>I</td>\n",
    "            <td>1</td>\n",
    "        </tr>\n",
    "        <tr>\n",
    "            <td>V</td>\n",
    "            <td>5</td>\n",
    "        </tr>\n",
    "        <tr>\n",
    "            <td>X</td>\n",
    "            <td>10</td>\n",
    "        </tr>\n",
    "        <tr>\n",
    "            <td>L</td>\n",
    "            <td>50</td>\n",
    "        </tr>\n",
    "        <tr>\n",
    "            <td>C</td>\n",
    "            <td>100</td>\n",
    "        </tr>\n",
    "        <tr>\n",
    "            <td>D</td>\n",
    "            <td>500</td>\n",
    "        </tr>\n",
    "        <tr>\n",
    "            <td>M</td>\n",
    "            <td>1000</td>\n",
    "        </tr>\n",
    "    </tbody>\n",
    "</table>\n",
    "\n",
    "### For example, 2 is written as II in Roman numeral, just two ones added together. 12 is written as XII, which is simply X + II. The number 27 is written as XXVII, which is XX + V + II.\n",
    "\n",
    "### Roman numerals are usually written largest to smallest from left to right. However, the numeral for four is not IIII. Instead, the number four is written as IV. Because the one is before the five we subtract it making four. The same principle applies to the number nine, which is written as IX. There are six instances where subtraction is used:\n",
    "\n",
    "#### I can be placed before V (5) and X (10) to make 4 and 9. \n",
    "#### X can be placed before L (50) and C (100) to make 40 and 90. \n",
    "#### C can be placed before D (500) and M (1000) to make 400 and 900.\n",
    "#### Given a roman numeral, convert it to an integer.\n",
    "\n",
    "## Example 1:\n",
    "\n",
    "<b>Input:</b> s = \"III\"\n",
    "\n",
    "<b>Output:</b> 3\n",
    "\n",
    "<b>Explanation:</b> III = 3.\n",
    "\n",
    "## Example 2:\n",
    "\n",
    "<b>Input:</b> s = \"LVIII\"\n",
    "\n",
    "<b>Output:</b> 58\n",
    "\n",
    "<b>Explanation:</b> L = 50, V= 5, III = 3."
   ]
  },
  {
   "cell_type": "code",
   "execution_count": 2,
   "id": "f88df1c5-5a7f-4c60-b31c-3aec74aa5cae",
   "metadata": {},
   "outputs": [
    {
     "name": "stdin",
     "output_type": "stream",
     "text": [
      "Enter a roman number:  LVIII\n"
     ]
    },
    {
     "name": "stdout",
     "output_type": "stream",
     "text": [
      "Real number for the roman number LVIII is 58.\n"
     ]
    }
   ],
   "source": [
    "#region Business Logic\n",
    "\n",
    "def roman_to_numeric(roman_number: str) -> int:\n",
    "    roman_dictionary = {\n",
    "        'I' : 1,\n",
    "        'V' : 5,\n",
    "        'X' : 10,\n",
    "        'L' : 50,\n",
    "        'C' : 100,\n",
    "        'D' : 500,\n",
    "        'M' : 1000\n",
    "    }\n",
    "\n",
    "    number = 0\n",
    "\n",
    "    for character in roman_number:\n",
    "        number += roman_dictionary[character]\n",
    "\n",
    "    return number\n",
    "\n",
    "#endregion\n",
    "\n",
    "#region Input\n",
    "\n",
    "roman_number = input('Enter a roman number: ')\n",
    "\n",
    "#endregion\n",
    "\n",
    "#region Output\n",
    "\n",
    "print(f'Real number for the roman number { roman_number } is { roman_to_numeric(roman_number) }.')\n",
    "\n",
    "#endregion"
   ]
  }
 ],
 "metadata": {
  "kernelspec": {
   "display_name": "Python 3 (ipykernel)",
   "language": "python",
   "name": "python3"
  },
  "language_info": {
   "codemirror_mode": {
    "name": "ipython",
    "version": 3
   },
   "file_extension": ".py",
   "mimetype": "text/x-python",
   "name": "python",
   "nbconvert_exporter": "python",
   "pygments_lexer": "ipython3",
   "version": "3.11.5"
  },
  "widgets": {
   "application/vnd.jupyter.widget-state+json": {
    "state": {},
    "version_major": 2,
    "version_minor": 0
   }
  }
 },
 "nbformat": 4,
 "nbformat_minor": 5
}
