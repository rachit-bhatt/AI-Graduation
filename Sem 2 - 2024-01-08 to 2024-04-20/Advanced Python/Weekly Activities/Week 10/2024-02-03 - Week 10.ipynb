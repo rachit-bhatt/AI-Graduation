{
 "cells": [
  {
   "cell_type": "markdown",
   "id": "e9ba8397-5ffb-4d8d-bc9b-743db8982b8f",
   "metadata": {},
   "source": [
    "# Q1) Given two non-negative integers num1 and num2 represented as strings, return the product of num1 and num2, also represented as a string.\r\n",
    "## \r\n",
    "Note: You must not use any built-in BigInteger library or convert the inputs to integer directly\r",
    "## \n",
    " \r\n",
    "\r\n",
    "Exampl<b>e 1:\r\n",
    "</b>\r\n",
    "Input: num1 = \"2\", num2<b> = \"3\"\r",
    "</b>\n",
    "\r\n",
    "Ohe count-and-say sequence."
   ]
  },
  {
   "cell_type": "code",
   "execution_count": 1,
   "id": "38d39e04-c203-41e6-8d50-fc8ebbcebfe4",
   "metadata": {},
   "outputs": [
    {
     "name": "stdin",
     "output_type": "stream",
     "text": [
      "Enter first operand for dot product:  2\n",
      "Enter second operand for dot product:  3\n"
     ]
    },
    {
     "data": {
      "text/plain": [
       "'Dot Product: 2 x 3 = 6'"
      ]
     },
     "execution_count": 1,
     "metadata": {},
     "output_type": "execute_result"
    }
   ],
   "source": [
    "#region Business Logic\n",
    "\n",
    "def text_product(multiplicand: str, multiplier: str):\n",
    "    '''\n",
    "    Finding the product of two numbers given in the form of a text.\n",
    "    ---\n",
    "    # Parameters:\n",
    "    multiplicand: str\n",
    "        First operand for dot product.\n",
    "    multiplier: str\n",
    "        Second operand for dot product.\n",
    "    ---\n",
    "    # Returns:\n",
    "    int\n",
    "        The dot product of given `multiplicand` with `multiplier`.\n",
    "    ---\n",
    "    # Example:\n",
    "    Input: multiplicand = \"2\", multiplier = \"3\"\n",
    "    Output: 6\n",
    "    ---\n",
    "    '''\n",
    "\n",
    "    try:\n",
    "        # Converting the string to an integer.\n",
    "        multiplicand = int(multiplicand)\n",
    "        multiplier = int(multiplier)\n",
    "    except ValueError: # When the given strings are not convertible into an integer.\n",
    "        print('Failed to convert given a string to an integer.')\n",
    "        return None # Calculation Prohibited.\n",
    "\n",
    "    # When the numbers are non-negative, perform the dot product between them.\n",
    "    if multiplicand >= 0 and multiplier >= 0:\n",
    "        # Dot product between operands.\n",
    "        return multiplicand * multiplier\n",
    "    else:\n",
    "        return None # Calculation Prohibited.\n",
    "\n",
    "#endregion\n",
    "\n",
    "#region Input\n",
    "\n",
    "multiplicand = input('Enter first operand for dot product: ')\n",
    "multiplier = input('Enter second operand for dot product: ')\n",
    "\n",
    "#endregion\n",
    "\n",
    "#region Output\n",
    "\n",
    "f'Dot Product: { multiplicand } x { multiplier } = { text_product(multiplicand = multiplicand, multiplier = multiplier) }'\n",
    "\n",
    "#endregion"
   ]
  },
  {
   "attachments": {},
   "cell_type": "markdown",
   "id": "ac040010-4c91-4cc5-a32b-60eeb42b3d58",
   "metadata": {},
   "source": [
    "# Q2) The count-and-say sequence is a sequence of digit strings defined by the recursive formula:\n",
    "\n",
    "```\n",
    "countAndSay(1) = \"1\"\n",
    "```\n",
    "### countAndSay(n) is the way you would \"say\" the digit string from countAndSay(n-1), which is then converted into a different digit string.\n",
    "### To determine how you \"say\" a digit string, split it into the minimal number of substrings such that each substring contains exactly one unique digit.\n",
    "### Then for each substring, say the number of digits, then say the digit. Finally, concatenate every said digit.\n",
    "\n",
    "### For example, the saying and conversion for digit string \"3322251\":\n",
    "\n",
    "<img src = 'https://moodle.cestarcollege.com/moodle/pluginfile.php/2124889/mod_assign/intro/image.png' />\n",
    "\n",
    "### Given a positive integer n, return the nth term of the count-and-say sequence."
   ]
  },
  {
   "cell_type": "code",
   "execution_count": 2,
   "id": "c0e1e4b8-6e3c-4460-ae88-5a62ea4e61e7",
   "metadata": {},
   "outputs": [
    {
     "name": "stdin",
     "output_type": "stream",
     "text": [
      "Enter a number to count and say:  3322251\n"
     ]
    },
    {
     "data": {
      "text/plain": [
       "'Count 3322251 and Say: 23321511'"
      ]
     },
     "execution_count": 2,
     "metadata": {},
     "output_type": "execute_result"
    }
   ],
   "source": [
    "#region Business Logic\n",
    "\n",
    "def recursive_count_and_say(numbers: str) -> str:\n",
    "    '''\n",
    "    Converts a given string into a count and number pair.\n",
    "    ---\n",
    "    # Parameters:\n",
    "    numbers: str\n",
    "        Numbers as a string for pairing with count and number itself.\n",
    "    ---\n",
    "    # Returns\n",
    "    say: str\n",
    "        Provides a pair of count and number respectively in the form of a string.\n",
    "    ---\n",
    "    # Example:\n",
    "    Input: '3322251'\n",
    "    Output: '23321511'\n",
    "    '''\n",
    "\n",
    "    #region Finding distinct values from the number\n",
    "\n",
    "    distinct_numbers = { number : 0 for number in numbers }\n",
    "\n",
    "    for number in numbers:\n",
    "        distinct_numbers[number] += 1\n",
    "\n",
    "    #endregion\n",
    "\n",
    "    say = ''\n",
    "\n",
    "    # Iterating over the number of values over the number.\n",
    "    for number, count in distinct_numbers.items():\n",
    "        say += str(count)\n",
    "        say += str(number)\n",
    "\n",
    "    return say\n",
    "\n",
    "#endregion\n",
    "\n",
    "#region Input\n",
    "\n",
    "number = input('Enter a number to count and say: ')\n",
    "\n",
    "#endregion\n",
    "\n",
    "#region Output\n",
    "\n",
    "'Count {} and Say: {}'.format(number, recursive_count_and_say(number))\n",
    "    \n",
    "#endregion "
   ]
  }
 ],
 "metadata": {
  "kernelspec": {
   "display_name": "Python 3 (ipykernel)",
   "language": "python",
   "name": "python3"
  },
  "language_info": {
   "codemirror_mode": {
    "name": "ipython",
    "version": 3
   },
   "file_extension": ".py",
   "mimetype": "text/x-python",
   "name": "python",
   "nbconvert_exporter": "python",
   "pygments_lexer": "ipython3",
   "version": "3.11.5"
  },
  "widgets": {
   "application/vnd.jupyter.widget-state+json": {
    "state": {},
    "version_major": 2,
    "version_minor": 0
   }
  }
 },
 "nbformat": 4,
 "nbformat_minor": 5
}
