{
 "cells": [
  {
   "cell_type": "markdown",
   "id": "fab1bade-a4d3-4b3f-a966-86de39f954d3",
   "metadata": {},
   "source": [
    "# 1. Write a Python program to check a sequence of numbers is an arithmetic progression or not. \r",
    "<b>\n",
    "Inpu </b>: [5, 7, 9, 11<br>]<b>\r\n",
    "Outpt</b> : Tr<br>ue\r\n",
    "In mathematics, an arithmetic progression or arithmetic sequence is a sequence of numbers such that the difference between the consecutive terms is consta<br>nt.\r\n",
    "For example, the sequence 5, 7, 9, 11, 13, 15 ... is an arithmetic progression with common difference o4], N=3\r\n",
    "Output : 5"
   ]
  },
  {
   "cell_type": "code",
   "execution_count": 1,
   "id": "31eb44b6-a1a5-48d1-9b59-ad5142b3b202",
   "metadata": {},
   "outputs": [
    {
     "name": "stdin",
     "output_type": "stream",
     "text": [
      "Enter numnber of elements you want to enter:  6\n",
      "Enter a number for the word 0:  5\n",
      "Enter a number for the word 1:  7\n",
      "Enter a number for the word 2:  9\n",
      "Enter a number for the word 3:  11\n",
      "Enter a number for the word 4:  13\n",
      "Enter a number for the word 5:  15\n"
     ]
    },
    {
     "name": "stdout",
     "output_type": "stream",
     "text": [
      "True\n"
     ]
    }
   ],
   "source": [
    "#region Business Logic\n",
    "\n",
    "def validate_arithmetic_progression(numbers: list) -> bool:\n",
    "    return numbers == list(range(min(numbers), max(numbers) + 1, 2))\n",
    "\n",
    "#endregion\n",
    "\n",
    "#region Input\n",
    "\n",
    "elements = int(input('Enter number of elements you want to enter: '))\n",
    "numbers = []\n",
    "\n",
    "for iteration in range(elements):\n",
    "    numbers.append(int(input(f'Enter a number for the word { iteration }: ')))\n",
    "\n",
    "#endregion\n",
    "\n",
    "#region Output\n",
    "\n",
    "print(validate_arithmetic_progression(numbers))\n",
    "\n",
    "#endregion"
   ]
  },
  {
   "cell_type": "markdown",
   "id": "8ec29b20-334f-4325-b4c4-431ab69bd0fb",
   "metadata": {},
   "source": [
    "# 2. Write a Python program to check whether a given number is an ugly number. \n",
    "<b>Input:</b> 12<br>\n",
    "<b>Output:</b> True<br>\n",
    "Ugly numbers are positive numbers whose only prime factors are 2, 3 or 5. The sequence 1, 2, 3, 4, 5, 6, 8, 9, 10, 12, ... shows the first 10 ugly numbers.<br>\n",
    "<b>Note:</b> 1 is typically treated as an ugly number."
   ]
  },
  {
   "cell_type": "code",
   "execution_count": 2,
   "id": "e742706b-7987-4dc5-b0e7-74ce664e318c",
   "metadata": {},
   "outputs": [
    {
     "name": "stdin",
     "output_type": "stream",
     "text": [
      "Enter a number to determine whether the number is an ugly number:  12\n"
     ]
    },
    {
     "name": "stdout",
     "output_type": "stream",
     "text": [
      "True\n"
     ]
    }
   ],
   "source": [
    "#region Business Logic\n",
    "\n",
    "def is_ugly(number: int) -> bool:\n",
    "    return number % 2 == 0 or number % 3 == 0 or number % 5 == 0\n",
    "\n",
    "#endregion\n",
    "\n",
    "#region Input\n",
    "\n",
    "number = int(input('Enter a number to determine whether the number is an ugly number: '))\n",
    "\n",
    "#endregion\n",
    "\n",
    "#region Output\n",
    "\n",
    "print(is_ugly(number))\n",
    "\n",
    "#endregion"
   ]
  },
  {
   "cell_type": "markdown",
   "id": "3003050a-3fa6-441d-a18f-d42d76333b70",
   "metadata": {},
   "source": [
    "# 3. Write a Python Function to find the single number in a list that doesn't occur n times.\n",
    "<b>Input:</b> [5, 3, 3, 4, 4, 3, 4], N=3<br>\n",
    "<b>Output:</b> 5"
   ]
  },
  {
   "cell_type": "code",
   "execution_count": 3,
   "id": "460a693c-2e55-4e50-83ba-8e9fcae83794",
   "metadata": {},
   "outputs": [
    {
     "name": "stdin",
     "output_type": "stream",
     "text": [
      "Enter number of elements:  7\n",
      "Enter a number to be inserted at 0:  5\n",
      "Enter a number to be inserted at 1:  3\n",
      "Enter a number to be inserted at 2:  3\n",
      "Enter a number to be inserted at 3:  4\n",
      "Enter a number to be inserted at 4:  4\n",
      "Enter a number to be inserted at 5:  3\n",
      "Enter a number to be inserted at 6:  4\n",
      "Enter the `n` that appears exactly that `n` times in the list:  3\n"
     ]
    },
    {
     "name": "stdout",
     "output_type": "stream",
     "text": [
      "5\n"
     ]
    }
   ],
   "source": [
    "#region Business Logic\n",
    "\n",
    "def distinct_occurance(numbers, n):\n",
    "    # Initializing the distinct numbers to count its occurance.\n",
    "    number_count = { number : 0 for number in numbers }\n",
    "    \n",
    "    # Finding the numbers' occurance.\n",
    "    for number in numbers:\n",
    "        number_count[number] += 1\n",
    "    \n",
    "    # Filtering only those numbers which were repeated only the `n` times and picking first of them.\n",
    "    result = [number for number, count in number_count.items() if count == 1][ : n]\n",
    "\n",
    "    return result[0]\n",
    "\n",
    "#endregion\n",
    "\n",
    "#region Input\n",
    "\n",
    "elements = int(input('Enter number of elements: '))\n",
    "numbers = []\n",
    "\n",
    "for iteration in range(elements):\n",
    "    numbers.append(int(input(f'Enter a number to be inserted at { iteration }: ')))\n",
    "\n",
    "n = int(input('Enter the `n` that appears exactly that `n` times in the list: '))\n",
    "\n",
    "#endregion\n",
    "\n",
    "#region Output\n",
    "\n",
    "print(distinct_occurance(numbers, n))\n",
    "\n",
    "#endregion"
   ]
  }
 ],
 "metadata": {
  "kernelspec": {
   "display_name": "Python 3 (ipykernel)",
   "language": "python",
   "name": "python3"
  },
  "language_info": {
   "codemirror_mode": {
    "name": "ipython",
    "version": 3
   },
   "file_extension": ".py",
   "mimetype": "text/x-python",
   "name": "python",
   "nbconvert_exporter": "python",
   "pygments_lexer": "ipython3",
   "version": "3.11.5"
  },
  "widgets": {
   "application/vnd.jupyter.widget-state+json": {
    "state": {},
    "version_major": 2,
    "version_minor": 0
   }
  }
 },
 "nbformat": 4,
 "nbformat_minor": 5
}
